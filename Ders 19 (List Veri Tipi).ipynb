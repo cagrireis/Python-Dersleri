{
 "cells": [
  {
   "cell_type": "code",
   "execution_count": null,
   "id": "80d67235",
   "metadata": {},
   "outputs": [],
   "source": [
    "List\n",
    "\n",
    "\n",
    "Elimizdeki verileri gruplamak bir yapı altında tutmak isteyebiliriz.\n",
    "\n",
    "\n",
    "Mesela bir sınıftaki öğrencilerin notlarını tutmak istiyorum. 5 farklı öğrenci var, şimdiye kadar öğrendiklerimizle şöyle yapabilirdim:\n",
    "\n",
    "\n",
    "ogrenci_1 = 78\n",
    "ogrenci_2 = 80\n",
    "ogrenci_3 = 43\n",
    "ogrenci_4 = 65\n",
    "ogrenci_5 = 90\n",
    "\n",
    "\n",
    "Bunların hepsi bir sınıftaki notları ifade ediyor. Bunları bir veri tipi olarak bir arada tutsak daha mantıklı olmaz mı?\n",
    "\n",
    "\n",
    "list veri tipi de tam burada devreye giriyor. Birden çok veriyi gruplayıp bir arada tutmak istediğimizde kullanabileceğimiz bir yapıdır.\n",
    "\n",
    "\n",
    "listler belirtirken köşeli parantezle belirtiyoruz: [element1, element2,...].\n",
    "\n",
    "\n",
    "listler içsel yapı içerdikleri için non-scalar veri tipidir.\n",
    "\n",
    "\n",
    "Elemanları arasına virgül koyarak farklı eleman belirtmeye başladığımı ifade ediyorum."
   ]
  },
  {
   "cell_type": "code",
   "execution_count": 36,
   "id": "9df36db2",
   "metadata": {},
   "outputs": [],
   "source": [
    "notlar = [78, 80, 43, 65, 90]"
   ]
  },
  {
   "cell_type": "code",
   "execution_count": 5,
   "id": "a3ae333b",
   "metadata": {},
   "outputs": [
    {
     "data": {
      "text/plain": [
       "80"
      ]
     },
     "execution_count": 5,
     "metadata": {},
     "output_type": "execute_result"
    }
   ],
   "source": [
    "notlar[1]"
   ]
  },
  {
   "cell_type": "code",
   "execution_count": 6,
   "id": "c6c83679",
   "metadata": {},
   "outputs": [
    {
     "data": {
      "text/plain": [
       "78"
      ]
     },
     "execution_count": 6,
     "metadata": {},
     "output_type": "execute_result"
    }
   ],
   "source": [
    "notlar[0]"
   ]
  },
  {
   "cell_type": "code",
   "execution_count": 7,
   "id": "07b343bc",
   "metadata": {},
   "outputs": [],
   "source": [
    "ogrenci_1 = 78\n",
    "ogrenci_2 = 80\n",
    "ogrenci_3 = 43\n",
    "ogrenci_4 = 65\n",
    "ogrenci_5 = 90\n"
   ]
  },
  {
   "cell_type": "code",
   "execution_count": 8,
   "id": "c9edecfe",
   "metadata": {},
   "outputs": [],
   "source": [
    "notlar1 = [ogrenci_1, ogrenci_2, ogrenci_3, ogrenci_4, ogrenci_5]"
   ]
  },
  {
   "cell_type": "code",
   "execution_count": 9,
   "id": "57f88e65",
   "metadata": {},
   "outputs": [
    {
     "data": {
      "text/plain": [
       "80"
      ]
     },
     "execution_count": 9,
     "metadata": {},
     "output_type": "execute_result"
    }
   ],
   "source": [
    "notlar1[1]"
   ]
  },
  {
   "cell_type": "code",
   "execution_count": 10,
   "id": "98c26d96",
   "metadata": {},
   "outputs": [],
   "source": [
    "# her türlü tipi tutabiliriz içinde."
   ]
  },
  {
   "cell_type": "code",
   "execution_count": 11,
   "id": "a823db20",
   "metadata": {},
   "outputs": [],
   "source": [
    "a = [\"a\", \"b\"]"
   ]
  },
  {
   "cell_type": "code",
   "execution_count": 12,
   "id": "8a126106",
   "metadata": {},
   "outputs": [],
   "source": [
    "b = [1,2,3,4,5]"
   ]
  },
  {
   "cell_type": "code",
   "execution_count": 13,
   "id": "39db37c4",
   "metadata": {},
   "outputs": [],
   "source": [
    "c = [True, False, True]"
   ]
  },
  {
   "cell_type": "code",
   "execution_count": 15,
   "id": "24b9aa7e",
   "metadata": {},
   "outputs": [],
   "source": [
    "d = [1, \"a\", True, [1,2,3,4], 4.5]"
   ]
  },
  {
   "cell_type": "code",
   "execution_count": 16,
   "id": "65c84727",
   "metadata": {},
   "outputs": [
    {
     "data": {
      "text/plain": [
       "[1, 'a', True, [1, 2, 3, 4], 4.5]"
      ]
     },
     "execution_count": 16,
     "metadata": {},
     "output_type": "execute_result"
    }
   ],
   "source": [
    "d"
   ]
  },
  {
   "cell_type": "code",
   "execution_count": 17,
   "id": "6e9a9afe",
   "metadata": {},
   "outputs": [],
   "source": [
    "# indexing ve slicing aynı listler için"
   ]
  },
  {
   "cell_type": "code",
   "execution_count": 18,
   "id": "d92491ee",
   "metadata": {},
   "outputs": [
    {
     "data": {
      "text/plain": [
       "[78, 80, 43, 65, 90]"
      ]
     },
     "execution_count": 18,
     "metadata": {},
     "output_type": "execute_result"
    }
   ],
   "source": [
    "notlar"
   ]
  },
  {
   "cell_type": "code",
   "execution_count": 19,
   "id": "d4b16b6a",
   "metadata": {},
   "outputs": [
    {
     "data": {
      "text/plain": [
       "78"
      ]
     },
     "execution_count": 19,
     "metadata": {},
     "output_type": "execute_result"
    }
   ],
   "source": [
    "notlar[0]"
   ]
  },
  {
   "cell_type": "code",
   "execution_count": 20,
   "id": "fe665d94",
   "metadata": {},
   "outputs": [
    {
     "data": {
      "text/plain": [
       "90"
      ]
     },
     "execution_count": 20,
     "metadata": {},
     "output_type": "execute_result"
    }
   ],
   "source": [
    "notlar[-1]"
   ]
  },
  {
   "cell_type": "code",
   "execution_count": 21,
   "id": "a4e7dc90",
   "metadata": {},
   "outputs": [
    {
     "data": {
      "text/plain": [
       "[80, 43, 65, 90]"
      ]
     },
     "execution_count": 21,
     "metadata": {},
     "output_type": "execute_result"
    }
   ],
   "source": [
    "notlar[1:]"
   ]
  },
  {
   "cell_type": "code",
   "execution_count": 22,
   "id": "28e7a21b",
   "metadata": {},
   "outputs": [
    {
     "data": {
      "text/plain": [
       "[90, 65, 43, 80, 78]"
      ]
     },
     "execution_count": 22,
     "metadata": {},
     "output_type": "execute_result"
    }
   ],
   "source": [
    "notlar[::-1]"
   ]
  },
  {
   "cell_type": "code",
   "execution_count": 23,
   "id": "c1a7528b",
   "metadata": {},
   "outputs": [
    {
     "data": {
      "text/plain": [
       "[78, 80, 43, 65, 90]"
      ]
     },
     "execution_count": 23,
     "metadata": {},
     "output_type": "execute_result"
    }
   ],
   "source": [
    "notlar[:3000]"
   ]
  },
  {
   "cell_type": "code",
   "execution_count": 24,
   "id": "cfda95f4",
   "metadata": {},
   "outputs": [],
   "source": [
    "s = \"h\""
   ]
  },
  {
   "cell_type": "code",
   "execution_count": 25,
   "id": "5f8a16f4",
   "metadata": {},
   "outputs": [
    {
     "data": {
      "text/plain": [
       "'h'"
      ]
     },
     "execution_count": 25,
     "metadata": {},
     "output_type": "execute_result"
    }
   ],
   "source": [
    "s[0]"
   ]
  },
  {
   "cell_type": "code",
   "execution_count": 27,
   "id": "eec8f586",
   "metadata": {},
   "outputs": [
    {
     "ename": "TypeError",
     "evalue": "'str' object does not support item assignment",
     "output_type": "error",
     "traceback": [
      "\u001b[1;31m---------------------------------------------------------------------------\u001b[0m",
      "\u001b[1;31mTypeError\u001b[0m                                 Traceback (most recent call last)",
      "Input \u001b[1;32mIn [27]\u001b[0m, in \u001b[0;36m<cell line: 1>\u001b[1;34m()\u001b[0m\n\u001b[1;32m----> 1\u001b[0m s[\u001b[38;5;241m0\u001b[39m] \u001b[38;5;241m=\u001b[39m \u001b[38;5;124m\"\u001b[39m\u001b[38;5;124mf\u001b[39m\u001b[38;5;124m\"\u001b[39m\n",
      "\u001b[1;31mTypeError\u001b[0m: 'str' object does not support item assignment"
     ]
    }
   ],
   "source": [
    "s[0] = \"f\" # immutable idi stringler."
   ]
  },
  {
   "cell_type": "code",
   "execution_count": 28,
   "id": "9a79db00",
   "metadata": {},
   "outputs": [],
   "source": [
    "# fakat listler mutable yani elemanlarını değiştirebiliyoruz."
   ]
  },
  {
   "cell_type": "code",
   "execution_count": 37,
   "id": "2c3371ad",
   "metadata": {},
   "outputs": [
    {
     "data": {
      "text/plain": [
       "[78, 80, 43, 65, 90]"
      ]
     },
     "execution_count": 37,
     "metadata": {},
     "output_type": "execute_result"
    }
   ],
   "source": [
    "notlar"
   ]
  },
  {
   "cell_type": "code",
   "execution_count": 38,
   "id": "656ffd6b",
   "metadata": {},
   "outputs": [],
   "source": [
    "notlar[1] = notlar[1] + 5"
   ]
  },
  {
   "cell_type": "code",
   "execution_count": 39,
   "id": "d10e5881",
   "metadata": {},
   "outputs": [
    {
     "data": {
      "text/plain": [
       "[78, 85, 43, 65, 90]"
      ]
     },
     "execution_count": 39,
     "metadata": {},
     "output_type": "execute_result"
    }
   ],
   "source": [
    "notlar"
   ]
  },
  {
   "cell_type": "code",
   "execution_count": 40,
   "id": "e068f85f",
   "metadata": {},
   "outputs": [],
   "source": [
    "# birden çok eleman de değiştirebiliriz."
   ]
  },
  {
   "cell_type": "code",
   "execution_count": 41,
   "id": "6506299c",
   "metadata": {},
   "outputs": [],
   "source": [
    "l = [1, 2, 3, 4]"
   ]
  },
  {
   "cell_type": "code",
   "execution_count": 43,
   "id": "964bfe06",
   "metadata": {},
   "outputs": [],
   "source": [
    "l[0:3] = 30, 40, 60"
   ]
  },
  {
   "cell_type": "code",
   "execution_count": 44,
   "id": "d8e2f57a",
   "metadata": {},
   "outputs": [
    {
     "data": {
      "text/plain": [
       "[30, 40, 60, 4]"
      ]
     },
     "execution_count": 44,
     "metadata": {},
     "output_type": "execute_result"
    }
   ],
   "source": [
    "l"
   ]
  },
  {
   "cell_type": "code",
   "execution_count": 45,
   "id": "c077fad8",
   "metadata": {},
   "outputs": [],
   "source": [
    "l[0:3] = 30,40"
   ]
  },
  {
   "cell_type": "code",
   "execution_count": 47,
   "id": "890136da",
   "metadata": {},
   "outputs": [
    {
     "data": {
      "text/plain": [
       "[30, 40, 4]"
      ]
     },
     "execution_count": 47,
     "metadata": {},
     "output_type": "execute_result"
    }
   ],
   "source": [
    "l #görüldüğü gibi sayısı daha az olsa da değiştirilebilir."
   ]
  },
  {
   "cell_type": "code",
   "execution_count": 48,
   "id": "602b392a",
   "metadata": {},
   "outputs": [],
   "source": [
    "# fakat çoklu elemanları tek bir elemanla değiştirmez çünkü iterable olması gerek."
   ]
  },
  {
   "cell_type": "code",
   "execution_count": 49,
   "id": "d919ca6a",
   "metadata": {},
   "outputs": [],
   "source": [
    "c = [1,2,3,4,5]"
   ]
  },
  {
   "cell_type": "code",
   "execution_count": 51,
   "id": "08e7caa6",
   "metadata": {},
   "outputs": [
    {
     "ename": "TypeError",
     "evalue": "can only assign an iterable",
     "output_type": "error",
     "traceback": [
      "\u001b[1;31m---------------------------------------------------------------------------\u001b[0m",
      "\u001b[1;31mTypeError\u001b[0m                                 Traceback (most recent call last)",
      "Input \u001b[1;32mIn [51]\u001b[0m, in \u001b[0;36m<cell line: 1>\u001b[1;34m()\u001b[0m\n\u001b[1;32m----> 1\u001b[0m c[\u001b[38;5;241m0\u001b[39m:\u001b[38;5;241m3\u001b[39m] \u001b[38;5;241m=\u001b[39m \u001b[38;5;241m30\u001b[39m\n",
      "\u001b[1;31mTypeError\u001b[0m: can only assign an iterable"
     ]
    }
   ],
   "source": [
    "c[0:3] = 30 # hangisini değğitireceğini anlayamaz."
   ]
  },
  {
   "cell_type": "code",
   "execution_count": 52,
   "id": "1ae1b494",
   "metadata": {},
   "outputs": [],
   "source": [
    "# illa ki tek bir eleman girsin istiyorsanız da [] arasına yazmalısınız."
   ]
  },
  {
   "cell_type": "code",
   "execution_count": 53,
   "id": "a463cdfc",
   "metadata": {},
   "outputs": [],
   "source": [
    "c[0:3] = [30]"
   ]
  },
  {
   "cell_type": "code",
   "execution_count": 55,
   "id": "e8b8935c",
   "metadata": {},
   "outputs": [
    {
     "data": {
      "text/plain": [
       "[30, 4, 5]"
      ]
     },
     "execution_count": 55,
     "metadata": {},
     "output_type": "execute_result"
    }
   ],
   "source": [
    "c # oldu."
   ]
  },
  {
   "cell_type": "code",
   "execution_count": 56,
   "id": "cb522625",
   "metadata": {},
   "outputs": [],
   "source": [
    "# len() fonksiyonu"
   ]
  },
  {
   "cell_type": "code",
   "execution_count": 58,
   "id": "7f82ee10",
   "metadata": {},
   "outputs": [],
   "source": [
    "s = \"hey\""
   ]
  },
  {
   "cell_type": "code",
   "execution_count": 59,
   "id": "fe4c6422",
   "metadata": {},
   "outputs": [
    {
     "data": {
      "text/plain": [
       "'hey'"
      ]
     },
     "execution_count": 59,
     "metadata": {},
     "output_type": "execute_result"
    }
   ],
   "source": [
    "s"
   ]
  },
  {
   "cell_type": "code",
   "execution_count": 60,
   "id": "47ca5bdb",
   "metadata": {},
   "outputs": [
    {
     "data": {
      "text/plain": [
       "3"
      ]
     },
     "execution_count": 60,
     "metadata": {},
     "output_type": "execute_result"
    }
   ],
   "source": [
    "len(s)"
   ]
  },
  {
   "cell_type": "code",
   "execution_count": 61,
   "id": "71e8bea9",
   "metadata": {},
   "outputs": [
    {
     "data": {
      "text/plain": [
       "3"
      ]
     },
     "execution_count": 61,
     "metadata": {},
     "output_type": "execute_result"
    }
   ],
   "source": [
    "len(c)"
   ]
  },
  {
   "cell_type": "code",
   "execution_count": 62,
   "id": "21a241d1",
   "metadata": {},
   "outputs": [],
   "source": [
    "# uzunluk fonksiyonu"
   ]
  },
  {
   "cell_type": "code",
   "execution_count": 63,
   "id": "3101b9e6",
   "metadata": {},
   "outputs": [],
   "source": [
    "# listenin sonuna eleman eklemek istiyorsak"
   ]
  },
  {
   "cell_type": "code",
   "execution_count": 64,
   "id": "bacc80a2",
   "metadata": {},
   "outputs": [],
   "source": [
    "# append metodu"
   ]
  },
  {
   "cell_type": "code",
   "execution_count": 65,
   "id": "eee3d4e5",
   "metadata": {},
   "outputs": [
    {
     "data": {
      "text/plain": [
       "[30, 40, 4]"
      ]
     },
     "execution_count": 65,
     "metadata": {},
     "output_type": "execute_result"
    }
   ],
   "source": [
    "l"
   ]
  },
  {
   "cell_type": "code",
   "execution_count": 66,
   "id": "127ab099",
   "metadata": {},
   "outputs": [],
   "source": [
    "l.append(200)"
   ]
  },
  {
   "cell_type": "code",
   "execution_count": 69,
   "id": "0e76fe37",
   "metadata": {},
   "outputs": [
    {
     "data": {
      "text/plain": [
       "[30, 40, 4, 200]"
      ]
     },
     "execution_count": 69,
     "metadata": {},
     "output_type": "execute_result"
    }
   ],
   "source": [
    "l"
   ]
  },
  {
   "cell_type": "code",
   "execution_count": 70,
   "id": "4a10d0fd",
   "metadata": {},
   "outputs": [],
   "source": [
    "#eklendi."
   ]
  },
  {
   "cell_type": "code",
   "execution_count": 71,
   "id": "c6cf2033",
   "metadata": {},
   "outputs": [],
   "source": [
    "# birden ço keleman eklemek istiyorsam extand metodu ile yaparım."
   ]
  },
  {
   "cell_type": "code",
   "execution_count": 73,
   "id": "04a3b904",
   "metadata": {},
   "outputs": [],
   "source": [
    "l.extend([300, 400, 500])"
   ]
  },
  {
   "cell_type": "code",
   "execution_count": 74,
   "id": "98220cda",
   "metadata": {},
   "outputs": [
    {
     "data": {
      "text/plain": [
       "[30, 40, 4, 200, 300, 400, 500]"
      ]
     },
     "execution_count": 74,
     "metadata": {},
     "output_type": "execute_result"
    }
   ],
   "source": [
    "l"
   ]
  },
  {
   "cell_type": "code",
   "execution_count": 75,
   "id": "ab157d97",
   "metadata": {},
   "outputs": [],
   "source": [
    "# spesifik bir indexe eleman eklemek"
   ]
  },
  {
   "cell_type": "code",
   "execution_count": 76,
   "id": "e40ac6f9",
   "metadata": {},
   "outputs": [],
   "source": [
    "#bu değiştirmek değil eklemek anlamına gelir."
   ]
  },
  {
   "cell_type": "code",
   "execution_count": 77,
   "id": "314345d7",
   "metadata": {},
   "outputs": [],
   "source": [
    "#bunu insert() ile yaparız."
   ]
  },
  {
   "cell_type": "code",
   "execution_count": 79,
   "id": "833aac15",
   "metadata": {},
   "outputs": [
    {
     "data": {
      "text/plain": [
       "[30, 40, 4, 200, 300, 400, 500]"
      ]
     },
     "execution_count": 79,
     "metadata": {},
     "output_type": "execute_result"
    }
   ],
   "source": [
    "l "
   ]
  },
  {
   "cell_type": "code",
   "execution_count": 80,
   "id": "f64c0645",
   "metadata": {},
   "outputs": [],
   "source": [
    "l.insert(0, 600)"
   ]
  },
  {
   "cell_type": "code",
   "execution_count": 81,
   "id": "903be15e",
   "metadata": {},
   "outputs": [
    {
     "data": {
      "text/plain": [
       "[600, 30, 40, 4, 200, 300, 400, 500]"
      ]
     },
     "execution_count": 81,
     "metadata": {},
     "output_type": "execute_result"
    }
   ],
   "source": [
    "l"
   ]
  },
  {
   "cell_type": "code",
   "execution_count": 82,
   "id": "0970545f",
   "metadata": {},
   "outputs": [],
   "source": [
    "# 1. elemanına 600 yazdı 30'u geri attı"
   ]
  },
  {
   "cell_type": "code",
   "execution_count": 83,
   "id": "7a0d365e",
   "metadata": {},
   "outputs": [],
   "source": [
    "l.insert(3, 44)"
   ]
  },
  {
   "cell_type": "code",
   "execution_count": 84,
   "id": "96d4f8bb",
   "metadata": {},
   "outputs": [
    {
     "data": {
      "text/plain": [
       "[600, 30, 40, 44, 4, 200, 300, 400, 500]"
      ]
     },
     "execution_count": 84,
     "metadata": {},
     "output_type": "execute_result"
    }
   ],
   "source": [
    "l"
   ]
  },
  {
   "cell_type": "code",
   "execution_count": 86,
   "id": "fb976c90",
   "metadata": {},
   "outputs": [],
   "source": [
    "#list.remove() bu belli bir elemanı silmemize yarar."
   ]
  },
  {
   "cell_type": "code",
   "execution_count": 87,
   "id": "76ab0d09",
   "metadata": {},
   "outputs": [],
   "source": [
    "l = [1,2,3,4]"
   ]
  },
  {
   "cell_type": "code",
   "execution_count": 88,
   "id": "a8edd922",
   "metadata": {},
   "outputs": [],
   "source": [
    "l.remove(2)"
   ]
  },
  {
   "cell_type": "code",
   "execution_count": 89,
   "id": "317dcf3d",
   "metadata": {},
   "outputs": [
    {
     "data": {
      "text/plain": [
       "[1, 3, 4]"
      ]
     },
     "execution_count": 89,
     "metadata": {},
     "output_type": "execute_result"
    }
   ],
   "source": [
    "l"
   ]
  },
  {
   "cell_type": "code",
   "execution_count": 92,
   "id": "74f81c2c",
   "metadata": {},
   "outputs": [
    {
     "ename": "ValueError",
     "evalue": "list.remove(x): x not in list",
     "output_type": "error",
     "traceback": [
      "\u001b[1;31m---------------------------------------------------------------------------\u001b[0m",
      "\u001b[1;31mValueError\u001b[0m                                Traceback (most recent call last)",
      "Input \u001b[1;32mIn [92]\u001b[0m, in \u001b[0;36m<cell line: 1>\u001b[1;34m()\u001b[0m\n\u001b[1;32m----> 1\u001b[0m \u001b[43ml\u001b[49m\u001b[38;5;241;43m.\u001b[39;49m\u001b[43mremove\u001b[49m\u001b[43m(\u001b[49m\u001b[38;5;241;43m40\u001b[39;49m\u001b[43m)\u001b[49m\n",
      "\u001b[1;31mValueError\u001b[0m: list.remove(x): x not in list"
     ]
    }
   ],
   "source": [
    "l.remove(40) # 40 yok çünkü."
   ]
  },
  {
   "cell_type": "code",
   "execution_count": 93,
   "id": "3aad47c0",
   "metadata": {},
   "outputs": [],
   "source": [
    "l = [1, 2, 3, 40, 30, 40]"
   ]
  },
  {
   "cell_type": "code",
   "execution_count": 94,
   "id": "24db78f7",
   "metadata": {},
   "outputs": [],
   "source": [
    "l.remove(40)"
   ]
  },
  {
   "cell_type": "code",
   "execution_count": 95,
   "id": "35410029",
   "metadata": {},
   "outputs": [
    {
     "data": {
      "text/plain": [
       "[1, 2, 3, 30, 40]"
      ]
     },
     "execution_count": 95,
     "metadata": {},
     "output_type": "execute_result"
    }
   ],
   "source": [
    "l"
   ]
  },
  {
   "cell_type": "code",
   "execution_count": 96,
   "id": "bd997fe7",
   "metadata": {},
   "outputs": [],
   "source": [
    "# her zaman ilk gördüğü 40'ı siler 2 tane varsa yukarıdaki gibi "
   ]
  },
  {
   "cell_type": "code",
   "execution_count": 97,
   "id": "18102763",
   "metadata": {},
   "outputs": [],
   "source": [
    "# list.pop() belli bir indexdeki değeri silmemize yarar ve aynı zamanda o değeri döndürür."
   ]
  },
  {
   "cell_type": "code",
   "execution_count": 98,
   "id": "bd9f28dd",
   "metadata": {},
   "outputs": [
    {
     "data": {
      "text/plain": [
       "2"
      ]
     },
     "execution_count": 98,
     "metadata": {},
     "output_type": "execute_result"
    }
   ],
   "source": [
    "l.pop(1)"
   ]
  },
  {
   "cell_type": "code",
   "execution_count": 101,
   "id": "7113be5b",
   "metadata": {},
   "outputs": [
    {
     "data": {
      "text/plain": [
       "34"
      ]
     },
     "execution_count": 101,
     "metadata": {},
     "output_type": "execute_result"
    }
   ],
   "source": [
    "l.pop(1) + 4 #bir değeri alır yani."
   ]
  },
  {
   "cell_type": "code",
   "execution_count": 102,
   "id": "78d9542d",
   "metadata": {},
   "outputs": [
    {
     "data": {
      "text/plain": [
       "[1, 40]"
      ]
     },
     "execution_count": 102,
     "metadata": {},
     "output_type": "execute_result"
    }
   ],
   "source": [
    "l"
   ]
  },
  {
   "cell_type": "code",
   "execution_count": 103,
   "id": "41202001",
   "metadata": {},
   "outputs": [],
   "source": [
    "# list.count() belli bir deeğr listede kaç tanew var onu görmemizi sağlar."
   ]
  },
  {
   "cell_type": "code",
   "execution_count": 104,
   "id": "a5f8fbb3",
   "metadata": {},
   "outputs": [],
   "source": [
    "l = [1,2,3,4,5,1,6,8,1]"
   ]
  },
  {
   "cell_type": "code",
   "execution_count": 105,
   "id": "3d4d058d",
   "metadata": {},
   "outputs": [
    {
     "data": {
      "text/plain": [
       "3"
      ]
     },
     "execution_count": 105,
     "metadata": {},
     "output_type": "execute_result"
    }
   ],
   "source": [
    "l.count(1)"
   ]
  },
  {
   "cell_type": "code",
   "execution_count": 106,
   "id": "5d8d27c0",
   "metadata": {},
   "outputs": [
    {
     "data": {
      "text/plain": [
       "1"
      ]
     },
     "execution_count": 106,
     "metadata": {},
     "output_type": "execute_result"
    }
   ],
   "source": [
    "l.count(8)"
   ]
  },
  {
   "cell_type": "code",
   "execution_count": 107,
   "id": "3bc9121c",
   "metadata": {},
   "outputs": [
    {
     "data": {
      "text/plain": [
       "0"
      ]
     },
     "execution_count": 107,
     "metadata": {},
     "output_type": "execute_result"
    }
   ],
   "source": [
    "l.count(100)"
   ]
  },
  {
   "cell_type": "code",
   "execution_count": null,
   "id": "603bb568",
   "metadata": {},
   "outputs": [],
   "source": [
    "Aliasing\n",
    "Evet. Geldik olayların ilginç bir hal aldığı yere.\n",
    "\n",
    "\n",
    "Listeler bilgisayarın hafızasında integer, float gibi veri tiplerinin tutulduğundan biraz daha farklı tutuluyor.\n",
    "\n",
    "\n",
    "a = 2 dediğimiz zaman hafızada a adında bir kutucuk oluşturuluyor demiştik."
   ]
  },
  {
   "cell_type": "code",
   "execution_count": null,
   "id": "734c8276",
   "metadata": {},
   "outputs": [],
   "source": [
    "a = 2\n",
    "\n",
    "\n",
    "a direkt o kutunun adı oluyor.\n",
    "\n",
    "\n",
    "Ama listelerde durum böyle değil. l = [1,2,3] gibi bir liste yarattığımızda, l kutunun adı değil, kutuyu işaret eden etiketin adı oluyor.\n",
    "\n",
    "\n",
    "l = [1,2,3]\n",
    "\n",
    "\n",
    "Bu farkın getirdiği bazı yan etkiler var.\n",
    "\n",
    "\n",
    "Mesela kutunun adı direkt değişken adı olduğunda ve aşağıdaki işlemi yaptığımızda:"
   ]
  },
  {
   "cell_type": "code",
   "execution_count": 109,
   "id": "a3eca78b",
   "metadata": {},
   "outputs": [],
   "source": [
    "a = 2"
   ]
  },
  {
   "cell_type": "code",
   "execution_count": 110,
   "id": "21a2cf56",
   "metadata": {},
   "outputs": [],
   "source": [
    "b = a"
   ]
  },
  {
   "cell_type": "code",
   "execution_count": 111,
   "id": "b5f78476",
   "metadata": {},
   "outputs": [
    {
     "data": {
      "text/plain": [
       "2"
      ]
     },
     "execution_count": 111,
     "metadata": {},
     "output_type": "execute_result"
    }
   ],
   "source": [
    "b"
   ]
  },
  {
   "cell_type": "code",
   "execution_count": 112,
   "id": "ce76936d",
   "metadata": {},
   "outputs": [],
   "source": [
    "a = a+ 1"
   ]
  },
  {
   "cell_type": "code",
   "execution_count": 113,
   "id": "90c5b24d",
   "metadata": {},
   "outputs": [
    {
     "data": {
      "text/plain": [
       "2"
      ]
     },
     "execution_count": 113,
     "metadata": {},
     "output_type": "execute_result"
    }
   ],
   "source": [
    "b"
   ]
  },
  {
   "cell_type": "code",
   "execution_count": 114,
   "id": "a97ac48a",
   "metadata": {},
   "outputs": [
    {
     "data": {
      "text/plain": [
       "3"
      ]
     },
     "execution_count": 114,
     "metadata": {},
     "output_type": "execute_result"
    }
   ],
   "source": [
    "a"
   ]
  },
  {
   "cell_type": "code",
   "execution_count": 115,
   "id": "67688f71",
   "metadata": {},
   "outputs": [],
   "source": [
    "#bak a'yı arttırdığımda b güncellenmiyor."
   ]
  },
  {
   "cell_type": "code",
   "execution_count": 116,
   "id": "e2a45729",
   "metadata": {},
   "outputs": [],
   "source": [
    "# ama listelerde böyle olmuyor."
   ]
  },
  {
   "cell_type": "code",
   "execution_count": 117,
   "id": "a3ef7f59",
   "metadata": {},
   "outputs": [],
   "source": [
    "l = [1,2,3]"
   ]
  },
  {
   "cell_type": "code",
   "execution_count": 118,
   "id": "965d2ce8",
   "metadata": {},
   "outputs": [],
   "source": [
    "l2 = l\n"
   ]
  },
  {
   "cell_type": "code",
   "execution_count": 120,
   "id": "353bf8e9",
   "metadata": {},
   "outputs": [
    {
     "data": {
      "text/plain": [
       "[1, 2, 3]"
      ]
     },
     "execution_count": 120,
     "metadata": {},
     "output_type": "execute_result"
    }
   ],
   "source": [
    "l2"
   ]
  },
  {
   "cell_type": "code",
   "execution_count": 121,
   "id": "39300616",
   "metadata": {},
   "outputs": [],
   "source": [
    "l[0] = 200"
   ]
  },
  {
   "cell_type": "code",
   "execution_count": 122,
   "id": "f5c85134",
   "metadata": {},
   "outputs": [
    {
     "data": {
      "text/plain": [
       "[200, 2, 3]"
      ]
     },
     "execution_count": 122,
     "metadata": {},
     "output_type": "execute_result"
    }
   ],
   "source": [
    "l"
   ]
  },
  {
   "cell_type": "code",
   "execution_count": 123,
   "id": "d4ca4fa3",
   "metadata": {},
   "outputs": [
    {
     "data": {
      "text/plain": [
       "[200, 2, 3]"
      ]
     },
     "execution_count": 123,
     "metadata": {},
     "output_type": "execute_result"
    }
   ],
   "source": [
    "l2"
   ]
  },
  {
   "cell_type": "code",
   "execution_count": 124,
   "id": "2b1b90ff",
   "metadata": {},
   "outputs": [],
   "source": [
    "#bakın bu da değişti"
   ]
  },
  {
   "cell_type": "code",
   "execution_count": 125,
   "id": "fc774b67",
   "metadata": {},
   "outputs": [],
   "source": [
    "# listelerde isimden öte bir bağlılık söz konusu."
   ]
  },
  {
   "cell_type": "code",
   "execution_count": 126,
   "id": "722093e0",
   "metadata": {},
   "outputs": [],
   "source": [
    "# isimler sadece etiket listelerde."
   ]
  },
  {
   "cell_type": "code",
   "execution_count": 127,
   "id": "82dc6071",
   "metadata": {},
   "outputs": [],
   "source": [
    "# 2 etiket aynı şeyi ifade edebilir bağımlıdır."
   ]
  },
  {
   "cell_type": "code",
   "execution_count": null,
   "id": "d19f0eb0",
   "metadata": {},
   "outputs": [],
   "source": [
    "Git aynı değerle başka bir kutucuk yarat ve oraya etiket ol diyerek güncellenmemesini sağlayabilirim.\n",
    "\n",
    "\n",
    "Bunu copy() ile yapacağız."
   ]
  },
  {
   "cell_type": "code",
   "execution_count": 129,
   "id": "13ae3d07",
   "metadata": {},
   "outputs": [],
   "source": [
    "l3 = l.copy()"
   ]
  },
  {
   "cell_type": "code",
   "execution_count": 130,
   "id": "f898687b",
   "metadata": {},
   "outputs": [
    {
     "data": {
      "text/plain": [
       "[200, 2, 3]"
      ]
     },
     "execution_count": 130,
     "metadata": {},
     "output_type": "execute_result"
    }
   ],
   "source": [
    "l3"
   ]
  },
  {
   "cell_type": "code",
   "execution_count": 131,
   "id": "a6331918",
   "metadata": {},
   "outputs": [],
   "source": [
    "l[1] = 500"
   ]
  },
  {
   "cell_type": "code",
   "execution_count": 132,
   "id": "f1f3158c",
   "metadata": {},
   "outputs": [
    {
     "data": {
      "text/plain": [
       "[200, 500, 3]"
      ]
     },
     "execution_count": 132,
     "metadata": {},
     "output_type": "execute_result"
    }
   ],
   "source": [
    "l"
   ]
  },
  {
   "cell_type": "code",
   "execution_count": 133,
   "id": "d63f9c37",
   "metadata": {},
   "outputs": [
    {
     "data": {
      "text/plain": [
       "[200, 2, 3]"
      ]
     },
     "execution_count": 133,
     "metadata": {},
     "output_type": "execute_result"
    }
   ],
   "source": [
    "l3"
   ]
  },
  {
   "cell_type": "code",
   "execution_count": 134,
   "id": "e3d1d9e4",
   "metadata": {},
   "outputs": [],
   "source": [
    "# değişmedi\n"
   ]
  },
  {
   "cell_type": "code",
   "execution_count": 135,
   "id": "05215852",
   "metadata": {},
   "outputs": [],
   "source": [
    "# listeler birleştirilebilir."
   ]
  },
  {
   "cell_type": "code",
   "execution_count": 136,
   "id": "e17271bc",
   "metadata": {},
   "outputs": [],
   "source": [
    "#+ operastörü ile"
   ]
  },
  {
   "cell_type": "code",
   "execution_count": 137,
   "id": "e609dd13",
   "metadata": {},
   "outputs": [],
   "source": [
    "l = [1, 2, 3]"
   ]
  },
  {
   "cell_type": "code",
   "execution_count": 138,
   "id": "6ffa5ca4",
   "metadata": {},
   "outputs": [],
   "source": [
    "l2 = [4, 5, 6]"
   ]
  },
  {
   "cell_type": "code",
   "execution_count": 140,
   "id": "dff0b193",
   "metadata": {},
   "outputs": [
    {
     "data": {
      "text/plain": [
       "[1, 2, 3, 4, 5, 6]"
      ]
     },
     "execution_count": 140,
     "metadata": {},
     "output_type": "execute_result"
    }
   ],
   "source": [
    "l + l2"
   ]
  },
  {
   "cell_type": "code",
   "execution_count": 141,
   "id": "aa32b25a",
   "metadata": {},
   "outputs": [],
   "source": [
    "#birleştirdi."
   ]
  },
  {
   "cell_type": "code",
   "execution_count": 142,
   "id": "24622333",
   "metadata": {},
   "outputs": [],
   "source": [
    "l3 = l + l2"
   ]
  },
  {
   "cell_type": "code",
   "execution_count": 143,
   "id": "9e219fa2",
   "metadata": {},
   "outputs": [
    {
     "data": {
      "text/plain": [
       "[1, 2, 3, 4, 5, 6]"
      ]
     },
     "execution_count": 143,
     "metadata": {},
     "output_type": "execute_result"
    }
   ],
   "source": [
    "l3"
   ]
  },
  {
   "cell_type": "code",
   "execution_count": 145,
   "id": "cb66b0e7",
   "metadata": {},
   "outputs": [
    {
     "data": {
      "text/plain": [
       "[1, 2, 3]"
      ]
     },
     "execution_count": 145,
     "metadata": {},
     "output_type": "execute_result"
    }
   ],
   "source": [
    "l"
   ]
  },
  {
   "cell_type": "code",
   "execution_count": 146,
   "id": "8030e82c",
   "metadata": {},
   "outputs": [
    {
     "data": {
      "text/plain": [
       "[4, 5, 6]"
      ]
     },
     "execution_count": 146,
     "metadata": {},
     "output_type": "execute_result"
    }
   ],
   "source": [
    "l2"
   ]
  },
  {
   "cell_type": "code",
   "execution_count": 147,
   "id": "8425c137",
   "metadata": {},
   "outputs": [],
   "source": [
    "#belli bir eleman indexini bulmak."
   ]
  },
  {
   "cell_type": "code",
   "execution_count": 148,
   "id": "63dd5336",
   "metadata": {},
   "outputs": [],
   "source": [
    "l = [1, 2, 3, 4, 5 ,6]"
   ]
  },
  {
   "cell_type": "code",
   "execution_count": 149,
   "id": "abc3914d",
   "metadata": {},
   "outputs": [
    {
     "data": {
      "text/plain": [
       "5"
      ]
     },
     "execution_count": 149,
     "metadata": {},
     "output_type": "execute_result"
    }
   ],
   "source": [
    "l.index(6)"
   ]
  },
  {
   "cell_type": "code",
   "execution_count": 150,
   "id": "9abb0962",
   "metadata": {},
   "outputs": [],
   "source": [
    "# liste.index() ile indexini bulabiliriz. Örnekteki gibi."
   ]
  },
  {
   "cell_type": "code",
   "execution_count": 151,
   "id": "e05b2626",
   "metadata": {},
   "outputs": [],
   "source": [
    "#aynı elemanlardan var ise ilk görüleni yazdırır."
   ]
  },
  {
   "cell_type": "code",
   "execution_count": 153,
   "id": "576b0290",
   "metadata": {},
   "outputs": [
    {
     "ename": "ValueError",
     "evalue": "100 is not in list",
     "output_type": "error",
     "traceback": [
      "\u001b[1;31m---------------------------------------------------------------------------\u001b[0m",
      "\u001b[1;31mValueError\u001b[0m                                Traceback (most recent call last)",
      "Input \u001b[1;32mIn [153]\u001b[0m, in \u001b[0;36m<cell line: 1>\u001b[1;34m()\u001b[0m\n\u001b[1;32m----> 1\u001b[0m \u001b[43ml\u001b[49m\u001b[38;5;241;43m.\u001b[39;49m\u001b[43mindex\u001b[49m\u001b[43m(\u001b[49m\u001b[38;5;241;43m100\u001b[39;49m\u001b[43m)\u001b[49m\n",
      "\u001b[1;31mValueError\u001b[0m: 100 is not in list"
     ]
    }
   ],
   "source": [
    "l.index(100) # listede yoksa error verir."
   ]
  },
  {
   "cell_type": "code",
   "execution_count": 156,
   "id": "882b107f",
   "metadata": {},
   "outputs": [],
   "source": [
    "# Listeyi terse çevirmek:"
   ]
  },
  {
   "cell_type": "code",
   "execution_count": 165,
   "id": "29773e4a",
   "metadata": {},
   "outputs": [],
   "source": [
    "l = [1,2,3,4]"
   ]
  },
  {
   "cell_type": "code",
   "execution_count": 166,
   "id": "73b1d98d",
   "metadata": {},
   "outputs": [],
   "source": [
    "l.reverse() #inplace olur."
   ]
  },
  {
   "cell_type": "code",
   "execution_count": 167,
   "id": "c43d4dcb",
   "metadata": {},
   "outputs": [
    {
     "data": {
      "text/plain": [
       "[4, 3, 2, 1]"
      ]
     },
     "execution_count": 167,
     "metadata": {},
     "output_type": "execute_result"
    }
   ],
   "source": [
    "l"
   ]
  },
  {
   "cell_type": "code",
   "execution_count": 168,
   "id": "214235d2",
   "metadata": {},
   "outputs": [],
   "source": [
    "#slicing ile de olabilirtdi."
   ]
  },
  {
   "cell_type": "code",
   "execution_count": 172,
   "id": "3dd5423b",
   "metadata": {},
   "outputs": [],
   "source": [
    "l = l[::-1] #2 defa döndürdüğümüzden baştaki haline döndü."
   ]
  },
  {
   "cell_type": "code",
   "execution_count": 174,
   "id": "6b6bbddb",
   "metadata": {},
   "outputs": [
    {
     "data": {
      "text/plain": [
       "[1, 2, 3, 4]"
      ]
     },
     "execution_count": 174,
     "metadata": {},
     "output_type": "execute_result"
    }
   ],
   "source": [
    "l"
   ]
  },
  {
   "cell_type": "code",
   "execution_count": 175,
   "id": "df74803b",
   "metadata": {},
   "outputs": [
    {
     "data": {
      "text/plain": [
       "[4, 3, 2, 1]"
      ]
     },
     "execution_count": 175,
     "metadata": {},
     "output_type": "execute_result"
    }
   ],
   "source": [
    "l[::-1]"
   ]
  },
  {
   "cell_type": "code",
   "execution_count": 176,
   "id": "caf236f3",
   "metadata": {},
   "outputs": [],
   "source": [
    "#dikkat slicing ile yapılınca listenin kendisi değişmez onu tanımalamak gerekir."
   ]
  },
  {
   "cell_type": "code",
   "execution_count": null,
   "id": "2ef3c9e5",
   "metadata": {},
   "outputs": [],
   "source": [
    "List'in Elemanlarını Sıralamak (sorting)\n",
    "sorted() orijinal listeyi güncellemez.\n",
    "\n",
    "sorted() ve .sort() a bakacağız. İkisi de default olarak küçükten büyüğe sıralar. Sayısal verilerde sayısal değerine göre, stringlerde alfabetik sıraya göre sıralar."
   ]
  },
  {
   "cell_type": "code",
   "execution_count": 177,
   "id": "cba6dcc1",
   "metadata": {},
   "outputs": [],
   "source": [
    "l = [\"b\", \"c\", \"a\"]"
   ]
  },
  {
   "cell_type": "code",
   "execution_count": 179,
   "id": "04521dc2",
   "metadata": {},
   "outputs": [
    {
     "data": {
      "text/plain": [
       "['a', 'b', 'c']"
      ]
     },
     "execution_count": 179,
     "metadata": {},
     "output_type": "execute_result"
    }
   ],
   "source": [
    "sorted(l) # sort ile farkı orijinal liste ile güncellenmiyor oluşu."
   ]
  },
  {
   "cell_type": "code",
   "execution_count": 180,
   "id": "715087a3",
   "metadata": {},
   "outputs": [
    {
     "data": {
      "text/plain": [
       "['b', 'c', 'a']"
      ]
     },
     "execution_count": 180,
     "metadata": {},
     "output_type": "execute_result"
    }
   ],
   "source": [
    "l"
   ]
  },
  {
   "cell_type": "code",
   "execution_count": 182,
   "id": "799f4970",
   "metadata": {},
   "outputs": [],
   "source": [
    "l.sort()"
   ]
  },
  {
   "cell_type": "code",
   "execution_count": 183,
   "id": "b43a06c1",
   "metadata": {},
   "outputs": [
    {
     "data": {
      "text/plain": [
       "['a', 'b', 'c']"
      ]
     },
     "execution_count": 183,
     "metadata": {},
     "output_type": "execute_result"
    }
   ],
   "source": [
    "l"
   ]
  },
  {
   "cell_type": "code",
   "execution_count": 184,
   "id": "e507f389",
   "metadata": {},
   "outputs": [],
   "source": [
    "#artık güncellendi l diyince sıralanmış hali çıkacaktır."
   ]
  },
  {
   "cell_type": "code",
   "execution_count": 186,
   "id": "d7eb3050",
   "metadata": {},
   "outputs": [],
   "source": [
    "l = [\"b\", \"a\", \"c\", \"1\" , \"3\", \"4\"] #burada string halinde sayılar var dikkat."
   ]
  },
  {
   "cell_type": "code",
   "execution_count": 187,
   "id": "3a1ac250",
   "metadata": {},
   "outputs": [],
   "source": [
    "l.sort()"
   ]
  },
  {
   "cell_type": "code",
   "execution_count": 188,
   "id": "a3057403",
   "metadata": {},
   "outputs": [
    {
     "data": {
      "text/plain": [
       "['1', '3', '4', 'a', 'b', 'c']"
      ]
     },
     "execution_count": 188,
     "metadata": {},
     "output_type": "execute_result"
    }
   ],
   "source": [
    "l"
   ]
  },
  {
   "cell_type": "code",
   "execution_count": 190,
   "id": "36e3ad4c",
   "metadata": {},
   "outputs": [],
   "source": [
    "# ['1', '3', '4', 'a', 'b', 'c'] şeklinde sıraladı tam tahmin ettiğim gibi."
   ]
  },
  {
   "cell_type": "code",
   "execution_count": 191,
   "id": "0354e2ab",
   "metadata": {},
   "outputs": [],
   "source": [
    "l = [1, 3.1, 2]"
   ]
  },
  {
   "cell_type": "code",
   "execution_count": 192,
   "id": "ad1c2f49",
   "metadata": {},
   "outputs": [],
   "source": [
    "l.sort()"
   ]
  },
  {
   "cell_type": "code",
   "execution_count": 193,
   "id": "d10b875b",
   "metadata": {},
   "outputs": [
    {
     "data": {
      "text/plain": [
       "[1, 2, 3.1]"
      ]
     },
     "execution_count": 193,
     "metadata": {},
     "output_type": "execute_result"
    }
   ],
   "source": [
    "l"
   ]
  },
  {
   "cell_type": "code",
   "execution_count": 194,
   "id": "9af54204",
   "metadata": {},
   "outputs": [],
   "source": [
    "# başka örneklere de bakalım."
   ]
  },
  {
   "cell_type": "code",
   "execution_count": 195,
   "id": "b0dbd0fa",
   "metadata": {},
   "outputs": [],
   "source": [
    "l = [\"b\", \"a\", \"c\", 1, 2]"
   ]
  },
  {
   "cell_type": "code",
   "execution_count": 197,
   "id": "4d273442",
   "metadata": {},
   "outputs": [
    {
     "ename": "TypeError",
     "evalue": "'<' not supported between instances of 'int' and 'str'",
     "output_type": "error",
     "traceback": [
      "\u001b[1;31m---------------------------------------------------------------------------\u001b[0m",
      "\u001b[1;31mTypeError\u001b[0m                                 Traceback (most recent call last)",
      "Input \u001b[1;32mIn [197]\u001b[0m, in \u001b[0;36m<cell line: 1>\u001b[1;34m()\u001b[0m\n\u001b[1;32m----> 1\u001b[0m \u001b[43ml\u001b[49m\u001b[38;5;241;43m.\u001b[39;49m\u001b[43msort\u001b[49m\u001b[43m(\u001b[49m\u001b[43m)\u001b[49m\n",
      "\u001b[1;31mTypeError\u001b[0m: '<' not supported between instances of 'int' and 'str'"
     ]
    }
   ],
   "source": [
    "l.sort() #sıralanamıyor çünkü int ve str yan yana."
   ]
  },
  {
   "cell_type": "code",
   "execution_count": 198,
   "id": "c153e5fa",
   "metadata": {},
   "outputs": [],
   "source": [
    "l = [\"b\", \"a\", \"c\", \"1\", \"3.5\", \"4\", \"5.6\"]"
   ]
  },
  {
   "cell_type": "code",
   "execution_count": 199,
   "id": "031fd551",
   "metadata": {},
   "outputs": [],
   "source": [
    "l.sort()"
   ]
  },
  {
   "cell_type": "code",
   "execution_count": 200,
   "id": "29cecd8a",
   "metadata": {},
   "outputs": [
    {
     "data": {
      "text/plain": [
       "['1', '3.5', '4', '5.6', 'a', 'b', 'c']"
      ]
     },
     "execution_count": 200,
     "metadata": {},
     "output_type": "execute_result"
    }
   ],
   "source": [
    "l"
   ]
  },
  {
   "cell_type": "code",
   "execution_count": 201,
   "id": "9a06775c",
   "metadata": {},
   "outputs": [],
   "source": [
    "# mantıksal sıralama yapıyor."
   ]
  },
  {
   "cell_type": "code",
   "execution_count": 202,
   "id": "877c4aba",
   "metadata": {},
   "outputs": [],
   "source": [
    "l = [[1, -20 ,3], [2, -200, -3]]"
   ]
  },
  {
   "cell_type": "code",
   "execution_count": 203,
   "id": "85891c36",
   "metadata": {},
   "outputs": [],
   "source": [
    "l.sort()"
   ]
  },
  {
   "cell_type": "code",
   "execution_count": 204,
   "id": "d4a4bca0",
   "metadata": {},
   "outputs": [
    {
     "data": {
      "text/plain": [
       "[[1, -20, 3], [2, -200, -3]]"
      ]
     },
     "execution_count": 204,
     "metadata": {},
     "output_type": "execute_result"
    }
   ],
   "source": [
    "l"
   ]
  },
  {
   "cell_type": "code",
   "execution_count": 205,
   "id": "f0a3b6c0",
   "metadata": {},
   "outputs": [],
   "source": [
    "l = [[10, -20, -3], [2, -2, 3]]"
   ]
  },
  {
   "cell_type": "code",
   "execution_count": 206,
   "id": "0fe86a78",
   "metadata": {},
   "outputs": [],
   "source": [
    "l.sort()"
   ]
  },
  {
   "cell_type": "code",
   "execution_count": 207,
   "id": "18798835",
   "metadata": {},
   "outputs": [
    {
     "data": {
      "text/plain": [
       "[[2, -2, 3], [10, -20, -3]]"
      ]
     },
     "execution_count": 207,
     "metadata": {},
     "output_type": "execute_result"
    }
   ],
   "source": [
    "l"
   ]
  },
  {
   "cell_type": "code",
   "execution_count": 208,
   "id": "a8e23d25",
   "metadata": {},
   "outputs": [],
   "source": [
    "#ilk elemanlara bakıyor."
   ]
  },
  {
   "cell_type": "code",
   "execution_count": 209,
   "id": "6ab4da91",
   "metadata": {},
   "outputs": [],
   "source": [
    "l = [[10, -20, -3], [10, -25, 3]]"
   ]
  },
  {
   "cell_type": "code",
   "execution_count": 210,
   "id": "17181b5e",
   "metadata": {},
   "outputs": [],
   "source": [
    "l.sort()"
   ]
  },
  {
   "cell_type": "code",
   "execution_count": 211,
   "id": "ce87fd41",
   "metadata": {},
   "outputs": [
    {
     "data": {
      "text/plain": [
       "[[10, -25, 3], [10, -20, -3]]"
      ]
     },
     "execution_count": 211,
     "metadata": {},
     "output_type": "execute_result"
    }
   ],
   "source": [
    "l"
   ]
  },
  {
   "cell_type": "code",
   "execution_count": 212,
   "id": "c8ea63df",
   "metadata": {},
   "outputs": [],
   "source": [
    "# evet ilk elemanalra bakıyor sonra eşitse 2. lere vs. en son en küçüğü başa yazıyor."
   ]
  },
  {
   "cell_type": "code",
   "execution_count": 213,
   "id": "3b7662b2",
   "metadata": {},
   "outputs": [],
   "source": [
    "l = [[\"a\", \"c\", \"b\"], [2, -200 , -3]]"
   ]
  },
  {
   "cell_type": "code",
   "execution_count": 214,
   "id": "776440ff",
   "metadata": {},
   "outputs": [
    {
     "ename": "TypeError",
     "evalue": "'<' not supported between instances of 'int' and 'str'",
     "output_type": "error",
     "traceback": [
      "\u001b[1;31m---------------------------------------------------------------------------\u001b[0m",
      "\u001b[1;31mTypeError\u001b[0m                                 Traceback (most recent call last)",
      "Input \u001b[1;32mIn [214]\u001b[0m, in \u001b[0;36m<cell line: 1>\u001b[1;34m()\u001b[0m\n\u001b[1;32m----> 1\u001b[0m \u001b[43ml\u001b[49m\u001b[38;5;241;43m.\u001b[39;49m\u001b[43msort\u001b[49m\u001b[43m(\u001b[49m\u001b[43m)\u001b[49m\n",
      "\u001b[1;31mTypeError\u001b[0m: '<' not supported between instances of 'int' and 'str'"
     ]
    }
   ],
   "source": [
    "l.sort()"
   ]
  },
  {
   "cell_type": "code",
   "execution_count": 215,
   "id": "bb9de73c",
   "metadata": {},
   "outputs": [],
   "source": [
    "#  olmuoyr."
   ]
  },
  {
   "cell_type": "code",
   "execution_count": 216,
   "id": "6257f85b",
   "metadata": {},
   "outputs": [],
   "source": [
    "l = [[200, \"b\", \"c\"], [2, -200, -3, 10]]"
   ]
  },
  {
   "cell_type": "code",
   "execution_count": 217,
   "id": "285da565",
   "metadata": {},
   "outputs": [],
   "source": [
    "l.sort()"
   ]
  },
  {
   "cell_type": "code",
   "execution_count": 218,
   "id": "181457ea",
   "metadata": {},
   "outputs": [
    {
     "data": {
      "text/plain": [
       "[[2, -200, -3, 10], [200, 'b', 'c']]"
      ]
     },
     "execution_count": 218,
     "metadata": {},
     "output_type": "execute_result"
    }
   ],
   "source": [
    "l"
   ]
  },
  {
   "cell_type": "code",
   "execution_count": 219,
   "id": "0cd9f4b1",
   "metadata": {},
   "outputs": [],
   "source": [
    "#hata almadık çünkü ilk elemanlarına bakıyor."
   ]
  },
  {
   "cell_type": "code",
   "execution_count": 220,
   "id": "09646b25",
   "metadata": {},
   "outputs": [],
   "source": [
    "# ilk elemanları aynı olsaydı hata alıtdık ama."
   ]
  },
  {
   "cell_type": "code",
   "execution_count": 221,
   "id": "be2e48ff",
   "metadata": {},
   "outputs": [],
   "source": [
    "#çünkü diğerrleri farklı veri tipinde."
   ]
  },
  {
   "cell_type": "code",
   "execution_count": null,
   "id": "6a3adc89",
   "metadata": {},
   "outputs": [],
   "source": []
  }
 ],
 "metadata": {
  "kernelspec": {
   "display_name": "Python 3 (ipykernel)",
   "language": "python",
   "name": "python3"
  },
  "language_info": {
   "codemirror_mode": {
    "name": "ipython",
    "version": 3
   },
   "file_extension": ".py",
   "mimetype": "text/x-python",
   "name": "python",
   "nbconvert_exporter": "python",
   "pygments_lexer": "ipython3",
   "version": "3.9.12"
  }
 },
 "nbformat": 4,
 "nbformat_minor": 5
}
