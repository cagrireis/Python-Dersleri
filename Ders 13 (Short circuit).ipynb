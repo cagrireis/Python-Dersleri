{
 "cells": [
  {
   "cell_type": "code",
   "execution_count": 1,
   "id": "3e3059c6",
   "metadata": {},
   "outputs": [],
   "source": [
    "# And ve Or'da bir koşul false olunca veya true olunca or veya and olmasına bağlı olarak halihazırda oluşacak durum belli olur ve ileri koşula bakmaya gerek kalmaz.\n",
    "# işte bu durum short circuit'dir."
   ]
  },
  {
   "cell_type": "code",
   "execution_count": 2,
   "id": "09bccbda",
   "metadata": {},
   "outputs": [],
   "source": [
    "# bunu denemek için print kullancağız."
   ]
  },
  {
   "cell_type": "code",
   "execution_count": 3,
   "id": "ea3b6dcc",
   "metadata": {},
   "outputs": [
    {
     "data": {
      "text/plain": [
       "False"
      ]
     },
     "execution_count": 3,
     "metadata": {},
     "output_type": "execute_result"
    }
   ],
   "source": [
    "(5 < 3) and print(\"hey\")"
   ]
  },
  {
   "cell_type": "code",
   "execution_count": 4,
   "id": "b0eddf5e",
   "metadata": {},
   "outputs": [
    {
     "name": "stdout",
     "output_type": "stream",
     "text": [
      "hey\n"
     ]
    }
   ],
   "source": [
    "(5 > 3 ) and print(\"hey\")"
   ]
  },
  {
   "cell_type": "code",
   "execution_count": 5,
   "id": "0c17e6bf",
   "metadata": {},
   "outputs": [
    {
     "data": {
      "text/plain": [
       "True"
      ]
     },
     "execution_count": 5,
     "metadata": {},
     "output_type": "execute_result"
    }
   ],
   "source": [
    "(5 > 3 ) or print(\"hey\")"
   ]
  },
  {
   "cell_type": "code",
   "execution_count": 7,
   "id": "5a6c2e80",
   "metadata": {},
   "outputs": [
    {
     "name": "stdout",
     "output_type": "stream",
     "text": [
      "hey\n"
     ]
    }
   ],
   "source": [
    "(5 < 3 ) or print(\"hey\")"
   ]
  },
  {
   "cell_type": "code",
   "execution_count": 8,
   "id": "76e1d2be",
   "metadata": {},
   "outputs": [],
   "source": [
    "# bu da demek oluyor ki python bir koşulkdan onun ne olacağını anladıktasn sonra diğer koşulları kontrol etmiyor ."
   ]
  },
  {
   "cell_type": "code",
   "execution_count": null,
   "id": "bf53d9e9",
   "metadata": {},
   "outputs": [],
   "source": []
  }
 ],
 "metadata": {
  "kernelspec": {
   "display_name": "Python 3 (ipykernel)",
   "language": "python",
   "name": "python3"
  },
  "language_info": {
   "codemirror_mode": {
    "name": "ipython",
    "version": 3
   },
   "file_extension": ".py",
   "mimetype": "text/x-python",
   "name": "python",
   "nbconvert_exporter": "python",
   "pygments_lexer": "ipython3",
   "version": "3.9.12"
  }
 },
 "nbformat": 4,
 "nbformat_minor": 5
}
