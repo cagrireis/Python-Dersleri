{
 "cells": [
  {
   "cell_type": "code",
   "execution_count": 1,
   "id": "48f7b6f9",
   "metadata": {},
   "outputs": [],
   "source": [
    "#boyutunu bilmediğimiz inputlar ile beslemeye çalışacağız"
   ]
  },
  {
   "cell_type": "code",
   "execution_count": 2,
   "id": "8f5b8672",
   "metadata": {},
   "outputs": [],
   "source": [
    "def sum(numbers):\n",
    "    t = 0\n",
    "    for i in numbers:\n",
    "        t = t + i\n",
    "    return t"
   ]
  },
  {
   "cell_type": "code",
   "execution_count": 3,
   "id": "32f39eb5",
   "metadata": {},
   "outputs": [],
   "source": [
    "numbers = [1,2,3,4]"
   ]
  },
  {
   "cell_type": "code",
   "execution_count": 4,
   "id": "4c5411f2",
   "metadata": {},
   "outputs": [
    {
     "data": {
      "text/plain": [
       "10"
      ]
     },
     "execution_count": 4,
     "metadata": {},
     "output_type": "execute_result"
    }
   ],
   "source": [
    "sum(numbers)"
   ]
  },
  {
   "cell_type": "code",
   "execution_count": 5,
   "id": "ee76a726",
   "metadata": {},
   "outputs": [],
   "source": [
    "numbers = [1,2]"
   ]
  },
  {
   "cell_type": "code",
   "execution_count": 6,
   "id": "94d3126f",
   "metadata": {},
   "outputs": [
    {
     "data": {
      "text/plain": [
       "3"
      ]
     },
     "execution_count": 6,
     "metadata": {},
     "output_type": "execute_result"
    }
   ],
   "source": [
    "sum(numbers)\n"
   ]
  },
  {
   "cell_type": "code",
   "execution_count": 7,
   "id": "19d0d041",
   "metadata": {},
   "outputs": [],
   "source": [
    "# *args'ın anlamı tuple gibi bir objem vardı fakat bunu tek tek elemanlarına ayırdım demektir."
   ]
  },
  {
   "cell_type": "code",
   "execution_count": 8,
   "id": "5c10dc0c",
   "metadata": {},
   "outputs": [],
   "source": [
    "# yani fonksiyonun içine kaç eleman gireceğini yazmadan eleman sokabiliyorum."
   ]
  },
  {
   "cell_type": "code",
   "execution_count": 9,
   "id": "a51aaf8d",
   "metadata": {},
   "outputs": [],
   "source": [
    "def sum(*args):\n",
    "    res = 0\n",
    "    for i in args:\n",
    "        res = res + i\n",
    "    return res"
   ]
  },
  {
   "cell_type": "code",
   "execution_count": 10,
   "id": "8498f55d",
   "metadata": {},
   "outputs": [
    {
     "data": {
      "text/plain": [
       "10"
      ]
     },
     "execution_count": 10,
     "metadata": {},
     "output_type": "execute_result"
    }
   ],
   "source": [
    "sum(1,2,3,4)"
   ]
  },
  {
   "cell_type": "code",
   "execution_count": 11,
   "id": "c8e78f93",
   "metadata": {},
   "outputs": [],
   "source": [
    "# *'ın önüne ne istersek yazabiliriz."
   ]
  },
  {
   "cell_type": "code",
   "execution_count": 12,
   "id": "4bed8793",
   "metadata": {},
   "outputs": [],
   "source": [
    "def sum(*numbers):\n",
    "    res = 0\n",
    "    print(type(numbers))\n",
    "    print(numbers)\n",
    "    for element in numbers:\n",
    "        res = res + element\n",
    "    return res"
   ]
  },
  {
   "cell_type": "code",
   "execution_count": 17,
   "id": "5cf1a176",
   "metadata": {},
   "outputs": [
    {
     "name": "stdout",
     "output_type": "stream",
     "text": [
      "<class 'tuple'>\n",
      "(1, 2, 3, 4, 5, 6, 7, 8)\n"
     ]
    },
    {
     "data": {
      "text/plain": [
       "36"
      ]
     },
     "execution_count": 17,
     "metadata": {},
     "output_type": "execute_result"
    }
   ],
   "source": [
    "sum(1,2,3,4,5,6,7,8)"
   ]
  },
  {
   "cell_type": "code",
   "execution_count": 18,
   "id": "f5fdb39f",
   "metadata": {},
   "outputs": [
    {
     "name": "stdout",
     "output_type": "stream",
     "text": [
      "<class 'tuple'>\n",
      "(1, 2)\n"
     ]
    },
    {
     "data": {
      "text/plain": [
       "3"
      ]
     },
     "execution_count": 18,
     "metadata": {},
     "output_type": "execute_result"
    }
   ],
   "source": [
    "sum(1,2)"
   ]
  },
  {
   "cell_type": "code",
   "execution_count": 19,
   "id": "e607803f",
   "metadata": {},
   "outputs": [],
   "source": [
    "#peki şöyle yaparsak:"
   ]
  },
  {
   "cell_type": "code",
   "execution_count": 27,
   "id": "bddfb1b3",
   "metadata": {},
   "outputs": [],
   "source": [
    "def sum_2(*args):\n",
    "    res = 0\n",
    "    print(type(args))\n",
    "    print(args)\n",
    "    print(len(args))\n",
    "    for i in args:\n",
    "        for j in i:\n",
    "            res = res + j\n",
    "    return res "
   ]
  },
  {
   "cell_type": "code",
   "execution_count": 28,
   "id": "2c100213",
   "metadata": {},
   "outputs": [
    {
     "name": "stdout",
     "output_type": "stream",
     "text": [
      "<class 'tuple'>\n",
      "([1, 2],)\n",
      "1\n"
     ]
    },
    {
     "data": {
      "text/plain": [
       "3"
      ]
     },
     "execution_count": 28,
     "metadata": {},
     "output_type": "execute_result"
    }
   ],
   "source": [
    "sum_2([1,2])"
   ]
  },
  {
   "cell_type": "code",
   "execution_count": 29,
   "id": "a5cba96d",
   "metadata": {},
   "outputs": [],
   "source": [
    "# içindekine ulaştık"
   ]
  },
  {
   "cell_type": "markdown",
   "id": "d2a5b9fe",
   "metadata": {},
   "source": [
    "### KWARGS:"
   ]
  },
  {
   "cell_type": "code",
   "execution_count": 30,
   "id": "ecc8c393",
   "metadata": {},
   "outputs": [],
   "source": [
    "#fonksiyona değişken sayıda keyword argumant verebilmemizi sağlar."
   ]
  },
  {
   "cell_type": "code",
   "execution_count": 31,
   "id": "74490092",
   "metadata": {},
   "outputs": [],
   "source": [
    "def students(**kwargs):\n",
    "    \n",
    "    for j in kwargs.values():\n",
    "        print(j)\n"
   ]
  },
  {
   "cell_type": "code",
   "execution_count": 34,
   "id": "c060cd97",
   "metadata": {},
   "outputs": [
    {
     "name": "stdout",
     "output_type": "stream",
     "text": [
      "jake\n",
      "408\n"
     ]
    }
   ],
   "source": [
    "students(name = \"jake\", number = \"408\") #sanki bir dict verinin unpack edilmiş hali gibi."
   ]
  },
  {
   "cell_type": "code",
   "execution_count": 35,
   "id": "35556e3d",
   "metadata": {},
   "outputs": [],
   "source": [
    "# dict veriler gibi"
   ]
  },
  {
   "cell_type": "code",
   "execution_count": 36,
   "id": "3e939d46",
   "metadata": {},
   "outputs": [],
   "source": [
    "def students(**students):\n",
    "    print(students)\n",
    "    for v in students:\n",
    "        print(v)"
   ]
  },
  {
   "cell_type": "code",
   "execution_count": 38,
   "id": "8f46e729",
   "metadata": {},
   "outputs": [
    {
     "name": "stdout",
     "output_type": "stream",
     "text": [
      "{'name': 'jake', 'number': '408'}\n",
      "name\n",
      "number\n"
     ]
    }
   ],
   "source": [
    "students(name = \"jake\", number = \"408\") # dict tutmuş görüldüğü gibi args tuple tutuyordu bu da dict tutuyor."
   ]
  },
  {
   "cell_type": "code",
   "execution_count": 39,
   "id": "f7e21b84",
   "metadata": {},
   "outputs": [],
   "source": [
    "def students(**students):\n",
    "    print(students)\n",
    "    for v in students.items():\n",
    "        print(v)"
   ]
  },
  {
   "cell_type": "code",
   "execution_count": 40,
   "id": "d5b66919",
   "metadata": {},
   "outputs": [
    {
     "name": "stdout",
     "output_type": "stream",
     "text": [
      "{'name': 'jake', 'number': '408'}\n",
      "('name', 'jake')\n",
      "('number', '408')\n"
     ]
    }
   ],
   "source": [
    "students(name = \"jake\", number = \"408\")"
   ]
  },
  {
   "cell_type": "code",
   "execution_count": 41,
   "id": "4a734bb0",
   "metadata": {},
   "outputs": [],
   "source": [
    "# args ve kwargs'ın birlikte kullanımı."
   ]
  },
  {
   "cell_type": "code",
   "execution_count": 42,
   "id": "c36b6f0f",
   "metadata": {},
   "outputs": [],
   "source": [
    "# kullanım sırası bu durumda önemli oluyor."
   ]
  },
  {
   "cell_type": "code",
   "execution_count": 44,
   "id": "25949825",
   "metadata": {},
   "outputs": [
    {
     "ename": "SyntaxError",
     "evalue": "invalid syntax (18627518.py, line 1)",
     "output_type": "error",
     "traceback": [
      "\u001b[1;36m  Input \u001b[1;32mIn [44]\u001b[1;36m\u001b[0m\n\u001b[1;33m    def weird(**kwargs, *args): #hata alıyoruz çünkü değer alan veri tipleri sonda yazılmalı fonksiyonlarda args başta olmalı.\u001b[0m\n\u001b[1;37m                        ^\u001b[0m\n\u001b[1;31mSyntaxError\u001b[0m\u001b[1;31m:\u001b[0m invalid syntax\n"
     ]
    }
   ],
   "source": [
    "def weird(**kwargs, *args): #hata alıyoruz çünkü değer alan veri tipleri sonda yazılmalı fonksiyonlarda args başta olmalı.\n",
    "    res = 0\n",
    "    for e in args:\n",
    "        res = res + e\n",
    "    for k,v in kwargs.items():\n",
    "        print(k, \":\", v)\n",
    "    return res "
   ]
  },
  {
   "cell_type": "code",
   "execution_count": 45,
   "id": "34ab56b3",
   "metadata": {},
   "outputs": [],
   "source": [
    "def weird(*args, **kwargs): \n",
    "    res = 0\n",
    "    for e in args:\n",
    "        res = res + e\n",
    "    for k,v in kwargs.items():\n",
    "        print(k, \":\", v)\n",
    "    return res "
   ]
  },
  {
   "cell_type": "code",
   "execution_count": 47,
   "id": "edef5fca",
   "metadata": {},
   "outputs": [
    {
     "name": "stdout",
     "output_type": "stream",
     "text": [
      "isim : alp\n",
      "numara : 21\n"
     ]
    },
    {
     "data": {
      "text/plain": [
       "15"
      ]
     },
     "execution_count": 47,
     "metadata": {},
     "output_type": "execute_result"
    }
   ],
   "source": [
    "weird(1,2,3,4,5,isim = \"alp\", numara = \"21\") # kwargs mutlaka key-value pair olmalı, args string de oalbilir."
   ]
  },
  {
   "cell_type": "code",
   "execution_count": 48,
   "id": "f4a229ea",
   "metadata": {},
   "outputs": [
    {
     "name": "stdout",
     "output_type": "stream",
     "text": [
      "isim : alp\n",
      "numara : 21\n",
      "age : 25\n"
     ]
    },
    {
     "data": {
      "text/plain": [
       "15"
      ]
     },
     "execution_count": 48,
     "metadata": {},
     "output_type": "execute_result"
    }
   ],
   "source": [
    "weird(1,2,3,4,5,isim = \"alp\", numara = \"21\", age=\"25\")"
   ]
  },
  {
   "cell_type": "markdown",
   "id": "9364a005",
   "metadata": {},
   "source": [
    "### UNPACKING"
   ]
  },
  {
   "cell_type": "code",
   "execution_count": 49,
   "id": "f788e275",
   "metadata": {},
   "outputs": [],
   "source": [
    "l = [1,2,3,4]"
   ]
  },
  {
   "cell_type": "code",
   "execution_count": 50,
   "id": "0ade3211",
   "metadata": {},
   "outputs": [
    {
     "name": "stdout",
     "output_type": "stream",
     "text": [
      "[1, 2, 3, 4]\n"
     ]
    }
   ],
   "source": [
    "print(l)"
   ]
  },
  {
   "cell_type": "code",
   "execution_count": 51,
   "id": "8aa9cbf2",
   "metadata": {},
   "outputs": [
    {
     "name": "stdout",
     "output_type": "stream",
     "text": [
      "1 2 3 4\n"
     ]
    }
   ],
   "source": [
    "print(*l)"
   ]
  },
  {
   "cell_type": "code",
   "execution_count": 52,
   "id": "775d2b2c",
   "metadata": {},
   "outputs": [],
   "source": [
    "# * unpack yapar."
   ]
  },
  {
   "cell_type": "code",
   "execution_count": 53,
   "id": "f256a3e2",
   "metadata": {},
   "outputs": [],
   "source": [
    "l2 = [20,21]"
   ]
  },
  {
   "cell_type": "code",
   "execution_count": 61,
   "id": "8ba1f25a",
   "metadata": {},
   "outputs": [],
   "source": [
    "den = [l,l2]"
   ]
  },
  {
   "cell_type": "code",
   "execution_count": 62,
   "id": "f41d3706",
   "metadata": {},
   "outputs": [
    {
     "data": {
      "text/plain": [
       "[[1, 2, 3, 4], [20, 21]]"
      ]
     },
     "execution_count": 62,
     "metadata": {},
     "output_type": "execute_result"
    }
   ],
   "source": [
    "den"
   ]
  },
  {
   "cell_type": "code",
   "execution_count": 57,
   "id": "6cec91a4",
   "metadata": {},
   "outputs": [],
   "source": [
    "merged_l = [*l, *l2] # unpack edilmiş elemanları sıralar."
   ]
  },
  {
   "cell_type": "code",
   "execution_count": 58,
   "id": "57f6f470",
   "metadata": {},
   "outputs": [
    {
     "data": {
      "text/plain": [
       "[1, 2, 3, 4, 20, 21]"
      ]
     },
     "execution_count": 58,
     "metadata": {},
     "output_type": "execute_result"
    }
   ],
   "source": [
    "merged_l"
   ]
  },
  {
   "cell_type": "code",
   "execution_count": 63,
   "id": "888cc4e7",
   "metadata": {},
   "outputs": [],
   "source": [
    "d1 = {\"name\":\"jake\", \"number\":408}"
   ]
  },
  {
   "cell_type": "code",
   "execution_count": 64,
   "id": "e27b3b15",
   "metadata": {},
   "outputs": [],
   "source": [
    "d2 = {\"last_name\":\"sky\", \"grade\":74}"
   ]
  },
  {
   "cell_type": "code",
   "execution_count": 65,
   "id": "ee0e2412",
   "metadata": {},
   "outputs": [
    {
     "ename": "TypeError",
     "evalue": "unsupported operand type(s) for +: 'dict' and 'dict'",
     "output_type": "error",
     "traceback": [
      "\u001b[1;31m---------------------------------------------------------------------------\u001b[0m",
      "\u001b[1;31mTypeError\u001b[0m                                 Traceback (most recent call last)",
      "Input \u001b[1;32mIn [65]\u001b[0m, in \u001b[0;36m<cell line: 1>\u001b[1;34m()\u001b[0m\n\u001b[1;32m----> 1\u001b[0m \u001b[43md1\u001b[49m\u001b[38;5;241;43m+\u001b[39;49m\u001b[43md2\u001b[49m\n",
      "\u001b[1;31mTypeError\u001b[0m: unsupported operand type(s) for +: 'dict' and 'dict'"
     ]
    }
   ],
   "source": [
    "d1+d2"
   ]
  },
  {
   "cell_type": "code",
   "execution_count": 66,
   "id": "3065ceac",
   "metadata": {},
   "outputs": [],
   "source": [
    "#toplamak yani merge etmek için"
   ]
  },
  {
   "cell_type": "code",
   "execution_count": 67,
   "id": "c71777a2",
   "metadata": {},
   "outputs": [],
   "source": [
    "d_merged = {**d1, **d2}"
   ]
  },
  {
   "cell_type": "code",
   "execution_count": 68,
   "id": "2dc5e46c",
   "metadata": {},
   "outputs": [
    {
     "data": {
      "text/plain": [
       "{'name': 'jake', 'number': 408, 'last_name': 'sky', 'grade': 74}"
      ]
     },
     "execution_count": 68,
     "metadata": {},
     "output_type": "execute_result"
    }
   ],
   "source": [
    "d_merged"
   ]
  },
  {
   "cell_type": "code",
   "execution_count": 74,
   "id": "73923b3e",
   "metadata": {},
   "outputs": [],
   "source": [
    "d1 = {\"name\":\"jake\", \"number\":408}\n",
    "d3 = {\"name\":\"sky\", \"grade\":74}\n",
    "d4 = {\"name\":\"b\", \"grade\":71}"
   ]
  },
  {
   "cell_type": "code",
   "execution_count": 75,
   "id": "c79ec49b",
   "metadata": {},
   "outputs": [],
   "source": [
    "# aynı keylere sahipse yukarıdaki gibi"
   ]
  },
  {
   "cell_type": "code",
   "execution_count": 78,
   "id": "58eff527",
   "metadata": {},
   "outputs": [],
   "source": [
    "merge_d3 = {**d1, **d3, **d4}"
   ]
  },
  {
   "cell_type": "code",
   "execution_count": 81,
   "id": "591a291b",
   "metadata": {},
   "outputs": [
    {
     "data": {
      "text/plain": [
       "{'name': 'b', 'number': 408, 'grade': 71}"
      ]
     },
     "execution_count": 81,
     "metadata": {},
     "output_type": "execute_result"
    }
   ],
   "source": [
    "merge_d3 # namelerden bir tanesini aldı. #en güncelini alır. unique değerleri mutlaka alır."
   ]
  },
  {
   "cell_type": "code",
   "execution_count": null,
   "id": "bb0e9499",
   "metadata": {},
   "outputs": [],
   "source": []
  },
  {
   "cell_type": "code",
   "execution_count": null,
   "id": "f39ab989",
   "metadata": {},
   "outputs": [],
   "source": []
  },
  {
   "cell_type": "code",
   "execution_count": 84,
   "id": "2a2b2dc7",
   "metadata": {},
   "outputs": [],
   "source": [
    "str_list = [*\"hey this is a string\"]"
   ]
  },
  {
   "cell_type": "code",
   "execution_count": 86,
   "id": "26f2fb63",
   "metadata": {},
   "outputs": [
    {
     "data": {
      "text/plain": [
       "['h',\n",
       " 'e',\n",
       " 'y',\n",
       " ' ',\n",
       " 't',\n",
       " 'h',\n",
       " 'i',\n",
       " 's',\n",
       " ' ',\n",
       " 'i',\n",
       " 's',\n",
       " ' ',\n",
       " 'a',\n",
       " ' ',\n",
       " 's',\n",
       " 't',\n",
       " 'r',\n",
       " 'i',\n",
       " 'n',\n",
       " 'g']"
      ]
     },
     "execution_count": 86,
     "metadata": {},
     "output_type": "execute_result"
    }
   ],
   "source": [
    "str_list #hepsini unpack ediyor"
   ]
  },
  {
   "cell_type": "code",
   "execution_count": 87,
   "id": "80b3bf13",
   "metadata": {},
   "outputs": [
    {
     "name": "stdout",
     "output_type": "stream",
     "text": [
      "['h', 'e', 'y', ' ', 't', 'h', 'i', 's', ' ', 'i', 's', ' ', 'a', ' ', 's', 't', 'r', 'i', 'n', 'g']\n"
     ]
    }
   ],
   "source": [
    "print(str_list)"
   ]
  },
  {
   "cell_type": "code",
   "execution_count": 89,
   "id": "66ccde10",
   "metadata": {},
   "outputs": [],
   "source": [
    "strlist = [*\"hey\"]"
   ]
  },
  {
   "cell_type": "code",
   "execution_count": 90,
   "id": "f00a469c",
   "metadata": {},
   "outputs": [
    {
     "data": {
      "text/plain": [
       "['h', 'e', 'y']"
      ]
     },
     "execution_count": 90,
     "metadata": {},
     "output_type": "execute_result"
    }
   ],
   "source": [
    "strlist"
   ]
  },
  {
   "cell_type": "code",
   "execution_count": null,
   "id": "3bb1ef33",
   "metadata": {},
   "outputs": [],
   "source": []
  }
 ],
 "metadata": {
  "kernelspec": {
   "display_name": "Python 3 (ipykernel)",
   "language": "python",
   "name": "python3"
  },
  "language_info": {
   "codemirror_mode": {
    "name": "ipython",
    "version": 3
   },
   "file_extension": ".py",
   "mimetype": "text/x-python",
   "name": "python",
   "nbconvert_exporter": "python",
   "pygments_lexer": "ipython3",
   "version": "3.9.12"
  }
 },
 "nbformat": 4,
 "nbformat_minor": 5
}
