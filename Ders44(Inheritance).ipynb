{
 "cells": [
  {
   "cell_type": "markdown",
   "id": "67b230fe",
   "metadata": {},
   "source": [
    "# Incheritance"
   ]
  },
  {
   "cell_type": "code",
   "execution_count": 1,
   "id": "bde1167a",
   "metadata": {},
   "outputs": [],
   "source": [
    "# Inheritance belirttiğimiz başka classlardaki method ve attributelere bakmamıza olanak sağlar.\n",
    "# Diyelim ki başka tipte çalışanlar yapmak istiyorum IT VE HR olsun."
   ]
  },
  {
   "cell_type": "code",
   "execution_count": 1,
   "id": "1b5eccd0",
   "metadata": {},
   "outputs": [],
   "source": [
    "class Employee:\n",
    "    \n",
    "    raise_percent = 1.05\n",
    "    \n",
    "    num = 0\n",
    "    \n",
    "    def __init__(self, name, last, age, pay):\n",
    "        self.name = name\n",
    "        self.last = last\n",
    "        self.age = age\n",
    "        self.pay = pay\n",
    "        Employee.num = Employee.num + 1 \n",
    "        \n",
    "    def apply_raise(self):\n",
    "        self.pay = self.pay * Employee.raise_percent"
   ]
  },
  {
   "cell_type": "code",
   "execution_count": 2,
   "id": "912a01f1",
   "metadata": {},
   "outputs": [],
   "source": [
    "num_1 = Employee(\"Çağrı\", \"REİS\", 19, 5500)\n",
    "num_2 = Employee(\"Sarah\", \"ANDERSON\", 22, 6000)"
   ]
  },
  {
   "cell_type": "code",
   "execution_count": 3,
   "id": "edb9a66b",
   "metadata": {},
   "outputs": [],
   "source": [
    "# hangi class'dan inherit etmek istediğimizi parantez içine yazarız\n",
    "\n",
    "# Inherit ettiğimiz super/class veya parentclass olur, inherit edene de childclass / subclass deniyor"
   ]
  },
  {
   "cell_type": "code",
   "execution_count": 5,
   "id": "a56a2e62",
   "metadata": {},
   "outputs": [],
   "source": [
    "class IT(Employee):\n",
    "    pass"
   ]
  },
  {
   "cell_type": "code",
   "execution_count": 9,
   "id": "a1486f65",
   "metadata": {},
   "outputs": [],
   "source": [
    "class HR(Employee): # parantez içine parentclass'ı yazarız.\n",
    "    pass"
   ]
  },
  {
   "cell_type": "code",
   "execution_count": 10,
   "id": "a80fb808",
   "metadata": {},
   "outputs": [],
   "source": [
    "# iki tane subclass yarattık içine bir şey yazmamıza gerek yok çünkü zaten employee'nin tüm özellikleri mevcut."
   ]
  },
  {
   "cell_type": "code",
   "execution_count": 11,
   "id": "dfd235e5",
   "metadata": {},
   "outputs": [],
   "source": [
    "it_1 = IT(\"Çağrı\", \"REİS\", 19, 5550)"
   ]
  },
  {
   "cell_type": "code",
   "execution_count": 13,
   "id": "223c85d0",
   "metadata": {},
   "outputs": [
    {
     "data": {
      "text/plain": [
       "{'name': 'Çağrı', 'last': 'REİS', 'age': 19, 'pay': 5550}"
      ]
     },
     "execution_count": 13,
     "metadata": {},
     "output_type": "execute_result"
    }
   ],
   "source": [
    "it_1.__dict__"
   ]
  },
  {
   "cell_type": "code",
   "execution_count": 15,
   "id": "8eadf5a1",
   "metadata": {},
   "outputs": [
    {
     "data": {
      "text/plain": [
       "'Çağrı'"
      ]
     },
     "execution_count": 15,
     "metadata": {},
     "output_type": "execute_result"
    }
   ],
   "source": [
    "it_1.name #döndürür çünkü IT Employee'nin subu ve oradan kopyaladı her şeyi"
   ]
  },
  {
   "cell_type": "code",
   "execution_count": 16,
   "id": "2327a0ac",
   "metadata": {},
   "outputs": [
    {
     "data": {
      "text/plain": [
       "5550"
      ]
     },
     "execution_count": 16,
     "metadata": {},
     "output_type": "execute_result"
    }
   ],
   "source": [
    "it_1.pay"
   ]
  },
  {
   "cell_type": "code",
   "execution_count": 18,
   "id": "c3e84d2c",
   "metadata": {},
   "outputs": [],
   "source": [
    "it_1.apply_raise()"
   ]
  },
  {
   "cell_type": "code",
   "execution_count": 19,
   "id": "d11e5298",
   "metadata": {},
   "outputs": [
    {
     "data": {
      "text/plain": [
       "5827.5"
      ]
     },
     "execution_count": 19,
     "metadata": {},
     "output_type": "execute_result"
    }
   ],
   "source": [
    "it_1.pay"
   ]
  },
  {
   "cell_type": "code",
   "execution_count": 20,
   "id": "8f6e6f9d",
   "metadata": {},
   "outputs": [],
   "source": [
    "# hem methodlara hem atributelara erişimi var."
   ]
  },
  {
   "cell_type": "code",
   "execution_count": 21,
   "id": "8ec54254",
   "metadata": {},
   "outputs": [],
   "source": [
    "# diyelim ki itlerin raise_percentini başka yapmak istiyorum;"
   ]
  },
  {
   "cell_type": "code",
   "execution_count": 33,
   "id": "86b1ba6e",
   "metadata": {},
   "outputs": [],
   "source": [
    "class IT(Employee):\n",
    "    raise_percent = 1.2 # içerisine direkt yazılarak yapıalbilir. yani biz yazmamışsak emloyeeninkini kullamır."
   ]
  },
  {
   "cell_type": "code",
   "execution_count": 34,
   "id": "13a2496d",
   "metadata": {},
   "outputs": [],
   "source": [
    "it_1 = IT(\"Çağrı\", \"REİS\", 19, 5500)"
   ]
  },
  {
   "cell_type": "code",
   "execution_count": 35,
   "id": "39e590f5",
   "metadata": {},
   "outputs": [
    {
     "data": {
      "text/plain": [
       "1.2"
      ]
     },
     "execution_count": 35,
     "metadata": {},
     "output_type": "execute_result"
    }
   ],
   "source": [
    "it_1.raise_percent"
   ]
  },
  {
   "cell_type": "code",
   "execution_count": 36,
   "id": "1e08336a",
   "metadata": {},
   "outputs": [],
   "source": [
    "it_1.apply_raise()"
   ]
  },
  {
   "cell_type": "code",
   "execution_count": 37,
   "id": "eee883b1",
   "metadata": {},
   "outputs": [
    {
     "data": {
      "text/plain": [
       "5775.0"
      ]
     },
     "execution_count": 37,
     "metadata": {},
     "output_type": "execute_result"
    }
   ],
   "source": [
    "it_1.pay"
   ]
  },
  {
   "cell_type": "code",
   "execution_count": 38,
   "id": "fe43ecc3",
   "metadata": {},
   "outputs": [],
   "source": [
    "# IT'nin raise percentini güncellemek süperclass'ınkini değiştirmez."
   ]
  },
  {
   "cell_type": "code",
   "execution_count": 39,
   "id": "c302d101",
   "metadata": {},
   "outputs": [],
   "source": [
    "# kısaca subclass'da yapılan değişiklikler süperclassı etkilemez."
   ]
  },
  {
   "cell_type": "code",
   "execution_count": 40,
   "id": "0333cc43",
   "metadata": {},
   "outputs": [],
   "source": [
    "# diyelim ki dil eklemek istiyoruz."
   ]
  },
  {
   "cell_type": "code",
   "execution_count": 45,
   "id": "1e0813a1",
   "metadata": {},
   "outputs": [],
   "source": [
    "class IT(Employee):\n",
    "    raise_percent = 1.2\n",
    "    def __init__(self, name, last, age, pay, lang):\n",
    "        self.name = name\n",
    "        self.last = last\n",
    "        self.age = age \n",
    "        self.pay = pay\n",
    "        self.lang = lang "
   ]
  },
  {
   "cell_type": "code",
   "execution_count": 46,
   "id": "1e8e4b79",
   "metadata": {},
   "outputs": [],
   "source": [
    "it_1 = IT(\"Çağrı\", \"REİS\", 19, 5500, \"Python\")"
   ]
  },
  {
   "cell_type": "code",
   "execution_count": 47,
   "id": "1221de32",
   "metadata": {},
   "outputs": [
    {
     "data": {
      "text/plain": [
       "'Python'"
      ]
     },
     "execution_count": 47,
     "metadata": {},
     "output_type": "execute_result"
    }
   ],
   "source": [
    "it_1.lang"
   ]
  },
  {
   "cell_type": "code",
   "execution_count": 48,
   "id": "cf590ddc",
   "metadata": {},
   "outputs": [],
   "source": [
    "# fakat burada bir daha init tanımlamaya gerek yok."
   ]
  },
  {
   "cell_type": "code",
   "execution_count": 49,
   "id": "32ec3e95",
   "metadata": {},
   "outputs": [],
   "source": [
    "#super() kullanabiliriz."
   ]
  },
  {
   "cell_type": "code",
   "execution_count": 56,
   "id": "87210ad0",
   "metadata": {},
   "outputs": [],
   "source": [
    "class IT(Employee):\n",
    "    raise_percemt = 1.2\n",
    "    def __init__(self, name, last, age, pay, lang): # düz tanımla dedik\n",
    "        super().__init__(name, last, age, pay) #burada superclass'ın initini çağırdık\n",
    "        self.lang = lang #burada ek olanı yazdık. İnit için tekrar yazmaya gerek yok\n",
    "        "
   ]
  },
  {
   "cell_type": "code",
   "execution_count": 57,
   "id": "d8cc9a47",
   "metadata": {},
   "outputs": [],
   "source": [
    "it_1 = IT(\"Çağrı\", \"REİS\", 19, 5500, \"Python\")"
   ]
  },
  {
   "cell_type": "code",
   "execution_count": 58,
   "id": "10f86de9",
   "metadata": {},
   "outputs": [
    {
     "data": {
      "text/plain": [
       "'Python'"
      ]
     },
     "execution_count": 58,
     "metadata": {},
     "output_type": "execute_result"
    }
   ],
   "source": [
    "it_1.lang"
   ]
  },
  {
   "cell_type": "code",
   "execution_count": 59,
   "id": "af937adc",
   "metadata": {},
   "outputs": [],
   "source": [
    "class IK(Employee):\n",
    "    raise_percent = 1.3\n",
    "    def __init__(self, name, last, age, pay, experience):\n",
    "        super().__init__(name, last, age, pay)\n",
    "        self.experience = experience\n",
    "    def print_exp(self):\n",
    "        print(\"This employee has {0} years of experience.\".format(self.experience))"
   ]
  },
  {
   "cell_type": "code",
   "execution_count": 60,
   "id": "580cdc02",
   "metadata": {},
   "outputs": [],
   "source": [
    "ik_1 = IK(\"Çağrı\", \"REİS\", 19, 5500, 1)"
   ]
  },
  {
   "cell_type": "code",
   "execution_count": 61,
   "id": "bdf70069",
   "metadata": {},
   "outputs": [
    {
     "data": {
      "text/plain": [
       "1"
      ]
     },
     "execution_count": 61,
     "metadata": {},
     "output_type": "execute_result"
    }
   ],
   "source": [
    "ik_1.experience"
   ]
  },
  {
   "cell_type": "code",
   "execution_count": 63,
   "id": "4ef14530",
   "metadata": {},
   "outputs": [
    {
     "name": "stdout",
     "output_type": "stream",
     "text": [
      "This employee has 1 years of experience.\n"
     ]
    }
   ],
   "source": [
    "ik_1.print_exp()"
   ]
  },
  {
   "cell_type": "code",
   "execution_count": 64,
   "id": "2a86a612",
   "metadata": {},
   "outputs": [],
   "source": [
    "# yardımcı olması adına 2 adet buid-in function görelim."
   ]
  },
  {
   "cell_type": "code",
   "execution_count": 65,
   "id": "80acc26f",
   "metadata": {},
   "outputs": [],
   "source": [
    "# bunlar isinstance, issubclass."
   ]
  },
  {
   "cell_type": "code",
   "execution_count": 66,
   "id": "69a2db7c",
   "metadata": {},
   "outputs": [
    {
     "data": {
      "text/plain": [
       "True"
      ]
     },
     "execution_count": 66,
     "metadata": {},
     "output_type": "execute_result"
    }
   ],
   "source": [
    "isinstance(ik_1, IK) # ik_1 IK 'nın objesi mi?"
   ]
  },
  {
   "cell_type": "code",
   "execution_count": 67,
   "id": "bcd1896b",
   "metadata": {},
   "outputs": [
    {
     "data": {
      "text/plain": [
       "True"
      ]
     },
     "execution_count": 67,
     "metadata": {},
     "output_type": "execute_result"
    }
   ],
   "source": [
    "isinstance(ik_1, Employee) # subclassının instancesi olduğundan aynı zamanda employeenin instancesidir."
   ]
  },
  {
   "cell_type": "code",
   "execution_count": 69,
   "id": "635e5bd7",
   "metadata": {},
   "outputs": [
    {
     "data": {
      "text/plain": [
       "True"
      ]
     },
     "execution_count": 69,
     "metadata": {},
     "output_type": "execute_result"
    }
   ],
   "source": [
    "issubclass(IK, Employee) #IK employee'nin subclassı mı?"
   ]
  },
  {
   "cell_type": "code",
   "execution_count": 71,
   "id": "0e96590a",
   "metadata": {},
   "outputs": [
    {
     "data": {
      "text/plain": [
       "True"
      ]
     },
     "execution_count": 71,
     "metadata": {},
     "output_type": "execute_result"
    }
   ],
   "source": [
    "issubclass(IT, Employee) #IT employee2Nin sub class'ı mı "
   ]
  },
  {
   "cell_type": "code",
   "execution_count": 74,
   "id": "e9bcde07",
   "metadata": {},
   "outputs": [
    {
     "data": {
      "text/plain": [
       "False"
      ]
     },
     "execution_count": 74,
     "metadata": {},
     "output_type": "execute_result"
    }
   ],
   "source": [
    "issubclass(IT, IK) # IT IK'NIN VEYA IK IT 'NİN SUBCLASSI DFEĞİL.'"
   ]
  },
  {
   "cell_type": "code",
   "execution_count": 73,
   "id": "36f28ef5",
   "metadata": {},
   "outputs": [
    {
     "data": {
      "text/plain": [
       "False"
      ]
     },
     "execution_count": 73,
     "metadata": {},
     "output_type": "execute_result"
    }
   ],
   "source": [
    "issubclass(IT, IK)"
   ]
  },
  {
   "cell_type": "code",
   "execution_count": null,
   "id": "23658bcf",
   "metadata": {},
   "outputs": [],
   "source": []
  }
 ],
 "metadata": {
  "kernelspec": {
   "display_name": "Python 3 (ipykernel)",
   "language": "python",
   "name": "python3"
  },
  "language_info": {
   "codemirror_mode": {
    "name": "ipython",
    "version": 3
   },
   "file_extension": ".py",
   "mimetype": "text/x-python",
   "name": "python",
   "nbconvert_exporter": "python",
   "pygments_lexer": "ipython3",
   "version": "3.9.12"
  }
 },
 "nbformat": 4,
 "nbformat_minor": 5
}
