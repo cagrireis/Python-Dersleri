{
 "cells": [
  {
   "cell_type": "code",
   "execution_count": null,
   "id": "d8a053e1",
   "metadata": {},
   "outputs": [],
   "source": [
    "Variable Unpacking\n",
    "\n",
    "\n",
    "Şimdiye kadar hep tek değişkene tek değer verdik.\n",
    "\n",
    "\n",
    "Peki bir seferde birden çok değişkene değer vermek için ne yaparız?\n",
    "\n",
    "\n",
    "Aşağıdaki kodun sonucu,\n",
    "\n",
    "x = 4 \n",
    "y = 7\n",
    "ile aynı."
   ]
  },
  {
   "cell_type": "code",
   "execution_count": 1,
   "id": "f9702710",
   "metadata": {},
   "outputs": [],
   "source": [
    "x,y = (4,7)"
   ]
  },
  {
   "cell_type": "code",
   "execution_count": 2,
   "id": "00b41832",
   "metadata": {},
   "outputs": [
    {
     "data": {
      "text/plain": [
       "4"
      ]
     },
     "execution_count": 2,
     "metadata": {},
     "output_type": "execute_result"
    }
   ],
   "source": [
    "x"
   ]
  },
  {
   "cell_type": "code",
   "execution_count": 3,
   "id": "1514a35f",
   "metadata": {},
   "outputs": [
    {
     "data": {
      "text/plain": [
       "7"
      ]
     },
     "execution_count": 3,
     "metadata": {},
     "output_type": "execute_result"
    }
   ],
   "source": [
    "y"
   ]
  },
  {
   "cell_type": "code",
   "execution_count": 4,
   "id": "9f28c3d9",
   "metadata": {},
   "outputs": [],
   "source": [
    "# 2'den çok değere de bunu yapabiliriz."
   ]
  },
  {
   "cell_type": "code",
   "execution_count": 5,
   "id": "6af5c77a",
   "metadata": {},
   "outputs": [],
   "source": [
    "x, y, z = (4, 7, 11)"
   ]
  },
  {
   "cell_type": "code",
   "execution_count": null,
   "id": "c7bc6cf3",
   "metadata": {},
   "outputs": [],
   "source": [
    "Bazı Değerlere İhtiyacım Yoksa:\n",
    "\n",
    "\n",
    "Diyelim ki soldaki yapının sadece birinci elemanına bir değer eşitleyip kullanmak istiyorum. Daha önce döngülerde yaptığımız gibi kulllanmayacağımız değişkene _ diyebiliriz."
   ]
  },
  {
   "cell_type": "code",
   "execution_count": 6,
   "id": "164731fb",
   "metadata": {},
   "outputs": [],
   "source": [
    "x, _ = (4, 3) # burada özel bir şey yok _ yerine z desek de aynı olurdu çünkü kullanmayacağız ama programcı ağzında bu bunu ifade eder."
   ]
  },
  {
   "cell_type": "markdown",
   "id": "8f5ca77f",
   "metadata": {},
   "source": [
    "### sol ve sağdaki yapı farklı sayıda ise"
   ]
  },
  {
   "cell_type": "code",
   "execution_count": 9,
   "id": "3caab73c",
   "metadata": {},
   "outputs": [
    {
     "ename": "ValueError",
     "evalue": "too many values to unpack (expected 3)",
     "output_type": "error",
     "traceback": [
      "\u001b[1;31m---------------------------------------------------------------------------\u001b[0m",
      "\u001b[1;31mValueError\u001b[0m                                Traceback (most recent call last)",
      "Input \u001b[1;32mIn [9]\u001b[0m, in \u001b[0;36m<cell line: 1>\u001b[1;34m()\u001b[0m\n\u001b[1;32m----> 1\u001b[0m x, y, z \u001b[38;5;241m=\u001b[39m (\u001b[38;5;241m4\u001b[39m, \u001b[38;5;241m5\u001b[39m, \u001b[38;5;241m6\u001b[39m, \u001b[38;5;241m7\u001b[39m,\u001b[38;5;241m8\u001b[39m)\n",
      "\u001b[1;31mValueError\u001b[0m: too many values to unpack (expected 3)"
     ]
    }
   ],
   "source": [
    "x, y, z = (4, 5, 6, 7,8) #hata gelir."
   ]
  },
  {
   "cell_type": "code",
   "execution_count": 10,
   "id": "6c18a770",
   "metadata": {},
   "outputs": [],
   "source": [
    "# bunu engellemek için * kullanırız."
   ]
  },
  {
   "cell_type": "code",
   "execution_count": 11,
   "id": "c887573a",
   "metadata": {},
   "outputs": [],
   "source": [
    "x, y, *z = (1, 2, 3, 4, 5, 6, 7)"
   ]
  },
  {
   "cell_type": "code",
   "execution_count": 12,
   "id": "47307597",
   "metadata": {},
   "outputs": [
    {
     "data": {
      "text/plain": [
       "[3, 4, 5, 6, 7]"
      ]
     },
     "execution_count": 12,
     "metadata": {},
     "output_type": "execute_result"
    }
   ],
   "source": [
    "z"
   ]
  },
  {
   "cell_type": "code",
   "execution_count": 16,
   "id": "9ee2b093",
   "metadata": {},
   "outputs": [],
   "source": [
    "# z diğerlerini de tutar bu şekilde"
   ]
  },
  {
   "cell_type": "code",
   "execution_count": 17,
   "id": "99db7916",
   "metadata": {},
   "outputs": [
    {
     "data": {
      "text/plain": [
       "1"
      ]
     },
     "execution_count": 17,
     "metadata": {},
     "output_type": "execute_result"
    }
   ],
   "source": [
    "x\n"
   ]
  },
  {
   "cell_type": "code",
   "execution_count": 18,
   "id": "4d0ff555",
   "metadata": {},
   "outputs": [
    {
     "data": {
      "text/plain": [
       "2"
      ]
     },
     "execution_count": 18,
     "metadata": {},
     "output_type": "execute_result"
    }
   ],
   "source": [
    "y"
   ]
  },
  {
   "cell_type": "code",
   "execution_count": 19,
   "id": "8b7b6830",
   "metadata": {},
   "outputs": [
    {
     "data": {
      "text/plain": [
       "list"
      ]
     },
     "execution_count": 19,
     "metadata": {},
     "output_type": "execute_result"
    }
   ],
   "source": [
    "type(z)"
   ]
  },
  {
   "cell_type": "code",
   "execution_count": 20,
   "id": "aca7119d",
   "metadata": {},
   "outputs": [],
   "source": [
    "# * sadece sonda olmak zorunda değil örneğin:"
   ]
  },
  {
   "cell_type": "code",
   "execution_count": 21,
   "id": "e04b7568",
   "metadata": {},
   "outputs": [],
   "source": [
    "x, y, *z, t = (4, 7, 11, 8, 21)"
   ]
  },
  {
   "cell_type": "code",
   "execution_count": 22,
   "id": "ca20bc29",
   "metadata": {},
   "outputs": [
    {
     "data": {
      "text/plain": [
       "4"
      ]
     },
     "execution_count": 22,
     "metadata": {},
     "output_type": "execute_result"
    }
   ],
   "source": [
    "x\n"
   ]
  },
  {
   "cell_type": "code",
   "execution_count": 23,
   "id": "10de302f",
   "metadata": {},
   "outputs": [
    {
     "data": {
      "text/plain": [
       "7"
      ]
     },
     "execution_count": 23,
     "metadata": {},
     "output_type": "execute_result"
    }
   ],
   "source": [
    "y"
   ]
  },
  {
   "cell_type": "code",
   "execution_count": 24,
   "id": "dd9aff4c",
   "metadata": {},
   "outputs": [
    {
     "data": {
      "text/plain": [
       "[11, 8]"
      ]
     },
     "execution_count": 24,
     "metadata": {},
     "output_type": "execute_result"
    }
   ],
   "source": [
    "z"
   ]
  },
  {
   "cell_type": "code",
   "execution_count": 25,
   "id": "40577939",
   "metadata": {},
   "outputs": [
    {
     "data": {
      "text/plain": [
       "21"
      ]
     },
     "execution_count": 25,
     "metadata": {},
     "output_type": "execute_result"
    }
   ],
   "source": [
    "t"
   ]
  },
  {
   "cell_type": "code",
   "execution_count": 26,
   "id": "89382c61",
   "metadata": {},
   "outputs": [],
   "source": [
    "# son değer t'ye eşitlendi x ilk ve y 2. değeri aldı geriye kalan z'ye eşitlendi."
   ]
  },
  {
   "cell_type": "markdown",
   "id": "2b62d999",
   "metadata": {},
   "source": [
    "### !!!! DİKKAT TEK DEĞER DE OLSA * KULLANIRSAN LİST DÖNER"
   ]
  },
  {
   "cell_type": "code",
   "execution_count": 27,
   "id": "7e33cacc",
   "metadata": {},
   "outputs": [],
   "source": [
    "x,y,*z,t = (1,2,3,4)"
   ]
  },
  {
   "cell_type": "code",
   "execution_count": 28,
   "id": "d8dbbf0c",
   "metadata": {},
   "outputs": [
    {
     "data": {
      "text/plain": [
       "[3]"
      ]
     },
     "execution_count": 28,
     "metadata": {},
     "output_type": "execute_result"
    }
   ],
   "source": [
    "z"
   ]
  },
  {
   "cell_type": "code",
   "execution_count": 29,
   "id": "53cbcb17",
   "metadata": {},
   "outputs": [
    {
     "data": {
      "text/plain": [
       "list"
      ]
     },
     "execution_count": 29,
     "metadata": {},
     "output_type": "execute_result"
    }
   ],
   "source": [
    "type(z)"
   ]
  },
  {
   "cell_type": "code",
   "execution_count": 30,
   "id": "c2a2f11c",
   "metadata": {},
   "outputs": [],
   "source": [
    "x, y, *z, t, u = (1,2,3,4,5,6,7,8,9)"
   ]
  },
  {
   "cell_type": "code",
   "execution_count": 31,
   "id": "95e5c53a",
   "metadata": {},
   "outputs": [
    {
     "data": {
      "text/plain": [
       "[3, 4, 5, 6, 7]"
      ]
     },
     "execution_count": 31,
     "metadata": {},
     "output_type": "execute_result"
    }
   ],
   "source": [
    "z"
   ]
  },
  {
   "cell_type": "code",
   "execution_count": 32,
   "id": "bbcc1e85",
   "metadata": {},
   "outputs": [
    {
     "data": {
      "text/plain": [
       "1"
      ]
     },
     "execution_count": 32,
     "metadata": {},
     "output_type": "execute_result"
    }
   ],
   "source": [
    "x\n",
    "\n"
   ]
  },
  {
   "cell_type": "code",
   "execution_count": 33,
   "id": "e9f8359e",
   "metadata": {},
   "outputs": [
    {
     "data": {
      "text/plain": [
       "2"
      ]
     },
     "execution_count": 33,
     "metadata": {},
     "output_type": "execute_result"
    }
   ],
   "source": [
    "y"
   ]
  },
  {
   "cell_type": "code",
   "execution_count": 34,
   "id": "2f422337",
   "metadata": {},
   "outputs": [
    {
     "data": {
      "text/plain": [
       "8"
      ]
     },
     "execution_count": 34,
     "metadata": {},
     "output_type": "execute_result"
    }
   ],
   "source": [
    "t"
   ]
  },
  {
   "cell_type": "code",
   "execution_count": 35,
   "id": "b912c2b0",
   "metadata": {},
   "outputs": [
    {
     "data": {
      "text/plain": [
       "9"
      ]
     },
     "execution_count": 35,
     "metadata": {},
     "output_type": "execute_result"
    }
   ],
   "source": [
    "u"
   ]
  },
  {
   "cell_type": "code",
   "execution_count": 36,
   "id": "cf25dc5c",
   "metadata": {},
   "outputs": [],
   "source": [
    "# yıldız bir kere kullanılır."
   ]
  },
  {
   "cell_type": "code",
   "execution_count": null,
   "id": "5a9dbcd1",
   "metadata": {},
   "outputs": [],
   "source": []
  }
 ],
 "metadata": {
  "kernelspec": {
   "display_name": "Python 3 (ipykernel)",
   "language": "python",
   "name": "python3"
  },
  "language_info": {
   "codemirror_mode": {
    "name": "ipython",
    "version": 3
   },
   "file_extension": ".py",
   "mimetype": "text/x-python",
   "name": "python",
   "nbconvert_exporter": "python",
   "pygments_lexer": "ipython3",
   "version": "3.9.12"
  }
 },
 "nbformat": 4,
 "nbformat_minor": 5
}
