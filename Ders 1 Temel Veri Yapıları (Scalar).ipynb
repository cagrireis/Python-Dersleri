{
 "cells": [
  {
   "cell_type": "code",
   "execution_count": 2,
   "id": "9293e764",
   "metadata": {},
   "outputs": [],
   "source": [
    "# scalar'lar içsel yapı içermez daha ufak parçalara bölünemez."
   ]
  },
  {
   "cell_type": "code",
   "execution_count": 3,
   "id": "785b4cdc",
   "metadata": {},
   "outputs": [],
   "source": [
    "#1-) Integer:\n",
    "#    2, 0, 6, 5, 4, 3 gibi sayılar."
   ]
  },
  {
   "cell_type": "code",
   "execution_count": 4,
   "id": "8df47ca5",
   "metadata": {},
   "outputs": [],
   "source": [
    "# 2-) ondalıklar 2.3, 5.6 ,2.0 evet 2.0 da öyle kabul edilir. "
   ]
  },
  {
   "cell_type": "code",
   "execution_count": 5,
   "id": "04d5462d",
   "metadata": {},
   "outputs": [],
   "source": [
    "# 3. da yazsak . koyulduktan sonra float oluşturmuş oluyoruz."
   ]
  },
  {
   "cell_type": "code",
   "execution_count": 8,
   "id": "8d937de5",
   "metadata": {},
   "outputs": [
    {
     "data": {
      "text/plain": [
       "(False, 'False')"
      ]
     },
     "execution_count": 8,
     "metadata": {},
     "output_type": "execute_result"
    }
   ],
   "source": [
    "# 3-) Boolean veri tipi:\n",
    "# mantıksal ver itipidir doğru veya yanlıştır.\n",
    "True\n",
    "False\n",
    "2 < 3, \"True\"\n",
    "2 > 3, \"False\""
   ]
  },
  {
   "cell_type": "code",
   "execution_count": 9,
   "id": "39d86678",
   "metadata": {},
   "outputs": [
    {
     "data": {
      "text/plain": [
       "True"
      ]
     },
     "execution_count": 9,
     "metadata": {},
     "output_type": "execute_result"
    }
   ],
   "source": [
    "2 < 3 "
   ]
  },
  {
   "cell_type": "code",
   "execution_count": 10,
   "id": "0626b58d",
   "metadata": {},
   "outputs": [
    {
     "data": {
      "text/plain": [
       "False"
      ]
     },
     "execution_count": 10,
     "metadata": {},
     "output_type": "execute_result"
    }
   ],
   "source": [
    " 3 < 2"
   ]
  },
  {
   "cell_type": "code",
   "execution_count": 11,
   "id": "1e7ebc63",
   "metadata": {},
   "outputs": [],
   "source": [
    "# type() fonksiyonu \n",
    "# bir ver itipinin tipini öğrenmek için kullanabileceğimiz fonksiyondur."
   ]
  },
  {
   "cell_type": "code",
   "execution_count": 12,
   "id": "19125999",
   "metadata": {},
   "outputs": [
    {
     "data": {
      "text/plain": [
       "int"
      ]
     },
     "execution_count": 12,
     "metadata": {},
     "output_type": "execute_result"
    }
   ],
   "source": [
    "type(2)"
   ]
  },
  {
   "cell_type": "code",
   "execution_count": 13,
   "id": "4c704ca7",
   "metadata": {},
   "outputs": [
    {
     "data": {
      "text/plain": [
       "str"
      ]
     },
     "execution_count": 13,
     "metadata": {},
     "output_type": "execute_result"
    }
   ],
   "source": [
    "type(\"Çağrı\")"
   ]
  },
  {
   "cell_type": "code",
   "execution_count": 14,
   "id": "9e42147b",
   "metadata": {},
   "outputs": [
    {
     "data": {
      "text/plain": [
       "float"
      ]
     },
     "execution_count": 14,
     "metadata": {},
     "output_type": "execute_result"
    }
   ],
   "source": [
    "type(2.0)"
   ]
  },
  {
   "cell_type": "code",
   "execution_count": 15,
   "id": "7eaa6725",
   "metadata": {},
   "outputs": [
    {
     "data": {
      "text/plain": [
       "bool"
      ]
     },
     "execution_count": 15,
     "metadata": {},
     "output_type": "execute_result"
    }
   ],
   "source": [
    "type(True)"
   ]
  },
  {
   "cell_type": "code",
   "execution_count": 16,
   "id": "c491cde1",
   "metadata": {},
   "outputs": [
    {
     "data": {
      "text/plain": [
       "bool"
      ]
     },
     "execution_count": 16,
     "metadata": {},
     "output_type": "execute_result"
    }
   ],
   "source": [
    "type(3 < 2)"
   ]
  },
  {
   "cell_type": "code",
   "execution_count": 17,
   "id": "39baf5e5",
   "metadata": {},
   "outputs": [],
   "source": [
    "# Tip Dönüşümleri:\n",
    "# int(), float() str() gibi fonksiyonlar kullanılır."
   ]
  },
  {
   "cell_type": "code",
   "execution_count": 18,
   "id": "1fb4a2ba",
   "metadata": {},
   "outputs": [
    {
     "data": {
      "text/plain": [
       "2"
      ]
     },
     "execution_count": 18,
     "metadata": {},
     "output_type": "execute_result"
    }
   ],
   "source": [
    "int(2.9)"
   ]
  },
  {
   "cell_type": "code",
   "execution_count": 19,
   "id": "72c8777e",
   "metadata": {},
   "outputs": [],
   "source": [
    "# 2 döndü"
   ]
  },
  {
   "cell_type": "code",
   "execution_count": 20,
   "id": "b2a2e7fd",
   "metadata": {},
   "outputs": [],
   "source": [
    "# integer a dönerken sayıların . dan sonrası atılır."
   ]
  },
  {
   "cell_type": "code",
   "execution_count": 21,
   "id": "edfdf78d",
   "metadata": {},
   "outputs": [],
   "source": [
    "# yuvarlama yapmaz."
   ]
  },
  {
   "cell_type": "code",
   "execution_count": 22,
   "id": "2e545f4b",
   "metadata": {},
   "outputs": [],
   "source": [
    "#. dan önecesini alır."
   ]
  },
  {
   "cell_type": "code",
   "execution_count": 23,
   "id": "5b384558",
   "metadata": {},
   "outputs": [
    {
     "data": {
      "text/plain": [
       "4"
      ]
     },
     "execution_count": 23,
     "metadata": {},
     "output_type": "execute_result"
    }
   ],
   "source": [
    "int(4.2)"
   ]
  },
  {
   "cell_type": "code",
   "execution_count": 24,
   "id": "5b44c609",
   "metadata": {},
   "outputs": [
    {
     "data": {
      "text/plain": [
       "4.0"
      ]
     },
     "execution_count": 24,
     "metadata": {},
     "output_type": "execute_result"
    }
   ],
   "source": [
    "float(4)"
   ]
  },
  {
   "cell_type": "code",
   "execution_count": 25,
   "id": "d91d28d5",
   "metadata": {},
   "outputs": [
    {
     "data": {
      "text/plain": [
       "'4'"
      ]
     },
     "execution_count": 25,
     "metadata": {},
     "output_type": "execute_result"
    }
   ],
   "source": [
    "str(4)"
   ]
  },
  {
   "cell_type": "code",
   "execution_count": null,
   "id": "69ba782f",
   "metadata": {},
   "outputs": [],
   "source": []
  }
 ],
 "metadata": {
  "kernelspec": {
   "display_name": "Python 3 (ipykernel)",
   "language": "python",
   "name": "python3"
  },
  "language_info": {
   "codemirror_mode": {
    "name": "ipython",
    "version": 3
   },
   "file_extension": ".py",
   "mimetype": "text/x-python",
   "name": "python",
   "nbconvert_exporter": "python",
   "pygments_lexer": "ipython3",
   "version": "3.9.12"
  }
 },
 "nbformat": 4,
 "nbformat_minor": 5
}
