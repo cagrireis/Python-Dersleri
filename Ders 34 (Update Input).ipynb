{
 "cells": [
  {
   "cell_type": "markdown",
   "id": "1bf0247e",
   "metadata": {},
   "source": [
    "### Argümanların Değerlerinin Güncellenip Güncellenmediği Durumlar\n",
    "\n",
    "Integer ve Floatların Değerlerin Değişmez\n"
   ]
  },
  {
   "cell_type": "code",
   "execution_count": null,
   "id": "49e9e61a",
   "metadata": {},
   "outputs": [],
   "source": [
    "# yani bir veriyi fonksiyon içinde değerini değiştirirsek her yerde değeri değişir mi?"
   ]
  },
  {
   "cell_type": "code",
   "execution_count": 1,
   "id": "dcc4f40c",
   "metadata": {},
   "outputs": [],
   "source": [
    "a = 2"
   ]
  },
  {
   "cell_type": "code",
   "execution_count": 2,
   "id": "3f73da70",
   "metadata": {},
   "outputs": [],
   "source": [
    "def f(x):\n",
    "    x = 4\n",
    "    \n",
    "    return x"
   ]
  },
  {
   "cell_type": "code",
   "execution_count": 3,
   "id": "d326c541",
   "metadata": {},
   "outputs": [
    {
     "data": {
      "text/plain": [
       "4"
      ]
     },
     "execution_count": 3,
     "metadata": {},
     "output_type": "execute_result"
    }
   ],
   "source": [
    "f(a)"
   ]
  },
  {
   "cell_type": "code",
   "execution_count": 5,
   "id": "b2a5ae8b",
   "metadata": {},
   "outputs": [
    {
     "data": {
      "text/plain": [
       "2"
      ]
     },
     "execution_count": 5,
     "metadata": {},
     "output_type": "execute_result"
    }
   ],
   "source": [
    "a #değişmedi."
   ]
  },
  {
   "cell_type": "code",
   "execution_count": 6,
   "id": "3243e966",
   "metadata": {},
   "outputs": [],
   "source": [
    "# çünkü fonksiyonu a ile çağırdığım zaman a'nın değeri ile çağırıyorum a yı çağırmıyorum."
   ]
  },
  {
   "cell_type": "code",
   "execution_count": 7,
   "id": "b6b8ef6c",
   "metadata": {},
   "outputs": [],
   "source": [
    "# int floatlar için böyle"
   ]
  },
  {
   "cell_type": "code",
   "execution_count": 8,
   "id": "dc392b3d",
   "metadata": {},
   "outputs": [],
   "source": [
    "b = 3.4"
   ]
  },
  {
   "cell_type": "code",
   "execution_count": 9,
   "id": "1937e1e6",
   "metadata": {},
   "outputs": [
    {
     "data": {
      "text/plain": [
       "4"
      ]
     },
     "execution_count": 9,
     "metadata": {},
     "output_type": "execute_result"
    }
   ],
   "source": [
    "f(b)"
   ]
  },
  {
   "cell_type": "code",
   "execution_count": 10,
   "id": "e3aad8c9",
   "metadata": {},
   "outputs": [
    {
     "data": {
      "text/plain": [
       "3.4"
      ]
     },
     "execution_count": 10,
     "metadata": {},
     "output_type": "execute_result"
    }
   ],
   "source": [
    "b"
   ]
  },
  {
   "cell_type": "markdown",
   "id": "d021c164",
   "metadata": {},
   "source": [
    "### LISTLER"
   ]
  },
  {
   "cell_type": "code",
   "execution_count": 11,
   "id": "a849f498",
   "metadata": {},
   "outputs": [],
   "source": [
    "l = [1, 2 ,3]"
   ]
  },
  {
   "cell_type": "code",
   "execution_count": 12,
   "id": "54779ecb",
   "metadata": {},
   "outputs": [],
   "source": [
    "l2 = l"
   ]
  },
  {
   "cell_type": "code",
   "execution_count": 13,
   "id": "6dc88f5f",
   "metadata": {},
   "outputs": [
    {
     "data": {
      "text/plain": [
       "[1, 2, 3]"
      ]
     },
     "execution_count": 13,
     "metadata": {},
     "output_type": "execute_result"
    }
   ],
   "source": [
    "l2"
   ]
  },
  {
   "cell_type": "code",
   "execution_count": 14,
   "id": "d11740e9",
   "metadata": {},
   "outputs": [],
   "source": [
    "l[1] = 20"
   ]
  },
  {
   "cell_type": "code",
   "execution_count": 15,
   "id": "73ba9ec3",
   "metadata": {},
   "outputs": [
    {
     "data": {
      "text/plain": [
       "[1, 20, 3]"
      ]
     },
     "execution_count": 15,
     "metadata": {},
     "output_type": "execute_result"
    }
   ],
   "source": [
    "l"
   ]
  },
  {
   "cell_type": "code",
   "execution_count": 16,
   "id": "39f8cbca",
   "metadata": {},
   "outputs": [
    {
     "data": {
      "text/plain": [
       "[1, 20, 3]"
      ]
     },
     "execution_count": 16,
     "metadata": {},
     "output_type": "execute_result"
    }
   ],
   "source": [
    "l2"
   ]
  },
  {
   "cell_type": "code",
   "execution_count": 18,
   "id": "6b45c9d8",
   "metadata": {},
   "outputs": [],
   "source": [
    "# listlerde böyle bir olay vardı aliasing diyorduk. Etiket mantığı vardı."
   ]
  },
  {
   "cell_type": "code",
   "execution_count": 19,
   "id": "8a54df3f",
   "metadata": {},
   "outputs": [],
   "source": [
    "l = [1,2,3]"
   ]
  },
  {
   "cell_type": "code",
   "execution_count": 21,
   "id": "8552839a",
   "metadata": {},
   "outputs": [],
   "source": [
    "def f(l):\n",
    "    l[0] = \"a\"\n",
    "    return l"
   ]
  },
  {
   "cell_type": "code",
   "execution_count": 27,
   "id": "2031fc07",
   "metadata": {},
   "outputs": [
    {
     "data": {
      "text/plain": [
       "['a', 2, 3]"
      ]
     },
     "execution_count": 27,
     "metadata": {},
     "output_type": "execute_result"
    }
   ],
   "source": [
    "f(l)"
   ]
  },
  {
   "cell_type": "code",
   "execution_count": 28,
   "id": "444e516d",
   "metadata": {},
   "outputs": [
    {
     "data": {
      "text/plain": [
       "['a', 2, 3]"
      ]
     },
     "execution_count": 28,
     "metadata": {},
     "output_type": "execute_result"
    }
   ],
   "source": [
    "l"
   ]
  },
  {
   "cell_type": "code",
   "execution_count": 32,
   "id": "3ab7f0af",
   "metadata": {},
   "outputs": [],
   "source": [
    "#bakın değişti çünkü etiketin işaret ettiği değer değişti. isimler listelerde sadece etiketti."
   ]
  },
  {
   "cell_type": "code",
   "execution_count": 33,
   "id": "d66353f3",
   "metadata": {},
   "outputs": [
    {
     "data": {
      "text/plain": [
       "[1, 20, 3]"
      ]
     },
     "execution_count": 33,
     "metadata": {},
     "output_type": "execute_result"
    }
   ],
   "source": [
    "l2\n"
   ]
  },
  {
   "cell_type": "code",
   "execution_count": 34,
   "id": "96fa78fc",
   "metadata": {},
   "outputs": [
    {
     "data": {
      "text/plain": [
       "['a', 2, 3]"
      ]
     },
     "execution_count": 34,
     "metadata": {},
     "output_type": "execute_result"
    }
   ],
   "source": [
    "l\n"
   ]
  },
  {
   "cell_type": "code",
   "execution_count": 35,
   "id": "c23c6cb6",
   "metadata": {},
   "outputs": [],
   "source": [
    "#hatta ve hatta return yapamsak bile void function olsa bile l yi günceller bunu l3 ile deneyelim."
   ]
  },
  {
   "cell_type": "code",
   "execution_count": 36,
   "id": "151edaf6",
   "metadata": {},
   "outputs": [],
   "source": [
    "l3 = [1,2,3]"
   ]
  },
  {
   "cell_type": "code",
   "execution_count": 37,
   "id": "610cac55",
   "metadata": {},
   "outputs": [],
   "source": [
    "def c(l):\n",
    "    l[0] = \"a\""
   ]
  },
  {
   "cell_type": "code",
   "execution_count": 38,
   "id": "1645099c",
   "metadata": {},
   "outputs": [],
   "source": [
    "c(l3)"
   ]
  },
  {
   "cell_type": "code",
   "execution_count": 39,
   "id": "c92f42ff",
   "metadata": {},
   "outputs": [
    {
     "data": {
      "text/plain": [
       "['a', 2, 3]"
      ]
     },
     "execution_count": 39,
     "metadata": {},
     "output_type": "execute_result"
    }
   ],
   "source": [
    "l3"
   ]
  },
  {
   "cell_type": "code",
   "execution_count": 40,
   "id": "de51c461",
   "metadata": {},
   "outputs": [],
   "source": [
    "#bakın oldu."
   ]
  },
  {
   "cell_type": "code",
   "execution_count": 41,
   "id": "0f158e26",
   "metadata": {},
   "outputs": [
    {
     "data": {
      "text/plain": [
       "['a', 2, 3]"
      ]
     },
     "execution_count": 41,
     "metadata": {},
     "output_type": "execute_result"
    }
   ],
   "source": [
    "l"
   ]
  },
  {
   "cell_type": "code",
   "execution_count": 42,
   "id": "7cfa5c94",
   "metadata": {},
   "outputs": [],
   "source": [
    "# peki değişmesin istiyorsak copy() kullanacağız."
   ]
  },
  {
   "cell_type": "code",
   "execution_count": 43,
   "id": "9b8ed9c5",
   "metadata": {},
   "outputs": [],
   "source": [
    "#öreneğin:"
   ]
  },
  {
   "cell_type": "code",
   "execution_count": 45,
   "id": "5f5bd971",
   "metadata": {},
   "outputs": [],
   "source": [
    "l4 = [1,2,3]"
   ]
  },
  {
   "cell_type": "code",
   "execution_count": 54,
   "id": "52afabc1",
   "metadata": {},
   "outputs": [],
   "source": [
    "def f(x):\n",
    "    d = x.copy()\n",
    "    \n",
    "    d[0] = \"a\"\n",
    "    return  d #içerde değerini değiştirdi ve istediğimiz gibi dışarıda değişmedi.\n",
    "    "
   ]
  },
  {
   "cell_type": "code",
   "execution_count": 55,
   "id": "323c52b1",
   "metadata": {},
   "outputs": [
    {
     "data": {
      "text/plain": [
       "['a', 2, 3]"
      ]
     },
     "execution_count": 55,
     "metadata": {},
     "output_type": "execute_result"
    }
   ],
   "source": [
    "f(l4)"
   ]
  },
  {
   "cell_type": "code",
   "execution_count": 56,
   "id": "41f09d3b",
   "metadata": {},
   "outputs": [
    {
     "data": {
      "text/plain": [
       "[1, 2, 3]"
      ]
     },
     "execution_count": 56,
     "metadata": {},
     "output_type": "execute_result"
    }
   ],
   "source": [
    "l4"
   ]
  },
  {
   "cell_type": "code",
   "execution_count": 57,
   "id": "3792d6c6",
   "metadata": {},
   "outputs": [
    {
     "ename": "NameError",
     "evalue": "name 'd' is not defined",
     "output_type": "error",
     "traceback": [
      "\u001b[1;31m---------------------------------------------------------------------------\u001b[0m",
      "\u001b[1;31mNameError\u001b[0m                                 Traceback (most recent call last)",
      "Input \u001b[1;32mIn [57]\u001b[0m, in \u001b[0;36m<cell line: 1>\u001b[1;34m()\u001b[0m\n\u001b[1;32m----> 1\u001b[0m \u001b[43md\u001b[49m\n",
      "\u001b[1;31mNameError\u001b[0m: name 'd' is not defined"
     ]
    }
   ],
   "source": [
    "d"
   ]
  },
  {
   "cell_type": "code",
   "execution_count": 59,
   "id": "004f2087",
   "metadata": {},
   "outputs": [
    {
     "name": "stdout",
     "output_type": "stream",
     "text": [
      "['limon', 'portakal', 'armut']\n"
     ]
    }
   ],
   "source": [
    "l=[\"elma\",\"portakal\",\"armut\"]\n",
    "\n",
    "m=l\n",
    "\n",
    "def f(y):\n",
    "\n",
    "    y[0]=\"limon\"\n",
    "\n",
    "    return y\n",
    "\n",
    "f(l)\n",
    "\n",
    "print(m)"
   ]
  },
  {
   "cell_type": "code",
   "execution_count": null,
   "id": "e4c50b6a",
   "metadata": {},
   "outputs": [],
   "source": []
  }
 ],
 "metadata": {
  "kernelspec": {
   "display_name": "Python 3 (ipykernel)",
   "language": "python",
   "name": "python3"
  },
  "language_info": {
   "codemirror_mode": {
    "name": "ipython",
    "version": 3
   },
   "file_extension": ".py",
   "mimetype": "text/x-python",
   "name": "python",
   "nbconvert_exporter": "python",
   "pygments_lexer": "ipython3",
   "version": "3.9.12"
  }
 },
 "nbformat": 4,
 "nbformat_minor": 5
}
