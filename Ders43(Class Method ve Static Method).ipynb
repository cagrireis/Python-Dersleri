{
 "cells": [
  {
   "cell_type": "markdown",
   "id": "664a99f1",
   "metadata": {},
   "source": [
    "# CLASS METHOD"
   ]
  },
  {
   "cell_type": "code",
   "execution_count": 7,
   "id": "4d575a6e",
   "metadata": {},
   "outputs": [],
   "source": [
    "# @classmethod yazdığımda ilk argüman olarak instance almak yerine class'ı alacak şekilde günceller."
   ]
  },
  {
   "cell_type": "code",
   "execution_count": 9,
   "id": "3f13b21f",
   "metadata": {},
   "outputs": [],
   "source": [
    "class Employee:\n",
    "    raise_percent = 1.05\n",
    "    num = 0\n",
    "    def __init__(self, name, last, age, pay):\n",
    "        self.name = name\n",
    "        self.last = last\n",
    "        self.age = age \n",
    "        self.pay = pay\n",
    "        Employee.num = Employee.num + 1\n",
    "    def apply_raise(self):\n",
    "        self.pay = self.pay * self.raise_percent\n",
    "        \n",
    "    @classmethod # bunu yazıp öyle tanımalamalıyım fonksiyonumu ki instance'yi değil class'ı girdi alsın\n",
    "    def set_raise(cls, amount): # @classmethod yazdığımızda ilk inputu instance değil yani self değil cls yani class olur.\n",
    "        cls.raise_percent = amount"
   ]
  },
  {
   "cell_type": "code",
   "execution_count": 10,
   "id": "d0855b58",
   "metadata": {},
   "outputs": [],
   "source": [
    "emp_1 = Employee(\"Çağrı\", \"REİS\", 19, 5500)\n",
    "emp_2 = Employee(\"Sarah\", \"Anderson\", 22, 5700)"
   ]
  },
  {
   "cell_type": "code",
   "execution_count": 11,
   "id": "fd2bc1f7",
   "metadata": {},
   "outputs": [],
   "source": [
    "Employee.set_raise(1.6)"
   ]
  },
  {
   "cell_type": "code",
   "execution_count": 12,
   "id": "c0e0d650",
   "metadata": {},
   "outputs": [
    {
     "data": {
      "text/plain": [
       "1.6"
      ]
     },
     "execution_count": 12,
     "metadata": {},
     "output_type": "execute_result"
    }
   ],
   "source": [
    "Employee.raise_percent"
   ]
  },
  {
   "cell_type": "code",
   "execution_count": 13,
   "id": "925f7780",
   "metadata": {},
   "outputs": [],
   "source": [
    "# yaptığı şey normal fonksiyton gibi 2. inputu bizden alıyor ve değiştiriyor."
   ]
  },
  {
   "cell_type": "code",
   "execution_count": 14,
   "id": "f0d3dd4d",
   "metadata": {},
   "outputs": [],
   "source": [
    "emp_1.set_raise(2.3)"
   ]
  },
  {
   "cell_type": "code",
   "execution_count": 15,
   "id": "d40309e9",
   "metadata": {},
   "outputs": [
    {
     "name": "stdout",
     "output_type": "stream",
     "text": [
      "2.3\n",
      "2.3\n",
      "2.3\n"
     ]
    }
   ],
   "source": [
    "print(emp_1.raise_percent)\n",
    "print(emp_2.raise_percent)\n",
    "print(Employee.raise_percent)"
   ]
  },
  {
   "cell_type": "code",
   "execution_count": 17,
   "id": "49677efc",
   "metadata": {},
   "outputs": [],
   "source": [
    "# hepsi güncellendi peki neden? Çünkü instance üzerinden gitsek de o class ı çalıştıyıor ve yapılabiliyor."
   ]
  },
  {
   "cell_type": "markdown",
   "id": "b4ab6af2",
   "metadata": {},
   "source": [
    "# Alternative Constructer"
   ]
  },
  {
   "cell_type": "code",
   "execution_count": 18,
   "id": "8d5f206d",
   "metadata": {},
   "outputs": [],
   "source": [
    "# diyelim ki kolay olması adına objelerin isimlerini vb yazarken bir string olarak gfeldiğini düşünelim."
   ]
  },
  {
   "cell_type": "code",
   "execution_count": 19,
   "id": "935a4a05",
   "metadata": {},
   "outputs": [],
   "source": [
    "emp_1_str = \"Çağrı-REİS-19-5000\"\n",
    "emp_2_str = \"Sarah-ANDERSON-22-5500\""
   ]
  },
  {
   "cell_type": "code",
   "execution_count": 21,
   "id": "5af18763",
   "metadata": {},
   "outputs": [],
   "source": [
    "name, last, age, pay = emp_1_str.split(\"-\")"
   ]
  },
  {
   "cell_type": "code",
   "execution_count": 25,
   "id": "fe06220c",
   "metadata": {},
   "outputs": [
    {
     "data": {
      "text/plain": [
       "['Çağrı', 'REİS', '19', '5000']"
      ]
     },
     "execution_count": 25,
     "metadata": {},
     "output_type": "execute_result"
    }
   ],
   "source": [
    "emp_1_str.split(\"-\")"
   ]
  },
  {
   "cell_type": "code",
   "execution_count": 22,
   "id": "ad5de461",
   "metadata": {},
   "outputs": [],
   "source": [
    "emp_1 = Employee(name, last, age, pay)"
   ]
  },
  {
   "cell_type": "code",
   "execution_count": 24,
   "id": "180b523a",
   "metadata": {},
   "outputs": [
    {
     "data": {
      "text/plain": [
       "{'name': 'Çağrı', 'last': 'REİS', 'age': '19', 'pay': '5000'}"
      ]
     },
     "execution_count": 24,
     "metadata": {},
     "output_type": "execute_result"
    }
   ],
   "source": [
    "emp_1.__dict__"
   ]
  },
  {
   "cell_type": "code",
   "execution_count": 30,
   "id": "a78d09a6",
   "metadata": {},
   "outputs": [],
   "source": [
    "class Employee:\n",
    "    raise_percent = 1.05\n",
    "    num = 0\n",
    "    def __init__(self, name, last, age, pay):\n",
    "        self.name = name\n",
    "        self.last = last\n",
    "        self.age = age\n",
    "        self.pay = pay\n",
    "        Employee.num = Employee.num + 1\n",
    "    def apply_raise(self):\n",
    "        self.pay = self.pay * Employee.raise_percent\n",
    "    @classmethod\n",
    "    def set_raise(cls, amount):\n",
    "        cls.raise_percent = amount\n",
    "    @classmethod\n",
    "    def from_string(cls, emp_str):\n",
    "        name, last, age, pay = emp_str.split(\"-\")\n",
    "        return cls(name, last, int(age), float(pay)) # yeni çalışanm ekleme kodunu döndürüyor ve çalışan eklenmiş oluyor. cls dediği Employee ile aynı."
   ]
  },
  {
   "cell_type": "code",
   "execution_count": 31,
   "id": "260ad82e",
   "metadata": {},
   "outputs": [],
   "source": [
    "emp_1 = Employee.from_string(\"Çağrı-REİS-19-5500\")"
   ]
  },
  {
   "cell_type": "code",
   "execution_count": 32,
   "id": "c140937f",
   "metadata": {},
   "outputs": [
    {
     "data": {
      "text/plain": [
       "mappingproxy({'__module__': '__main__',\n",
       "              'raise_percent': 1.05,\n",
       "              'num': 1,\n",
       "              '__init__': <function __main__.Employee.__init__(self, name, last, age, pay)>,\n",
       "              'apply_raise': <function __main__.Employee.apply_raise(self)>,\n",
       "              'set_raise': <classmethod at 0x1b77d3cedf0>,\n",
       "              'from_string': <classmethod at 0x1b77d37eb20>,\n",
       "              '__dict__': <attribute '__dict__' of 'Employee' objects>,\n",
       "              '__weakref__': <attribute '__weakref__' of 'Employee' objects>,\n",
       "              '__doc__': None})"
      ]
     },
     "execution_count": 32,
     "metadata": {},
     "output_type": "execute_result"
    }
   ],
   "source": [
    "Employee.__dict__"
   ]
  },
  {
   "cell_type": "code",
   "execution_count": 34,
   "id": "1e81492e",
   "metadata": {},
   "outputs": [
    {
     "data": {
      "text/plain": [
       "{'name': 'Çağrı', 'last': 'REİS', 'age': 19, 'pay': 5500.0}"
      ]
     },
     "execution_count": 34,
     "metadata": {},
     "output_type": "execute_result"
    }
   ],
   "source": [
    "emp_1.__dict__"
   ]
  },
  {
   "cell_type": "code",
   "execution_count": 38,
   "id": "b327e4a5",
   "metadata": {},
   "outputs": [],
   "source": [
    "emp_1.apply_raise()"
   ]
  },
  {
   "cell_type": "code",
   "execution_count": 39,
   "id": "c3ab9166",
   "metadata": {},
   "outputs": [
    {
     "data": {
      "text/plain": [
       "5775.0"
      ]
     },
     "execution_count": 39,
     "metadata": {},
     "output_type": "execute_result"
    }
   ],
   "source": [
    "emp_1.pay"
   ]
  },
  {
   "cell_type": "markdown",
   "id": "4f41beba",
   "metadata": {},
   "source": [
    "# Static Method"
   ]
  },
  {
   "cell_type": "code",
   "execution_count": 40,
   "id": "3db8a46c",
   "metadata": {},
   "outputs": [],
   "source": [
    "# regular methodlar (ilk gördüklerimiz), class'ın instance'sini (oluşturulan objeyi) otomatik olarak argüman oalrak veriyordu \n",
    "# class methodlar ise class'ı argüman olarak veriyordu Static möethodlar otomatik olarak hiçbir şeyi argüman olarak vermez."
   ]
  },
  {
   "cell_type": "code",
   "execution_count": 41,
   "id": "c6778323",
   "metadata": {},
   "outputs": [],
   "source": [
    "# yani örneğimiz üzerinde iş ile alakalı olup objeler ile alakalaı olmayan şeylerde kullanılavilir."
   ]
  },
  {
   "cell_type": "code",
   "execution_count": 42,
   "id": "9c210c17",
   "metadata": {},
   "outputs": [],
   "source": [
    "# yani istance veya class'a bağlı değil."
   ]
  },
  {
   "cell_type": "code",
   "execution_count": 44,
   "id": "67ba2a75",
   "metadata": {},
   "outputs": [],
   "source": [
    "class Employee:\n",
    "    \n",
    "    num = 0\n",
    "    \n",
    "    raise_percent = 1.05\n",
    "    \n",
    "    def __init__(self, name, last, age, pay):\n",
    "        self.name = name\n",
    "        self.last = last\n",
    "        self.age = age \n",
    "        self.pay = pay\n",
    "        Employee.num = Employee.num + 1\n",
    "\n",
    "    def apply_raise(self):\n",
    "        self.pay = self.pay * self.raise_percent\n",
    "    \n",
    "    @classmethod # bu @'lerin bir altındakini kapsar sadece @'li ifadeler.\n",
    "    def set_raise(cls, amount):\n",
    "        cls.raise_percent = amount\n",
    "     \n",
    "    @classmethod\n",
    "    def from_string(cls, strs):\n",
    "        name, last, age, pay = strs.split(\"-\")\n",
    "        return Employee(name, last, age, pay)\n",
    "    \n",
    "    @staticmethod\n",
    "    def holiday_print(day):\n",
    "        if (day == \"Weekend\"):\n",
    "            print(\"Off day.\")\n",
    "        else:\n",
    "            print(\"Work day.\")"
   ]
  },
  {
   "cell_type": "code",
   "execution_count": 45,
   "id": "d3323f30",
   "metadata": {},
   "outputs": [
    {
     "name": "stdout",
     "output_type": "stream",
     "text": [
      "Off day.\n"
     ]
    }
   ],
   "source": [
    "Employee.holiday_print(\"Weekend\")"
   ]
  },
  {
   "cell_type": "code",
   "execution_count": 46,
   "id": "a78492d5",
   "metadata": {},
   "outputs": [],
   "source": [
    "emp_1 = Employee.from_string(\"Çağrı-REİS-19-5500\")"
   ]
  },
  {
   "cell_type": "code",
   "execution_count": 47,
   "id": "0c276955",
   "metadata": {},
   "outputs": [
    {
     "name": "stdout",
     "output_type": "stream",
     "text": [
      "Work day.\n"
     ]
    }
   ],
   "source": [
    "emp_1.holiday_print(\"Monday\")"
   ]
  },
  {
   "cell_type": "code",
   "execution_count": null,
   "id": "af710d73",
   "metadata": {},
   "outputs": [],
   "source": []
  }
 ],
 "metadata": {
  "kernelspec": {
   "display_name": "Python 3 (ipykernel)",
   "language": "python",
   "name": "python3"
  },
  "language_info": {
   "codemirror_mode": {
    "name": "ipython",
    "version": 3
   },
   "file_extension": ".py",
   "mimetype": "text/x-python",
   "name": "python",
   "nbconvert_exporter": "python",
   "pygments_lexer": "ipython3",
   "version": "3.9.12"
  }
 },
 "nbformat": 4,
 "nbformat_minor": 5
}
