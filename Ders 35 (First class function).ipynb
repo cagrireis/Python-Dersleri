{
 "cells": [
  {
   "cell_type": "code",
   "execution_count": null,
   "id": "c5bbbb24",
   "metadata": {},
   "outputs": [],
   "source": [
    "First Class Function\n",
    "\n",
    "\n",
    "Python'da fonksiyonlar first class function olarak değerlendirilir. Bunun anlamı fonksiyonların diğer veri tipleri gibi manipüle edilebilir ve başka fonksiyonlara argüman olarak verilebilir.\n",
    "\n",
    "\n",
    "Bir fonksiyonu bir değişkene atayabiliriz."
   ]
  },
  {
   "cell_type": "code",
   "execution_count": null,
   "id": "6d78d338",
   "metadata": {},
   "outputs": [],
   "source": [
    "#python'da fomksiyonlar kısaca first class'dır bu fonksiyonları bir değere eşitleyebilir, argüman olarak verebilir ve manipule için kullanabiliriz."
   ]
  },
  {
   "cell_type": "code",
   "execution_count": 1,
   "id": "89f8d0e0",
   "metadata": {},
   "outputs": [],
   "source": [
    "def kare(x):\n",
    "    return x ** 2"
   ]
  },
  {
   "cell_type": "code",
   "execution_count": 5,
   "id": "e666d93f",
   "metadata": {},
   "outputs": [],
   "source": [
    "a = kare #fonksiyonu bir değişkene eşitledik."
   ]
  },
  {
   "cell_type": "code",
   "execution_count": 3,
   "id": "b3c6bd0b",
   "metadata": {},
   "outputs": [
    {
     "data": {
      "text/plain": [
       "<function __main__.kare(x)>"
      ]
     },
     "execution_count": 3,
     "metadata": {},
     "output_type": "execute_result"
    }
   ],
   "source": [
    "a"
   ]
  },
  {
   "cell_type": "code",
   "execution_count": 4,
   "id": "92fd63a3",
   "metadata": {},
   "outputs": [
    {
     "data": {
      "text/plain": [
       "function"
      ]
     },
     "execution_count": 4,
     "metadata": {},
     "output_type": "execute_result"
    }
   ],
   "source": [
    "type(a)"
   ]
  },
  {
   "cell_type": "code",
   "execution_count": 8,
   "id": "92d080ac",
   "metadata": {},
   "outputs": [
    {
     "data": {
      "text/plain": [
       "16"
      ]
     },
     "execution_count": 8,
     "metadata": {},
     "output_type": "execute_result"
    }
   ],
   "source": [
    "a(4) #normal fonksiyon gibi."
   ]
  },
  {
   "cell_type": "code",
   "execution_count": 9,
   "id": "d65b434c",
   "metadata": {},
   "outputs": [],
   "source": [
    "#dikkat ettiysek a ya eşitlerken parantez aç kapa yapmadık çünkü bir değer döndürsün istemedik. sadece o fonksiyon tanımını eşitledik.>"
   ]
  },
  {
   "cell_type": "markdown",
   "id": "b8c977c7",
   "metadata": {},
   "source": [
    "### !!!!! ÖNEMLİ"
   ]
  },
  {
   "cell_type": "code",
   "execution_count": 11,
   "id": "956549e3",
   "metadata": {},
   "outputs": [],
   "source": [
    "def f2(x, f): # burada iki değişken yazdık sadece bunları bir fonksiyona veya değere eşitleyebiliriz.\n",
    "    return f(x) + 4 # burada f'de parantez açıp kapattık ve fonksiyonu çalıştıormak istediğimzi söyledik"
   ]
  },
  {
   "cell_type": "code",
   "execution_count": 13,
   "id": "8643c156",
   "metadata": {},
   "outputs": [
    {
     "data": {
      "text/plain": [
       "8"
      ]
     },
     "execution_count": 13,
     "metadata": {},
     "output_type": "execute_result"
    }
   ],
   "source": [
    "f2(2, kare) # bakın 4 + 4 = 8"
   ]
  },
  {
   "cell_type": "code",
   "execution_count": 14,
   "id": "eeecd498",
   "metadata": {},
   "outputs": [],
   "source": [
    "def f3(x):\n",
    "    return x ** 5"
   ]
  },
  {
   "cell_type": "code",
   "execution_count": 16,
   "id": "d1ac8dbc",
   "metadata": {},
   "outputs": [
    {
     "data": {
      "text/plain": [
       "36"
      ]
     },
     "execution_count": 16,
     "metadata": {},
     "output_type": "execute_result"
    }
   ],
   "source": [
    "f2(2, f3) # 32 + 4"
   ]
  },
  {
   "cell_type": "code",
   "execution_count": null,
   "id": "6249b3db",
   "metadata": {},
   "outputs": [],
   "source": []
  }
 ],
 "metadata": {
  "kernelspec": {
   "display_name": "Python 3 (ipykernel)",
   "language": "python",
   "name": "python3"
  },
  "language_info": {
   "codemirror_mode": {
    "name": "ipython",
    "version": 3
   },
   "file_extension": ".py",
   "mimetype": "text/x-python",
   "name": "python",
   "nbconvert_exporter": "python",
   "pygments_lexer": "ipython3",
   "version": "3.9.12"
  }
 },
 "nbformat": 4,
 "nbformat_minor": 5
}
