{
 "cells": [
  {
   "cell_type": "code",
   "execution_count": null,
   "id": "2c7679aa",
   "metadata": {},
   "outputs": [],
   "source": [
    "Programı Dallandırma (Branching)\n",
    "\n",
    "\n",
    "İfadelerin değerlerinin True veya False olduklarını veren karşılaştırmalara ve mantıksal operatörlere bakmıştık.\n",
    "\n",
    "\n",
    "Şimdi bunların sonuçlarına göre programımızı dallandırmaya bakacağız.\n",
    "\n",
    "if\n",
    "Eğer testimin değeri True ise if bloğunun içinde yazanı yapacağız.\n",
    "\n",
    "\n",
    "Yapılacakların if bloğuna ait olduğunu anlatmak için kodu if in içine yazarız. Python'ın o bloğun içinde olduğumuzu anlaması için boşluk bırakmamız gerekir.\n"
   ]
  },
  {
   "cell_type": "code",
   "execution_count": 3,
   "id": "25464138",
   "metadata": {},
   "outputs": [
    {
     "name": "stdout",
     "output_type": "stream",
     "text": [
      "Sayı Girin: 4\n",
      "Sayınız Çifttir.\n",
      "Program Sonlandı.\n"
     ]
    }
   ],
   "source": [
    "x = int(input(\"Sayı Girin: \"))\n",
    "\n",
    "if (x % 2 == 0):\n",
    "    print(\"Sayınız Çifttir.\")\n",
    "print(\"Program Sonlandı.\")"
   ]
  },
  {
   "cell_type": "code",
   "execution_count": 4,
   "id": "9603d5f7",
   "metadata": {},
   "outputs": [
    {
     "data": {
      "text/plain": [
       "0"
      ]
     },
     "execution_count": 4,
     "metadata": {},
     "output_type": "execute_result"
    }
   ],
   "source": [
    "6 % 2 "
   ]
  },
  {
   "cell_type": "code",
   "execution_count": 5,
   "id": "6215ec2f",
   "metadata": {},
   "outputs": [
    {
     "data": {
      "text/plain": [
       "True"
      ]
     },
     "execution_count": 5,
     "metadata": {},
     "output_type": "execute_result"
    }
   ],
   "source": [
    "x = 6 \n",
    "x % 2 == 0"
   ]
  },
  {
   "cell_type": "code",
   "execution_count": null,
   "id": "de0eb60c",
   "metadata": {},
   "outputs": [],
   "source": [
    "else\n",
    "if ile kontrolümüz (veya elseif-elif) False sonucu döndürülürse yapılacak blok:"
   ]
  },
  {
   "cell_type": "code",
   "execution_count": 9,
   "id": "061ed754",
   "metadata": {},
   "outputs": [
    {
     "name": "stdout",
     "output_type": "stream",
     "text": [
      "Sayı Girin: 5\n",
      "Sayınız Tektir..\n",
      "Program Sonlandı.\n"
     ]
    }
   ],
   "source": [
    "x = int(input(\"Sayı Girin: \"))\n",
    "\n",
    "if (x % 2 == 0):\n",
    "    print(\"Sayınız Çifttir.\")\n",
    "\n",
    "else:\n",
    "    print(\"Sayınız Tektir..\")\n",
    "\n",
    "print(\"Program Sonlandı.\")"
   ]
  },
  {
   "cell_type": "code",
   "execution_count": null,
   "id": "d10f36d1",
   "metadata": {},
   "outputs": [],
   "source": [
    "elif\n",
    "elif if ile yaptığımız teste ek olarak başka testler yapmak istiyorsak kullanılır."
   ]
  },
  {
   "cell_type": "code",
   "execution_count": 16,
   "id": "385e9da3",
   "metadata": {},
   "outputs": [
    {
     "name": "stdout",
     "output_type": "stream",
     "text": [
      "0 ile 100 arasında bir sayı girin: 97\n",
      "Sayı 90 ile 100 arasında.\n",
      "Programımız sona ulaştı.\n"
     ]
    }
   ],
   "source": [
    "x = int(input(\"0 ile 100 arasında bir sayı girin: \"))\n",
    "\n",
    "if (x == 100):\n",
    "    print(\"Sayınız 100.\")\n",
    "    \n",
    "elif(x >= 90):\n",
    "    print(\"Sayı 90 ile 100 arasında.\")\n",
    "\n",
    "elif(x >= 80):\n",
    "    print(\"Sayı 80 ile 90 arasında.\")\n",
    "\n",
    "else:\n",
    "    print(\"Sayı 80'den küçük.\")\n",
    "\n",
    "print(\"Programımız sona ulaştı.\")"
   ]
  },
  {
   "cell_type": "code",
   "execution_count": null,
   "id": "b6a08599",
   "metadata": {},
   "outputs": [],
   "source": [
    "Nested if\n",
    "if, elif ve else bloğunun içine yazdığımız kod normal koddan farklı değil, o yüzden bunların içine de ayrıca if, elif ve else yazabiliriz."
   ]
  },
  {
   "cell_type": "code",
   "execution_count": 23,
   "id": "e8258d75",
   "metadata": {},
   "outputs": [
    {
     "name": "stdout",
     "output_type": "stream",
     "text": [
      "Bir sayı girin: 9\n",
      "Sayı sadece 3'e bölünüyor 2'ye bölünmüyor.\n",
      "Program sona ulaştı\n"
     ]
    }
   ],
   "source": [
    "x = int(input(\"Bir sayı girin: \"))\n",
    "\n",
    "if (x % 3 == 0):\n",
    "    if (x % 2 == 0):\n",
    "        print(\"Sayı hem 3'e hem 2'ye bölünüyor.\")\n",
    "    else:\n",
    "        print(\"Sayı sadece 3'e bölünüyor 2'ye bölünmüyor.\")\n",
    "else:\n",
    "    print(\"Sayı 3'e bölünmüyor.\")\n",
    "\n",
    "print(\"Program sona ulaştı\")"
   ]
  },
  {
   "cell_type": "code",
   "execution_count": null,
   "id": "af424777",
   "metadata": {},
   "outputs": [],
   "source": [
    "Test Olarak Mantıksal Operatörleri Kullanmak"
   ]
  },
  {
   "cell_type": "code",
   "execution_count": 28,
   "id": "bef1ff83",
   "metadata": {},
   "outputs": [
    {
     "name": "stdout",
     "output_type": "stream",
     "text": [
      "Bir sayı girin: 72\n",
      "Sayı hem 3'e hem de 2'ye bölünüyor.\n",
      "Programınız sona ulaştı.\n"
     ]
    }
   ],
   "source": [
    "x = int(input(\"Bir sayı girin: \"))\n",
    "\n",
    "if ((x % 3 == 0) and (x % 2 == 0)):\n",
    "    print(\"Sayı hem 3'e hem de 2'ye bölünüyor.\")\n",
    "\n",
    "print(\"Programınız sona ulaştı.\")"
   ]
  },
  {
   "cell_type": "code",
   "execution_count": 34,
   "id": "74930518",
   "metadata": {},
   "outputs": [
    {
     "name": "stdout",
     "output_type": "stream",
     "text": [
      "Bir sayı girin: 144\n",
      "Sayı 3'e veya 2'ye veya ikisine birden bölünüyor.\n",
      "Programınız sona ulaştı.\n"
     ]
    }
   ],
   "source": [
    "x = int(input(\"Bir sayı girin: \"))\n",
    "\n",
    "if ((x % 3 == 0) or (x % 2 == 0)):\n",
    "    print(\"Sayı 3'e veya 2'ye veya ikisine birden bölünüyor.\")\n",
    "\n",
    "print(\"Programınız sona ulaştı.\")"
   ]
  },
  {
   "cell_type": "code",
   "execution_count": null,
   "id": "d28dd3a6",
   "metadata": {},
   "outputs": [],
   "source": []
  }
 ],
 "metadata": {
  "kernelspec": {
   "display_name": "Python 3 (ipykernel)",
   "language": "python",
   "name": "python3"
  },
  "language_info": {
   "codemirror_mode": {
    "name": "ipython",
    "version": 3
   },
   "file_extension": ".py",
   "mimetype": "text/x-python",
   "name": "python",
   "nbconvert_exporter": "python",
   "pygments_lexer": "ipython3",
   "version": "3.9.12"
  }
 },
 "nbformat": 4,
 "nbformat_minor": 5
}
