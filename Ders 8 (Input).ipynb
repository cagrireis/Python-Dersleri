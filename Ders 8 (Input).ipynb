{
 "cells": [
  {
   "cell_type": "code",
   "execution_count": null,
   "id": "abe61cf6",
   "metadata": {},
   "outputs": [],
   "source": [
    "Input\n",
    "\n",
    "\n",
    "Bazen kullanacağımız değeri kullanıcıdan almak isteyebiliriz. Bunu input metodu ile yapacağız.\n",
    "\n",
    "\n",
    "input'un içinde yazacağımız bize kullanıcıya gösterilecek yazıyı verecek, kullanıcıdan girdi bekleyip enter'a basmasını bekleyecek, ve girdiyi string olarak döndürecek."
   ]
  },
  {
   "cell_type": "code",
   "execution_count": 2,
   "id": "fa33f1fa",
   "metadata": {},
   "outputs": [
    {
     "name": "stdout",
     "output_type": "stream",
     "text": [
      "Bir sayı girin: 10\n"
     ]
    }
   ],
   "source": [
    "x = input(\"Bir sayı girin: \")"
   ]
  },
  {
   "cell_type": "code",
   "execution_count": 4,
   "id": "3f2684a6",
   "metadata": {},
   "outputs": [
    {
     "ename": "TypeError",
     "evalue": "can only concatenate str (not \"int\") to str",
     "output_type": "error",
     "traceback": [
      "\u001b[1;31m---------------------------------------------------------------------------\u001b[0m",
      "\u001b[1;31mTypeError\u001b[0m                                 Traceback (most recent call last)",
      "Input \u001b[1;32mIn [4]\u001b[0m, in \u001b[0;36m<cell line: 1>\u001b[1;34m()\u001b[0m\n\u001b[1;32m----> 1\u001b[0m \u001b[43mx\u001b[49m\u001b[43m \u001b[49m\u001b[38;5;241;43m+\u001b[39;49m\u001b[43m \u001b[49m\u001b[38;5;241;43m10\u001b[39;49m\n",
      "\u001b[1;31mTypeError\u001b[0m: can only concatenate str (not \"int\") to str"
     ]
    }
   ],
   "source": [
    "x + 10  # hata alma sebebimiz input str olarak döner."
   ]
  },
  {
   "cell_type": "code",
   "execution_count": 7,
   "id": "2283697c",
   "metadata": {},
   "outputs": [
    {
     "data": {
      "text/plain": [
       "str"
      ]
     },
     "execution_count": 7,
     "metadata": {},
     "output_type": "execute_result"
    }
   ],
   "source": [
    "type(x)"
   ]
  },
  {
   "cell_type": "code",
   "execution_count": 5,
   "id": "4a0c5617",
   "metadata": {},
   "outputs": [
    {
     "name": "stdout",
     "output_type": "stream",
     "text": [
      "Bir sayı girin lütfen: 10\n"
     ]
    }
   ],
   "source": [
    "y = int(input(\"Bir sayı girin lütfen: \"))"
   ]
  },
  {
   "cell_type": "code",
   "execution_count": 6,
   "id": "04f0b5cd",
   "metadata": {},
   "outputs": [
    {
     "data": {
      "text/plain": [
       "30"
      ]
     },
     "execution_count": 6,
     "metadata": {},
     "output_type": "execute_result"
    }
   ],
   "source": [
    "y + 20"
   ]
  },
  {
   "cell_type": "code",
   "execution_count": 8,
   "id": "0cd3f812",
   "metadata": {},
   "outputs": [
    {
     "name": "stdout",
     "output_type": "stream",
     "text": [
      "Mesaj girin: merhaba\n",
      "İsim girin: çağrı\n"
     ]
    }
   ],
   "source": [
    "mesaj = input(\"Mesaj girin: \")\n",
    "isim = input(\"İsim girin: \")\n"
   ]
  },
  {
   "cell_type": "code",
   "execution_count": 9,
   "id": "bddb5477",
   "metadata": {},
   "outputs": [
    {
     "data": {
      "text/plain": [
       "'merhaba çağrı'"
      ]
     },
     "execution_count": 9,
     "metadata": {},
     "output_type": "execute_result"
    }
   ],
   "source": [
    "mesaj + \" \" + isim"
   ]
  },
  {
   "cell_type": "code",
   "execution_count": null,
   "id": "93d2ae34",
   "metadata": {},
   "outputs": [],
   "source": []
  }
 ],
 "metadata": {
  "kernelspec": {
   "display_name": "Python 3 (ipykernel)",
   "language": "python",
   "name": "python3"
  },
  "language_info": {
   "codemirror_mode": {
    "name": "ipython",
    "version": 3
   },
   "file_extension": ".py",
   "mimetype": "text/x-python",
   "name": "python",
   "nbconvert_exporter": "python",
   "pygments_lexer": "ipython3",
   "version": "3.9.12"
  }
 },
 "nbformat": 4,
 "nbformat_minor": 5
}
