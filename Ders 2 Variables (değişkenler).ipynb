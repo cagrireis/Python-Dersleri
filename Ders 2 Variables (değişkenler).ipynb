{
 "cells": [
  {
   "cell_type": "code",
   "execution_count": null,
   "id": "2f39479a",
   "metadata": {},
   "outputs": [],
   "source": [
    "# Değişken Atama (Variable Assignment)\n",
    "\n",
    "\n",
    "# Bazı değerleri bilgisayarın hafızasında tutmak ve daha sonra bunlara verdiğimiz adlarla erişmek isteyebiliriz. Bunu variable'ler ile gerçekleştireceğiz.\n",
    "\n",
    "\n",
    "# İlk olarak yapacağımız şey variable'ye vereceğimiz ismi yazmak. Bu isim penguen, uzunluk, maaş gibi istediğiniz bir isim olabilir (burada dikkat edilmesi gereken yer, verilecek ismin daha önceden Python'un default olarak kullanmadığı isimler olması. Mesela if, continue, for gibi keyword'ler daha önceden ayrıldığı için bunları variable ismi olarak kullanamayız)\n",
    "\n",
    "\n",
    "# Python'un daha önceden kendisine ayırdığı isimler (reserved words):\n",
    "\n",
    "\n",
    "#  and       del       from      not       while    \n",
    "#  as        elif      global    or        with     \n",
    "#  assert    else      if        pass      yield    \n",
    "#  break     except    import    print     True         \n",
    "#  class     exec      in        raise     False         \n",
    "#  continue  finally   is        return             \n",
    "#  def       for       lambda    try"
   ]
  },
  {
   "cell_type": "code",
   "execution_count": 9,
   "id": "c1936e3b",
   "metadata": {},
   "outputs": [],
   "source": [
    "a = 2 # variable"
   ]
  },
  {
   "cell_type": "code",
   "execution_count": 10,
   "id": "4941bc55",
   "metadata": {},
   "outputs": [
    {
     "data": {
      "text/plain": [
       "2"
      ]
     },
     "execution_count": 10,
     "metadata": {},
     "output_type": "execute_result"
    }
   ],
   "source": [
    "a"
   ]
  },
  {
   "cell_type": "code",
   "execution_count": 11,
   "id": "aebe8ca5",
   "metadata": {},
   "outputs": [
    {
     "data": {
      "text/plain": [
       "9"
      ]
     },
     "execution_count": 11,
     "metadata": {},
     "output_type": "execute_result"
    }
   ],
   "source": [
    "a + 7 "
   ]
  },
  {
   "cell_type": "code",
   "execution_count": 16,
   "id": "ab1d8a7d",
   "metadata": {},
   "outputs": [],
   "source": [
    "b = 2+4 # expression ama sonuçta bir variable döner "
   ]
  },
  {
   "cell_type": "code",
   "execution_count": 17,
   "id": "f8b57e7a",
   "metadata": {},
   "outputs": [
    {
     "data": {
      "text/plain": [
       "6"
      ]
     },
     "execution_count": 17,
     "metadata": {},
     "output_type": "execute_result"
    }
   ],
   "source": [
    "b"
   ]
  },
  {
   "cell_type": "code",
   "execution_count": 18,
   "id": "8b757eed",
   "metadata": {},
   "outputs": [
    {
     "data": {
      "text/plain": [
       "8"
      ]
     },
     "execution_count": 18,
     "metadata": {},
     "output_type": "execute_result"
    }
   ],
   "source": [
    "a + b "
   ]
  },
  {
   "cell_type": "code",
   "execution_count": 19,
   "id": "433532cc",
   "metadata": {},
   "outputs": [
    {
     "data": {
      "text/plain": [
       "10"
      ]
     },
     "execution_count": 19,
     "metadata": {},
     "output_type": "execute_result"
    }
   ],
   "source": [
    "b + 4"
   ]
  },
  {
   "cell_type": "code",
   "execution_count": 20,
   "id": "59b693ca",
   "metadata": {},
   "outputs": [],
   "source": [
    "# değişken1 = değişkten1 + herhangi sayı dediğimizde en soldaki değişken1 atama bekler eski değişken ile sayı toplanır ve onun değerini alır."
   ]
  },
  {
   "cell_type": "code",
   "execution_count": 21,
   "id": "69f96c27",
   "metadata": {},
   "outputs": [],
   "source": [
    "a = a + 3"
   ]
  },
  {
   "cell_type": "code",
   "execution_count": 22,
   "id": "e1fc6569",
   "metadata": {},
   "outputs": [
    {
     "data": {
      "text/plain": [
       "5"
      ]
     },
     "execution_count": 22,
     "metadata": {},
     "output_type": "execute_result"
    }
   ],
   "source": [
    "a "
   ]
  },
  {
   "cell_type": "code",
   "execution_count": 24,
   "id": "08e88a71",
   "metadata": {},
   "outputs": [],
   "source": [
    "# görüldüğü üzere yeni değeri 5 yani değerini güncelledik."
   ]
  },
  {
   "cell_type": "code",
   "execution_count": 25,
   "id": "07a1d65d",
   "metadata": {},
   "outputs": [],
   "source": [
    "# yani değer eşitliğin sağından, bildiri de solundan gelir."
   ]
  },
  {
   "cell_type": "code",
   "execution_count": 28,
   "id": "b351aaeb",
   "metadata": {},
   "outputs": [],
   "source": [
    "# örnek program "
   ]
  },
  {
   "cell_type": "code",
   "execution_count": 37,
   "id": "e1324c5f",
   "metadata": {},
   "outputs": [],
   "source": [
    "limon_fiyatı = 15"
   ]
  },
  {
   "cell_type": "code",
   "execution_count": 38,
   "id": "23a3494d",
   "metadata": {},
   "outputs": [],
   "source": [
    "s1 = limon_fiyatı * 100"
   ]
  },
  {
   "cell_type": "code",
   "execution_count": 39,
   "id": "0b896339",
   "metadata": {},
   "outputs": [],
   "source": [
    "s2 = limon_fiyatı * 70"
   ]
  },
  {
   "cell_type": "code",
   "execution_count": 40,
   "id": "130fa398",
   "metadata": {},
   "outputs": [],
   "source": [
    "s3 = limon_fiyatı * 30"
   ]
  },
  {
   "cell_type": "code",
   "execution_count": 41,
   "id": "b08aeacf",
   "metadata": {},
   "outputs": [
    {
     "name": "stdout",
     "output_type": "stream",
     "text": [
      "1500\n"
     ]
    }
   ],
   "source": [
    "print(s1)"
   ]
  },
  {
   "cell_type": "code",
   "execution_count": 42,
   "id": "f32c914f",
   "metadata": {},
   "outputs": [
    {
     "name": "stdout",
     "output_type": "stream",
     "text": [
      "1050\n"
     ]
    }
   ],
   "source": [
    "print(s2)"
   ]
  },
  {
   "cell_type": "code",
   "execution_count": 43,
   "id": "a9a7c326",
   "metadata": {},
   "outputs": [
    {
     "name": "stdout",
     "output_type": "stream",
     "text": [
      "450\n"
     ]
    }
   ],
   "source": [
    "print(s3)"
   ]
  },
  {
   "cell_type": "code",
   "execution_count": 44,
   "id": "c02137f3",
   "metadata": {},
   "outputs": [],
   "source": [
    "# değer değiştirmemize gerek kalmaz."
   ]
  },
  {
   "cell_type": "code",
   "execution_count": null,
   "id": "0adacc7d",
   "metadata": {},
   "outputs": [],
   "source": []
  }
 ],
 "metadata": {
  "kernelspec": {
   "display_name": "Python 3 (ipykernel)",
   "language": "python",
   "name": "python3"
  },
  "language_info": {
   "codemirror_mode": {
    "name": "ipython",
    "version": 3
   },
   "file_extension": ".py",
   "mimetype": "text/x-python",
   "name": "python",
   "nbconvert_exporter": "python",
   "pygments_lexer": "ipython3",
   "version": "3.9.12"
  }
 },
 "nbformat": 4,
 "nbformat_minor": 5
}
