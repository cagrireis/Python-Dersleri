{
 "cells": [
  {
   "cell_type": "code",
   "execution_count": null,
   "id": "e908df66",
   "metadata": {},
   "outputs": [],
   "source": [
    "Fonksiyonlara Açıklama Yazmak"
   ]
  },
  {
   "cell_type": "code",
   "execution_count": 1,
   "id": "f517e081",
   "metadata": {},
   "outputs": [],
   "source": [
    "def square(x):\n",
    "    \n",
    "    res = x * x\n",
    "    \n",
    "    return res"
   ]
  },
  {
   "cell_type": "code",
   "execution_count": 2,
   "id": "94586875",
   "metadata": {},
   "outputs": [
    {
     "data": {
      "text/plain": [
       "9"
      ]
     },
     "execution_count": 2,
     "metadata": {},
     "output_type": "execute_result"
    }
   ],
   "source": [
    "square(3)"
   ]
  },
  {
   "cell_type": "code",
   "execution_count": 3,
   "id": "733f7e49",
   "metadata": {},
   "outputs": [],
   "source": [
    "? square"
   ]
  },
  {
   "cell_type": "code",
   "execution_count": 4,
   "id": "ec787ebf",
   "metadata": {},
   "outputs": [],
   "source": [
    "#açıklama metni şu şekilde:>\n"
   ]
  },
  {
   "cell_type": "code",
   "execution_count": 5,
   "id": "e0d654b9",
   "metadata": {},
   "outputs": [],
   "source": [
    "def square(x):\n",
    "    \"\"\"\n",
    "    x'in karesini hesaplar\n",
    "    \"\"\"\n",
    "    \n",
    "    res = x * x\n",
    "    \n",
    "    return res"
   ]
  },
  {
   "cell_type": "code",
   "execution_count": 6,
   "id": "bbafb23c",
   "metadata": {},
   "outputs": [],
   "source": [
    "?square "
   ]
  },
  {
   "cell_type": "code",
   "execution_count": 7,
   "id": "fb7b3a62",
   "metadata": {},
   "outputs": [],
   "source": [
    "# bu şekilde docstringin doldurmuş olduk ayrıca bir açıklama gibi duruyor orada."
   ]
  },
  {
   "cell_type": "code",
   "execution_count": null,
   "id": "71d49e4a",
   "metadata": {},
   "outputs": [],
   "source": []
  }
 ],
 "metadata": {
  "kernelspec": {
   "display_name": "Python 3 (ipykernel)",
   "language": "python",
   "name": "python3"
  },
  "language_info": {
   "codemirror_mode": {
    "name": "ipython",
    "version": 3
   },
   "file_extension": ".py",
   "mimetype": "text/x-python",
   "name": "python",
   "nbconvert_exporter": "python",
   "pygments_lexer": "ipython3",
   "version": "3.9.12"
  }
 },
 "nbformat": 4,
 "nbformat_minor": 5
}
