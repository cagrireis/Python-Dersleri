{
 "cells": [
  {
   "cell_type": "code",
   "execution_count": null,
   "id": "96c14089",
   "metadata": {},
   "outputs": [],
   "source": [
    "Non-Scalar Veri Tiplerinde for\n",
    "\n",
    "\n",
    "for döngüsünü işlerken for <değişken> in <obje> yapısında, her iterasyonda değişkenin tek tek objenin elemanlarına eşit olduğunu konuşmuştuk.\n",
    "\n",
    "\n",
    "list, tuple, dictionary non-scalar veri tiplerini gördük ve bunların hepsinin içsel bir yapısı var, şimdi bunların elemanlarında for kullanarak iterasyon yapmaya bakalım.\n",
    "\n",
    "Listelerde İterasyon\n",
    "\n",
    "\n",
    "Diyelim ki öğrencilerin notlarını bir listede tutuyoruz."
   ]
  },
  {
   "cell_type": "code",
   "execution_count": 46,
   "id": "575f8e20",
   "metadata": {},
   "outputs": [],
   "source": [
    "notlar = [90, 72, 81, 77]"
   ]
  },
  {
   "cell_type": "code",
   "execution_count": 26,
   "id": "f1a324af",
   "metadata": {},
   "outputs": [
    {
     "name": "stdout",
     "output_type": "stream",
     "text": [
      "90\n",
      "72\n",
      "81\n",
      "77\n"
     ]
    }
   ],
   "source": [
    "for e in notlar:\n",
    "    print(e)"
   ]
  },
  {
   "cell_type": "code",
   "execution_count": 27,
   "id": "d31559c5",
   "metadata": {},
   "outputs": [
    {
     "name": "stdout",
     "output_type": "stream",
     "text": [
      "80.0\n"
     ]
    }
   ],
   "source": [
    "t = 0\n",
    "\n",
    "for e in notlar:\n",
    "    t = t + e\n",
    "    \n",
    "ortalama = t / len(notlar)\n",
    "    \n",
    "print(ortalama)"
   ]
  },
  {
   "cell_type": "code",
   "execution_count": 28,
   "id": "8bd4c2dc",
   "metadata": {},
   "outputs": [
    {
     "name": "stdout",
     "output_type": "stream",
     "text": [
      "80.0\n"
     ]
    }
   ],
   "source": [
    "t = 0\n",
    "\n",
    "for penguen in notlar:\n",
    "    t = t + penguen\n",
    "    \n",
    "ortalama = t / len(notlar)\n",
    "    \n",
    "print(ortalama)"
   ]
  },
  {
   "cell_type": "code",
   "execution_count": 29,
   "id": "5a65d29c",
   "metadata": {},
   "outputs": [],
   "source": [
    "# e bir şey ifade etmiyor yani simi farklı olsa da aynı şey"
   ]
  },
  {
   "cell_type": "code",
   "execution_count": 30,
   "id": "a935833d",
   "metadata": {},
   "outputs": [
    {
     "name": "stdout",
     "output_type": "stream",
     "text": [
      "Iterasyon: 0\n",
      "Iterasyon: 1\n",
      "Iterasyon: 2\n"
     ]
    }
   ],
   "source": [
    "for i in range(3):\n",
    "    print(\"Iterasyon:\", i)"
   ]
  },
  {
   "cell_type": "code",
   "execution_count": 31,
   "id": "34b8d588",
   "metadata": {},
   "outputs": [
    {
     "name": "stdout",
     "output_type": "stream",
     "text": [
      "Iterasyon: 1\n",
      "Iterasyon: 2\n",
      "Iterasyon: 3\n"
     ]
    }
   ],
   "source": [
    "for i in range(1,4):\n",
    "    print(\"Iterasyon:\", i)"
   ]
  },
  {
   "cell_type": "code",
   "execution_count": 32,
   "id": "e08b9123",
   "metadata": {},
   "outputs": [
    {
     "name": "stdout",
     "output_type": "stream",
     "text": [
      "Iterasyon: 1\n",
      "Iterasyon: 2\n",
      "Iterasyon: 3\n",
      "Iterasyon: 4\n",
      "Iterasyon: 5\n",
      "Iterasyon: 6\n",
      "Iterasyon: 7\n",
      "Iterasyon: 8\n",
      "Iterasyon: 9\n",
      "Iterasyon: 10\n",
      "Iterasyon: 11\n",
      "Iterasyon: 12\n",
      "Iterasyon: 13\n",
      "Iterasyon: 14\n",
      "Iterasyon: 15\n",
      "Iterasyon: 16\n",
      "Iterasyon: 17\n",
      "Iterasyon: 18\n",
      "Iterasyon: 19\n",
      "Iterasyon: 20\n",
      "Iterasyon: 21\n",
      "Iterasyon: 22\n",
      "Iterasyon: 23\n",
      "Iterasyon: 24\n",
      "Iterasyon: 25\n"
     ]
    }
   ],
   "source": [
    "for i in range(1,26):\n",
    "    print(\"Iterasyon:\", i)"
   ]
  },
  {
   "cell_type": "code",
   "execution_count": 33,
   "id": "b1ac620a",
   "metadata": {},
   "outputs": [
    {
     "name": "stdout",
     "output_type": "stream",
     "text": [
      "Iterasyon: 1\n",
      "Iterasyon: 4\n",
      "Iterasyon: 7\n",
      "Iterasyon: 10\n",
      "Iterasyon: 13\n",
      "Iterasyon: 16\n",
      "Iterasyon: 19\n",
      "Iterasyon: 22\n",
      "Iterasyon: 25\n"
     ]
    }
   ],
   "source": [
    "for i in range(1,26,3):\n",
    "    print(\"Iterasyon:\", i)"
   ]
  },
  {
   "cell_type": "code",
   "execution_count": 34,
   "id": "edcd31d7",
   "metadata": {},
   "outputs": [],
   "source": [
    "# bu şekilde oynayabiliriz."
   ]
  },
  {
   "cell_type": "code",
   "execution_count": 35,
   "id": "7e674f05",
   "metadata": {},
   "outputs": [
    {
     "name": "stdout",
     "output_type": "stream",
     "text": [
      "90\n"
     ]
    }
   ],
   "source": [
    "for e in notlar:\n",
    "    print(e)\n",
    "    break"
   ]
  },
  {
   "cell_type": "code",
   "execution_count": 36,
   "id": "4a4e8e3c",
   "metadata": {},
   "outputs": [
    {
     "name": "stdout",
     "output_type": "stream",
     "text": [
      "90\n"
     ]
    }
   ],
   "source": [
    "for i in range(len(notlar)):\n",
    "    print(notlar[i])\n",
    "    break # yukarıdaki ile aynı şey yani"
   ]
  },
  {
   "cell_type": "code",
   "execution_count": 37,
   "id": "4f8499c1",
   "metadata": {},
   "outputs": [
    {
     "name": "stdout",
     "output_type": "stream",
     "text": [
      "Ortalama: 80.0\n"
     ]
    }
   ],
   "source": [
    "t = 0\n",
    "\n",
    "for i in range(0, len(notlar)):\n",
    "    t = t + notlar[i]\n",
    "    \n",
    "ortalama = t / len(notlar)\n",
    "\n",
    "print(\"Ortalama:\", ortalama)"
   ]
  },
  {
   "cell_type": "code",
   "execution_count": 38,
   "id": "89166a70",
   "metadata": {},
   "outputs": [],
   "source": [
    "# öğretmen herkesin notunu 5 puan artırmak istemiş oslun."
   ]
  },
  {
   "cell_type": "code",
   "execution_count": 49,
   "id": "a409e2a0",
   "metadata": {},
   "outputs": [
    {
     "name": "stdout",
     "output_type": "stream",
     "text": [
      "90\n",
      "95\n",
      "[90, 72, 81, 77]\n",
      "----------------------------------\n",
      "72\n",
      "77\n",
      "[90, 72, 81, 77]\n",
      "----------------------------------\n",
      "81\n",
      "86\n",
      "[90, 72, 81, 77]\n",
      "----------------------------------\n",
      "77\n",
      "82\n",
      "[90, 72, 81, 77]\n",
      "----------------------------------\n",
      "[90, 72, 81, 77]\n"
     ]
    }
   ],
   "source": [
    "for element in notlar:\n",
    "    print(element)\n",
    "    element = element + 5\n",
    "    print(element)\n",
    "    print(notlar)\n",
    "    print(\"----------------------------------\")\n",
    "    \n",
    "print(notlar)"
   ]
  },
  {
   "cell_type": "code",
   "execution_count": 45,
   "id": "a2cd3653",
   "metadata": {},
   "outputs": [
    {
     "name": "stdout",
     "output_type": "stream",
     "text": [
      "90\n",
      "95\n",
      "[95, 72, 81, 77]\n",
      "----------------------------------\n",
      "72\n",
      "77\n",
      "[95, 77, 81, 77]\n",
      "----------------------------------\n",
      "81\n",
      "86\n",
      "[95, 77, 86, 77]\n",
      "----------------------------------\n",
      "77\n",
      "82\n",
      "[95, 77, 86, 82]\n",
      "----------------------------------\n",
      "[95, 77, 86, 82]\n"
     ]
    }
   ],
   "source": [
    "for element in range(0, len(notlar)):\n",
    "    print(notlar[element])\n",
    "    notlar[element] = notlar[element] + 5\n",
    "    print(notlar[element])\n",
    "    print(notlar)\n",
    "    print(\"----------------------------------\")\n",
    "    \n",
    "print(notlar)"
   ]
  },
  {
   "cell_type": "code",
   "execution_count": 50,
   "id": "030397e5",
   "metadata": {},
   "outputs": [],
   "source": [
    "# continue çalışmak için bazı öğrencilerin sınavını arttırmayalım."
   ]
  },
  {
   "cell_type": "code",
   "execution_count": 51,
   "id": "539983e4",
   "metadata": {},
   "outputs": [
    {
     "name": "stdout",
     "output_type": "stream",
     "text": [
      "[95, 72, 86, 82]\n"
     ]
    }
   ],
   "source": [
    "for element in range(0, len(notlar)):\n",
    "    \n",
    "    if (element == 1):\n",
    "        continue\n",
    "        \n",
    "    else:\n",
    "        notlar[element] = notlar[element] + 5\n",
    "        \n",
    "print(notlar)"
   ]
  },
  {
   "cell_type": "code",
   "execution_count": 52,
   "id": "d7bf0e3f",
   "metadata": {},
   "outputs": [],
   "source": [
    "# bir de break egzersizi yapalım."
   ]
  },
  {
   "cell_type": "code",
   "execution_count": null,
   "id": "235a8fc9",
   "metadata": {},
   "outputs": [],
   "source": [
    "Şimdi de break egzersizi yapalım.\n",
    "\n",
    "\n",
    "Diyelim ki bir listenin içinde belirli bir eleman var mı diye kontrol etmek istiyoruz. Bulunca aramaya devam etmeyeceğim. Devam etme mantığını break ile sağlayacağım.\n",
    "\n",
    "\n",
    "İlk kullanıcıya hangi sayıyı aradığını soracağız, sonra bu sayı var mı kontrol edeceğiz."
   ]
  },
  {
   "cell_type": "code",
   "execution_count": 57,
   "id": "e7ed89f3",
   "metadata": {},
   "outputs": [
    {
     "name": "stdout",
     "output_type": "stream",
     "text": [
      "Kontrol edilecek sayıyı girin: 1\n",
      "2\n",
      "3\n",
      "40\n",
      "100\n",
      "10\n",
      "1\n",
      "Sayı bulundu! Bulunan sayı: 1\n"
     ]
    }
   ],
   "source": [
    "x = int(input(\"Kontrol edilecek sayıyı girin: \"))\n",
    "\n",
    "liste = [2, 3, 40 ,100, 10, 1]\n",
    "\n",
    "for element in liste:\n",
    "    print(element) # iterasyonu görmemiz için\n",
    "    if (x == element):\n",
    "        print(\"Sayı bulundu! Bulunan sayı: {0}\".format(x))\n",
    "        break"
   ]
  },
  {
   "cell_type": "code",
   "execution_count": null,
   "id": "4d611042",
   "metadata": {},
   "outputs": [],
   "source": [
    "Tuple'lerda İterasyon\n",
    "\n",
    "\n",
    "Listelerde iterasyondan hiç bir farkı yok. Evet kısa bir açıklama oldu ama durum bu :) . Değerlerini güncelleyemiyoruz ama bu zaten döngüden bağımsız bir durum oluyor."
   ]
  },
  {
   "cell_type": "code",
   "execution_count": 58,
   "id": "92652499",
   "metadata": {},
   "outputs": [],
   "source": [
    "t = (1, 2, 3, 4)"
   ]
  },
  {
   "cell_type": "code",
   "execution_count": 59,
   "id": "acebd411",
   "metadata": {},
   "outputs": [
    {
     "name": "stdout",
     "output_type": "stream",
     "text": [
      "1\n",
      "2\n",
      "3\n",
      "4\n"
     ]
    }
   ],
   "source": [
    "for e in t:\n",
    "    print(e)"
   ]
  },
  {
   "cell_type": "code",
   "execution_count": 60,
   "id": "f0aeaa05",
   "metadata": {},
   "outputs": [
    {
     "name": "stdout",
     "output_type": "stream",
     "text": [
      "10\n"
     ]
    }
   ],
   "source": [
    "toplam = 0\n",
    "\n",
    "for e in t:\n",
    "    toplam += e\n",
    "    \n",
    "print(toplam)"
   ]
  },
  {
   "cell_type": "code",
   "execution_count": 61,
   "id": "0d8b04c3",
   "metadata": {},
   "outputs": [
    {
     "name": "stdout",
     "output_type": "stream",
     "text": [
      "1\n",
      "2\n",
      "3\n",
      "4\n"
     ]
    }
   ],
   "source": [
    "for i in range(len(t)):\n",
    "    print(t[i])"
   ]
  },
  {
   "cell_type": "code",
   "execution_count": 62,
   "id": "d8c938cf",
   "metadata": {},
   "outputs": [],
   "source": [
    "# ancak tuple'lar değiştirilemez:\n"
   ]
  },
  {
   "cell_type": "code",
   "execution_count": 64,
   "id": "6323ba0f",
   "metadata": {},
   "outputs": [
    {
     "ename": "TypeError",
     "evalue": "'tuple' object does not support item assignment",
     "output_type": "error",
     "traceback": [
      "\u001b[1;31m---------------------------------------------------------------------------\u001b[0m",
      "\u001b[1;31mTypeError\u001b[0m                                 Traceback (most recent call last)",
      "Input \u001b[1;32mIn [64]\u001b[0m, in \u001b[0;36m<cell line: 1>\u001b[1;34m()\u001b[0m\n\u001b[0;32m      1\u001b[0m \u001b[38;5;28;01mfor\u001b[39;00m i \u001b[38;5;129;01min\u001b[39;00m \u001b[38;5;28mrange\u001b[39m(\u001b[38;5;28mlen\u001b[39m(t)):\n\u001b[1;32m----> 2\u001b[0m     t[i] \u001b[38;5;241m+\u001b[39m\u001b[38;5;241m=\u001b[39m \u001b[38;5;241m2\u001b[39m\n",
      "\u001b[1;31mTypeError\u001b[0m: 'tuple' object does not support item assignment"
     ]
    }
   ],
   "source": [
    "for i in range(len(t)):\n",
    "    t[i] += 2 #buradaki gibi aynı"
   ]
  },
  {
   "cell_type": "markdown",
   "id": "735d544c",
   "metadata": {},
   "source": [
    "### Dictionary'lerde İterasyon\n",
    "\n",
    "\n",
    "Burada durum biraz farklı. Default olarak elemanlarında dolaş diyince key 'lerde iterasyon yapıyor. Zaten index mantığı olmadığı için range() ile yapmak çoğu zaman karşımıza çıkmaz."
   ]
  },
  {
   "cell_type": "code",
   "execution_count": 65,
   "id": "40a13085",
   "metadata": {},
   "outputs": [],
   "source": [
    "#keyler üzerinden itere olur."
   ]
  },
  {
   "cell_type": "code",
   "execution_count": 66,
   "id": "2f15e857",
   "metadata": {},
   "outputs": [],
   "source": [
    "d = {\"student_1\":[90, 89], \"student_2\":[80, 83], \"student_3\":[72, 71]}"
   ]
  },
  {
   "cell_type": "code",
   "execution_count": 68,
   "id": "654a2689",
   "metadata": {},
   "outputs": [
    {
     "name": "stdout",
     "output_type": "stream",
     "text": [
      "student_1\n",
      "-------------\n",
      "[90, 89]\n",
      "student_2\n",
      "-------------\n",
      "[80, 83]\n",
      "student_3\n",
      "-------------\n",
      "[72, 71]\n"
     ]
    }
   ],
   "source": [
    "for k in d:\n",
    "    print(k)\n",
    "    print(\"-------------\")\n",
    "    v = d[k]\n",
    "    print(v)"
   ]
  },
  {
   "cell_type": "markdown",
   "id": "e1791e3b",
   "metadata": {},
   "source": [
    "### BUNLARI YAPMADAN DA YAPILABİLİR:"
   ]
  },
  {
   "cell_type": "code",
   "execution_count": null,
   "id": "a6f90ba8",
   "metadata": {},
   "outputs": [],
   "source": [
    "Veya d.values() diyerek value'lerında iterasyon yapabilirim. Burada for <değişken> in <obje> yapısında <değişken> int vs gibi şeyler değil liste gibi yapılar da olabilir iterasyon içerisinde, burada da öyle oldu.\n",
    "\n",
    "\n",
    "bu .values() 'dan dolayı olan bir şey değil, dictionary'nin value'lerı int olsa böyle olmazdı."
   ]
  },
  {
   "cell_type": "code",
   "execution_count": 69,
   "id": "3ede745c",
   "metadata": {},
   "outputs": [],
   "source": [
    "#D.VALUES İLE YAPILABİLİR."
   ]
  },
  {
   "cell_type": "code",
   "execution_count": 70,
   "id": "698cf3a7",
   "metadata": {},
   "outputs": [],
   "source": [
    "d = {\"student_1\":90, \"student_2\":80, \"student_3\":72}"
   ]
  },
  {
   "cell_type": "code",
   "execution_count": 73,
   "id": "33c8f45b",
   "metadata": {},
   "outputs": [
    {
     "name": "stdout",
     "output_type": "stream",
     "text": [
      "90\n",
      "80\n",
      "72\n"
     ]
    }
   ],
   "source": [
    "for i in d.values(): # bu şekilde değerlere de ulaşılabilir.\n",
    "    print(i)"
   ]
  },
  {
   "cell_type": "code",
   "execution_count": 74,
   "id": "3c0be6e2",
   "metadata": {},
   "outputs": [],
   "source": [
    "#valueler list olsaydı list dönerdi."
   ]
  },
  {
   "cell_type": "code",
   "execution_count": 75,
   "id": "db67af8d",
   "metadata": {},
   "outputs": [],
   "source": [
    "# 85' den yüksek alan varmı kontrol edelim örneği."
   ]
  },
  {
   "cell_type": "code",
   "execution_count": 77,
   "id": "6e624087",
   "metadata": {},
   "outputs": [
    {
     "name": "stdout",
     "output_type": "stream",
     "text": [
      "Var. 85 üstü alan kişi: 90 puanını almış.\n"
     ]
    }
   ],
   "source": [
    "for deger in d.values():\n",
    "    \n",
    "    if (deger >= 85):\n",
    "        \n",
    "        print(\"Var. 85 üstü alan kişi: {0} puanını almış.\".format(deger))\n",
    "        \n",
    "    else:\n",
    "        continue"
   ]
  },
  {
   "cell_type": "code",
   "execution_count": 78,
   "id": "7b9c020f",
   "metadata": {},
   "outputs": [],
   "source": [
    "#alan kişiyi de bastırmak için:\n"
   ]
  },
  {
   "cell_type": "code",
   "execution_count": 79,
   "id": "e5fcbda7",
   "metadata": {},
   "outputs": [
    {
     "name": "stdout",
     "output_type": "stream",
     "text": [
      "Var. 85 üstü alan kişi 90 puanını almış ve ismi: student_1.\n"
     ]
    }
   ],
   "source": [
    "for deger in d:\n",
    "    \n",
    "    value = d[deger]\n",
    "    \n",
    "    if (value >= 85):\n",
    "        \n",
    "        print(\"Var. 85 üstü alan kişi {0} puanını almış ve ismi: {1}.\".format(value, deger))\n",
    "    else:\n",
    "        continue"
   ]
  },
  {
   "cell_type": "markdown",
   "id": "406fd1c2",
   "metadata": {},
   "source": [
    "### dictlerde ek olarak dict.items() diye bir metod da var bu key ve valueyi veriyor bunu şu şekilde tanımalrız:"
   ]
  },
  {
   "cell_type": "code",
   "execution_count": 81,
   "id": "51d920ad",
   "metadata": {},
   "outputs": [
    {
     "name": "stdout",
     "output_type": "stream",
     "text": [
      "Key: student_1 Value: 90\n",
      "Key: student_2 Value: 80\n",
      "Key: student_3 Value: 72\n"
     ]
    }
   ],
   "source": [
    "for k, v in d.items():\n",
    "    print(\"Key:\",k,\"Value:\",v)"
   ]
  },
  {
   "cell_type": "code",
   "execution_count": null,
   "id": "6d8b7f4d",
   "metadata": {},
   "outputs": [],
   "source": []
  }
 ],
 "metadata": {
  "kernelspec": {
   "display_name": "Python 3 (ipykernel)",
   "language": "python",
   "name": "python3"
  },
  "language_info": {
   "codemirror_mode": {
    "name": "ipython",
    "version": 3
   },
   "file_extension": ".py",
   "mimetype": "text/x-python",
   "name": "python",
   "nbconvert_exporter": "python",
   "pygments_lexer": "ipython3",
   "version": "3.9.12"
  }
 },
 "nbformat": 4,
 "nbformat_minor": 5
}
