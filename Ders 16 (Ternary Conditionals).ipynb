{
 "cells": [
  {
   "cell_type": "code",
   "execution_count": null,
   "id": "7433b79f",
   "metadata": {},
   "outputs": [],
   "source": [
    "Ternary Conditionals aslında daha önce yapamadığımız bir şeyi yapabilmemize olanak sağlamayacak. if-else mantığını tek satırda kullanıp döndürülecek, sonucu ona göre belirlememizi sağlayacak."
   ]
  },
  {
   "cell_type": "code",
   "execution_count": 4,
   "id": "0670e797",
   "metadata": {},
   "outputs": [
    {
     "name": "stdout",
     "output_type": "stream",
     "text": [
      "X'in değeri 2 olsun mu?, (y/n): y\n",
      "2\n"
     ]
    }
   ],
   "source": [
    "cevap = input(\"X'in değeri 2 olsun mu?, (y/n): \")\n",
    "\n",
    "if (cevap == \"y\"): # cevap == \"y\" testimiz oluyor.\n",
    "    x = 2\n",
    "else:\n",
    "    x = 0\n",
    "    \n",
    "print(x)"
   ]
  },
  {
   "cell_type": "code",
   "execution_count": 3,
   "id": "4186621f",
   "metadata": {},
   "outputs": [],
   "source": [
    "#bunu tek satırda ifade edebiliriz. \n"
   ]
  },
  {
   "cell_type": "code",
   "execution_count": 19,
   "id": "27d0cb59",
   "metadata": {},
   "outputs": [
    {
     "name": "stdout",
     "output_type": "stream",
     "text": [
      "X'in değeri 2 olsun mu?, (y/n): y\n",
      "2\n"
     ]
    }
   ],
   "source": [
    "cevap = input(\"X'in değeri 2 olsun mu?, (y/n): \")\n",
    "\n",
    "x = 2 if (cevap == \"y\") else  0\n",
    "\n",
    "print(x)"
   ]
  },
  {
   "cell_type": "code",
   "execution_count": 16,
   "id": "a9798ff9",
   "metadata": {},
   "outputs": [
    {
     "name": "stdout",
     "output_type": "stream",
     "text": [
      "X'in değeri 2 olsun mu?, (y/n): n\n",
      "0\n"
     ]
    }
   ],
   "source": [
    "cevap = input(\"X'in değeri 2 olsun mu?, (y/n): \")\n",
    "\n",
    "condition = cevap == \"y\"\n",
    "\n",
    "x = 2 if condition else 0\n",
    "\n",
    "print(x)"
   ]
  },
  {
   "cell_type": "code",
   "execution_count": 17,
   "id": "ad137f0e",
   "metadata": {},
   "outputs": [],
   "source": [
    "# böyle de yazılabilkir."
   ]
  },
  {
   "cell_type": "code",
   "execution_count": null,
   "id": "6b057c11",
   "metadata": {},
   "outputs": [],
   "source": []
  }
 ],
 "metadata": {
  "kernelspec": {
   "display_name": "Python 3 (ipykernel)",
   "language": "python",
   "name": "python3"
  },
  "language_info": {
   "codemirror_mode": {
    "name": "ipython",
    "version": 3
   },
   "file_extension": ".py",
   "mimetype": "text/x-python",
   "name": "python",
   "nbconvert_exporter": "python",
   "pygments_lexer": "ipython3",
   "version": "3.9.12"
  }
 },
 "nbformat": 4,
 "nbformat_minor": 5
}
