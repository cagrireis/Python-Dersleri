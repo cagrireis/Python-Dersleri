{
 "cells": [
  {
   "cell_type": "code",
   "execution_count": null,
   "id": "662dbfc8",
   "metadata": {},
   "outputs": [],
   "source": [
    "Set\n",
    "\n",
    "\n",
    "Setleri kümeler olarak düşünebiliriz.\n",
    "\n",
    "\n",
    "Sadece özgün değerleri tutan, içerisinde bir eleman var mı yok mu, başka bir setle hangi elemanları farklı gibi işlemleri performanslı bir şekilde yapabileceğimiz bir veri yapısıdır.\n",
    "\n",
    "\n",
    "Dictionary'ler gibi eleman sorgusu yapmak hızlıdır. Dictionarylerde key-value çift olarak bulunduğu için aynı uzunluktaki bir setten daha fazla yer kaplar.\n",
    "\n",
    "\n",
    "Setler indexlenemez.\n",
    "\n",
    "\n",
    "Setler mutable'dır.\n",
    "\n",
    "Set yaratma"
   ]
  },
  {
   "cell_type": "code",
   "execution_count": 1,
   "id": "840de7b3",
   "metadata": {},
   "outputs": [],
   "source": [
    "s = {1, 2, 3, 4, 5, 6}"
   ]
  },
  {
   "cell_type": "code",
   "execution_count": 2,
   "id": "bcd7ccb4",
   "metadata": {},
   "outputs": [
    {
     "data": {
      "text/plain": [
       "{1, 2, 3, 4, 5, 6}"
      ]
     },
     "execution_count": 2,
     "metadata": {},
     "output_type": "execute_result"
    }
   ],
   "source": [
    "s"
   ]
  },
  {
   "cell_type": "code",
   "execution_count": 3,
   "id": "391d9bc8",
   "metadata": {},
   "outputs": [],
   "source": [
    "s = {1,2,3,4,5,6,1}"
   ]
  },
  {
   "cell_type": "code",
   "execution_count": 5,
   "id": "213d94cc",
   "metadata": {},
   "outputs": [
    {
     "data": {
      "text/plain": [
       "{1, 2, 3, 4, 5, 6}"
      ]
     },
     "execution_count": 5,
     "metadata": {},
     "output_type": "execute_result"
    }
   ],
   "source": [
    "s #sadece 1 bir kere göründü sadece özgün değerleri gö<zsteriyor."
   ]
  },
  {
   "cell_type": "markdown",
   "id": "fa520421",
   "metadata": {},
   "source": [
    "### boş set oluşturma\n"
   ]
  },
  {
   "cell_type": "code",
   "execution_count": 7,
   "id": "f770f856",
   "metadata": {},
   "outputs": [],
   "source": [
    "# BOŞ SET s = {} ile olmaz bu yapı dict yapısıdır."
   ]
  },
  {
   "cell_type": "code",
   "execution_count": 8,
   "id": "2b4ceb09",
   "metadata": {},
   "outputs": [],
   "source": [
    "# boş setler ise s = set() ile oluşturulur."
   ]
  },
  {
   "cell_type": "code",
   "execution_count": 9,
   "id": "8d7eea6e",
   "metadata": {},
   "outputs": [],
   "source": [
    "s = set()"
   ]
  },
  {
   "cell_type": "code",
   "execution_count": 10,
   "id": "ec37466f",
   "metadata": {},
   "outputs": [
    {
     "data": {
      "text/plain": [
       "set"
      ]
     },
     "execution_count": 10,
     "metadata": {},
     "output_type": "execute_result"
    }
   ],
   "source": [
    "type(s)"
   ]
  },
  {
   "cell_type": "code",
   "execution_count": 11,
   "id": "f133544a",
   "metadata": {},
   "outputs": [],
   "source": [
    "l = [1, 2, 3, 4]"
   ]
  },
  {
   "cell_type": "code",
   "execution_count": 12,
   "id": "80ca324f",
   "metadata": {},
   "outputs": [],
   "source": [
    "s = set(l)"
   ]
  },
  {
   "cell_type": "code",
   "execution_count": 13,
   "id": "ea761dd7",
   "metadata": {},
   "outputs": [
    {
     "data": {
      "text/plain": [
       "{1, 2, 3, 4}"
      ]
     },
     "execution_count": 13,
     "metadata": {},
     "output_type": "execute_result"
    }
   ],
   "source": [
    "s"
   ]
  },
  {
   "cell_type": "code",
   "execution_count": 14,
   "id": "31177903",
   "metadata": {},
   "outputs": [],
   "source": [
    "t = (1, 2, 3, 4, 5, 6, 1, 2)"
   ]
  },
  {
   "cell_type": "code",
   "execution_count": 15,
   "id": "d1430e8e",
   "metadata": {},
   "outputs": [],
   "source": [
    "s = set(t)"
   ]
  },
  {
   "cell_type": "code",
   "execution_count": 17,
   "id": "eea62b77",
   "metadata": {},
   "outputs": [
    {
     "data": {
      "text/plain": [
       "{1, 2, 3, 4, 5, 6}"
      ]
     },
     "execution_count": 17,
     "metadata": {},
     "output_type": "execute_result"
    }
   ],
   "source": [
    "s #unique değerler"
   ]
  },
  {
   "cell_type": "code",
   "execution_count": 18,
   "id": "19896909",
   "metadata": {},
   "outputs": [],
   "source": [
    "mesaj = \"Merhaba!\""
   ]
  },
  {
   "cell_type": "code",
   "execution_count": 19,
   "id": "8cabb405",
   "metadata": {},
   "outputs": [],
   "source": [
    "s = set(mesaj)"
   ]
  },
  {
   "cell_type": "code",
   "execution_count": 20,
   "id": "b93938a1",
   "metadata": {},
   "outputs": [
    {
     "data": {
      "text/plain": [
       "{'!', 'M', 'a', 'b', 'e', 'h', 'r'}"
      ]
     },
     "execution_count": 20,
     "metadata": {},
     "output_type": "execute_result"
    }
   ],
   "source": [
    "s"
   ]
  },
  {
   "cell_type": "code",
   "execution_count": 21,
   "id": "fcb496a9",
   "metadata": {},
   "outputs": [
    {
     "data": {
      "text/plain": [
       "7"
      ]
     },
     "execution_count": 21,
     "metadata": {},
     "output_type": "execute_result"
    }
   ],
   "source": [
    "len(s)"
   ]
  },
  {
   "cell_type": "code",
   "execution_count": 22,
   "id": "bddd6f2e",
   "metadata": {},
   "outputs": [],
   "source": [
    "# setler indexlenemez."
   ]
  },
  {
   "cell_type": "markdown",
   "id": "91a5451b",
   "metadata": {},
   "source": [
    "### eleman ekleme\n"
   ]
  },
  {
   "cell_type": "code",
   "execution_count": 23,
   "id": "5b81934d",
   "metadata": {},
   "outputs": [],
   "source": [
    "s = {1, 2, 3, 4, 5, 6}"
   ]
  },
  {
   "cell_type": "code",
   "execution_count": 24,
   "id": "50e48f35",
   "metadata": {},
   "outputs": [],
   "source": [
    "s.add(6)"
   ]
  },
  {
   "cell_type": "code",
   "execution_count": 25,
   "id": "64839a2b",
   "metadata": {},
   "outputs": [
    {
     "data": {
      "text/plain": [
       "{1, 2, 3, 4, 5, 6}"
      ]
     },
     "execution_count": 25,
     "metadata": {},
     "output_type": "execute_result"
    }
   ],
   "source": [
    "s"
   ]
  },
  {
   "cell_type": "code",
   "execution_count": 26,
   "id": "a52c18b3",
   "metadata": {},
   "outputs": [],
   "source": [
    "s.add(7)"
   ]
  },
  {
   "cell_type": "code",
   "execution_count": 27,
   "id": "0a7415de",
   "metadata": {},
   "outputs": [
    {
     "data": {
      "text/plain": [
       "{1, 2, 3, 4, 5, 6, 7}"
      ]
     },
     "execution_count": 27,
     "metadata": {},
     "output_type": "execute_result"
    }
   ],
   "source": [
    "s\n"
   ]
  },
  {
   "cell_type": "code",
   "execution_count": 28,
   "id": "f1b1f2d0",
   "metadata": {},
   "outputs": [],
   "source": [
    "# set.add() ile keleme yapılır."
   ]
  },
  {
   "cell_type": "code",
   "execution_count": 30,
   "id": "6107fc55",
   "metadata": {},
   "outputs": [],
   "source": [
    "# setten eleman silme de remove fonksiytonu ile yapılır."
   ]
  },
  {
   "cell_type": "code",
   "execution_count": 31,
   "id": "695377b9",
   "metadata": {},
   "outputs": [],
   "source": [
    "# set.remove()"
   ]
  },
  {
   "cell_type": "code",
   "execution_count": 32,
   "id": "1f3e1163",
   "metadata": {},
   "outputs": [],
   "source": [
    "s.remove(3)"
   ]
  },
  {
   "cell_type": "code",
   "execution_count": 33,
   "id": "e2c727d7",
   "metadata": {},
   "outputs": [
    {
     "data": {
      "text/plain": [
       "{1, 2, 4, 5, 6, 7}"
      ]
     },
     "execution_count": 33,
     "metadata": {},
     "output_type": "execute_result"
    }
   ],
   "source": [
    "s"
   ]
  },
  {
   "cell_type": "code",
   "execution_count": 34,
   "id": "cf9f909c",
   "metadata": {},
   "outputs": [],
   "source": [
    "# sildi"
   ]
  },
  {
   "cell_type": "code",
   "execution_count": 35,
   "id": "00637287",
   "metadata": {},
   "outputs": [],
   "source": [
    "# bir de eleman içinde yoksa error verme varsa sil fonksiyonu discard'dır."
   ]
  },
  {
   "cell_type": "code",
   "execution_count": 37,
   "id": "101cf320",
   "metadata": {},
   "outputs": [],
   "source": [
    "s.discard(10)"
   ]
  },
  {
   "cell_type": "code",
   "execution_count": 38,
   "id": "fa5ce688",
   "metadata": {},
   "outputs": [
    {
     "data": {
      "text/plain": [
       "{1, 2, 4, 5, 6, 7}"
      ]
     },
     "execution_count": 38,
     "metadata": {},
     "output_type": "execute_result"
    }
   ],
   "source": [
    "s"
   ]
  },
  {
   "cell_type": "code",
   "execution_count": 39,
   "id": "5d590d35",
   "metadata": {},
   "outputs": [],
   "source": [
    "# 10 yoktu hata vermedi"
   ]
  },
  {
   "cell_type": "code",
   "execution_count": 40,
   "id": "574adc87",
   "metadata": {},
   "outputs": [],
   "source": [
    "s.add(10)"
   ]
  },
  {
   "cell_type": "code",
   "execution_count": 41,
   "id": "acd1cede",
   "metadata": {},
   "outputs": [],
   "source": [
    "s.discard(10)"
   ]
  },
  {
   "cell_type": "code",
   "execution_count": 42,
   "id": "f7c51b65",
   "metadata": {},
   "outputs": [
    {
     "data": {
      "text/plain": [
       "{1, 2, 4, 5, 6, 7}"
      ]
     },
     "execution_count": 42,
     "metadata": {},
     "output_type": "execute_result"
    }
   ],
   "source": [
    "s"
   ]
  },
  {
   "cell_type": "code",
   "execution_count": null,
   "id": "63dcde6a",
   "metadata": {},
   "outputs": [],
   "source": [
    "Difference (fark)\n",
    "\n",
    "\n",
    "Evet geldik şimdi kümelerdeki fark konusuna. s1 kümesi ile s2 kümesinin farkına bakacağız. (s1 – s2) veya (s1 \\ s2)"
   ]
  },
  {
   "cell_type": "code",
   "execution_count": 43,
   "id": "dd010d31",
   "metadata": {},
   "outputs": [],
   "source": [
    "s1 = {1, 5, 10}\n",
    "s2 = {2, 5, 3}"
   ]
  },
  {
   "cell_type": "code",
   "execution_count": 44,
   "id": "cefdedb7",
   "metadata": {},
   "outputs": [],
   "source": [
    "# s1'in s2'den farkı "
   ]
  },
  {
   "cell_type": "code",
   "execution_count": 45,
   "id": "93e3c2f0",
   "metadata": {},
   "outputs": [
    {
     "data": {
      "text/plain": [
       "{1, 10}"
      ]
     },
     "execution_count": 45,
     "metadata": {},
     "output_type": "execute_result"
    }
   ],
   "source": [
    "s1.difference(s2)"
   ]
  },
  {
   "cell_type": "code",
   "execution_count": 46,
   "id": "55871e71",
   "metadata": {},
   "outputs": [
    {
     "data": {
      "text/plain": [
       "{2, 3}"
      ]
     },
     "execution_count": 46,
     "metadata": {},
     "output_type": "execute_result"
    }
   ],
   "source": [
    "s2.difference(s1)"
   ]
  },
  {
   "cell_type": "code",
   "execution_count": 47,
   "id": "ab518af7",
   "metadata": {},
   "outputs": [],
   "source": [
    "#bunun yerine direkt - leri de kullanabiliriz."
   ]
  },
  {
   "cell_type": "code",
   "execution_count": 48,
   "id": "352beba1",
   "metadata": {},
   "outputs": [],
   "source": [
    "# farklarının birleşimi de alınabilir."
   ]
  },
  {
   "cell_type": "code",
   "execution_count": 49,
   "id": "85ed5f91",
   "metadata": {},
   "outputs": [],
   "source": [
    "# simetrik farkı"
   ]
  },
  {
   "cell_type": "code",
   "execution_count": 50,
   "id": "1ef76ef6",
   "metadata": {},
   "outputs": [
    {
     "data": {
      "text/plain": [
       "{1, 5, 10}"
      ]
     },
     "execution_count": 50,
     "metadata": {},
     "output_type": "execute_result"
    }
   ],
   "source": [
    "s1"
   ]
  },
  {
   "cell_type": "code",
   "execution_count": 51,
   "id": "26f954b6",
   "metadata": {},
   "outputs": [
    {
     "data": {
      "text/plain": [
       "{2, 3, 5}"
      ]
     },
     "execution_count": 51,
     "metadata": {},
     "output_type": "execute_result"
    }
   ],
   "source": [
    "s2"
   ]
  },
  {
   "cell_type": "code",
   "execution_count": 53,
   "id": "cdfc5264",
   "metadata": {},
   "outputs": [
    {
     "data": {
      "text/plain": [
       "{1, 2, 3, 10}"
      ]
     },
     "execution_count": 53,
     "metadata": {},
     "output_type": "execute_result"
    }
   ],
   "source": [
    "s2.symmetric_difference(s1)"
   ]
  },
  {
   "cell_type": "code",
   "execution_count": 54,
   "id": "925d1ff0",
   "metadata": {},
   "outputs": [
    {
     "data": {
      "text/plain": [
       "{1, 2, 3, 10}"
      ]
     },
     "execution_count": 54,
     "metadata": {},
     "output_type": "execute_result"
    }
   ],
   "source": [
    "s1.symmetric_difference(s2)"
   ]
  },
  {
   "cell_type": "code",
   "execution_count": 55,
   "id": "bf92bcb1",
   "metadata": {},
   "outputs": [],
   "source": [
    "#aynısıdır."
   ]
  },
  {
   "cell_type": "code",
   "execution_count": 56,
   "id": "ea6c4491",
   "metadata": {},
   "outputs": [],
   "source": [
    "# kesişim ise"
   ]
  },
  {
   "cell_type": "code",
   "execution_count": 57,
   "id": "587023c0",
   "metadata": {},
   "outputs": [
    {
     "data": {
      "text/plain": [
       "{5}"
      ]
     },
     "execution_count": 57,
     "metadata": {},
     "output_type": "execute_result"
    }
   ],
   "source": [
    "s1.intersection(s2)"
   ]
  },
  {
   "cell_type": "code",
   "execution_count": 58,
   "id": "e677a678",
   "metadata": {},
   "outputs": [
    {
     "data": {
      "text/plain": [
       "{5}"
      ]
     },
     "execution_count": 58,
     "metadata": {},
     "output_type": "execute_result"
    }
   ],
   "source": [
    "s2.intersection(s1)"
   ]
  },
  {
   "cell_type": "code",
   "execution_count": 59,
   "id": "9889c892",
   "metadata": {},
   "outputs": [],
   "source": [
    "# aynı dçndü gene."
   ]
  },
  {
   "cell_type": "code",
   "execution_count": 60,
   "id": "2cc514f9",
   "metadata": {},
   "outputs": [
    {
     "data": {
      "text/plain": [
       "{5}"
      ]
     },
     "execution_count": 60,
     "metadata": {},
     "output_type": "execute_result"
    }
   ],
   "source": [
    "s2 & s1"
   ]
  },
  {
   "cell_type": "code",
   "execution_count": 61,
   "id": "e5acf6ac",
   "metadata": {},
   "outputs": [
    {
     "data": {
      "text/plain": [
       "{5}"
      ]
     },
     "execution_count": 61,
     "metadata": {},
     "output_type": "execute_result"
    }
   ],
   "source": [
    "s1 - (s1 - s2)"
   ]
  },
  {
   "cell_type": "code",
   "execution_count": 62,
   "id": "cf577493",
   "metadata": {},
   "outputs": [],
   "source": [
    "# intersection yapıp değerini atamak için"
   ]
  },
  {
   "cell_type": "code",
   "execution_count": 63,
   "id": "f448c01f",
   "metadata": {},
   "outputs": [],
   "source": [
    "s1.intersection_update(s2)"
   ]
  },
  {
   "cell_type": "code",
   "execution_count": 64,
   "id": "df7f9178",
   "metadata": {},
   "outputs": [
    {
     "data": {
      "text/plain": [
       "{5}"
      ]
     },
     "execution_count": 64,
     "metadata": {},
     "output_type": "execute_result"
    }
   ],
   "source": [
    "s1"
   ]
  },
  {
   "cell_type": "code",
   "execution_count": 65,
   "id": "936fe96c",
   "metadata": {},
   "outputs": [
    {
     "data": {
      "text/plain": [
       "{2, 3, 5}"
      ]
     },
     "execution_count": 65,
     "metadata": {},
     "output_type": "execute_result"
    }
   ],
   "source": [
    "s2"
   ]
  },
  {
   "cell_type": "code",
   "execution_count": 66,
   "id": "a87e3ea1",
   "metadata": {},
   "outputs": [],
   "source": [
    "# birleşim"
   ]
  },
  {
   "cell_type": "code",
   "execution_count": 69,
   "id": "7a7dcd1c",
   "metadata": {},
   "outputs": [],
   "source": [
    "s1 = set([1, 5, 10])"
   ]
  },
  {
   "cell_type": "code",
   "execution_count": 70,
   "id": "a749724f",
   "metadata": {},
   "outputs": [
    {
     "data": {
      "text/plain": [
       "{1, 5, 10}"
      ]
     },
     "execution_count": 70,
     "metadata": {},
     "output_type": "execute_result"
    }
   ],
   "source": [
    "s1"
   ]
  },
  {
   "cell_type": "code",
   "execution_count": 71,
   "id": "9f8f0c98",
   "metadata": {},
   "outputs": [
    {
     "data": {
      "text/plain": [
       "{2, 3, 5}"
      ]
     },
     "execution_count": 71,
     "metadata": {},
     "output_type": "execute_result"
    }
   ],
   "source": [
    "s2"
   ]
  },
  {
   "cell_type": "code",
   "execution_count": 72,
   "id": "8ac4af70",
   "metadata": {},
   "outputs": [
    {
     "data": {
      "text/plain": [
       "{1, 2, 3, 5, 10}"
      ]
     },
     "execution_count": 72,
     "metadata": {},
     "output_type": "execute_result"
    }
   ],
   "source": [
    "s1.union(s2)"
   ]
  },
  {
   "cell_type": "code",
   "execution_count": 73,
   "id": "924212c6",
   "metadata": {},
   "outputs": [
    {
     "data": {
      "text/plain": [
       "{1, 2, 3, 5, 10}"
      ]
     },
     "execution_count": 73,
     "metadata": {},
     "output_type": "execute_result"
    }
   ],
   "source": [
    "s2.union(s1)"
   ]
  },
  {
   "cell_type": "code",
   "execution_count": 74,
   "id": "a807070e",
   "metadata": {},
   "outputs": [],
   "source": [
    "# bu şekilde yazılır."
   ]
  },
  {
   "cell_type": "code",
   "execution_count": 75,
   "id": "855f74be",
   "metadata": {},
   "outputs": [],
   "source": [
    "# s1 ve s2 nin ortak elemanlarının olup veya boş küme olup olmadığını döndüren bir metod var."
   ]
  },
  {
   "cell_type": "code",
   "execution_count": 76,
   "id": "722fe61e",
   "metadata": {},
   "outputs": [],
   "source": [
    "# set.isdisjoint(set2)"
   ]
  },
  {
   "cell_type": "code",
   "execution_count": 77,
   "id": "1f880ba9",
   "metadata": {},
   "outputs": [
    {
     "data": {
      "text/plain": [
       "False"
      ]
     },
     "execution_count": 77,
     "metadata": {},
     "output_type": "execute_result"
    }
   ],
   "source": [
    "s1.isdisjoint(s2)"
   ]
  },
  {
   "cell_type": "code",
   "execution_count": 78,
   "id": "9c2f95cb",
   "metadata": {},
   "outputs": [],
   "source": [
    "# eğer kesşimi boş küme olsaydı true döndürürdü boolean döndürür."
   ]
  },
  {
   "cell_type": "code",
   "execution_count": 79,
   "id": "d94c513a",
   "metadata": {},
   "outputs": [],
   "source": [
    "s3 = set([10 ,11])"
   ]
  },
  {
   "cell_type": "code",
   "execution_count": 80,
   "id": "5c0ddb75",
   "metadata": {},
   "outputs": [
    {
     "data": {
      "text/plain": [
       "True"
      ]
     },
     "execution_count": 80,
     "metadata": {},
     "output_type": "execute_result"
    }
   ],
   "source": [
    "s3.isdisjoint(s2)"
   ]
  },
  {
   "cell_type": "code",
   "execution_count": 85,
   "id": "9cc63db4",
   "metadata": {},
   "outputs": [],
   "source": [
    "s3 = set([2 , 5])"
   ]
  },
  {
   "cell_type": "code",
   "execution_count": 86,
   "id": "7b7a1859",
   "metadata": {},
   "outputs": [],
   "source": [
    "#alt küme subset"
   ]
  },
  {
   "cell_type": "code",
   "execution_count": 87,
   "id": "5a8e4354",
   "metadata": {},
   "outputs": [
    {
     "data": {
      "text/plain": [
       "False"
      ]
     },
     "execution_count": 87,
     "metadata": {},
     "output_type": "execute_result"
    }
   ],
   "source": [
    "s1.issubset(s2)"
   ]
  },
  {
   "cell_type": "code",
   "execution_count": 89,
   "id": "8569ea61",
   "metadata": {},
   "outputs": [
    {
     "data": {
      "text/plain": [
       "True"
      ]
     },
     "execution_count": 89,
     "metadata": {},
     "output_type": "execute_result"
    }
   ],
   "source": [
    "s3.issubset(s2)"
   ]
  },
  {
   "cell_type": "code",
   "execution_count": 90,
   "id": "20817216",
   "metadata": {},
   "outputs": [],
   "source": [
    "#issuperset ise üst kümesi mi diye kontrol eder."
   ]
  },
  {
   "cell_type": "code",
   "execution_count": 91,
   "id": "cf61f8db",
   "metadata": {},
   "outputs": [
    {
     "data": {
      "text/plain": [
       "True"
      ]
     },
     "execution_count": 91,
     "metadata": {},
     "output_type": "execute_result"
    }
   ],
   "source": [
    "s2.issuperset(s3)"
   ]
  },
  {
   "cell_type": "code",
   "execution_count": null,
   "id": "cf93fffc",
   "metadata": {},
   "outputs": [],
   "source": []
  }
 ],
 "metadata": {
  "kernelspec": {
   "display_name": "Python 3 (ipykernel)",
   "language": "python",
   "name": "python3"
  },
  "language_info": {
   "codemirror_mode": {
    "name": "ipython",
    "version": 3
   },
   "file_extension": ".py",
   "mimetype": "text/x-python",
   "name": "python",
   "nbconvert_exporter": "python",
   "pygments_lexer": "ipython3",
   "version": "3.9.12"
  }
 },
 "nbformat": 4,
 "nbformat_minor": 5
}
