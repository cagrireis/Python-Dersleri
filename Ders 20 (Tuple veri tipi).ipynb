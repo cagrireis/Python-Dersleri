{
 "cells": [
  {
   "cell_type": "code",
   "execution_count": null,
   "id": "2571b725",
   "metadata": {},
   "outputs": [],
   "source": [
    "Tuple\n",
    "\n",
    "\n",
    "tuple veri tipi listeler gibi birden çok veri tipini bir arada tutmamızı sağlar.\n",
    "\n",
    "\n",
    "listelerden farklı olarak tuple'lar immutabledır.\n",
    "\n",
    "\n",
    "Mesela bir deniz fenerinin konumunu belirtmek istiyoruz. bunun x ve y koordinat değerleri var (x,y). Deniz fenerini söküp götüremiyoruz, ben bu iki değerin sabit, değiştirilemez olmasını istiyorum. Burada bu iki değeri tutmak için tuple kullanmam mantıklı olabilir.\n",
    "\n",
    "\n",
    "Değişmeyeceğini bildiğim değerleri bir arada tutmak için.\n",
    "\n",
    "\n",
    "tuple'lar (element1,element2...) şeklinde tanımlanır.\n",
    "\n",
    "\n",
    "tuple'lar listeler gibi farklı veri yapılarında elemanlardan oluşabilir. Elemanları tuple bile olabilir."
   ]
  },
  {
   "cell_type": "code",
   "execution_count": 1,
   "id": "7f028cb9",
   "metadata": {},
   "outputs": [],
   "source": [
    "x = 10\n",
    "y = 34"
   ]
  },
  {
   "cell_type": "code",
   "execution_count": 2,
   "id": "ba8d1e74",
   "metadata": {},
   "outputs": [],
   "source": [
    "konum = (10, 34)"
   ]
  },
  {
   "cell_type": "code",
   "execution_count": 3,
   "id": "058cffb4",
   "metadata": {},
   "outputs": [
    {
     "data": {
      "text/plain": [
       "10"
      ]
     },
     "execution_count": 3,
     "metadata": {},
     "output_type": "execute_result"
    }
   ],
   "source": [
    "konum[0]"
   ]
  },
  {
   "cell_type": "code",
   "execution_count": 5,
   "id": "88c0fc63",
   "metadata": {},
   "outputs": [
    {
     "data": {
      "text/plain": [
       "34"
      ]
     },
     "execution_count": 5,
     "metadata": {},
     "output_type": "execute_result"
    }
   ],
   "source": [
    "konum[1]"
   ]
  },
  {
   "cell_type": "code",
   "execution_count": 6,
   "id": "7b69dee2",
   "metadata": {},
   "outputs": [
    {
     "data": {
      "text/plain": [
       "(10, 34)"
      ]
     },
     "execution_count": 6,
     "metadata": {},
     "output_type": "execute_result"
    }
   ],
   "source": [
    "konum[:]"
   ]
  },
  {
   "cell_type": "code",
   "execution_count": 8,
   "id": "2f59d5cb",
   "metadata": {},
   "outputs": [
    {
     "ename": "TypeError",
     "evalue": "'tuple' object does not support item assignment",
     "output_type": "error",
     "traceback": [
      "\u001b[1;31m---------------------------------------------------------------------------\u001b[0m",
      "\u001b[1;31mTypeError\u001b[0m                                 Traceback (most recent call last)",
      "Input \u001b[1;32mIn [8]\u001b[0m, in \u001b[0;36m<cell line: 1>\u001b[1;34m()\u001b[0m\n\u001b[1;32m----> 1\u001b[0m konum[\u001b[38;5;241m0\u001b[39m] \u001b[38;5;241m=\u001b[39m \u001b[38;5;241m300\u001b[39m\n",
      "\u001b[1;31mTypeError\u001b[0m: 'tuple' object does not support item assignment"
     ]
    }
   ],
   "source": [
    "konum[0] = 300 # değişemez. immutable!"
   ]
  },
  {
   "cell_type": "code",
   "execution_count": 9,
   "id": "daff3557",
   "metadata": {},
   "outputs": [],
   "source": [
    "t =((1,2), 3)"
   ]
  },
  {
   "cell_type": "code",
   "execution_count": 10,
   "id": "b5427723",
   "metadata": {},
   "outputs": [
    {
     "data": {
      "text/plain": [
       "((1, 2), 3)"
      ]
     },
     "execution_count": 10,
     "metadata": {},
     "output_type": "execute_result"
    }
   ],
   "source": [
    "t"
   ]
  },
  {
   "cell_type": "code",
   "execution_count": 11,
   "id": "117c337b",
   "metadata": {},
   "outputs": [
    {
     "data": {
      "text/plain": [
       "(1, 2)"
      ]
     },
     "execution_count": 11,
     "metadata": {},
     "output_type": "execute_result"
    }
   ],
   "source": [
    "t[0]"
   ]
  },
  {
   "cell_type": "code",
   "execution_count": 12,
   "id": "a239c691",
   "metadata": {},
   "outputs": [],
   "source": [
    "u = ([1,2,3],2,(1,2))"
   ]
  },
  {
   "cell_type": "code",
   "execution_count": 13,
   "id": "6a040dd4",
   "metadata": {},
   "outputs": [
    {
     "data": {
      "text/plain": [
       "([1, 2, 3], 2, (1, 2))"
      ]
     },
     "execution_count": 13,
     "metadata": {},
     "output_type": "execute_result"
    }
   ],
   "source": [
    "u"
   ]
  },
  {
   "cell_type": "code",
   "execution_count": 16,
   "id": "29b47749",
   "metadata": {},
   "outputs": [],
   "source": [
    "u[0][0] = 8"
   ]
  },
  {
   "cell_type": "code",
   "execution_count": 17,
   "id": "1dce75bc",
   "metadata": {},
   "outputs": [
    {
     "data": {
      "text/plain": [
       "([8, 2, 3], 2, (1, 2))"
      ]
     },
     "execution_count": 17,
     "metadata": {},
     "output_type": "execute_result"
    }
   ],
   "source": [
    "u"
   ]
  },
  {
   "cell_type": "code",
   "execution_count": 18,
   "id": "12908166",
   "metadata": {},
   "outputs": [],
   "source": [
    "# tuple içindeki mutable birimleri değiştirebiliriyoruz."
   ]
  },
  {
   "cell_type": "code",
   "execution_count": 19,
   "id": "b9c60ee7",
   "metadata": {},
   "outputs": [],
   "source": [
    "# tuple[][] ile içindekinin içindekine erişebiliyorum."
   ]
  },
  {
   "cell_type": "code",
   "execution_count": 20,
   "id": "cb3d00ba",
   "metadata": {},
   "outputs": [],
   "source": [
    "#sadece tuple değil liste içi listede de aynı iş geçerli."
   ]
  },
  {
   "cell_type": "markdown",
   "id": "3630a95c",
   "metadata": {},
   "source": [
    "### elemanların değerini değiştirmek"
   ]
  },
  {
   "cell_type": "code",
   "execution_count": 21,
   "id": "15c95179",
   "metadata": {},
   "outputs": [],
   "source": [
    "x = 2\n",
    "y = 3"
   ]
  },
  {
   "cell_type": "code",
   "execution_count": 22,
   "id": "4e4b0115",
   "metadata": {},
   "outputs": [],
   "source": [
    "#bunu şöyle yapabiliriz."
   ]
  },
  {
   "cell_type": "code",
   "execution_count": 23,
   "id": "fe958a13",
   "metadata": {},
   "outputs": [],
   "source": [
    "temp = x\n",
    "x = y\n",
    "y =  temp"
   ]
  },
  {
   "cell_type": "code",
   "execution_count": 27,
   "id": "9bfd8358",
   "metadata": {},
   "outputs": [
    {
     "data": {
      "text/plain": [
       "3"
      ]
     },
     "execution_count": 27,
     "metadata": {},
     "output_type": "execute_result"
    }
   ],
   "source": [
    "x\n"
   ]
  },
  {
   "cell_type": "code",
   "execution_count": 28,
   "id": "4c8b945d",
   "metadata": {},
   "outputs": [
    {
     "data": {
      "text/plain": [
       "2"
      ]
     },
     "execution_count": 28,
     "metadata": {},
     "output_type": "execute_result"
    }
   ],
   "source": [
    "y"
   ]
  },
  {
   "cell_type": "code",
   "execution_count": 29,
   "id": "9538dfe7",
   "metadata": {},
   "outputs": [],
   "source": [
    "#bunu tuplelar ile çok kısa şekilde yapabiliriz."
   ]
  },
  {
   "cell_type": "code",
   "execution_count": 31,
   "id": "f35641c7",
   "metadata": {},
   "outputs": [],
   "source": [
    "x = 2 \n",
    "y = 3"
   ]
  },
  {
   "cell_type": "code",
   "execution_count": 32,
   "id": "08f6209c",
   "metadata": {},
   "outputs": [],
   "source": [
    "(x,y) = (y,x)"
   ]
  },
  {
   "cell_type": "code",
   "execution_count": 33,
   "id": "6d3e91b6",
   "metadata": {},
   "outputs": [
    {
     "data": {
      "text/plain": [
       "3"
      ]
     },
     "execution_count": 33,
     "metadata": {},
     "output_type": "execute_result"
    }
   ],
   "source": [
    "x\n"
   ]
  },
  {
   "cell_type": "code",
   "execution_count": 34,
   "id": "b4e7833b",
   "metadata": {},
   "outputs": [
    {
     "data": {
      "text/plain": [
       "2"
      ]
     },
     "execution_count": 34,
     "metadata": {},
     "output_type": "execute_result"
    }
   ],
   "source": [
    "y"
   ]
  },
  {
   "cell_type": "code",
   "execution_count": 35,
   "id": "819699b8",
   "metadata": {},
   "outputs": [],
   "source": [
    "#tuple tanımlarken illa ki () kullanılmasıan gerek yoktur."
   ]
  },
  {
   "cell_type": "code",
   "execution_count": 36,
   "id": "ade5688e",
   "metadata": {},
   "outputs": [],
   "source": [
    "a = 1, 2, 3, 4"
   ]
  },
  {
   "cell_type": "code",
   "execution_count": 37,
   "id": "f36e7060",
   "metadata": {},
   "outputs": [
    {
     "data": {
      "text/plain": [
       "tuple"
      ]
     },
     "execution_count": 37,
     "metadata": {},
     "output_type": "execute_result"
    }
   ],
   "source": [
    "type(a)"
   ]
  },
  {
   "cell_type": "code",
   "execution_count": 38,
   "id": "8b796eb7",
   "metadata": {},
   "outputs": [],
   "source": [
    "#listler ile de eleman değiştirme işlemi yapılabilirt."
   ]
  },
  {
   "cell_type": "code",
   "execution_count": null,
   "id": "10b8a847",
   "metadata": {},
   "outputs": [],
   "source": []
  }
 ],
 "metadata": {
  "kernelspec": {
   "display_name": "Python 3 (ipykernel)",
   "language": "python",
   "name": "python3"
  },
  "language_info": {
   "codemirror_mode": {
    "name": "ipython",
    "version": 3
   },
   "file_extension": ".py",
   "mimetype": "text/x-python",
   "name": "python",
   "nbconvert_exporter": "python",
   "pygments_lexer": "ipython3",
   "version": "3.9.12"
  }
 },
 "nbformat": 4,
 "nbformat_minor": 5
}
