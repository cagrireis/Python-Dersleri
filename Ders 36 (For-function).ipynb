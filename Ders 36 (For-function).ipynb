{
 "cells": [
  {
   "cell_type": "code",
   "execution_count": null,
   "id": "a7887001",
   "metadata": {},
   "outputs": [],
   "source": [
    "Fonksiyonları Obje Olarak Kullanmak\n",
    "\n",
    "\n",
    "Python'da fonksiyonların first class function olduklarını konuşmuştuk.\n",
    "\n",
    "\n",
    "Şimdi bu mantığı kullanarak belirli fonksiyonları listenin elemanlarına uygulayacağız."
   ]
  },
  {
   "cell_type": "code",
   "execution_count": 1,
   "id": "ecfa723a",
   "metadata": {},
   "outputs": [],
   "source": [
    "l = [1, 2, 3, 4]"
   ]
  },
  {
   "cell_type": "code",
   "execution_count": 2,
   "id": "41e62ebf",
   "metadata": {},
   "outputs": [],
   "source": [
    "def apply(l, f):\n",
    "    \"\"\"\n",
    "    l bir liste, \n",
    "    f listenin tüm elemanlarına uygulanacak fonksiyon\n",
    "    sonunda listenin orijinali elemanlarına fonksiyonun uygulanmış haliyle güncellenir\n",
    "    \"\"\"\n",
    "    n = len(l)\n",
    "    \n",
    "    for i in range(n):\n",
    "        l[i] = f(l[i])"
   ]
  },
  {
   "cell_type": "code",
   "execution_count": 3,
   "id": "df2c9dc9",
   "metadata": {},
   "outputs": [],
   "source": [
    "def kare(x):\n",
    "    return x * x"
   ]
  },
  {
   "cell_type": "code",
   "execution_count": 4,
   "id": "53ee612d",
   "metadata": {},
   "outputs": [],
   "source": [
    "apply(l, kare)"
   ]
  },
  {
   "cell_type": "code",
   "execution_count": 6,
   "id": "85c4a3ba",
   "metadata": {},
   "outputs": [
    {
     "data": {
      "text/plain": [
       "[1, 4, 9, 16]"
      ]
     },
     "execution_count": 6,
     "metadata": {},
     "output_type": "execute_result"
    }
   ],
   "source": [
    "l #oldu bütün elemanlar fonksiyon içinden geçti ve değişti."
   ]
  },
  {
   "cell_type": "code",
   "execution_count": 7,
   "id": "0a1122b7",
   "metadata": {},
   "outputs": [],
   "source": [
    "l = [1,2,3,4]"
   ]
  },
  {
   "cell_type": "code",
   "execution_count": 8,
   "id": "39dc03d7",
   "metadata": {},
   "outputs": [],
   "source": [
    "def kup(x):\n",
    "    return x ** 3"
   ]
  },
  {
   "cell_type": "code",
   "execution_count": 9,
   "id": "045585c9",
   "metadata": {},
   "outputs": [],
   "source": [
    "apply(l, kup)"
   ]
  },
  {
   "cell_type": "code",
   "execution_count": 10,
   "id": "0c34218d",
   "metadata": {},
   "outputs": [
    {
     "data": {
      "text/plain": [
       "[1, 8, 27, 64]"
      ]
     },
     "execution_count": 10,
     "metadata": {},
     "output_type": "execute_result"
    }
   ],
   "source": [
    "l"
   ]
  },
  {
   "cell_type": "markdown",
   "id": "8d432342",
   "metadata": {},
   "source": [
    "### Fonksiyonlar Listesini Belirli Bir Değere Uygulamak"
   ]
  },
  {
   "cell_type": "code",
   "execution_count": 13,
   "id": "9b59b573",
   "metadata": {},
   "outputs": [],
   "source": [
    "def apply_funcs(f_list, x):\n",
    "    l = []\n",
    "    for f in f_list:\n",
    "        l.append(f(x))\n",
    "        \n",
    "    return l"
   ]
  },
  {
   "cell_type": "code",
   "execution_count": 15,
   "id": "6a855b3f",
   "metadata": {},
   "outputs": [
    {
     "data": {
      "text/plain": [
       "[25, 125]"
      ]
     },
     "execution_count": 15,
     "metadata": {},
     "output_type": "execute_result"
    }
   ],
   "source": [
    "apply_funcs([kare, kup], 5) # 5'in hem karesini aldık hem de kübünü aldık böylece."
   ]
  },
  {
   "cell_type": "code",
   "execution_count": 16,
   "id": "bd019269",
   "metadata": {},
   "outputs": [],
   "source": [
    "#görüldüğü üzere oldukça esnek python."
   ]
  },
  {
   "cell_type": "code",
   "execution_count": 17,
   "id": "259e599e",
   "metadata": {},
   "outputs": [],
   "source": [
    "def topla(x):\n",
    "    return x + 8"
   ]
  },
  {
   "cell_type": "code",
   "execution_count": null,
   "id": "29491ad7",
   "metadata": {},
   "outputs": [],
   "source": []
  }
 ],
 "metadata": {
  "kernelspec": {
   "display_name": "Python 3 (ipykernel)",
   "language": "python",
   "name": "python3"
  },
  "language_info": {
   "codemirror_mode": {
    "name": "ipython",
    "version": 3
   },
   "file_extension": ".py",
   "mimetype": "text/x-python",
   "name": "python",
   "nbconvert_exporter": "python",
   "pygments_lexer": "ipython3",
   "version": "3.9.12"
  }
 },
 "nbformat": 4,
 "nbformat_minor": 5
}
