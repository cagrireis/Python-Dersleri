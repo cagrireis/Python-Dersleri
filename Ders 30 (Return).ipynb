{
 "cells": [
  {
   "cell_type": "markdown",
   "id": "08cbe3ca",
   "metadata": {},
   "source": [
    "### RETURN\n",
    "Bir fonksiyonu çalıştırdığımızda onun sonucuyla bir şeyler yapmak isteyebilirim. Sonucu bana versin diye özellikle söylemem lazım ve bunu return keyword(anahtar kelime)'u ile sağlayacağız.\n",
    "return yazmasaydık fonksiyon hiç bir şey döndürmezdi.\n",
    "fonksiyon tanımladığımı Python'a anlatmak için yapım:\n",
    "def fonksiyonun_adı(input):\n",
    "\n",
    "öbür yapılarda da olduğu gibi, bir kod bloğunun belirttiğimiz yapıya ait olduğunu anlatmak için boşluk bırakarak içine yazmamız gerekiyor.\n",
    "Verdiğimiz değerin karesini alan bir fonksiyon yazalım.\n"
   ]
  },
  {
   "cell_type": "code",
   "execution_count": 2,
   "id": "5a244850",
   "metadata": {},
   "outputs": [],
   "source": [
    "def square(x):\n",
    "    x*x\n",
    "\n",
    "\n",
    "# fonksiyonu tanımladıktan sonra tanımladığımız adla onu çağırabiliriz. Yapımız şöyle olacak: fonksiyonun_adı(input), bir fonksiyonu çağırmak için inputları ()'ın içine yazmalıyız. Bazı durumlarda hiç input olmayabilir, bazı durumlarda birden çok olabilir."
   ]
  },
  {
   "cell_type": "code",
   "execution_count": 6,
   "id": "aca370dd",
   "metadata": {},
   "outputs": [],
   "source": [
    "square(3)"
   ]
  },
  {
   "cell_type": "code",
   "execution_count": 7,
   "id": "3eca8cfd",
   "metadata": {},
   "outputs": [],
   "source": [
    "a = square(3)"
   ]
  },
  {
   "cell_type": "code",
   "execution_count": 10,
   "id": "a7f8dc26",
   "metadata": {},
   "outputs": [],
   "source": [
    "a #olmadı çünkü return ile döndürmedik. veya print emri vermedik fonksiyon içine."
   ]
  },
  {
   "cell_type": "code",
   "execution_count": 11,
   "id": "0251aef7",
   "metadata": {},
   "outputs": [
    {
     "name": "stdout",
     "output_type": "stream",
     "text": [
      "None\n"
     ]
    }
   ],
   "source": [
    "print(a)"
   ]
  },
  {
   "cell_type": "code",
   "execution_count": 12,
   "id": "f418be03",
   "metadata": {},
   "outputs": [
    {
     "data": {
      "text/plain": [
       "NoneType"
      ]
     },
     "execution_count": 12,
     "metadata": {},
     "output_type": "execute_result"
    }
   ],
   "source": [
    "type(a)"
   ]
  },
  {
   "cell_type": "code",
   "execution_count": 13,
   "id": "4fb9cc8b",
   "metadata": {},
   "outputs": [
    {
     "data": {
      "text/plain": [
       "NoneType"
      ]
     },
     "execution_count": 13,
     "metadata": {},
     "output_type": "execute_result"
    }
   ],
   "source": [
    "type(square(3))"
   ]
  },
  {
   "cell_type": "code",
   "execution_count": 14,
   "id": "3d55633e",
   "metadata": {},
   "outputs": [],
   "source": [
    "def square(x):\n",
    "    \n",
    "    return x * x "
   ]
  },
  {
   "cell_type": "code",
   "execution_count": 15,
   "id": "ffb6cad6",
   "metadata": {},
   "outputs": [
    {
     "data": {
      "text/plain": [
       "9"
      ]
     },
     "execution_count": 15,
     "metadata": {},
     "output_type": "execute_result"
    }
   ],
   "source": [
    "square(3)"
   ]
  },
  {
   "cell_type": "code",
   "execution_count": 16,
   "id": "9f0ba312",
   "metadata": {},
   "outputs": [],
   "source": [
    "a =square(3)"
   ]
  },
  {
   "cell_type": "code",
   "execution_count": 17,
   "id": "ed948d2a",
   "metadata": {},
   "outputs": [
    {
     "data": {
      "text/plain": [
       "9"
      ]
     },
     "execution_count": 17,
     "metadata": {},
     "output_type": "execute_result"
    }
   ],
   "source": [
    "a"
   ]
  },
  {
   "cell_type": "code",
   "execution_count": 18,
   "id": "9cb76c1c",
   "metadata": {},
   "outputs": [
    {
     "data": {
      "text/plain": [
       "17"
      ]
     },
     "execution_count": 18,
     "metadata": {},
     "output_type": "execute_result"
    }
   ],
   "source": [
    "1 + square(4)"
   ]
  },
  {
   "cell_type": "code",
   "execution_count": 19,
   "id": "310fe16c",
   "metadata": {},
   "outputs": [],
   "source": [
    "def square(x):\n",
    "    \n",
    "    res = x * x\n",
    "    \n",
    "    return res"
   ]
  },
  {
   "cell_type": "code",
   "execution_count": 21,
   "id": "fa1f50c0",
   "metadata": {},
   "outputs": [
    {
     "data": {
      "text/plain": [
       "36"
      ]
     },
     "execution_count": 21,
     "metadata": {},
     "output_type": "execute_result"
    }
   ],
   "source": [
    "square(6)"
   ]
  },
  {
   "cell_type": "code",
   "execution_count": 22,
   "id": "4b492bc9",
   "metadata": {},
   "outputs": [],
   "source": [
    "# return kullanıp değer döndürdüğümüzde artık fonksiyonun içine değer girdiğimizde de o ifadeye değerin döndürdüğü değer eşit olur."
   ]
  },
  {
   "cell_type": "code",
   "execution_count": 24,
   "id": "bb3c4aae",
   "metadata": {},
   "outputs": [
    {
     "data": {
      "text/plain": [
       "256"
      ]
     },
     "execution_count": 24,
     "metadata": {},
     "output_type": "execute_result"
    }
   ],
   "source": [
    "square(square(4)) #gibi"
   ]
  },
  {
   "cell_type": "code",
   "execution_count": 25,
   "id": "8eb691be",
   "metadata": {},
   "outputs": [],
   "source": [
    "def weird():\n",
    "    return 5"
   ]
  },
  {
   "cell_type": "code",
   "execution_count": 26,
   "id": "46b34bc6",
   "metadata": {},
   "outputs": [
    {
     "data": {
      "text/plain": [
       "5"
      ]
     },
     "execution_count": 26,
     "metadata": {},
     "output_type": "execute_result"
    }
   ],
   "source": [
    "weird()"
   ]
  },
  {
   "cell_type": "code",
   "execution_count": 29,
   "id": "6aad13bc",
   "metadata": {},
   "outputs": [],
   "source": [
    "c = weird() #İNPUTSUZ."
   ]
  },
  {
   "cell_type": "code",
   "execution_count": 28,
   "id": "05265b3e",
   "metadata": {},
   "outputs": [
    {
     "data": {
      "text/plain": [
       "5"
      ]
     },
     "execution_count": 28,
     "metadata": {},
     "output_type": "execute_result"
    }
   ],
   "source": [
    "c"
   ]
  },
  {
   "cell_type": "markdown",
   "id": "c7ca58a9",
   "metadata": {},
   "source": [
    "### FONKSİYONLAR RETURN'DEN SONRA AŞAĞISINDAKİ KODLARI ÇALIŞTIRMAZ BREAK GİBİ."
   ]
  },
  {
   "cell_type": "code",
   "execution_count": 30,
   "id": "13697445",
   "metadata": {},
   "outputs": [],
   "source": [
    "def square(x):\n",
    "    \n",
    "    res = x * x \n",
    "    \n",
    "    return res\n",
    "\n",
    "    print(\"Square of {0} is {1}.\".format(x, res))"
   ]
  },
  {
   "cell_type": "code",
   "execution_count": 31,
   "id": "1afea136",
   "metadata": {},
   "outputs": [
    {
     "data": {
      "text/plain": [
       "25"
      ]
     },
     "execution_count": 31,
     "metadata": {},
     "output_type": "execute_result"
    }
   ],
   "source": [
    "square(5)"
   ]
  },
  {
   "cell_type": "code",
   "execution_count": 32,
   "id": "2f4bf88c",
   "metadata": {},
   "outputs": [],
   "source": [
    "# print çalışmadı çünkü return'ün altında."
   ]
  },
  {
   "cell_type": "code",
   "execution_count": 33,
   "id": "298f214e",
   "metadata": {},
   "outputs": [],
   "source": [
    "def square(x):\n",
    "    \n",
    "    res = x * x \n",
    "\n",
    "    print(\"Square of {0} is {1}.\".format(x, res))\n",
    "    \n",
    "    return res"
   ]
  },
  {
   "cell_type": "code",
   "execution_count": 34,
   "id": "367a41d6",
   "metadata": {},
   "outputs": [
    {
     "name": "stdout",
     "output_type": "stream",
     "text": [
      "Square of 14 is 196.\n"
     ]
    },
    {
     "data": {
      "text/plain": [
       "196"
      ]
     },
     "execution_count": 34,
     "metadata": {},
     "output_type": "execute_result"
    }
   ],
   "source": [
    "square(14)"
   ]
  },
  {
   "cell_type": "code",
   "execution_count": 35,
   "id": "ab6fec87",
   "metadata": {},
   "outputs": [],
   "source": [
    "# oldu."
   ]
  },
  {
   "cell_type": "code",
   "execution_count": 36,
   "id": "61de44a3",
   "metadata": {},
   "outputs": [
    {
     "name": "stdout",
     "output_type": "stream",
     "text": [
      "Square of 4 is 16.\n"
     ]
    }
   ],
   "source": [
    "d = square(4) + 2"
   ]
  },
  {
   "cell_type": "code",
   "execution_count": 37,
   "id": "2d29d4e6",
   "metadata": {},
   "outputs": [
    {
     "data": {
      "text/plain": [
       "18"
      ]
     },
     "execution_count": 37,
     "metadata": {},
     "output_type": "execute_result"
    }
   ],
   "source": [
    "d"
   ]
  },
  {
   "cell_type": "code",
   "execution_count": 38,
   "id": "fef9a9eb",
   "metadata": {},
   "outputs": [],
   "source": [
    "# hem print yaptı hem eşitledi herikas."
   ]
  },
  {
   "cell_type": "code",
   "execution_count": 39,
   "id": "91a5b367",
   "metadata": {},
   "outputs": [],
   "source": [
    "# yukarıda ha square(4) yazmışım ha 16 yazmışım python için aynı artık."
   ]
  },
  {
   "cell_type": "code",
   "execution_count": 41,
   "id": "348e6efa",
   "metadata": {},
   "outputs": [],
   "source": [
    "# fonksiyona dfurumsallık katma:"
   ]
  },
  {
   "cell_type": "code",
   "execution_count": 45,
   "id": "6a47fe71",
   "metadata": {},
   "outputs": [],
   "source": [
    "def f(x):\n",
    "    res = x * x\n",
    "    \n",
    "    if (x % 2 == 0):\n",
    "        return res\n",
    "    else:\n",
    "        return res + 10\n",
    "    \n",
    "    print(\"Square of\", x, \"is\", res) #yine çalışmadı print çünkü retun'ün altında."
   ]
  },
  {
   "cell_type": "code",
   "execution_count": 46,
   "id": "86a41fe0",
   "metadata": {},
   "outputs": [
    {
     "data": {
      "text/plain": [
       "19"
      ]
     },
     "execution_count": 46,
     "metadata": {},
     "output_type": "execute_result"
    }
   ],
   "source": [
    "f(3)"
   ]
  },
  {
   "cell_type": "code",
   "execution_count": 47,
   "id": "6b193ae1",
   "metadata": {},
   "outputs": [],
   "source": [
    "#başka bir örnek"
   ]
  },
  {
   "cell_type": "code",
   "execution_count": 64,
   "id": "3ef8c64f",
   "metadata": {},
   "outputs": [],
   "source": [
    "def f(x):\n",
    "    \n",
    "    res = x * x \n",
    "    \n",
    "    for _ in range(0, 10): # 1. adımda direkt return olduğundan sadece bir kere 20 ekleyebildi.\n",
    "        res = res + 20\n",
    "        \n",
    "        return res # break gibi.\n",
    "    \n",
    "        print(\"Hey\")"
   ]
  },
  {
   "cell_type": "code",
   "execution_count": 65,
   "id": "861b0670",
   "metadata": {},
   "outputs": [
    {
     "data": {
      "text/plain": [
       "84"
      ]
     },
     "execution_count": 65,
     "metadata": {},
     "output_type": "execute_result"
    }
   ],
   "source": [
    "f(8)"
   ]
  },
  {
   "cell_type": "code",
   "execution_count": 66,
   "id": "fa7bbae7",
   "metadata": {},
   "outputs": [],
   "source": [
    "#return altında print kaldığından gene bastırmadı."
   ]
  },
  {
   "cell_type": "code",
   "execution_count": 67,
   "id": "4b112389",
   "metadata": {},
   "outputs": [],
   "source": [
    "#bu arada önemli bir bilgi:\n"
   ]
  },
  {
   "cell_type": "code",
   "execution_count": 68,
   "id": "2ba51dcb",
   "metadata": {},
   "outputs": [],
   "source": [
    "# biz f(x) dediğimizde o yer tutan bir isim dışarıdaki herhangi bir x tanımlanmış ise onunla bir alakası yok."
   ]
  },
  {
   "cell_type": "code",
   "execution_count": 69,
   "id": "fbef82b6",
   "metadata": {},
   "outputs": [],
   "source": [
    "# şöyler yaparsak peki:"
   ]
  },
  {
   "cell_type": "code",
   "execution_count": 70,
   "id": "35bd816f",
   "metadata": {},
   "outputs": [],
   "source": [
    "def f(x):\n",
    "    \n",
    "    res = x * x \n",
    "    \n",
    "    for _ in range(0, 10): \n",
    "        res = res + 20\n",
    "        print(\"Hey\")\n",
    "        \n",
    "    return res "
   ]
  },
  {
   "cell_type": "code",
   "execution_count": 71,
   "id": "fd71f1e9",
   "metadata": {},
   "outputs": [
    {
     "name": "stdout",
     "output_type": "stream",
     "text": [
      "Hey\n",
      "Hey\n",
      "Hey\n",
      "Hey\n",
      "Hey\n",
      "Hey\n",
      "Hey\n",
      "Hey\n",
      "Hey\n",
      "Hey\n"
     ]
    },
    {
     "data": {
      "text/plain": [
       "225"
      ]
     },
     "execution_count": 71,
     "metadata": {},
     "output_type": "execute_result"
    }
   ],
   "source": [
    "f(5)"
   ]
  },
  {
   "cell_type": "code",
   "execution_count": 73,
   "id": "e6458e61",
   "metadata": {},
   "outputs": [],
   "source": [
    "# 10 defa iterasyona girdi 20 x 20 = 200 200 + 25 = 225"
   ]
  },
  {
   "cell_type": "code",
   "execution_count": 74,
   "id": "d0b4a353",
   "metadata": {},
   "outputs": [],
   "source": [
    "def f(x):\n",
    "    \n",
    "    l = []\n",
    "    res = x * x\n",
    "    for _ in range(0, 10):\n",
    "        res = res + 20\n",
    "        \n",
    "        l.append(res)\n",
    "        \n",
    "    return l"
   ]
  },
  {
   "cell_type": "code",
   "execution_count": 75,
   "id": "7b321fd9",
   "metadata": {},
   "outputs": [
    {
     "data": {
      "text/plain": [
       "[120, 140, 160, 180, 200, 220, 240, 260, 280, 300]"
      ]
     },
     "execution_count": 75,
     "metadata": {},
     "output_type": "execute_result"
    }
   ],
   "source": [
    "f(10)"
   ]
  },
  {
   "cell_type": "markdown",
   "id": "1af59384",
   "metadata": {},
   "source": [
    "### VOID FONKSIYONLARI"
   ]
  },
  {
   "cell_type": "code",
   "execution_count": 76,
   "id": "e2e0f11e",
   "metadata": {},
   "outputs": [],
   "source": [
    "# Return ü olmayan fonksiyonlardır."
   ]
  },
  {
   "cell_type": "code",
   "execution_count": 78,
   "id": "66ee76b8",
   "metadata": {},
   "outputs": [],
   "source": [
    "def f(x):\n",
    "    x = 2 #örnektir"
   ]
  },
  {
   "cell_type": "code",
   "execution_count": 79,
   "id": "083fc718",
   "metadata": {},
   "outputs": [],
   "source": [
    "f(2)"
   ]
  },
  {
   "cell_type": "code",
   "execution_count": 80,
   "id": "88b76f37",
   "metadata": {},
   "outputs": [
    {
     "data": {
      "text/plain": [
       "NoneType"
      ]
     },
     "execution_count": 80,
     "metadata": {},
     "output_type": "execute_result"
    }
   ],
   "source": [
    "type(f(2))"
   ]
  },
  {
   "cell_type": "code",
   "execution_count": 82,
   "id": "d4d97d6b",
   "metadata": {},
   "outputs": [
    {
     "ename": "TypeError",
     "evalue": "unsupported operand type(s) for +: 'NoneType' and 'int'",
     "output_type": "error",
     "traceback": [
      "\u001b[1;31m---------------------------------------------------------------------------\u001b[0m",
      "\u001b[1;31mTypeError\u001b[0m                                 Traceback (most recent call last)",
      "Input \u001b[1;32mIn [82]\u001b[0m, in \u001b[0;36m<cell line: 1>\u001b[1;34m()\u001b[0m\n\u001b[1;32m----> 1\u001b[0m \u001b[43mf\u001b[49m\u001b[43m(\u001b[49m\u001b[38;5;241;43m2\u001b[39;49m\u001b[43m)\u001b[49m\u001b[43m  \u001b[49m\u001b[38;5;241;43m+\u001b[39;49m\u001b[43m \u001b[49m\u001b[38;5;241;43m4\u001b[39;49m\n",
      "\u001b[1;31mTypeError\u001b[0m: unsupported operand type(s) for +: 'NoneType' and 'int'"
     ]
    }
   ],
   "source": [
    "f(2)  + 4 #nonotype çünkü."
   ]
  },
  {
   "cell_type": "code",
   "execution_count": 83,
   "id": "1345a591",
   "metadata": {},
   "outputs": [],
   "source": [
    "#bu kod değer döndürmüyür sadece kare alıp ekrana bastırıyor.\n"
   ]
  },
  {
   "cell_type": "code",
   "execution_count": 84,
   "id": "0bbd1808",
   "metadata": {},
   "outputs": [],
   "source": [
    "def square(x):\n",
    "    print(\"{0}'ın karesi {1}'dir.\".format(x, x*x))"
   ]
  },
  {
   "cell_type": "code",
   "execution_count": 85,
   "id": "1f905f94",
   "metadata": {},
   "outputs": [
    {
     "name": "stdout",
     "output_type": "stream",
     "text": [
      "5'ın karesi 25'dir.\n"
     ]
    }
   ],
   "source": [
    "square(5)"
   ]
  },
  {
   "cell_type": "code",
   "execution_count": 87,
   "id": "bba6e956",
   "metadata": {},
   "outputs": [
    {
     "name": "stdout",
     "output_type": "stream",
     "text": [
      "2'ın karesi 4'dir.\n"
     ]
    },
    {
     "data": {
      "text/plain": [
       "NoneType"
      ]
     },
     "execution_count": 87,
     "metadata": {},
     "output_type": "execute_result"
    }
   ],
   "source": [
    "type(square(2))#nonetype ama ekrana değer bastırıyor."
   ]
  },
  {
   "cell_type": "code",
   "execution_count": 88,
   "id": "c3597bf1",
   "metadata": {},
   "outputs": [],
   "source": [
    "# hem değer bastırıp hem de değer döndürebilirdi."
   ]
  },
  {
   "cell_type": "code",
   "execution_count": 92,
   "id": "8e8cee22",
   "metadata": {},
   "outputs": [],
   "source": [
    "def square(x):\n",
    "    res = x * x\n",
    "    print(\"{0}'ın karesi {1}'dir.\".format(x, res))\n",
    "    \n",
    "    return res # bu void değil mesela return'ü var çünkü."
   ]
  },
  {
   "cell_type": "code",
   "execution_count": 93,
   "id": "e37f0353",
   "metadata": {},
   "outputs": [
    {
     "name": "stdout",
     "output_type": "stream",
     "text": [
      "5'ın karesi 25'dir.\n"
     ]
    },
    {
     "data": {
      "text/plain": [
       "25"
      ]
     },
     "execution_count": 93,
     "metadata": {},
     "output_type": "execute_result"
    }
   ],
   "source": [
    "square(5)"
   ]
  },
  {
   "cell_type": "code",
   "execution_count": 94,
   "id": "79117131",
   "metadata": {},
   "outputs": [
    {
     "name": "stdout",
     "output_type": "stream",
     "text": [
      "5'ın karesi 25'dir.\n"
     ]
    },
    {
     "data": {
      "text/plain": [
       "30"
      ]
     },
     "execution_count": 94,
     "metadata": {},
     "output_type": "execute_result"
    }
   ],
   "source": [
    "5 + square(5)"
   ]
  },
  {
   "cell_type": "code",
   "execution_count": null,
   "id": "be1ed6a4",
   "metadata": {},
   "outputs": [],
   "source": []
  }
 ],
 "metadata": {
  "kernelspec": {
   "display_name": "Python 3 (ipykernel)",
   "language": "python",
   "name": "python3"
  },
  "language_info": {
   "codemirror_mode": {
    "name": "ipython",
    "version": 3
   },
   "file_extension": ".py",
   "mimetype": "text/x-python",
   "name": "python",
   "nbconvert_exporter": "python",
   "pygments_lexer": "ipython3",
   "version": "3.9.12"
  }
 },
 "nbformat": 4,
 "nbformat_minor": 5
}
