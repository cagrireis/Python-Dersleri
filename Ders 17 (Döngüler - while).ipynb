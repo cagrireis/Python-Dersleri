{
 "cells": [
  {
   "cell_type": "code",
   "execution_count": 1,
   "id": "7155a154",
   "metadata": {},
   "outputs": [],
   "source": [
    "# If'e benzer if de şart sağlanırsa bir kere çalışır while'da şart sağlandığı sürece döner."
   ]
  },
  {
   "cell_type": "code",
   "execution_count": 3,
   "id": "a4f63561",
   "metadata": {},
   "outputs": [
    {
     "name": "stdout",
     "output_type": "stream",
     "text": [
      "Sayı girin: -2\n",
      "Sayınız negatif lütfen pozitif bir sayı girin.\n",
      "Sayı girin: -3\n",
      "Sayınız negatif lütfen pozitif bir sayı girin.\n",
      "Sayı girin: 2\n",
      "Sayınız pozitif ve 2\n"
     ]
    }
   ],
   "source": [
    "x = int(input(\"Sayı girin: \"))\n",
    "\n",
    "while (x < 0):\n",
    "    print(\"Sayınız negatif lütfen pozitif bir sayı girin.\")\n",
    "    x = int(input(\"Sayı girin: \"))\n",
    "\n",
    "print(\"Sayınız pozitif ve {0}\".format(x))"
   ]
  },
  {
   "cell_type": "code",
   "execution_count": 1,
   "id": "f17b687f",
   "metadata": {},
   "outputs": [
    {
     "name": "stdout",
     "output_type": "stream",
     "text": [
      "0\n",
      "1\n",
      "2\n"
     ]
    }
   ],
   "source": [
    "x = 0\n",
    "\n",
    "while (x < 3):\n",
    "    print(x)\n",
    "    x = x + 1"
   ]
  },
  {
   "cell_type": "code",
   "execution_count": 4,
   "id": "4184107f",
   "metadata": {},
   "outputs": [
    {
     "name": "stdout",
     "output_type": "stream",
     "text": [
      "5050\n"
     ]
    }
   ],
   "source": [
    "toplam = 0\n",
    "\n",
    "x = 0\n",
    "\n",
    "while (x <= 100):\n",
    "    toplam += x\n",
    "    x += 1\n",
    "\n",
    "print(toplam)"
   ]
  },
  {
   "cell_type": "code",
   "execution_count": 5,
   "id": "d6b267f9",
   "metadata": {},
   "outputs": [],
   "source": [
    "# while'da kontrol çok öenmli yoksa loop olur."
   ]
  },
  {
   "cell_type": "code",
   "execution_count": null,
   "id": "499534ee",
   "metadata": {},
   "outputs": [],
   "source": []
  }
 ],
 "metadata": {
  "kernelspec": {
   "display_name": "Python 3 (ipykernel)",
   "language": "python",
   "name": "python3"
  },
  "language_info": {
   "codemirror_mode": {
    "name": "ipython",
    "version": 3
   },
   "file_extension": ".py",
   "mimetype": "text/x-python",
   "name": "python",
   "nbconvert_exporter": "python",
   "pygments_lexer": "ipython3",
   "version": "3.9.12"
  }
 },
 "nbformat": 4,
 "nbformat_minor": 5
}
