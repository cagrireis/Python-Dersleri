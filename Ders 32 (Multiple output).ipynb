{
 "cells": [
  {
   "cell_type": "code",
   "execution_count": null,
   "id": "d33d1a04",
   "metadata": {},
   "outputs": [],
   "source": [
    "Birden Çok Input\n",
    "\n",
    "\n",
    "Fonksiyonların birden çok parametresi olabilir."
   ]
  },
  {
   "cell_type": "code",
   "execution_count": 1,
   "id": "f15347b6",
   "metadata": {},
   "outputs": [],
   "source": [
    "def power(x, y):\n",
    "    res = x ** y\n",
    "    \n",
    "    return res"
   ]
  },
  {
   "cell_type": "code",
   "execution_count": 4,
   "id": "114a70bc",
   "metadata": {},
   "outputs": [
    {
     "data": {
      "text/plain": [
       "8"
      ]
     },
     "execution_count": 4,
     "metadata": {},
     "output_type": "execute_result"
    }
   ],
   "source": [
    "power(2, 3) #birden çok input alan"
   ]
  },
  {
   "cell_type": "markdown",
   "id": "243b7eb2",
   "metadata": {},
   "source": [
    "### BİRDEN ÇOK OUTPUT VEREN FONKSİYONLAR"
   ]
  },
  {
   "cell_type": "code",
   "execution_count": 5,
   "id": "343294b4",
   "metadata": {},
   "outputs": [],
   "source": [
    "def f(x):\n",
    "    return 2 * x, 10 * x"
   ]
  },
  {
   "cell_type": "code",
   "execution_count": 6,
   "id": "e562b53a",
   "metadata": {},
   "outputs": [
    {
     "data": {
      "text/plain": [
       "(12, 60)"
      ]
     },
     "execution_count": 6,
     "metadata": {},
     "output_type": "execute_result"
    }
   ],
   "source": [
    "f(6)"
   ]
  },
  {
   "cell_type": "code",
   "execution_count": 7,
   "id": "871dae2b",
   "metadata": {},
   "outputs": [],
   "source": [
    "# sonuç tuple olarak döndü."
   ]
  },
  {
   "cell_type": "code",
   "execution_count": 8,
   "id": "949edb04",
   "metadata": {},
   "outputs": [
    {
     "data": {
      "text/plain": [
       "tuple"
      ]
     },
     "execution_count": 8,
     "metadata": {},
     "output_type": "execute_result"
    }
   ],
   "source": [
    "type(f(6))"
   ]
  },
  {
   "cell_type": "code",
   "execution_count": null,
   "id": "53cdb496",
   "metadata": {},
   "outputs": [],
   "source": [
    "bunu farklı değişkenlere eşitleyebilirim."
   ]
  },
  {
   "cell_type": "code",
   "execution_count": 10,
   "id": "f5224fb7",
   "metadata": {},
   "outputs": [],
   "source": [
    "x,y = f(6)"
   ]
  },
  {
   "cell_type": "code",
   "execution_count": 11,
   "id": "85077556",
   "metadata": {},
   "outputs": [
    {
     "data": {
      "text/plain": [
       "12"
      ]
     },
     "execution_count": 11,
     "metadata": {},
     "output_type": "execute_result"
    }
   ],
   "source": [
    "x"
   ]
  },
  {
   "cell_type": "code",
   "execution_count": 12,
   "id": "15d7f316",
   "metadata": {},
   "outputs": [
    {
     "data": {
      "text/plain": [
       "60"
      ]
     },
     "execution_count": 12,
     "metadata": {},
     "output_type": "execute_result"
    }
   ],
   "source": [
    "y"
   ]
  },
  {
   "cell_type": "code",
   "execution_count": 14,
   "id": "cbc3e479",
   "metadata": {},
   "outputs": [],
   "source": [
    "def f(x, y):\n",
    "    return 2 * x * y, (10 * x) ** y "
   ]
  },
  {
   "cell_type": "code",
   "execution_count": 15,
   "id": "1efd8477",
   "metadata": {},
   "outputs": [
    {
     "data": {
      "text/plain": [
       "(40, 10000)"
      ]
     },
     "execution_count": 15,
     "metadata": {},
     "output_type": "execute_result"
    }
   ],
   "source": [
    "f(10 , 2)"
   ]
  },
  {
   "cell_type": "code",
   "execution_count": 16,
   "id": "6284d517",
   "metadata": {},
   "outputs": [],
   "source": [
    "a, b = f(10, 2)"
   ]
  },
  {
   "cell_type": "code",
   "execution_count": 17,
   "id": "b5eafb44",
   "metadata": {},
   "outputs": [
    {
     "data": {
      "text/plain": [
       "40"
      ]
     },
     "execution_count": 17,
     "metadata": {},
     "output_type": "execute_result"
    }
   ],
   "source": [
    "a"
   ]
  },
  {
   "cell_type": "code",
   "execution_count": 18,
   "id": "99d8f37b",
   "metadata": {},
   "outputs": [
    {
     "data": {
      "text/plain": [
       "10000"
      ]
     },
     "execution_count": 18,
     "metadata": {},
     "output_type": "execute_result"
    }
   ],
   "source": [
    "b\n"
   ]
  },
  {
   "cell_type": "code",
   "execution_count": null,
   "id": "286270db",
   "metadata": {},
   "outputs": [],
   "source": []
  }
 ],
 "metadata": {
  "kernelspec": {
   "display_name": "Python 3 (ipykernel)",
   "language": "python",
   "name": "python3"
  },
  "language_info": {
   "codemirror_mode": {
    "name": "ipython",
    "version": 3
   },
   "file_extension": ".py",
   "mimetype": "text/x-python",
   "name": "python",
   "nbconvert_exporter": "python",
   "pygments_lexer": "ipython3",
   "version": "3.9.12"
  }
 },
 "nbformat": 4,
 "nbformat_minor": 5
}
