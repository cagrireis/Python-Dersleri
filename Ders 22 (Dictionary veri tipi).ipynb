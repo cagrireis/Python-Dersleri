{
 "cells": [
  {
   "cell_type": "code",
   "execution_count": null,
   "id": "33a5554e",
   "metadata": {},
   "outputs": [],
   "source": [
    "Dictionaries\n",
    "\n",
    "\n",
    "Listeler bize bir arada tutulması anlamlı olacak verileri bir arada tutma gücü verir.\n",
    "\n",
    "\n",
    "Mesela bir sınıftaki 3 öğrencinin sınavdan aldıkları notlar:\n",
    "\n",
    "\n",
    "notlar = [80,72,95]\n",
    "\n",
    "\n",
    "Bu listedeki 1. eleman ilk öğrenciyi, 2. eleman 2. öğrenciyi, 3. eleman...\n",
    "\n",
    "\n",
    "Ben aynı zamanda bu öğrencilerin isimlerini de tutmak istiyorsam, isimleri için ayrı bir liste oluşturmam lazım. Kuracağım mantık için bu iki listenin eleman sayısı aynı olmalı. notlar[0] bana ilk öğrencinin notunu, isim[0] bana ilk öğrencinin notunu verecek."
   ]
  },
  {
   "cell_type": "code",
   "execution_count": 1,
   "id": "dbc2a7cc",
   "metadata": {},
   "outputs": [],
   "source": [
    "notlar = [80, 72 , 95]"
   ]
  },
  {
   "cell_type": "code",
   "execution_count": 2,
   "id": "e1705e89",
   "metadata": {},
   "outputs": [],
   "source": [
    "isim = [\"Deniz\", \"Ege\", \"Gizem\"]"
   ]
  },
  {
   "cell_type": "code",
   "execution_count": 3,
   "id": "3f9b44a1",
   "metadata": {},
   "outputs": [
    {
     "data": {
      "text/plain": [
       "'Deniz'"
      ]
     },
     "execution_count": 3,
     "metadata": {},
     "output_type": "execute_result"
    }
   ],
   "source": [
    "isim[0]"
   ]
  },
  {
   "cell_type": "code",
   "execution_count": 4,
   "id": "0703b0af",
   "metadata": {},
   "outputs": [
    {
     "data": {
      "text/plain": [
       "80"
      ]
     },
     "execution_count": 4,
     "metadata": {},
     "output_type": "execute_result"
    }
   ],
   "source": [
    "notlar[0]"
   ]
  },
  {
   "cell_type": "code",
   "execution_count": 6,
   "id": "681817ad",
   "metadata": {},
   "outputs": [
    {
     "name": "stdout",
     "output_type": "stream",
     "text": [
      "Deniz Adlı öğrencinin notu: 80\n"
     ]
    }
   ],
   "source": [
    "print(isim[0], \"Adlı öğrencinin notu:\", notlar[0])"
   ]
  },
  {
   "cell_type": "code",
   "execution_count": 7,
   "id": "45d2e3a4",
   "metadata": {},
   "outputs": [],
   "source": [
    "no = [703, 408, 690]"
   ]
  },
  {
   "cell_type": "code",
   "execution_count": 8,
   "id": "97d8929c",
   "metadata": {},
   "outputs": [
    {
     "data": {
      "text/plain": [
       "'Deniz'"
      ]
     },
     "execution_count": 8,
     "metadata": {},
     "output_type": "execute_result"
    }
   ],
   "source": [
    "isim[0]"
   ]
  },
  {
   "cell_type": "code",
   "execution_count": 9,
   "id": "2d84cff4",
   "metadata": {},
   "outputs": [
    {
     "data": {
      "text/plain": [
       "703"
      ]
     },
     "execution_count": 9,
     "metadata": {},
     "output_type": "execute_result"
    }
   ],
   "source": [
    "no[0]"
   ]
  },
  {
   "cell_type": "code",
   "execution_count": 10,
   "id": "def7f344",
   "metadata": {},
   "outputs": [
    {
     "data": {
      "text/plain": [
       "80"
      ]
     },
     "execution_count": 10,
     "metadata": {},
     "output_type": "execute_result"
    }
   ],
   "source": [
    "notlar[0]"
   ]
  },
  {
   "cell_type": "code",
   "execution_count": null,
   "id": "31d3ce0f",
   "metadata": {},
   "outputs": [],
   "source": [
    "Her farklı bilgi için yeni bir liste oluşturmam gerekiyor.\n",
    "\n",
    "\n",
    "Aynı elemanı ifade eden mantıklar listeler arası aynı indexte tutuluyor. (isim[0]'ın notu notlar[0])\n",
    "\n",
    "\n",
    "Bu yapılabilir ama optimal olmayan bir yaklaşım. Karışıklık çıkması çok muhtemel.\n",
    "\n",
    "\n",
    "İstediğim kısmı almanın daha kolay bir yolu olabilir mi? Sadece bir veri yapısı kullansam... Ayrı ayrı listeler kullanmasam...\n",
    "\n",
    "\n",
    "Evet bunu yapabiliriz! Bunun için dictionary veri yapısını göreceğiz.\n",
    "\n",
    "\n",
    "Dictionary yapısının elemanlarına erişmek için belirli keyler kullanacağız ve o da bize value'lar verecek.\n",
    "\n",
    "\n",
    "dictionary'leri süslü parantez {} ile belirteceğiz.\n",
    "\n",
    "\n",
    "Formumuz {key1:value1, key2:value2...} şeklinde olacak.\n",
    "\n",
    "\n",
    "Elemanlarına ulaşmak için öbür non-scalar veri tiplerinde yaptığımız gibi [] kullanacağız. Ama - dictionary'lerin elemanlarına ulaşmak için belirlediğimiz keyleri kullanacağız, integer indexing değil.\n",
    "\n",
    "\n",
    "dictionary'lerin keyleri immutable herhangi bir yapıda olabilir. value'lar mutable da immutable da olabilir. int, float, bool, string, list, tuple, set, even dictionaries itself!\n"
   ]
  },
  {
   "cell_type": "code",
   "execution_count": 11,
   "id": "d787d605",
   "metadata": {},
   "outputs": [],
   "source": [
    "notlar = {\"Deniz\":80, \"Ege\":72, \"Gizem\":95}"
   ]
  },
  {
   "cell_type": "code",
   "execution_count": 12,
   "id": "1858ff2e",
   "metadata": {},
   "outputs": [
    {
     "data": {
      "text/plain": [
       "80"
      ]
     },
     "execution_count": 12,
     "metadata": {},
     "output_type": "execute_result"
    }
   ],
   "source": [
    "notlar[\"Deniz\"]"
   ]
  },
  {
   "cell_type": "code",
   "execution_count": 13,
   "id": "ab422264",
   "metadata": {},
   "outputs": [],
   "source": [
    "# index yok key ve value var."
   ]
  },
  {
   "cell_type": "code",
   "execution_count": 14,
   "id": "809922ca",
   "metadata": {},
   "outputs": [],
   "source": [
    "ogrenciler = {\"Deniz\":{\"not\":80, \"no\":703}, \"Ege\":{\"not\":72, \"no\":408}, \"Gizem\":{\"not\":95, \"no\":690}}"
   ]
  },
  {
   "cell_type": "code",
   "execution_count": 19,
   "id": "f32ae71a",
   "metadata": {},
   "outputs": [
    {
     "data": {
      "text/plain": [
       "'80 408'"
      ]
     },
     "execution_count": 19,
     "metadata": {},
     "output_type": "execute_result"
    }
   ],
   "source": [
    "str(ogrenciler[\"Deniz\"][\"not\"]) + \" \" + str(ogrenciler[\"Ege\"][\"no\"])"
   ]
  },
  {
   "cell_type": "code",
   "execution_count": 21,
   "id": "8fabe5b2",
   "metadata": {},
   "outputs": [
    {
     "data": {
      "text/plain": [
       "{'not': 72, 'no': 408}"
      ]
     },
     "execution_count": 21,
     "metadata": {},
     "output_type": "execute_result"
    }
   ],
   "source": [
    "ogrenciler[\"Ege\"]"
   ]
  },
  {
   "cell_type": "code",
   "execution_count": 22,
   "id": "6a4bc948",
   "metadata": {},
   "outputs": [
    {
     "data": {
      "text/plain": [
       "408"
      ]
     },
     "execution_count": 22,
     "metadata": {},
     "output_type": "execute_result"
    }
   ],
   "source": [
    "ogrenciler[\"Ege\"][\"no\"]"
   ]
  },
  {
   "cell_type": "code",
   "execution_count": 23,
   "id": "0ed52a50",
   "metadata": {},
   "outputs": [],
   "source": [
    "# key yoksa hata döner."
   ]
  },
  {
   "cell_type": "code",
   "execution_count": 24,
   "id": "5f118877",
   "metadata": {},
   "outputs": [],
   "source": [
    "# dictionarylerde indexing yok."
   ]
  },
  {
   "cell_type": "markdown",
   "id": "4d70daaa",
   "metadata": {},
   "source": [
    "### value değerini değiştirmek dict'ler mutable dır"
   ]
  },
  {
   "cell_type": "code",
   "execution_count": 25,
   "id": "86c21569",
   "metadata": {},
   "outputs": [],
   "source": [
    "notlar[\"Ege\"] = notlar[\"Ege\"] + 5"
   ]
  },
  {
   "cell_type": "code",
   "execution_count": 27,
   "id": "a4020fcf",
   "metadata": {},
   "outputs": [
    {
     "data": {
      "text/plain": [
       "77"
      ]
     },
     "execution_count": 27,
     "metadata": {},
     "output_type": "execute_result"
    }
   ],
   "source": [
    "notlar[\"Ege\"] # güncellendi."
   ]
  },
  {
   "cell_type": "markdown",
   "id": "92b2c6d7",
   "metadata": {},
   "source": [
    "### ELEMAN EKLEMEK:"
   ]
  },
  {
   "cell_type": "code",
   "execution_count": 28,
   "id": "37aba134",
   "metadata": {},
   "outputs": [],
   "source": [
    "notlar[\"Mert\"] = 100"
   ]
  },
  {
   "cell_type": "code",
   "execution_count": 31,
   "id": "b4a9e2b2",
   "metadata": {},
   "outputs": [
    {
     "data": {
      "text/plain": [
       "{'Deniz': 80, 'Ege': 77, 'Gizem': 95, 'Mert': 100}"
      ]
     },
     "execution_count": 31,
     "metadata": {},
     "output_type": "execute_result"
    }
   ],
   "source": [
    "notlar # gayet kolay. Eklendi."
   ]
  },
  {
   "cell_type": "markdown",
   "id": "0944cd0b",
   "metadata": {},
   "source": [
    "### ELEMAN SİLMEK"
   ]
  },
  {
   "cell_type": "code",
   "execution_count": 32,
   "id": "9744b5e4",
   "metadata": {},
   "outputs": [],
   "source": [
    "# del keywordü ile sileriz."
   ]
  },
  {
   "cell_type": "code",
   "execution_count": 33,
   "id": "aca9253e",
   "metadata": {},
   "outputs": [],
   "source": [
    "del notlar[\"Mert\"]"
   ]
  },
  {
   "cell_type": "code",
   "execution_count": 34,
   "id": "f22f435c",
   "metadata": {},
   "outputs": [
    {
     "data": {
      "text/plain": [
       "{'Deniz': 80, 'Ege': 77, 'Gizem': 95}"
      ]
     },
     "execution_count": 34,
     "metadata": {},
     "output_type": "execute_result"
    }
   ],
   "source": [
    "notlar"
   ]
  },
  {
   "cell_type": "markdown",
   "id": "98782263",
   "metadata": {},
   "source": [
    "### SADECE İMMUTABLE OLAN VERİLER KEY OLABİLİR LİST KEY OLAMAZ."
   ]
  },
  {
   "cell_type": "code",
   "execution_count": 36,
   "id": "c2a109d5",
   "metadata": {},
   "outputs": [],
   "source": [
    "d = {1:2, 3:\"d\"}"
   ]
  },
  {
   "cell_type": "code",
   "execution_count": 37,
   "id": "b9528428",
   "metadata": {},
   "outputs": [
    {
     "data": {
      "text/plain": [
       "{1: 2, 3: 'd'}"
      ]
     },
     "execution_count": 37,
     "metadata": {},
     "output_type": "execute_result"
    }
   ],
   "source": [
    "d "
   ]
  },
  {
   "cell_type": "code",
   "execution_count": 38,
   "id": "bb5d1f9b",
   "metadata": {},
   "outputs": [
    {
     "data": {
      "text/plain": [
       "2"
      ]
     },
     "execution_count": 38,
     "metadata": {},
     "output_type": "execute_result"
    }
   ],
   "source": [
    "d[1]"
   ]
  },
  {
   "cell_type": "code",
   "execution_count": 39,
   "id": "d3163eee",
   "metadata": {},
   "outputs": [
    {
     "data": {
      "text/plain": [
       "'d'"
      ]
     },
     "execution_count": 39,
     "metadata": {},
     "output_type": "execute_result"
    }
   ],
   "source": [
    "d[3]"
   ]
  },
  {
   "cell_type": "code",
   "execution_count": 40,
   "id": "102763ec",
   "metadata": {},
   "outputs": [],
   "source": [
    "d2 = {(1,2):\"a\", (4,5):[1, 2, 3]}"
   ]
  },
  {
   "cell_type": "code",
   "execution_count": 41,
   "id": "468f1884",
   "metadata": {},
   "outputs": [
    {
     "data": {
      "text/plain": [
       "'a'"
      ]
     },
     "execution_count": 41,
     "metadata": {},
     "output_type": "execute_result"
    }
   ],
   "source": [
    "d2[(1,2)]"
   ]
  },
  {
   "cell_type": "code",
   "execution_count": 42,
   "id": "26d6ac09",
   "metadata": {},
   "outputs": [
    {
     "data": {
      "text/plain": [
       "[1, 2, 3]"
      ]
     },
     "execution_count": 42,
     "metadata": {},
     "output_type": "execute_result"
    }
   ],
   "source": [
    "d2[4,5]"
   ]
  },
  {
   "cell_type": "code",
   "execution_count": 43,
   "id": "aca96b3c",
   "metadata": {},
   "outputs": [],
   "source": [
    "#KEY OLARAK LİST VERİLMEZ UNUTMA!"
   ]
  },
  {
   "cell_type": "code",
   "execution_count": 45,
   "id": "cba92b07",
   "metadata": {},
   "outputs": [
    {
     "ename": "TypeError",
     "evalue": "unhashable type: 'list'",
     "output_type": "error",
     "traceback": [
      "\u001b[1;31m---------------------------------------------------------------------------\u001b[0m",
      "\u001b[1;31mTypeError\u001b[0m                                 Traceback (most recent call last)",
      "Input \u001b[1;32mIn [45]\u001b[0m, in \u001b[0;36m<cell line: 1>\u001b[1;34m()\u001b[0m\n\u001b[1;32m----> 1\u001b[0m d3 \u001b[38;5;241m=\u001b[39m {[\u001b[38;5;241m1\u001b[39m,\u001b[38;5;241m2\u001b[39m]:\u001b[38;5;124m\"\u001b[39m\u001b[38;5;124ma\u001b[39m\u001b[38;5;124m\"\u001b[39m}\n",
      "\u001b[1;31mTypeError\u001b[0m: unhashable type: 'list'"
     ]
    }
   ],
   "source": [
    "d3 = {[1,2]:\"a\"} #b uda örneği."
   ]
  },
  {
   "cell_type": "markdown",
   "id": "aef5befb",
   "metadata": {},
   "source": [
    "### BOŞ DİCTİONARY YARATMAK."
   ]
  },
  {
   "cell_type": "code",
   "execution_count": 46,
   "id": "c0fdfb96",
   "metadata": {},
   "outputs": [],
   "source": [
    "d = {}"
   ]
  },
  {
   "cell_type": "code",
   "execution_count": 47,
   "id": "45f71aff",
   "metadata": {},
   "outputs": [
    {
     "data": {
      "text/plain": [
       "{}"
      ]
     },
     "execution_count": 47,
     "metadata": {},
     "output_type": "execute_result"
    }
   ],
   "source": [
    "d"
   ]
  },
  {
   "cell_type": "code",
   "execution_count": 48,
   "id": "30afe25a",
   "metadata": {},
   "outputs": [],
   "source": [
    "d[\"1\"] = \"a\""
   ]
  },
  {
   "cell_type": "code",
   "execution_count": 49,
   "id": "6803097b",
   "metadata": {},
   "outputs": [
    {
     "data": {
      "text/plain": [
       "{'1': 'a'}"
      ]
     },
     "execution_count": 49,
     "metadata": {},
     "output_type": "execute_result"
    }
   ],
   "source": [
    "d"
   ]
  },
  {
   "cell_type": "markdown",
   "id": "472fc064",
   "metadata": {},
   "source": [
    "### değer var mı diye sorgulamak"
   ]
  },
  {
   "cell_type": "code",
   "execution_count": 50,
   "id": "91e313d0",
   "metadata": {},
   "outputs": [
    {
     "data": {
      "text/plain": [
       "{'Deniz': 80, 'Ege': 77, 'Gizem': 95}"
      ]
     },
     "execution_count": 50,
     "metadata": {},
     "output_type": "execute_result"
    }
   ],
   "source": [
    "notlar"
   ]
  },
  {
   "cell_type": "code",
   "execution_count": 51,
   "id": "6a4b7a3a",
   "metadata": {},
   "outputs": [
    {
     "data": {
      "text/plain": [
       "False"
      ]
     },
     "execution_count": 51,
     "metadata": {},
     "output_type": "execute_result"
    }
   ],
   "source": [
    "\"Mert\" in notlar"
   ]
  },
  {
   "cell_type": "code",
   "execution_count": 52,
   "id": "b04bcc85",
   "metadata": {},
   "outputs": [
    {
     "data": {
      "text/plain": [
       "True"
      ]
     },
     "execution_count": 52,
     "metadata": {},
     "output_type": "execute_result"
    }
   ],
   "source": [
    "\"Gizem\" in notlar"
   ]
  },
  {
   "cell_type": "code",
   "execution_count": null,
   "id": "5bd63611",
   "metadata": {},
   "outputs": [],
   "source": []
  }
 ],
 "metadata": {
  "kernelspec": {
   "display_name": "Python 3 (ipykernel)",
   "language": "python",
   "name": "python3"
  },
  "language_info": {
   "codemirror_mode": {
    "name": "ipython",
    "version": 3
   },
   "file_extension": ".py",
   "mimetype": "text/x-python",
   "name": "python",
   "nbconvert_exporter": "python",
   "pygments_lexer": "ipython3",
   "version": "3.9.12"
  }
 },
 "nbformat": 4,
 "nbformat_minor": 5
}
