{
 "cells": [
  {
   "cell_type": "code",
   "execution_count": 1,
   "id": "874e125c",
   "metadata": {},
   "outputs": [
    {
     "ename": "SyntaxError",
     "evalue": "invalid syntax (1581189221.py, line 1)",
     "output_type": "error",
     "traceback": [
      "\u001b[1;36m  Input \u001b[1;32mIn [1]\u001b[1;36m\u001b[0m\n\u001b[1;33m    Operatörler ve İfadeler (Operators-Expressions)\u001b[0m\n\u001b[1;37m                ^\u001b[0m\n\u001b[1;31mSyntaxError\u001b[0m\u001b[1;31m:\u001b[0m invalid syntax\n"
     ]
    }
   ],
   "source": [
    "Operatörler ve İfadeler (Operators-Expressions)\n",
    "\n",
    "\n",
    "Objeler(object) ve operatörlerin(operator) birleşimi expression'ları oluşturur.\n",
    "\n",
    "\n",
    "Expression'ların değerleri (value)'ları vardır ve tabii ki de bunların tipleri vardır.\n",
    "\n",
    "\n",
    "İfadeler şöyler oluşturulur: (object) (operator) (object)\n",
    "\n",
    "\n",
    "Expression'ların tiplerini operator'un uygulandığı objelerin tipleri belirler."
   ]
  },
  {
   "cell_type": "code",
   "execution_count": 2,
   "id": "a5ae46d9",
   "metadata": {},
   "outputs": [],
   "source": [
    "# + operatörü"
   ]
  },
  {
   "cell_type": "code",
   "execution_count": 3,
   "id": "a6133ae0",
   "metadata": {},
   "outputs": [
    {
     "data": {
      "text/plain": [
       "4"
      ]
     },
     "execution_count": 3,
     "metadata": {},
     "output_type": "execute_result"
    }
   ],
   "source": [
    "2 +2 "
   ]
  },
  {
   "cell_type": "code",
   "execution_count": 4,
   "id": "a37c741b",
   "metadata": {},
   "outputs": [
    {
     "data": {
      "text/plain": [
       "int"
      ]
     },
     "execution_count": 4,
     "metadata": {},
     "output_type": "execute_result"
    }
   ],
   "source": [
    "type(2+2)"
   ]
  },
  {
   "cell_type": "code",
   "execution_count": 6,
   "id": "a4e5aacc",
   "metadata": {},
   "outputs": [
    {
     "data": {
      "text/plain": [
       "float"
      ]
     },
     "execution_count": 6,
     "metadata": {},
     "output_type": "execute_result"
    }
   ],
   "source": [
    "type(4.3 + 7.5)"
   ]
  },
  {
   "cell_type": "code",
   "execution_count": 7,
   "id": "1fb6028b",
   "metadata": {},
   "outputs": [
    {
     "data": {
      "text/plain": [
       "float"
      ]
     },
     "execution_count": 7,
     "metadata": {},
     "output_type": "execute_result"
    }
   ],
   "source": [
    "type(2+ 5.7)"
   ]
  },
  {
   "cell_type": "code",
   "execution_count": 8,
   "id": "c7dee5d5",
   "metadata": {},
   "outputs": [],
   "source": [
    "# çeşitli tiplerin toplanmasından oluşan tipleri görüyoruz."
   ]
  },
  {
   "cell_type": "code",
   "execution_count": 9,
   "id": "82190f64",
   "metadata": {},
   "outputs": [],
   "source": [
    "# - operatörü"
   ]
  },
  {
   "cell_type": "code",
   "execution_count": 10,
   "id": "c7b03da8",
   "metadata": {},
   "outputs": [],
   "source": [
    "# Bu da + operatörüne benziyor."
   ]
  },
  {
   "cell_type": "code",
   "execution_count": 11,
   "id": "d8974bfb",
   "metadata": {},
   "outputs": [
    {
     "data": {
      "text/plain": [
       "1"
      ]
     },
     "execution_count": 11,
     "metadata": {},
     "output_type": "execute_result"
    }
   ],
   "source": [
    "3-2"
   ]
  },
  {
   "cell_type": "code",
   "execution_count": 12,
   "id": "ffe90c98",
   "metadata": {},
   "outputs": [
    {
     "data": {
      "text/plain": [
       "int"
      ]
     },
     "execution_count": 12,
     "metadata": {},
     "output_type": "execute_result"
    }
   ],
   "source": [
    "type(3-2)"
   ]
  },
  {
   "cell_type": "code",
   "execution_count": 15,
   "id": "81d5b30a",
   "metadata": {},
   "outputs": [
    {
     "data": {
      "text/plain": [
       "float"
      ]
     },
     "execution_count": 15,
     "metadata": {},
     "output_type": "execute_result"
    }
   ],
   "source": [
    "type(5.6-7)"
   ]
  },
  {
   "cell_type": "code",
   "execution_count": 16,
   "id": "8061eaec",
   "metadata": {},
   "outputs": [
    {
     "data": {
      "text/plain": [
       "float"
      ]
     },
     "execution_count": 16,
     "metadata": {},
     "output_type": "execute_result"
    }
   ],
   "source": [
    "type(3.4-2.5)"
   ]
  },
  {
   "cell_type": "code",
   "execution_count": 17,
   "id": "7b35c8d9",
   "metadata": {},
   "outputs": [],
   "source": [
    "# işlem yapılan obejelerden biri bile float ise + ve - operatöründe ortaya çıkan sonuç float'tır."
   ]
  },
  {
   "cell_type": "code",
   "execution_count": 18,
   "id": "ee411142",
   "metadata": {},
   "outputs": [],
   "source": [
    "# * operatörü"
   ]
  },
  {
   "cell_type": "code",
   "execution_count": 19,
   "id": "56222eb0",
   "metadata": {},
   "outputs": [
    {
     "data": {
      "text/plain": [
       "int"
      ]
     },
     "execution_count": 19,
     "metadata": {},
     "output_type": "execute_result"
    }
   ],
   "source": [
    "type(2*6)"
   ]
  },
  {
   "cell_type": "code",
   "execution_count": 20,
   "id": "42fb12a9",
   "metadata": {},
   "outputs": [
    {
     "data": {
      "text/plain": [
       "float"
      ]
     },
     "execution_count": 20,
     "metadata": {},
     "output_type": "execute_result"
    }
   ],
   "source": [
    "type(2.6 * 4.2)"
   ]
  },
  {
   "cell_type": "code",
   "execution_count": 21,
   "id": "56e4d94d",
   "metadata": {},
   "outputs": [
    {
     "data": {
      "text/plain": [
       "float"
      ]
     },
     "execution_count": 21,
     "metadata": {},
     "output_type": "execute_result"
    }
   ],
   "source": [
    "type(2 * 3.0)"
   ]
  },
  {
   "cell_type": "code",
   "execution_count": 24,
   "id": "3f485350",
   "metadata": {},
   "outputs": [],
   "source": [
    "# / operatörü\n",
    "# giren ne olur ise olsun cevap float döner. Tam çıksa da."
   ]
  },
  {
   "cell_type": "code",
   "execution_count": 25,
   "id": "2569637c",
   "metadata": {},
   "outputs": [
    {
     "data": {
      "text/plain": [
       "1.5"
      ]
     },
     "execution_count": 25,
     "metadata": {},
     "output_type": "execute_result"
    }
   ],
   "source": [
    "3 / 2"
   ]
  },
  {
   "cell_type": "code",
   "execution_count": 27,
   "id": "c8a88e1e",
   "metadata": {},
   "outputs": [
    {
     "data": {
      "text/plain": [
       "float"
      ]
     },
     "execution_count": 27,
     "metadata": {},
     "output_type": "execute_result"
    }
   ],
   "source": [
    "type(6/2)"
   ]
  },
  {
   "cell_type": "code",
   "execution_count": 28,
   "id": "b92426c4",
   "metadata": {},
   "outputs": [
    {
     "data": {
      "text/plain": [
       "float"
      ]
     },
     "execution_count": 28,
     "metadata": {},
     "output_type": "execute_result"
    }
   ],
   "source": [
    "type(5/3)"
   ]
  },
  {
   "cell_type": "code",
   "execution_count": 30,
   "id": "f0184eca",
   "metadata": {},
   "outputs": [],
   "source": [
    "# // operaörü int division tam bölmenin tam kısmını döner bize."
   ]
  },
  {
   "cell_type": "code",
   "execution_count": 31,
   "id": "1085e3a6",
   "metadata": {},
   "outputs": [
    {
     "data": {
      "text/plain": [
       "2.0"
      ]
     },
     "execution_count": 31,
     "metadata": {},
     "output_type": "execute_result"
    }
   ],
   "source": [
    "5 // 2.5"
   ]
  },
  {
   "cell_type": "code",
   "execution_count": 32,
   "id": "0caa5af1",
   "metadata": {},
   "outputs": [
    {
     "data": {
      "text/plain": [
       "1"
      ]
     },
     "execution_count": 32,
     "metadata": {},
     "output_type": "execute_result"
    }
   ],
   "source": [
    "5 // 3"
   ]
  },
  {
   "cell_type": "code",
   "execution_count": 33,
   "id": "f21252ad",
   "metadata": {},
   "outputs": [
    {
     "data": {
      "text/plain": [
       "int"
      ]
     },
     "execution_count": 33,
     "metadata": {},
     "output_type": "execute_result"
    }
   ],
   "source": [
    "type(6 // 2)"
   ]
  },
  {
   "cell_type": "code",
   "execution_count": 34,
   "id": "f2254cda",
   "metadata": {},
   "outputs": [
    {
     "data": {
      "text/plain": [
       "float"
      ]
     },
     "execution_count": 34,
     "metadata": {},
     "output_type": "execute_result"
    }
   ],
   "source": [
    "type(5 // 2.0)"
   ]
  },
  {
   "cell_type": "code",
   "execution_count": 35,
   "id": "45531250",
   "metadata": {},
   "outputs": [
    {
     "data": {
      "text/plain": [
       "float"
      ]
     },
     "execution_count": 35,
     "metadata": {},
     "output_type": "execute_result"
    }
   ],
   "source": [
    "type((6.0 // 2.0))"
   ]
  },
  {
   "cell_type": "code",
   "execution_count": 36,
   "id": "869c9567",
   "metadata": {},
   "outputs": [
    {
     "data": {
      "text/plain": [
       "int"
      ]
     },
     "execution_count": 36,
     "metadata": {},
     "output_type": "execute_result"
    }
   ],
   "source": [
    "type(5 // 2)"
   ]
  },
  {
   "cell_type": "code",
   "execution_count": 37,
   "id": "98b52fb1",
   "metadata": {},
   "outputs": [
    {
     "data": {
      "text/plain": [
       "2"
      ]
     },
     "execution_count": 37,
     "metadata": {},
     "output_type": "execute_result"
    }
   ],
   "source": [
    "5 // 2"
   ]
  },
  {
   "cell_type": "code",
   "execution_count": 38,
   "id": "338f6f17",
   "metadata": {},
   "outputs": [
    {
     "data": {
      "text/plain": [
       "3.0"
      ]
     },
     "execution_count": 38,
     "metadata": {},
     "output_type": "execute_result"
    }
   ],
   "source": [
    "6.0 // 2.0\n"
   ]
  },
  {
   "cell_type": "code",
   "execution_count": 39,
   "id": "96499c77",
   "metadata": {},
   "outputs": [],
   "source": [
    "# . dan sonrasını attığı kısmını da bize verse sonuçta x.0  olan bir sayı da floattır ve float varsa float döner."
   ]
  },
  {
   "cell_type": "code",
   "execution_count": 40,
   "id": "f66b53a4",
   "metadata": {},
   "outputs": [
    {
     "data": {
      "text/plain": [
       "2"
      ]
     },
     "execution_count": 40,
     "metadata": {},
     "output_type": "execute_result"
    }
   ],
   "source": [
    "5 // 2"
   ]
  },
  {
   "cell_type": "code",
   "execution_count": 41,
   "id": "7a205569",
   "metadata": {},
   "outputs": [
    {
     "data": {
      "text/plain": [
       "2.0"
      ]
     },
     "execution_count": 41,
     "metadata": {},
     "output_type": "execute_result"
    }
   ],
   "source": [
    "5 // 2.0"
   ]
  },
  {
   "cell_type": "code",
   "execution_count": 42,
   "id": "7a9ce8ab",
   "metadata": {},
   "outputs": [
    {
     "data": {
      "text/plain": [
       "1.0"
      ]
     },
     "execution_count": 42,
     "metadata": {},
     "output_type": "execute_result"
    }
   ],
   "source": [
    "8.2 // 5"
   ]
  },
  {
   "cell_type": "code",
   "execution_count": 43,
   "id": "9830bd39",
   "metadata": {},
   "outputs": [],
   "source": [
    "# aslında kaç tam kere var sorusunun cevabıdır."
   ]
  },
  {
   "cell_type": "code",
   "execution_count": 45,
   "id": "18f0667f",
   "metadata": {},
   "outputs": [],
   "source": [
    "# % mod operatörü kalanı döndürür."
   ]
  },
  {
   "cell_type": "code",
   "execution_count": 46,
   "id": "e76e1493",
   "metadata": {},
   "outputs": [
    {
     "data": {
      "text/plain": [
       "1"
      ]
     },
     "execution_count": 46,
     "metadata": {},
     "output_type": "execute_result"
    }
   ],
   "source": [
    "5 % 2"
   ]
  },
  {
   "cell_type": "code",
   "execution_count": 47,
   "id": "14950739",
   "metadata": {},
   "outputs": [
    {
     "data": {
      "text/plain": [
       "0"
      ]
     },
     "execution_count": 47,
     "metadata": {},
     "output_type": "execute_result"
    }
   ],
   "source": [
    "6 % 2"
   ]
  },
  {
   "cell_type": "code",
   "execution_count": 48,
   "id": "a6609f8e",
   "metadata": {},
   "outputs": [
    {
     "data": {
      "text/plain": [
       "0.0"
      ]
     },
     "execution_count": 48,
     "metadata": {},
     "output_type": "execute_result"
    }
   ],
   "source": [
    "6.0 % 2"
   ]
  },
  {
   "cell_type": "code",
   "execution_count": 49,
   "id": "4360f182",
   "metadata": {},
   "outputs": [],
   "source": [
    "# kalan float ise float döndürür."
   ]
  },
  {
   "cell_type": "code",
   "execution_count": 50,
   "id": "9cb1de70",
   "metadata": {},
   "outputs": [
    {
     "data": {
      "text/plain": [
       "0.5"
      ]
     },
     "execution_count": 50,
     "metadata": {},
     "output_type": "execute_result"
    }
   ],
   "source": [
    "2.5 % 2"
   ]
  },
  {
   "cell_type": "code",
   "execution_count": 52,
   "id": "5c86eb55",
   "metadata": {},
   "outputs": [],
   "source": [
    "# ** operatörü üs alma operatörüdür."
   ]
  },
  {
   "cell_type": "code",
   "execution_count": 53,
   "id": "646e7741",
   "metadata": {},
   "outputs": [
    {
     "data": {
      "text/plain": [
       "25"
      ]
     },
     "execution_count": 53,
     "metadata": {},
     "output_type": "execute_result"
    }
   ],
   "source": [
    "5 ** 2"
   ]
  },
  {
   "cell_type": "code",
   "execution_count": 54,
   "id": "04f1c770",
   "metadata": {},
   "outputs": [
    {
     "data": {
      "text/plain": [
       "25.0"
      ]
     },
     "execution_count": 54,
     "metadata": {},
     "output_type": "execute_result"
    }
   ],
   "source": [
    "5.0 **2"
   ]
  },
  {
   "cell_type": "code",
   "execution_count": 55,
   "id": "3a17d600",
   "metadata": {},
   "outputs": [
    {
     "data": {
      "text/plain": [
       "6.25"
      ]
     },
     "execution_count": 55,
     "metadata": {},
     "output_type": "execute_result"
    }
   ],
   "source": [
    "2.5 ** 2"
   ]
  },
  {
   "cell_type": "code",
   "execution_count": 56,
   "id": "895fb8a4",
   "metadata": {},
   "outputs": [
    {
     "data": {
      "text/plain": [
       "244.140625"
      ]
     },
     "execution_count": 56,
     "metadata": {},
     "output_type": "execute_result"
    }
   ],
   "source": [
    "2.5 ** 6.0"
   ]
  },
  {
   "cell_type": "code",
   "execution_count": 57,
   "id": "9e18c532",
   "metadata": {},
   "outputs": [],
   "source": [
    "# expression objelerinden herhangi biri float ise float döndürür."
   ]
  },
  {
   "cell_type": "code",
   "execution_count": 58,
   "id": "102981a8",
   "metadata": {},
   "outputs": [],
   "source": [
    "# istisna - sayılardır."
   ]
  },
  {
   "cell_type": "code",
   "execution_count": 59,
   "id": "9ff9ec08",
   "metadata": {},
   "outputs": [
    {
     "data": {
      "text/plain": [
       "0.2"
      ]
     },
     "execution_count": 59,
     "metadata": {},
     "output_type": "execute_result"
    }
   ],
   "source": [
    "5 ** -1"
   ]
  },
  {
   "cell_type": "code",
   "execution_count": 60,
   "id": "c0dc447d",
   "metadata": {},
   "outputs": [],
   "source": [
    "#görüldüğü üzere."
   ]
  },
  {
   "cell_type": "code",
   "execution_count": 61,
   "id": "aaee2475",
   "metadata": {},
   "outputs": [],
   "source": [
    "# print() fonksiyonu"
   ]
  },
  {
   "cell_type": "code",
   "execution_count": 62,
   "id": "015e0d22",
   "metadata": {},
   "outputs": [
    {
     "name": "stdout",
     "output_type": "stream",
     "text": [
      "Çağrı\n"
     ]
    }
   ],
   "source": [
    "print(\"Çağrı\")"
   ]
  },
  {
   "cell_type": "code",
   "execution_count": 63,
   "id": "ab931cad",
   "metadata": {},
   "outputs": [
    {
     "name": "stdout",
     "output_type": "stream",
     "text": [
      "Adım Çağrı REİS tanıştığımıza memnun oldum.\n"
     ]
    }
   ],
   "source": [
    "print(\"Adım {0} {1} tanıştığımıza memnun oldum.\".format(\"Çağrı\", \"REİS\"))"
   ]
  },
  {
   "cell_type": "code",
   "execution_count": 64,
   "id": "86f8dace",
   "metadata": {},
   "outputs": [
    {
     "name": "stdout",
     "output_type": "stream",
     "text": [
      "5\n"
     ]
    }
   ],
   "source": [
    "print(5)"
   ]
  },
  {
   "cell_type": "code",
   "execution_count": null,
   "id": "da1479f8",
   "metadata": {},
   "outputs": [],
   "source": []
  }
 ],
 "metadata": {
  "kernelspec": {
   "display_name": "Python 3 (ipykernel)",
   "language": "python",
   "name": "python3"
  },
  "language_info": {
   "codemirror_mode": {
    "name": "ipython",
    "version": 3
   },
   "file_extension": ".py",
   "mimetype": "text/x-python",
   "name": "python",
   "nbconvert_exporter": "python",
   "pygments_lexer": "ipython3",
   "version": "3.9.12"
  }
 },
 "nbformat": 4,
 "nbformat_minor": 5
}
