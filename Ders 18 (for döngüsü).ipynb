{
 "cells": [
  {
   "cell_type": "code",
   "execution_count": null,
   "id": "dd220ce7",
   "metadata": {},
   "outputs": [],
   "source": [
    "for\n",
    "\n",
    "\n",
    "for döngüsü in'den sonra yazdığımız yapının bütün değerleri üzerinde dolanıp, eleman sayısı kadar içindeki kodu çalıştıracak. x in <obje> yapısı ile tanımlandığında, x döngünün her adımında in den sonra tanımlanan yapının elemanlarının değerlerini alacak.\n",
    "\n",
    "\n",
    "for <değişken> in <obje>\n",
    "\n",
    "\n",
    "\n",
    "for döngüsünün en başında <değişken>, <obje>'nin ilk elemanının değerini alıyor. İçindeki kod 1 kere çalışıp bittikten sonra ikinci kere çalıştırıyor ve <değişken>, <obje>'nin ikinci elemanının değerini alıyor. Bu <obje>'nin tüm elemanları bitene kadar devam ediyor."
   ]
  },
  {
   "cell_type": "code",
   "execution_count": 1,
   "id": "ee83302a",
   "metadata": {},
   "outputs": [
    {
     "name": "stdout",
     "output_type": "stream",
     "text": [
      "h\n",
      "e\n",
      "y\n"
     ]
    }
   ],
   "source": [
    "for c in \"hey\":\n",
    "    print(c)"
   ]
  },
  {
   "cell_type": "code",
   "execution_count": 2,
   "id": "9b74b568",
   "metadata": {},
   "outputs": [
    {
     "name": "stdout",
     "output_type": "stream",
     "text": [
      "5050\n"
     ]
    }
   ],
   "source": [
    "toplam = 0\n",
    "\n",
    "for element in range(0, 100 + 1):\n",
    "    toplam = toplam + element\n",
    "\n",
    "print(toplam)"
   ]
  },
  {
   "cell_type": "code",
   "execution_count": 3,
   "id": "5f8f6ffa",
   "metadata": {},
   "outputs": [
    {
     "name": "stdout",
     "output_type": "stream",
     "text": [
      "0\n",
      "1\n",
      "2\n",
      "3\n",
      "4\n"
     ]
    }
   ],
   "source": [
    "for x in range(5):\n",
    "    print(x)"
   ]
  },
  {
   "cell_type": "code",
   "execution_count": 9,
   "id": "14122cdd",
   "metadata": {},
   "outputs": [
    {
     "name": "stdout",
     "output_type": "stream",
     "text": [
      "3125\n"
     ]
    }
   ],
   "source": [
    "üs = 1\n",
    "\n",
    "for element in range(5):\n",
    "    üs = üs * 5\n",
    "    \n",
    "print(üs)"
   ]
  },
  {
   "cell_type": "code",
   "execution_count": 10,
   "id": "11fdbb15",
   "metadata": {},
   "outputs": [],
   "source": [
    "# bu böyle de yapılır;"
   ]
  },
  {
   "cell_type": "code",
   "execution_count": 11,
   "id": "96f9cbec",
   "metadata": {},
   "outputs": [
    {
     "name": "stdout",
     "output_type": "stream",
     "text": [
      "3125\n"
     ]
    }
   ],
   "source": [
    "üs = 1\n",
    " \n",
    "for _ in range(5):  # ortak ağızdır bu. _ kullanılmayan sadece döngü yaratmak için kullanılan değişkenlerde yarar.\n",
    "    üs = üs * 5 \n",
    "    \n",
    "print(üs)"
   ]
  },
  {
   "cell_type": "code",
   "execution_count": null,
   "id": "4511a7b5",
   "metadata": {},
   "outputs": [],
   "source": [
    "for vs while\n",
    "while yapısında kaç kere iterasyon yapacağımızı bilmiyoruz, for'da eleman sayısı kadar iterasyon var. (break veya continue ile bölünmezse)\n",
    "\n",
    "\n",
    "Aslında for döngüsünü while döngüsünü kullanarak yazabiliriz, ama while döngüsünü for kullanarak yazamayız, çünkü for'da test mekanizması yok."
   ]
  },
  {
   "cell_type": "code",
   "execution_count": 12,
   "id": "889a40ce",
   "metadata": {},
   "outputs": [],
   "source": [
    "s = \"hey\""
   ]
  },
  {
   "cell_type": "code",
   "execution_count": 13,
   "id": "5cd5bf24",
   "metadata": {},
   "outputs": [
    {
     "name": "stdout",
     "output_type": "stream",
     "text": [
      "h\n",
      "e\n",
      "y\n"
     ]
    }
   ],
   "source": [
    "for g in s:\n",
    "    print(g)"
   ]
  },
  {
   "cell_type": "code",
   "execution_count": 15,
   "id": "2f33f6ac",
   "metadata": {},
   "outputs": [
    {
     "name": "stdout",
     "output_type": "stream",
     "text": [
      "h\n",
      "e\n",
      "y\n"
     ]
    }
   ],
   "source": [
    "n = len(s)\n",
    "\n",
    "index = 0\n",
    "\n",
    "while (index < n):\n",
    "    print(s[index])\n",
    "    index = index + 1"
   ]
  },
  {
   "cell_type": "code",
   "execution_count": null,
   "id": "c045646c",
   "metadata": {},
   "outputs": [],
   "source": []
  }
 ],
 "metadata": {
  "kernelspec": {
   "display_name": "Python 3 (ipykernel)",
   "language": "python",
   "name": "python3"
  },
  "language_info": {
   "codemirror_mode": {
    "name": "ipython",
    "version": 3
   },
   "file_extension": ".py",
   "mimetype": "text/x-python",
   "name": "python",
   "nbconvert_exporter": "python",
   "pygments_lexer": "ipython3",
   "version": "3.9.12"
  }
 },
 "nbformat": 4,
 "nbformat_minor": 5
}
