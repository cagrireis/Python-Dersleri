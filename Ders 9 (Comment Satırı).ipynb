{
 "cells": [
  {
   "cell_type": "code",
   "execution_count": null,
   "id": "20ae8169",
   "metadata": {},
   "outputs": [],
   "source": [
    "Comments\n",
    "\n",
    "\n",
    "Diyelim ki birkaç kişilik bir projede çalışıyorsunuz, programın farklı kısımlarını farklı insanlar yazıyor.\n",
    "\n",
    "\n",
    "Başkası sizin yazdığınız kodu kullanmak istediğinde kodun ne yaptığını bilmesi gerekiyor. İşte burada comment (yorum) devreye giriyor. Yazdığımız kodun ne yaptığını anlatan açıklamalar.\n",
    "\n",
    "\n",
    "Yorumlar sadece insanların okuması için, program çalışırken burası program tarafından algılanmayacak.\n",
    "\n",
    "\n",
    "Sadece başkasının okuması da şart değil, seneler sonra yazdığınız kodu yeniden kullanmak isteyebilirsiniz ve neyin ne olduğunu, kodun ne yaptığını unutmuş olabilirsiniz, bu yüzden bu açıklamalar kendi kodunuzu okurken de önemli. (seneler geçmesine de gerek yok, çok parçası olan bir problem üzerine çalışıyorsanız, şurada ne yapmıştım diye kendinizi bulmanız çok muhtemel - o yüzden yorum eklemeyi bir alışkanlık haline getirmek gayet yararlı bir durum.)\n",
    "\n",
    "Tek Satıra Yorum Eklemek"
   ]
  },
  {
   "cell_type": "code",
   "execution_count": 1,
   "id": "4534d916",
   "metadata": {},
   "outputs": [],
   "source": [
    "limon = 2\n",
    "# limon değişkeni satılan limonlar ıifade ediyor."
   ]
  },
  {
   "cell_type": "code",
   "execution_count": 2,
   "id": "dd67e7d2",
   "metadata": {},
   "outputs": [],
   "source": [
    "sonuc = limon * 7\n",
    "# sonuc değişkeni haftada satılan limon sayısını ifade ediyor."
   ]
  },
  {
   "cell_type": "code",
   "execution_count": 3,
   "id": "bd28cc53",
   "metadata": {},
   "outputs": [],
   "source": [
    "# bilgisayara etkisi yok."
   ]
  },
  {
   "cell_type": "code",
   "execution_count": 4,
   "id": "07bdc463",
   "metadata": {},
   "outputs": [
    {
     "ename": "SyntaxError",
     "evalue": "invalid syntax (2687014960.py, line 1)",
     "output_type": "error",
     "traceback": [
      "\u001b[1;36m  Input \u001b[1;32mIn [4]\u001b[1;36m\u001b[0m\n\u001b[1;33m    Birden Çok Satırı Kapsayan Yorum Yazmak\u001b[0m\n\u001b[1;37m           ^\u001b[0m\n\u001b[1;31mSyntaxError\u001b[0m\u001b[1;31m:\u001b[0m invalid syntax\n"
     ]
    }
   ],
   "source": [
    "Birden Çok Satırı Kapsayan Yorum Yazmak"
   ]
  },
  {
   "cell_type": "code",
   "execution_count": null,
   "id": "29142207",
   "metadata": {},
   "outputs": [],
   "source": [
    "\"\"\"\n",
    "Buraya yorum yazabiliriz.\n",
    "burası sınıresız yorum kısmı\n",
    "\n",
    "\n",
    "\n",
    "\n",
    "\"\"\""
   ]
  }
 ],
 "metadata": {
  "kernelspec": {
   "display_name": "Python 3 (ipykernel)",
   "language": "python",
   "name": "python3"
  },
  "language_info": {
   "codemirror_mode": {
    "name": "ipython",
    "version": 3
   },
   "file_extension": ".py",
   "mimetype": "text/x-python",
   "name": "python",
   "nbconvert_exporter": "python",
   "pygments_lexer": "ipython3",
   "version": "3.9.12"
  }
 },
 "nbformat": 4,
 "nbformat_minor": 5
}
