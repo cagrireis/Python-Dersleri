{
 "cells": [
  {
   "cell_type": "markdown",
   "id": "0cf79923",
   "metadata": {},
   "source": [
    "# GENERATORS"
   ]
  },
  {
   "cell_type": "code",
   "execution_count": 1,
   "id": "7dcaad56",
   "metadata": {},
   "outputs": [],
   "source": [
    "# diyelim ki bir listenin elemanlarının karesini almak isityorum."
   ]
  },
  {
   "cell_type": "code",
   "execution_count": 4,
   "id": "98b6afd0",
   "metadata": {},
   "outputs": [],
   "source": [
    "def square(liste):\n",
    "    res = [i ** 2 for i in liste]\n",
    "    return res # fonksiyonlar return'den sonra bildiğimiz gibi break gibi dururlar."
   ]
  },
  {
   "cell_type": "code",
   "execution_count": 5,
   "id": "2aceb7db",
   "metadata": {},
   "outputs": [
    {
     "name": "stdout",
     "output_type": "stream",
     "text": [
      "[1, 4, 9, 16, 25, 36, 49, 64, 81]\n"
     ]
    }
   ],
   "source": [
    "print(square([1,2,3,4,5,6,7,8,9]))"
   ]
  },
  {
   "cell_type": "code",
   "execution_count": 6,
   "id": "623f7653",
   "metadata": {},
   "outputs": [],
   "source": [
    "# peki ben bu değerleri tekli tekli istesem ve bir anda gelmesini istemesem?"
   ]
  },
  {
   "cell_type": "code",
   "execution_count": 7,
   "id": "626a4136",
   "metadata": {},
   "outputs": [],
   "source": [
    "# bunları generatorler ile yapabiliriz."
   ]
  },
  {
   "cell_type": "code",
   "execution_count": 8,
   "id": "c44a72d1",
   "metadata": {},
   "outputs": [],
   "source": [
    "# generatorlarda \"yield\" kullanılır."
   ]
  },
  {
   "cell_type": "code",
   "execution_count": 30,
   "id": "bca4adc9",
   "metadata": {},
   "outputs": [],
   "source": [
    "def square_generator(liste):\n",
    "    for e in liste: # eleman verebilecek haldeyse durmadan döndürür.\n",
    "        yield e ** 2 # yield ayzarız ve bu return gibi kapatmaz generatorü sürekli değer verebilir."
   ]
  },
  {
   "cell_type": "code",
   "execution_count": 31,
   "id": "e775633a",
   "metadata": {},
   "outputs": [],
   "source": [
    "liste = [1,2,3]\n",
    "g = square_generator(liste)"
   ]
  },
  {
   "cell_type": "code",
   "execution_count": 16,
   "id": "a7a661b1",
   "metadata": {},
   "outputs": [],
   "source": [
    "# yine def ile tanımlanır bir şeyi generator yapan return yerine yield yazmamızfdır."
   ]
  },
  {
   "cell_type": "code",
   "execution_count": 19,
   "id": "086aeb66",
   "metadata": {},
   "outputs": [
    {
     "data": {
      "text/plain": [
       "<generator object square_generator at 0x000001879FE477B0>"
      ]
     },
     "execution_count": 19,
     "metadata": {},
     "output_type": "execute_result"
    }
   ],
   "source": [
    "g # objeyi gösterdi"
   ]
  },
  {
   "cell_type": "code",
   "execution_count": 20,
   "id": "37de6f30",
   "metadata": {},
   "outputs": [],
   "source": [
    "# Generatorler hafızada tutmazlar. biz sordukça dönerler\n",
    "# Generatorlar iterator'dur next() ile ulaşabiliriz."
   ]
  },
  {
   "cell_type": "code",
   "execution_count": 21,
   "id": "eb9b1de8",
   "metadata": {},
   "outputs": [
    {
     "data": {
      "text/plain": [
       "1"
      ]
     },
     "execution_count": 21,
     "metadata": {},
     "output_type": "execute_result"
    }
   ],
   "source": [
    "next(g)"
   ]
  },
  {
   "cell_type": "code",
   "execution_count": 22,
   "id": "e48c5e94",
   "metadata": {},
   "outputs": [
    {
     "data": {
      "text/plain": [
       "4"
      ]
     },
     "execution_count": 22,
     "metadata": {},
     "output_type": "execute_result"
    }
   ],
   "source": [
    "next(g)"
   ]
  },
  {
   "cell_type": "code",
   "execution_count": 23,
   "id": "41401896",
   "metadata": {},
   "outputs": [
    {
     "data": {
      "text/plain": [
       "9"
      ]
     },
     "execution_count": 23,
     "metadata": {},
     "output_type": "execute_result"
    }
   ],
   "source": [
    "next(g)"
   ]
  },
  {
   "cell_type": "code",
   "execution_count": 26,
   "id": "a5defefa",
   "metadata": {},
   "outputs": [
    {
     "ename": "StopIteration",
     "evalue": "",
     "output_type": "error",
     "traceback": [
      "\u001b[1;31m---------------------------------------------------------------------------\u001b[0m",
      "\u001b[1;31mStopIteration\u001b[0m                             Traceback (most recent call last)",
      "Input \u001b[1;32mIn [26]\u001b[0m, in \u001b[0;36m<cell line: 1>\u001b[1;34m()\u001b[0m\n\u001b[1;32m----> 1\u001b[0m \u001b[38;5;28;43mnext\u001b[39;49m\u001b[43m(\u001b[49m\u001b[43mg\u001b[49m\u001b[43m)\u001b[49m\n",
      "\u001b[1;31mStopIteration\u001b[0m: "
     ]
    }
   ],
   "source": [
    "next(g) # bitti 3 tane elemanımız vardıç"
   ]
  },
  {
   "cell_type": "code",
   "execution_count": 27,
   "id": "57e33dfd",
   "metadata": {},
   "outputs": [],
   "source": [
    "# Buna exhaust olmak deriz istiyorsak tekrar yaratmalıyız."
   ]
  },
  {
   "cell_type": "code",
   "execution_count": 28,
   "id": "81904670",
   "metadata": {},
   "outputs": [],
   "source": [
    "#next next yazmaktansa for ile de yapabilirdim"
   ]
  },
  {
   "cell_type": "code",
   "execution_count": 49,
   "id": "8ebb8317",
   "metadata": {},
   "outputs": [],
   "source": [
    "liste = [1,2,3,4,5]\n",
    "g = square_generator(liste)"
   ]
  },
  {
   "cell_type": "code",
   "execution_count": 50,
   "id": "077c768b",
   "metadata": {},
   "outputs": [
    {
     "name": "stdout",
     "output_type": "stream",
     "text": [
      "1\n",
      "4\n",
      "9\n",
      "16\n",
      "25\n"
     ]
    }
   ],
   "source": [
    "for i in g:\n",
    "    print(i)"
   ]
  },
  {
   "cell_type": "markdown",
   "id": "952e6bd1",
   "metadata": {},
   "source": [
    "# LIST COMPREHENSION GIBI GENERATOR YARATMA"
   ]
  },
  {
   "cell_type": "code",
   "execution_count": 51,
   "id": "de10dffe",
   "metadata": {},
   "outputs": [
    {
     "name": "stdout",
     "output_type": "stream",
     "text": [
      "[1, 4, 9, 16, 25]\n"
     ]
    }
   ],
   "source": [
    "L = [i ** 2 for i in liste] # bu list comp.\n",
    "print(L)"
   ]
  },
  {
   "cell_type": "code",
   "execution_count": 64,
   "id": "c954bce0",
   "metadata": {},
   "outputs": [],
   "source": [
    "g = (x ** 2 for x in liste) #farkı parantez olması"
   ]
  },
  {
   "cell_type": "code",
   "execution_count": 65,
   "id": "30c8db1a",
   "metadata": {},
   "outputs": [
    {
     "data": {
      "text/plain": [
       "<generator object <genexpr> at 0x00000187A1920820>"
      ]
     },
     "execution_count": 65,
     "metadata": {},
     "output_type": "execute_result"
    }
   ],
   "source": [
    "g"
   ]
  },
  {
   "cell_type": "code",
   "execution_count": 66,
   "id": "6a6544a6",
   "metadata": {},
   "outputs": [
    {
     "data": {
      "text/plain": [
       "1"
      ]
     },
     "execution_count": 66,
     "metadata": {},
     "output_type": "execute_result"
    }
   ],
   "source": [
    "next(g)"
   ]
  },
  {
   "cell_type": "code",
   "execution_count": 67,
   "id": "d36e654d",
   "metadata": {},
   "outputs": [
    {
     "data": {
      "text/plain": [
       "4"
      ]
     },
     "execution_count": 67,
     "metadata": {},
     "output_type": "execute_result"
    }
   ],
   "source": [
    "next(g)"
   ]
  },
  {
   "cell_type": "code",
   "execution_count": 68,
   "id": "5af25b8c",
   "metadata": {},
   "outputs": [
    {
     "data": {
      "text/plain": [
       "9"
      ]
     },
     "execution_count": 68,
     "metadata": {},
     "output_type": "execute_result"
    }
   ],
   "source": [
    "next(g)"
   ]
  },
  {
   "cell_type": "code",
   "execution_count": 69,
   "id": "5c1f2b87",
   "metadata": {},
   "outputs": [
    {
     "name": "stdout",
     "output_type": "stream",
     "text": [
      "16\n",
      "25\n"
     ]
    }
   ],
   "source": [
    "for i in g:\n",
    "    print(i)"
   ]
  },
  {
   "cell_type": "code",
   "execution_count": 70,
   "id": "158b458c",
   "metadata": {},
   "outputs": [],
   "source": [
    "g = (x ** 2 for x in liste) "
   ]
  },
  {
   "cell_type": "code",
   "execution_count": 71,
   "id": "85a65029",
   "metadata": {},
   "outputs": [
    {
     "name": "stdout",
     "output_type": "stream",
     "text": [
      "1\n",
      "4\n",
      "9\n",
      "16\n",
      "25\n"
     ]
    }
   ],
   "source": [
    "for i in g:\n",
    "    print(i)"
   ]
  },
  {
   "cell_type": "markdown",
   "id": "0bb6ddb7",
   "metadata": {},
   "source": [
    "### generatorları liste dönüştürme"
   ]
  },
  {
   "cell_type": "code",
   "execution_count": 72,
   "id": "073e3de9",
   "metadata": {},
   "outputs": [],
   "source": [
    "g = (x ** 2 for x in [1,2,3,4,5])"
   ]
  },
  {
   "cell_type": "code",
   "execution_count": 73,
   "id": "30c52a86",
   "metadata": {},
   "outputs": [
    {
     "data": {
      "text/plain": [
       "<generator object <genexpr> at 0x00000187A19DF890>"
      ]
     },
     "execution_count": 73,
     "metadata": {},
     "output_type": "execute_result"
    }
   ],
   "source": [
    "g"
   ]
  },
  {
   "cell_type": "code",
   "execution_count": 74,
   "id": "4376504a",
   "metadata": {},
   "outputs": [
    {
     "data": {
      "text/plain": [
       "1"
      ]
     },
     "execution_count": 74,
     "metadata": {},
     "output_type": "execute_result"
    }
   ],
   "source": [
    "next(g)"
   ]
  },
  {
   "cell_type": "code",
   "execution_count": 78,
   "id": "b73328c7",
   "metadata": {},
   "outputs": [],
   "source": [
    "g = (x ** 2 for x in [1,2,3,4,5])"
   ]
  },
  {
   "cell_type": "code",
   "execution_count": 79,
   "id": "d1df2b9f",
   "metadata": {},
   "outputs": [
    {
     "data": {
      "text/plain": [
       "[1, 4, 9, 16, 25]"
      ]
     },
     "execution_count": 79,
     "metadata": {},
     "output_type": "execute_result"
    }
   ],
   "source": [
    "list(g) # hepsini üretip listeye yazabviliyuor list() ile "
   ]
  },
  {
   "cell_type": "markdown",
   "id": "0d456c2d",
   "metadata": {},
   "source": [
    "## NEDEN GENERATOR KULLANALIM?"
   ]
  },
  {
   "cell_type": "code",
   "execution_count": 80,
   "id": "be27b51d",
   "metadata": {},
   "outputs": [],
   "source": [
    "# Kısa yoldan iterator tanımalamamzıa olanak sağlar, "
   ]
  },
  {
   "cell_type": "code",
   "execution_count": 81,
   "id": "8eb3e73f",
   "metadata": {},
   "outputs": [],
   "source": [
    "# Eğer çok eleman ile uğraşırsak hafızadan kaynaklı istenildiği zaman gelmeleri çok faydalıdır."
   ]
  },
  {
   "cell_type": "code",
   "execution_count": 83,
   "id": "325b72da",
   "metadata": {},
   "outputs": [],
   "source": [
    "# list(generator) yaparsak bu özelliklerini kaybederler. bir anda return gşbş hepsini liste sokar çünkü."
   ]
  },
  {
   "cell_type": "markdown",
   "id": "59912d82",
   "metadata": {},
   "source": [
    "# GENERATOR EXERCİSES"
   ]
  },
  {
   "cell_type": "code",
   "execution_count": 84,
   "id": "ea973f99",
   "metadata": {},
   "outputs": [],
   "source": [
    "# 1-) range benzeri bir generatıor oluşturma"
   ]
  },
  {
   "cell_type": "code",
   "execution_count": 14,
   "id": "2811e8e4",
   "metadata": {},
   "outputs": [],
   "source": [
    "def rangee(start, stop, step=1):\n",
    "    x = start\n",
    "    while (x < stop):\n",
    "        yield x\n",
    "        print(x)\n",
    "        x = x + step"
   ]
  },
  {
   "cell_type": "code",
   "execution_count": 15,
   "id": "ab72ee4c",
   "metadata": {},
   "outputs": [
    {
     "name": "stdout",
     "output_type": "stream",
     "text": [
      "0\n",
      "1\n",
      "2\n",
      "3\n",
      "4\n"
     ]
    }
   ],
   "source": [
    "l = list(rangee(0,5))"
   ]
  },
  {
   "cell_type": "code",
   "execution_count": 16,
   "id": "cfe183ca",
   "metadata": {},
   "outputs": [
    {
     "name": "stdout",
     "output_type": "stream",
     "text": [
      "[0, 1, 2, 3, 4]\n"
     ]
    }
   ],
   "source": [
    "print(l)"
   ]
  },
  {
   "cell_type": "code",
   "execution_count": 17,
   "id": "97dbdd1d",
   "metadata": {},
   "outputs": [],
   "source": [
    "r = rangee(1, 20, 3)"
   ]
  },
  {
   "cell_type": "code",
   "execution_count": 18,
   "id": "a1bcd73a",
   "metadata": {},
   "outputs": [
    {
     "data": {
      "text/plain": [
       "1"
      ]
     },
     "execution_count": 18,
     "metadata": {},
     "output_type": "execute_result"
    }
   ],
   "source": [
    "next(r)"
   ]
  },
  {
   "cell_type": "code",
   "execution_count": 19,
   "id": "a3c883b9",
   "metadata": {},
   "outputs": [
    {
     "name": "stdout",
     "output_type": "stream",
     "text": [
      "1\n"
     ]
    },
    {
     "data": {
      "text/plain": [
       "4"
      ]
     },
     "execution_count": 19,
     "metadata": {},
     "output_type": "execute_result"
    }
   ],
   "source": [
    "next(r)"
   ]
  },
  {
   "cell_type": "code",
   "execution_count": 20,
   "id": "5cdc9820",
   "metadata": {},
   "outputs": [
    {
     "name": "stdout",
     "output_type": "stream",
     "text": [
      "4\n"
     ]
    },
    {
     "data": {
      "text/plain": [
       "7"
      ]
     },
     "execution_count": 20,
     "metadata": {},
     "output_type": "execute_result"
    }
   ],
   "source": [
    "next(r)"
   ]
  },
  {
   "cell_type": "code",
   "execution_count": 21,
   "id": "41c02969",
   "metadata": {},
   "outputs": [
    {
     "name": "stdout",
     "output_type": "stream",
     "text": [
      "7\n"
     ]
    },
    {
     "data": {
      "text/plain": [
       "10"
      ]
     },
     "execution_count": 21,
     "metadata": {},
     "output_type": "execute_result"
    }
   ],
   "source": [
    "next(r)"
   ]
  },
  {
   "cell_type": "code",
   "execution_count": 10,
   "id": "bde882a3",
   "metadata": {},
   "outputs": [],
   "source": [
    "l = list(rangee(1, 20, 3))"
   ]
  },
  {
   "cell_type": "code",
   "execution_count": 11,
   "id": "bf570843",
   "metadata": {},
   "outputs": [
    {
     "name": "stdout",
     "output_type": "stream",
     "text": [
      "[1, 4, 7, 10, 13, 16, 19]\n"
     ]
    }
   ],
   "source": [
    "print(l)"
   ]
  },
  {
   "cell_type": "code",
   "execution_count": 12,
   "id": "b644e82d",
   "metadata": {},
   "outputs": [],
   "source": [
    "l = list(rangee(1, 20, 2))"
   ]
  },
  {
   "cell_type": "code",
   "execution_count": 13,
   "id": "d13e4471",
   "metadata": {},
   "outputs": [
    {
     "name": "stdout",
     "output_type": "stream",
     "text": [
      "[1, 3, 5, 7, 9, 11, 13, 15, 17, 19]\n"
     ]
    }
   ],
   "source": [
    "print(l)"
   ]
  },
  {
   "cell_type": "code",
   "execution_count": 22,
   "id": "70769b73",
   "metadata": {},
   "outputs": [],
   "source": [
    "# yield'ı çalıştırır ve bekler ne zaman next dersem yield'dan aşağısını çalıştırır e tekrar yield'e akdar gelip bekler."
   ]
  },
  {
   "cell_type": "code",
   "execution_count": null,
   "id": "1c3b110c",
   "metadata": {},
   "outputs": [],
   "source": []
  }
 ],
 "metadata": {
  "kernelspec": {
   "display_name": "Python 3 (ipykernel)",
   "language": "python",
   "name": "python3"
  },
  "language_info": {
   "codemirror_mode": {
    "name": "ipython",
    "version": 3
   },
   "file_extension": ".py",
   "mimetype": "text/x-python",
   "name": "python",
   "nbconvert_exporter": "python",
   "pygments_lexer": "ipython3",
   "version": "3.9.12"
  }
 },
 "nbformat": 4,
 "nbformat_minor": 5
}
