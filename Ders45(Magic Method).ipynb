{
 "cells": [
  {
   "cell_type": "markdown",
   "id": "6d7a4cb8",
   "metadata": {},
   "source": [
    "# Magic Methods"
   ]
  },
  {
   "cell_type": "code",
   "execution_count": 1,
   "id": "af5616c6",
   "metadata": {},
   "outputs": [],
   "source": [
    "# Bunları kullanarak bazı build in davranışları değiştirebiliriz.\n",
    "# aynı zamanda bunlar __ __ ile kaplıdır."
   ]
  },
  {
   "cell_type": "code",
   "execution_count": 4,
   "id": "a4d2217c",
   "metadata": {},
   "outputs": [],
   "source": [
    "class Employee:\n",
    "    \n",
    "    raise_percent = 1.2\n",
    "    num = 0\n",
    "    def __init__(self, name, last, age, pay): # bu bir magic method mesela\n",
    "        self.name = name\n",
    "        self.last = last\n",
    "        self.age\n",
    "        self.pay = pay\n",
    "        Employee.num = Employee.num + 1\n",
    "    \n",
    "    def apply_raise(self):\n",
    "        self.pay = self.pay * self.raise_percent"
   ]
  },
  {
   "cell_type": "code",
   "execution_count": 3,
   "id": "242e0d3c",
   "metadata": {},
   "outputs": [],
   "source": [
    "emp_1 = Employee(\"Çağrı\", \"REİS\", 19, 5500)\n",
    "emp_2 = Employee(\"Sarah\", \"ANDERSON\", 22, 6000)"
   ]
  },
  {
   "cell_type": "markdown",
   "id": "ab9746fd",
   "metadata": {},
   "source": [
    "##  __init__()\n",
    "\n",
    "emp_1 = Employee(\"Çağrı\", \"REİS\", 19, 5500) gibi classlardahn objer oluşturulurken çağırılır. class x() denirken verilen inputları kendine argüman gibi alır"
   ]
  },
  {
   "cell_type": "markdown",
   "id": "829906cc",
   "metadata": {},
   "source": [
    "## __str__()\n",
    "\n",
    "Objenin okunabilir tanımını oluşturabiliriz."
   ]
  },
  {
   "cell_type": "code",
   "execution_count": 11,
   "id": "ca0cc95d",
   "metadata": {},
   "outputs": [],
   "source": [
    "class Employee:\n",
    "    \n",
    "    raise_percent = 1.2\n",
    "    num = 0\n",
    "    def __init__(self, name, last, age, pay): # bu bir magic method mesela\n",
    "        self.name = name\n",
    "        self.last = last\n",
    "        self.age = age\n",
    "        self.pay = pay\n",
    "        Employee.num = Employee.num + 1\n",
    "    \n",
    "    def apply_raise(self):\n",
    "        self.pay = self.pay * self.raise_percent\n",
    "        \n",
    "    def __str__(self): # bunun altına her şey yaqzdırılabilir sadece bir şey döndürür ve print dersek bastırmış oluruz.\n",
    "        return f\"Employee(name = {self.name}, lastname = {self.last}, age = {self.age}, pay = {self.pay})\""
   ]
  },
  {
   "cell_type": "code",
   "execution_count": 12,
   "id": "4ae6e10a",
   "metadata": {},
   "outputs": [],
   "source": [
    "emp_1 = Employee(\"Çağrı\", \"REİS\", 19, 5500)"
   ]
  },
  {
   "cell_type": "code",
   "execution_count": 13,
   "id": "30042ebe",
   "metadata": {},
   "outputs": [
    {
     "name": "stdout",
     "output_type": "stream",
     "text": [
      "Employee(name = Çağrı, lastname = REİS, age = 19, pay = 5500)\n"
     ]
    }
   ],
   "source": [
    "print(emp_1) #print ile dönen değeri bastırabiliyopruz."
   ]
  },
  {
   "cell_type": "markdown",
   "id": "4194fff3",
   "metadata": {},
   "source": [
    "## __add__() \n",
    "\n",
    "bu + ile karşılaşınca ne yapacağını belirler"
   ]
  },
  {
   "cell_type": "code",
   "execution_count": 14,
   "id": "020233a2",
   "metadata": {},
   "outputs": [],
   "source": [
    "class Employee:\n",
    "    \n",
    "    raise_percent = 1.2\n",
    "    num = 0\n",
    "    def __init__(self, name, last, age, pay): # bu bir magic method mesela\n",
    "        self.name = name\n",
    "        self.last = last\n",
    "        self.age = age\n",
    "        self.pay = pay\n",
    "        Employee.num = Employee.num + 1\n",
    "    \n",
    "    def apply_raise(self):\n",
    "        self.pay = self.pay * self.raise_percent\n",
    "        \n",
    "    def __str__(self): \n",
    "        return f\"Employee(name = {self.name}, lastname = {self.last}, age = {self.age}, pay = {self.pay})\"\n",
    "    \n",
    "    def __add__(self, other): # iki employee objesini topla deyince bunların paylerini toplayığ döndürecek\n",
    "        return self.pay + other.pay"
   ]
  },
  {
   "cell_type": "code",
   "execution_count": 15,
   "id": "64e87b71",
   "metadata": {},
   "outputs": [],
   "source": [
    "emp_1 = Employee(\"Çağrı\", \"REİS\", 19, 5500)\n",
    "emp_2 = Employee(\"Sarah\", \"ANDERSON\", 22, 6000)"
   ]
  },
  {
   "cell_type": "code",
   "execution_count": 17,
   "id": "1ece5b40",
   "metadata": {},
   "outputs": [
    {
     "data": {
      "text/plain": [
       "11500"
      ]
     },
     "execution_count": 17,
     "metadata": {},
     "output_type": "execute_result"
    }
   ],
   "source": [
    "emp_1 + emp_2 # + operatörü karşısında ne yapacağını belirtmiştik."
   ]
  },
  {
   "cell_type": "code",
   "execution_count": 18,
   "id": "32ca4f04",
   "metadata": {},
   "outputs": [],
   "source": [
    "# len() fonksiyonumuz vardı mesela bunun bana classlarda bir şey döndürmesini istiyoesam bunu magic methodunu tanımlamalıyım."
   ]
  },
  {
   "cell_type": "markdown",
   "id": "f0790b76",
   "metadata": {},
   "source": [
    "## len()"
   ]
  },
  {
   "cell_type": "code",
   "execution_count": 25,
   "id": "55ffc8aa",
   "metadata": {},
   "outputs": [],
   "source": [
    "class Employee:\n",
    "    \n",
    "    raise_percent = 1.2\n",
    "    num = 0\n",
    "    def __init__(self, name, last, age, pay): # bu bir magic method mesela\n",
    "        self.name = name\n",
    "        self.last = last\n",
    "        self.age = age\n",
    "        self.pay = pay\n",
    "        Employee.num = Employee.num + 1\n",
    "    \n",
    "    def apply_raise(self):\n",
    "        self.pay = self.pay * self.raise_percent\n",
    "        \n",
    "    def __str__(self): \n",
    "        return f\"Employee(name = {self.name}, lastname = {self.last}, age = {self.age}, pay = {self.pay})\"\n",
    "    \n",
    "    def __add__(self, other):\n",
    "        return self.pay + other.pay\n",
    "    \n",
    "    def __len__(self): # adın uzunluğunu bastırması.\n",
    "        return len(self.name)"
   ]
  },
  {
   "cell_type": "code",
   "execution_count": 26,
   "id": "cd0f3bb8",
   "metadata": {},
   "outputs": [],
   "source": [
    "emp_1 = Employee(\"Çağrı\", \"REİS\", 19, 5500)\n",
    "emp_2 = Employee(\"Sarah\", \"ANDERSON\", 22, 6000)\n"
   ]
  },
  {
   "cell_type": "code",
   "execution_count": 27,
   "id": "c4e3c02c",
   "metadata": {},
   "outputs": [
    {
     "name": "stdout",
     "output_type": "stream",
     "text": [
      "5\n"
     ]
    }
   ],
   "source": [
    "print(len(emp_1))"
   ]
  },
  {
   "cell_type": "code",
   "execution_count": 28,
   "id": "19d8c363",
   "metadata": {},
   "outputs": [
    {
     "name": "stdout",
     "output_type": "stream",
     "text": [
      "5\n"
     ]
    }
   ],
   "source": [
    "print(len(emp_2))"
   ]
  },
  {
   "cell_type": "code",
   "execution_count": null,
   "id": "ac60fe0a",
   "metadata": {},
   "outputs": [],
   "source": []
  }
 ],
 "metadata": {
  "kernelspec": {
   "display_name": "Python 3 (ipykernel)",
   "language": "python",
   "name": "python3"
  },
  "language_info": {
   "codemirror_mode": {
    "name": "ipython",
    "version": 3
   },
   "file_extension": ".py",
   "mimetype": "text/x-python",
   "name": "python",
   "nbconvert_exporter": "python",
   "pygments_lexer": "ipython3",
   "version": "3.9.12"
  }
 },
 "nbformat": 4,
 "nbformat_minor": 5
}
