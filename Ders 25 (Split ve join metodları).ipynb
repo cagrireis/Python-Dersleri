{
 "cells": [
  {
   "cell_type": "code",
   "execution_count": null,
   "id": "dca730c6",
   "metadata": {},
   "outputs": [],
   "source": [
    "split()\n",
    "\n",
    "\n",
    "Belirli bir bölme kriterine göre string'in alt parçalarını listenin elemanları olarak dönüştürebiliriz."
   ]
  },
  {
   "cell_type": "code",
   "execution_count": 1,
   "id": "5b43d307",
   "metadata": {},
   "outputs": [],
   "source": [
    "s = \"merhaba nasılsın?\""
   ]
  },
  {
   "cell_type": "code",
   "execution_count": 3,
   "id": "7b0510cf",
   "metadata": {},
   "outputs": [],
   "source": [
    "# split içine nereden bölmemiz gerektiğini yazarız."
   ]
  },
  {
   "cell_type": "code",
   "execution_count": 4,
   "id": "dfac237f",
   "metadata": {},
   "outputs": [
    {
     "data": {
      "text/plain": [
       "['merhaba', 'nasılsın?']"
      ]
     },
     "execution_count": 4,
     "metadata": {},
     "output_type": "execute_result"
    }
   ],
   "source": [
    "s.split(\" \")"
   ]
  },
  {
   "cell_type": "code",
   "execution_count": 5,
   "id": "a484461f",
   "metadata": {},
   "outputs": [
    {
     "name": "stdout",
     "output_type": "stream",
     "text": [
      "['merhaba', 'nasılsın?']\n"
     ]
    }
   ],
   "source": [
    "print(s.split(\" \"))"
   ]
  },
  {
   "cell_type": "code",
   "execution_count": 6,
   "id": "db7f6693",
   "metadata": {},
   "outputs": [
    {
     "data": {
      "text/plain": [
       "list"
      ]
     },
     "execution_count": 6,
     "metadata": {},
     "output_type": "execute_result"
    }
   ],
   "source": [
    "type(s.split(\" \"))"
   ]
  },
  {
   "cell_type": "code",
   "execution_count": 7,
   "id": "47ab48ba",
   "metadata": {},
   "outputs": [],
   "source": [
    "# stringleri istediğimiz yerden parçalayıp list içine hapseder."
   ]
  },
  {
   "cell_type": "code",
   "execution_count": 8,
   "id": "32d3b8b0",
   "metadata": {},
   "outputs": [
    {
     "data": {
      "text/plain": [
       "'merhaba nasılsın?'"
      ]
     },
     "execution_count": 8,
     "metadata": {},
     "output_type": "execute_result"
    }
   ],
   "source": [
    "s"
   ]
  },
  {
   "cell_type": "code",
   "execution_count": 9,
   "id": "cc87133d",
   "metadata": {},
   "outputs": [],
   "source": [
    "# değer değiştirmez ama."
   ]
  },
  {
   "cell_type": "code",
   "execution_count": 10,
   "id": "28619983",
   "metadata": {},
   "outputs": [],
   "source": [
    "# split default olarak boşluğa göre ayırır."
   ]
  },
  {
   "cell_type": "code",
   "execution_count": 11,
   "id": "8cb43364",
   "metadata": {},
   "outputs": [],
   "source": [
    "# boşluk olmasaydı hiç tek bir blok halinde hepsini döndürür."
   ]
  },
  {
   "cell_type": "code",
   "execution_count": 12,
   "id": "0822d629",
   "metadata": {},
   "outputs": [],
   "source": [
    "s2 = \"limon,portakal,elma\""
   ]
  },
  {
   "cell_type": "code",
   "execution_count": 13,
   "id": "07339f15",
   "metadata": {},
   "outputs": [
    {
     "data": {
      "text/plain": [
       "['limon,portakal,elma']"
      ]
     },
     "execution_count": 13,
     "metadata": {},
     "output_type": "execute_result"
    }
   ],
   "source": [
    "s2.split()"
   ]
  },
  {
   "cell_type": "code",
   "execution_count": 17,
   "id": "8bf15a14",
   "metadata": {},
   "outputs": [],
   "source": [
    "s2 = \" limon, portakal, elma\""
   ]
  },
  {
   "cell_type": "code",
   "execution_count": 18,
   "id": "2a84abbd",
   "metadata": {},
   "outputs": [
    {
     "data": {
      "text/plain": [
       "[' limon', ' portakal', ' elma']"
      ]
     },
     "execution_count": 18,
     "metadata": {},
     "output_type": "execute_result"
    }
   ],
   "source": [
    "s2.split(\",\")"
   ]
  },
  {
   "cell_type": "code",
   "execution_count": 19,
   "id": "89915b8b",
   "metadata": {},
   "outputs": [
    {
     "name": "stdout",
     "output_type": "stream",
     "text": [
      " limon\n",
      " portakal\n",
      " elma\n"
     ]
    }
   ],
   "source": [
    "for e in s2.split(\",\"):\n",
    "    print(e)"
   ]
  },
  {
   "cell_type": "code",
   "execution_count": 20,
   "id": "4801f610",
   "metadata": {},
   "outputs": [],
   "source": [
    "# ayırmayı yaptığımız eleman liste içinde var olmaz."
   ]
  },
  {
   "cell_type": "code",
   "execution_count": null,
   "id": "5757fdf5",
   "metadata": {},
   "outputs": [],
   "source": [
    "join()\n",
    "\n",
    "\n",
    "listenin elemanları arasına belirtilen yapıyı koyup string'e dönüştürür.\n",
    "\n",
    "\n",
    "\"patern\".join(elemanları kullanılacak liste)"
   ]
  },
  {
   "cell_type": "code",
   "execution_count": 21,
   "id": "6fbd3958",
   "metadata": {},
   "outputs": [],
   "source": [
    "# splitin tam tersi gibidir."
   ]
  },
  {
   "cell_type": "code",
   "execution_count": 22,
   "id": "11ed0406",
   "metadata": {},
   "outputs": [],
   "source": [
    "l = [\"limon\", \"portakal\", \"elma\"]"
   ]
  },
  {
   "cell_type": "code",
   "execution_count": 24,
   "id": "162e9c6a",
   "metadata": {},
   "outputs": [
    {
     "data": {
      "text/plain": [
       "'limon,portakal,elma'"
      ]
     },
     "execution_count": 24,
     "metadata": {},
     "output_type": "execute_result"
    }
   ],
   "source": [
    "\",\".join(l) # listten stringe gdiiyor."
   ]
  },
  {
   "cell_type": "code",
   "execution_count": 25,
   "id": "fc011765",
   "metadata": {},
   "outputs": [
    {
     "data": {
      "text/plain": [
       "'limon portakal elma'"
      ]
     },
     "execution_count": 25,
     "metadata": {},
     "output_type": "execute_result"
    }
   ],
   "source": [
    "\" \".join(l)"
   ]
  },
  {
   "cell_type": "code",
   "execution_count": 26,
   "id": "e64125b8",
   "metadata": {},
   "outputs": [
    {
     "data": {
      "text/plain": [
       "'limon-portakal-elma'"
      ]
     },
     "execution_count": 26,
     "metadata": {},
     "output_type": "execute_result"
    }
   ],
   "source": [
    "\"-\".join(l)"
   ]
  },
  {
   "cell_type": "code",
   "execution_count": 27,
   "id": "a87750b6",
   "metadata": {},
   "outputs": [],
   "source": [
    "#bunlar değer tutumaz bir şeye eşitlememiz gerek kullanmak sitiyorsak"
   ]
  },
  {
   "cell_type": "code",
   "execution_count": null,
   "id": "c8fd3df2",
   "metadata": {},
   "outputs": [],
   "source": []
  }
 ],
 "metadata": {
  "kernelspec": {
   "display_name": "Python 3 (ipykernel)",
   "language": "python",
   "name": "python3"
  },
  "language_info": {
   "codemirror_mode": {
    "name": "ipython",
    "version": 3
   },
   "file_extension": ".py",
   "mimetype": "text/x-python",
   "name": "python",
   "nbconvert_exporter": "python",
   "pygments_lexer": "ipython3",
   "version": "3.9.12"
  }
 },
 "nbformat": 4,
 "nbformat_minor": 5
}
