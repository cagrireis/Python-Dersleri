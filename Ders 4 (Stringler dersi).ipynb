{
 "cells": [
  {
   "cell_type": "code",
   "execution_count": null,
   "id": "2dbe65f2",
   "metadata": {},
   "outputs": [],
   "source": [
    "String\n",
    "\n",
    "\n",
    "Şimdiye kadar sadece sayılar ile uğraştık. Bu notebook'ta yeni bir veri tipine, String'lere bakalım\n",
    "\n",
    "\n",
    "Stringler karakterlerden oluşan bir dizidir aslında. Stringlerin elemanları karakterlerdir.\n",
    "\n",
    "\n",
    "Karakterler: (a,b,c,d...) gibi harfler, (*, ?, =, <, >, /...) gibi özel karakterler, (1,2,3...) gibi yazı biçiminde sayılar, boşluk(space) karakter olarak adlandırılabilir.\n",
    "\n",
    "\n",
    "String'ler Karakterlerden veya bunların kombinasyonlarından oluşabilirler.\n",
    "\n",
    "\n",
    "Bir şeyin String olduğunu belirtmek için yazacaklarımızı ikili tırnak (\"örnek\") veya tekli tırnak ('örnek') içine yazarız.\n",
    "\n",
    "\n",
    "Tırnak işaretlerinin yaptığı şey aslında: Bu tırnak işaretlerinin içinde verdiğim diziye karakterler dizisi olarak davran, öyle algıla demek.\n",
    "\n",
    "\n",
    "İkili tırnak içine de yazsak, tekli tırnak içine de yazsak aynı şekilde algılanır. Önemli olan hangisiyle başladıysak onunla bitirmek.\n",
    "\n",
    "\n",
    "Scalar ve Non-scalar objelerden bahsetmiştik. Non-scalar veri tiplerinin daha alt parçalara bölünebilen, elemanlar içeren yapılar olduğunu konuşmuştuk. String non-scalar bir veri tipi. İçsel yapı olarak karakterlerden oluşuyor.\n",
    "\n",
    "\n",
    "Stringler immutable veri tipidir.\n",
    "\n",
    "\n",
    "Immutable: Elemanlarının değerleri değiştirilemez."
   ]
  },
  {
   "cell_type": "code",
   "execution_count": 1,
   "id": "5d9a358d",
   "metadata": {},
   "outputs": [
    {
     "data": {
      "text/plain": [
       "3"
      ]
     },
     "execution_count": 1,
     "metadata": {},
     "output_type": "execute_result"
    }
   ],
   "source": [
    "1 + 2 \n"
   ]
  },
  {
   "cell_type": "code",
   "execution_count": 2,
   "id": "7c54f389",
   "metadata": {},
   "outputs": [
    {
     "data": {
      "text/plain": [
       "'12'"
      ]
     },
     "execution_count": 2,
     "metadata": {},
     "output_type": "execute_result"
    }
   ],
   "source": [
    "\"1\" + \"2\""
   ]
  },
  {
   "cell_type": "code",
   "execution_count": 3,
   "id": "b78f888b",
   "metadata": {},
   "outputs": [],
   "source": [
    "# fark var tırnak içinde belirtirsek string"
   ]
  },
  {
   "cell_type": "code",
   "execution_count": 4,
   "id": "5b8b6199",
   "metadata": {},
   "outputs": [
    {
     "data": {
      "text/plain": [
       "2"
      ]
     },
     "execution_count": 4,
     "metadata": {},
     "output_type": "execute_result"
    }
   ],
   "source": [
    "2"
   ]
  },
  {
   "cell_type": "code",
   "execution_count": 5,
   "id": "24c0abb9",
   "metadata": {},
   "outputs": [
    {
     "data": {
      "text/plain": [
       "'5'"
      ]
     },
     "execution_count": 5,
     "metadata": {},
     "output_type": "execute_result"
    }
   ],
   "source": [
    "\"5\""
   ]
  },
  {
   "cell_type": "code",
   "execution_count": 6,
   "id": "6b17ec75",
   "metadata": {},
   "outputs": [],
   "source": [
    "#non scalar."
   ]
  },
  {
   "cell_type": "code",
   "execution_count": 7,
   "id": "7fbf6016",
   "metadata": {},
   "outputs": [],
   "source": [
    "# aynı zamanda lsitler gibi elemanları değiştirilemez."
   ]
  },
  {
   "cell_type": "code",
   "execution_count": 8,
   "id": "6add5e8b",
   "metadata": {},
   "outputs": [
    {
     "data": {
      "text/plain": [
       "'a'"
      ]
     },
     "execution_count": 8,
     "metadata": {},
     "output_type": "execute_result"
    }
   ],
   "source": [
    "\"a\""
   ]
  },
  {
   "cell_type": "code",
   "execution_count": 9,
   "id": "b6776958",
   "metadata": {
    "scrolled": true
   },
   "outputs": [
    {
     "data": {
      "text/plain": [
       "'a'"
      ]
     },
     "execution_count": 9,
     "metadata": {},
     "output_type": "execute_result"
    }
   ],
   "source": [
    "'a'"
   ]
  },
  {
   "cell_type": "code",
   "execution_count": 11,
   "id": "87f3f8f9",
   "metadata": {},
   "outputs": [
    {
     "ename": "SyntaxError",
     "evalue": "EOL while scanning string literal (2917633189.py, line 1)",
     "output_type": "error",
     "traceback": [
      "\u001b[1;36m  Input \u001b[1;32mIn [11]\u001b[1;36m\u001b[0m\n\u001b[1;33m    \"a' # hata\u001b[0m\n\u001b[1;37m              ^\u001b[0m\n\u001b[1;31mSyntaxError\u001b[0m\u001b[1;31m:\u001b[0m EOL while scanning string literal\n"
     ]
    }
   ],
   "source": [
    "\"a' # hata"
   ]
  },
  {
   "cell_type": "code",
   "execution_count": 13,
   "id": "a8f523e8",
   "metadata": {},
   "outputs": [
    {
     "data": {
      "text/plain": [
       "'5 + 7'"
      ]
     },
     "execution_count": 13,
     "metadata": {},
     "output_type": "execute_result"
    }
   ],
   "source": [
    "\"5 + 7\" #operatörler anlam ifade etmez."
   ]
  },
  {
   "cell_type": "code",
   "execution_count": 14,
   "id": "41abedd4",
   "metadata": {},
   "outputs": [
    {
     "data": {
      "text/plain": [
       "str"
      ]
     },
     "execution_count": 14,
     "metadata": {},
     "output_type": "execute_result"
    }
   ],
   "source": [
    "type(\"bugün nasılsın\")"
   ]
  },
  {
   "cell_type": "code",
   "execution_count": 15,
   "id": "2c51325e",
   "metadata": {},
   "outputs": [
    {
     "data": {
      "text/plain": [
       "str"
      ]
     },
     "execution_count": 15,
     "metadata": {},
     "output_type": "execute_result"
    }
   ],
   "source": [
    "type(\"x = 5\")"
   ]
  },
  {
   "cell_type": "code",
   "execution_count": 16,
   "id": "0692eb2f",
   "metadata": {},
   "outputs": [],
   "source": [
    "# eğer string içerisinde kesme işareti kullanacaksam string oluştururken tekli tırnak kullanammalıyım."
   ]
  },
  {
   "cell_type": "code",
   "execution_count": 17,
   "id": "b62db7cc",
   "metadata": {},
   "outputs": [],
   "source": [
    "# string içerisinde alıntıyı çift tırnak ile yapacaksam kesme işareti ile string yaratmalyım."
   ]
  },
  {
   "cell_type": "code",
   "execution_count": 20,
   "id": "943bfda1",
   "metadata": {},
   "outputs": [],
   "source": [
    "# bu gibi problemleri aşmak için düşünmek yerine escape sequence kullanırız.\n"
   ]
  },
  {
   "cell_type": "code",
   "execution_count": null,
   "id": "36a2f30f",
   "metadata": {},
   "outputs": [],
   "source": [
    "-------------------------------------------------------------------------------------------------------------------"
   ]
  },
  {
   "cell_type": "code",
   "execution_count": 19,
   "id": "a3af1968",
   "metadata": {},
   "outputs": [],
   "source": [
    "# KAÇIŞ DİZİLERİ (ESCAPE SEQUENCES)"
   ]
  },
  {
   "cell_type": "code",
   "execution_count": 22,
   "id": "92875e54",
   "metadata": {},
   "outputs": [
    {
     "data": {
      "text/plain": [
       "'Bana \"Bugün ne yapacaksın?\" dedi.'"
      ]
     },
     "execution_count": 22,
     "metadata": {},
     "output_type": "execute_result"
    }
   ],
   "source": [
    "\"Bana \\\"Bugün ne yapacaksın?\\\" dedi.\"\n",
    "# \\ ters slash tırnaktan önce kullanılırsa python o tırnağı string oluştumada etkili tırnak kabul etmez."
   ]
  },
  {
   "cell_type": "code",
   "execution_count": 23,
   "id": "8d8a8dde",
   "metadata": {},
   "outputs": [
    {
     "data": {
      "text/plain": [
       "\"Bugün Kadıköy'e gidiyorum dedi.\""
      ]
     },
     "execution_count": 23,
     "metadata": {},
     "output_type": "execute_result"
    }
   ],
   "source": [
    "'Bugün Kadıköy\\'e gidiyorum dedi.'\n",
    "# tırnak gibi kesme işareti ile oluşturulan stringlerde de \"\\\" ters slah etkilidir."
   ]
  },
  {
   "cell_type": "code",
   "execution_count": 24,
   "id": "c411ad24",
   "metadata": {},
   "outputs": [],
   "source": [
    "# \\n koyulduğu yerden itibaren aşağı satıra geçer."
   ]
  },
  {
   "cell_type": "code",
   "execution_count": 31,
   "id": "e26ad8f4",
   "metadata": {},
   "outputs": [
    {
     "name": "stdout",
     "output_type": "stream",
     "text": [
      "hey \n",
      "nasılsın\n"
     ]
    }
   ],
   "source": [
    "print(\"hey \\nnasılsın\") # \\n den sonra aşağıya yazılacak karakterler yazılır boşluğu da \\n'den sonra koyarsak boşluk koymuş oluruz."
   ]
  },
  {
   "cell_type": "code",
   "execution_count": 32,
   "id": "ae0bf0d5",
   "metadata": {},
   "outputs": [
    {
     "name": "stdout",
     "output_type": "stream",
     "text": [
      "hey \tnasılsın\n"
     ]
    }
   ],
   "source": [
    "print(\"hey \\tnasılsın\") # bir tab boşluk bırakır"
   ]
  },
  {
   "cell_type": "code",
   "execution_count": 33,
   "id": "4513658c",
   "metadata": {},
   "outputs": [],
   "source": [
    "# \\ karakterine de normal karakter muamelesi yapması için \\\\ kullanılmalı."
   ]
  },
  {
   "cell_type": "code",
   "execution_count": 34,
   "id": "1427a470",
   "metadata": {},
   "outputs": [
    {
     "name": "stdout",
     "output_type": "stream",
     "text": [
      "\\\n"
     ]
    }
   ],
   "source": [
    "print(\"\\\\\")"
   ]
  },
  {
   "cell_type": "code",
   "execution_count": null,
   "id": "6cee8db6",
   "metadata": {},
   "outputs": [],
   "source": []
  }
 ],
 "metadata": {
  "kernelspec": {
   "display_name": "Python 3 (ipykernel)",
   "language": "python",
   "name": "python3"
  },
  "language_info": {
   "codemirror_mode": {
    "name": "ipython",
    "version": 3
   },
   "file_extension": ".py",
   "mimetype": "text/x-python",
   "name": "python",
   "nbconvert_exporter": "python",
   "pygments_lexer": "ipython3",
   "version": "3.9.12"
  }
 },
 "nbformat": 4,
 "nbformat_minor": 5
}
