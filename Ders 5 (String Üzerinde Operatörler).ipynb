{
 "cells": [
  {
   "cell_type": "code",
   "execution_count": null,
   "id": "7bfc4d06",
   "metadata": {},
   "outputs": [],
   "source": [
    "String'lerde Değer Atama(Variable Assignment)\n",
    "\n",
    "\n",
    "Sayısal veri tiplerinde nasıl ki değer atayabiliyor, verilerin değerlerine isim verebiliyorsak, aynısını stringler için de yapabiliyoruz."
   ]
  },
  {
   "cell_type": "code",
   "execution_count": 1,
   "id": "652402d7",
   "metadata": {},
   "outputs": [],
   "source": [
    "merhaba = \"merhaba\""
   ]
  },
  {
   "cell_type": "code",
   "execution_count": 2,
   "id": "3cf1a0c9",
   "metadata": {},
   "outputs": [
    {
     "data": {
      "text/plain": [
       "'merhaba'"
      ]
     },
     "execution_count": 2,
     "metadata": {},
     "output_type": "execute_result"
    }
   ],
   "source": [
    "merhaba"
   ]
  },
  {
   "cell_type": "code",
   "execution_count": null,
   "id": "6ec0dcbe",
   "metadata": {},
   "outputs": [],
   "source": [
    "String Concatenation\n",
    "\n",
    "\n",
    "Operatörlerin uygulandıkları objelere göre değişik şeyler ifade edebileceğini konuşmuştuk.\n",
    "\n",
    "\n",
    "+ operatörü sayısal veri tipleri üzerine etki edince toplama işlemi yapıyor. Ama uygulandığı objeler string ise yapacağı işlem concatenation (birleştirme) olacak. İki string'i art arta birleştirecek.\n",
    "\n",
    "\n",
    "En çok karıştırılan durumlardan biri string olarak ifade edilen sayıları + operatörüne sokmak."
   ]
  },
  {
   "cell_type": "code",
   "execution_count": 4,
   "id": "e813df6e",
   "metadata": {},
   "outputs": [
    {
     "data": {
      "text/plain": [
       "'54'"
      ]
     },
     "execution_count": 4,
     "metadata": {},
     "output_type": "execute_result"
    }
   ],
   "source": [
    "\"5\" + \"4\" # burada + toplama değil birleştirme işareti çünkü stringleri görünce + işareti toplama olmaktan çıkar."
   ]
  },
  {
   "cell_type": "code",
   "execution_count": 5,
   "id": "1dc1cf08",
   "metadata": {},
   "outputs": [
    {
     "data": {
      "text/plain": [
       "'heynasılsın?'"
      ]
     },
     "execution_count": 5,
     "metadata": {},
     "output_type": "execute_result"
    }
   ],
   "source": [
    "\"hey\" + \"nasılsın?\""
   ]
  },
  {
   "cell_type": "code",
   "execution_count": 6,
   "id": "33c32c02",
   "metadata": {},
   "outputs": [
    {
     "data": {
      "text/plain": [
       "'hey nasılsın?'"
      ]
     },
     "execution_count": 6,
     "metadata": {},
     "output_type": "execute_result"
    }
   ],
   "source": [
    "\"hey \" + \"nasılsın?\""
   ]
  },
  {
   "cell_type": "code",
   "execution_count": 7,
   "id": "5f8f1f36",
   "metadata": {},
   "outputs": [
    {
     "data": {
      "text/plain": [
       "'hey nasılsın?'"
      ]
     },
     "execution_count": 7,
     "metadata": {},
     "output_type": "execute_result"
    }
   ],
   "source": [
    "\"hey\" + \" nasılsın?\""
   ]
  },
  {
   "cell_type": "code",
   "execution_count": 10,
   "id": "2e4b29e5",
   "metadata": {},
   "outputs": [
    {
     "data": {
      "text/plain": [
       "'heynasılsın?'"
      ]
     },
     "execution_count": 10,
     "metadata": {},
     "output_type": "execute_result"
    }
   ],
   "source": [
    "\"hey\" + \"\" + \"nasılsın?\" # olmadı çünkü boşluk karakteri içermiyor."
   ]
  },
  {
   "cell_type": "code",
   "execution_count": 9,
   "id": "5d25a727",
   "metadata": {},
   "outputs": [
    {
     "data": {
      "text/plain": [
       "'hey nasılsın?'"
      ]
     },
     "execution_count": 9,
     "metadata": {},
     "output_type": "execute_result"
    }
   ],
   "source": [
    "\"hey\" + \" \" + \"nasılsın?\""
   ]
  },
  {
   "cell_type": "code",
   "execution_count": null,
   "id": "06cfa9d3",
   "metadata": {},
   "outputs": [],
   "source": [
    "Diyelim ki karşılama mesajı yazmak istiyoruz. İsim ve karşılama kısmını ayrı tutacağız. Çünkü belki karşılayacağımız kişinin ismi değişecek ve ben kodumda sadece o değeri değiştirerek karşılama mantığını korumaya devam edeyim istiyorum.\n"
   ]
  },
  {
   "cell_type": "code",
   "execution_count": 11,
   "id": "f2b419a6",
   "metadata": {},
   "outputs": [
    {
     "data": {
      "text/plain": [
       "'Merhaba Çağrı'"
      ]
     },
     "execution_count": 11,
     "metadata": {},
     "output_type": "execute_result"
    }
   ],
   "source": [
    "mesaj = \"Merhaba\"\n",
    "isim = \"Çağrı\"\n",
    "\n",
    "mesaj + \" \" + isim"
   ]
  },
  {
   "cell_type": "code",
   "execution_count": 12,
   "id": "e75a427d",
   "metadata": {},
   "outputs": [],
   "source": [
    "karşılama = mesaj + \" \" + isim\n"
   ]
  },
  {
   "cell_type": "code",
   "execution_count": 13,
   "id": "c0aa2e17",
   "metadata": {},
   "outputs": [
    {
     "name": "stdout",
     "output_type": "stream",
     "text": [
      "Merhaba Çağrı\n"
     ]
    }
   ],
   "source": [
    "print(karşılama)"
   ]
  },
  {
   "cell_type": "code",
   "execution_count": 14,
   "id": "991498ef",
   "metadata": {},
   "outputs": [],
   "source": [
    "# variable assigment bir değere isim verme durumudur ksıaca."
   ]
  },
  {
   "cell_type": "code",
   "execution_count": null,
   "id": "72c7a50b",
   "metadata": {},
   "outputs": [],
   "source": [
    "Successive Concatenation(Ardışık Birleştirme)\n",
    "\n",
    "\n",
    "* operatörü sayı objeleri için çarpım olarak tanımlanmışken, stringler için ard arda birleştirme işlemi yapıyor."
   ]
  },
  {
   "cell_type": "code",
   "execution_count": 16,
   "id": "bd67cb1e",
   "metadata": {},
   "outputs": [
    {
     "data": {
      "text/plain": [
       "'heyheyheyhey'"
      ]
     },
     "execution_count": 16,
     "metadata": {},
     "output_type": "execute_result"
    }
   ],
   "source": [
    "4 * \"hey\""
   ]
  },
  {
   "cell_type": "code",
   "execution_count": 18,
   "id": "0ba9b452",
   "metadata": {},
   "outputs": [
    {
     "data": {
      "text/plain": [
       "'heyheyheyhey'"
      ]
     },
     "execution_count": 18,
     "metadata": {},
     "output_type": "execute_result"
    }
   ],
   "source": [
    "\"hey\" + \"hey\" + \"hey\" + \"hey\"  # aynısıdır."
   ]
  },
  {
   "cell_type": "code",
   "execution_count": 19,
   "id": "7dcbb092",
   "metadata": {},
   "outputs": [
    {
     "data": {
      "text/plain": [
       "'10000000000'"
      ]
     },
     "execution_count": 19,
     "metadata": {},
     "output_type": "execute_result"
    }
   ],
   "source": [
    "\"1\" + \"0\" * 10"
   ]
  },
  {
   "cell_type": "code",
   "execution_count": 20,
   "id": "125ce898",
   "metadata": {},
   "outputs": [
    {
     "data": {
      "text/plain": [
       "str"
      ]
     },
     "execution_count": 20,
     "metadata": {},
     "output_type": "execute_result"
    }
   ],
   "source": [
    "type(\"1\" + \"0\" * 10)"
   ]
  },
  {
   "cell_type": "code",
   "execution_count": null,
   "id": "5314937a",
   "metadata": {},
   "outputs": [],
   "source": [
    "len()\n",
    "\n",
    "\n",
    "Bu metod ile (metodları ileride ayrıntılı olara göreceğiz), elimizdeki string'in kaç karakterden oluştuğunu öğrenebiliriz (boşluklar da karakter olduğu için onlar da sayılıyor)\n"
   ]
  },
  {
   "cell_type": "code",
   "execution_count": 21,
   "id": "7e0adcf4",
   "metadata": {},
   "outputs": [
    {
     "data": {
      "text/plain": [
       "1"
      ]
     },
     "execution_count": 21,
     "metadata": {},
     "output_type": "execute_result"
    }
   ],
   "source": [
    "len(\"4\")"
   ]
  },
  {
   "cell_type": "code",
   "execution_count": 23,
   "id": "d2a2914a",
   "metadata": {},
   "outputs": [
    {
     "ename": "TypeError",
     "evalue": "object of type 'int' has no len()",
     "output_type": "error",
     "traceback": [
      "\u001b[1;31m---------------------------------------------------------------------------\u001b[0m",
      "\u001b[1;31mTypeError\u001b[0m                                 Traceback (most recent call last)",
      "Input \u001b[1;32mIn [23]\u001b[0m, in \u001b[0;36m<cell line: 1>\u001b[1;34m()\u001b[0m\n\u001b[1;32m----> 1\u001b[0m \u001b[38;5;28;43mlen\u001b[39;49m\u001b[43m(\u001b[49m\u001b[38;5;241;43m5\u001b[39;49m\u001b[43m)\u001b[49m\n",
      "\u001b[1;31mTypeError\u001b[0m: object of type 'int' has no len()"
     ]
    }
   ],
   "source": [
    "len(5) # doğal oalrak olmadı."
   ]
  },
  {
   "cell_type": "code",
   "execution_count": 25,
   "id": "ede32b72",
   "metadata": {},
   "outputs": [
    {
     "data": {
      "text/plain": [
       "2"
      ]
     },
     "execution_count": 25,
     "metadata": {},
     "output_type": "execute_result"
    }
   ],
   "source": [
    "len(\"42\")"
   ]
  },
  {
   "cell_type": "code",
   "execution_count": 28,
   "id": "85d84800",
   "metadata": {},
   "outputs": [
    {
     "data": {
      "text/plain": [
       "13"
      ]
     },
     "execution_count": 28,
     "metadata": {},
     "output_type": "execute_result"
    }
   ],
   "source": [
    "len(\"hey nasılsın?\") #boşluk da karakter."
   ]
  },
  {
   "cell_type": "code",
   "execution_count": 29,
   "id": "b9e30e49",
   "metadata": {},
   "outputs": [
    {
     "data": {
      "text/plain": [
       "2"
      ]
     },
     "execution_count": 29,
     "metadata": {},
     "output_type": "execute_result"
    }
   ],
   "source": [
    "len(\"  \")"
   ]
  },
  {
   "cell_type": "code",
   "execution_count": 30,
   "id": "d5d4e05d",
   "metadata": {},
   "outputs": [
    {
     "data": {
      "text/plain": [
       "1"
      ]
     },
     "execution_count": 30,
     "metadata": {},
     "output_type": "execute_result"
    }
   ],
   "source": [
    "len(\" \")"
   ]
  },
  {
   "cell_type": "code",
   "execution_count": 31,
   "id": "348b51f8",
   "metadata": {},
   "outputs": [
    {
     "data": {
      "text/plain": [
       "0"
      ]
     },
     "execution_count": 31,
     "metadata": {},
     "output_type": "execute_result"
    }
   ],
   "source": [
    "len(\"\")"
   ]
  },
  {
   "cell_type": "code",
   "execution_count": null,
   "id": "5c583e9f",
   "metadata": {},
   "outputs": [],
   "source": []
  }
 ],
 "metadata": {
  "kernelspec": {
   "display_name": "Python 3 (ipykernel)",
   "language": "python",
   "name": "python3"
  },
  "language_info": {
   "codemirror_mode": {
    "name": "ipython",
    "version": 3
   },
   "file_extension": ".py",
   "mimetype": "text/x-python",
   "name": "python",
   "nbconvert_exporter": "python",
   "pygments_lexer": "ipython3",
   "version": "3.9.12"
  }
 },
 "nbformat": 4,
 "nbformat_minor": 5
}
