{
 "cells": [
  {
   "cell_type": "code",
   "execution_count": null,
   "id": "95f9ef7e",
   "metadata": {},
   "outputs": [],
   "source": [
    "Predefined Parameters"
   ]
  },
  {
   "cell_type": "code",
   "execution_count": 1,
   "id": "3bc0f67e",
   "metadata": {},
   "outputs": [],
   "source": [
    "# kullanıcı eğer tek değeri veya belirli değerleri girmezse önceden girilen default değeri oluşturma"
   ]
  },
  {
   "cell_type": "code",
   "execution_count": 2,
   "id": "b09c0766",
   "metadata": {},
   "outputs": [],
   "source": [
    "def hello(end, start = \"Hello\"):\n",
    "    print(start + \" \" + end)"
   ]
  },
  {
   "cell_type": "code",
   "execution_count": 4,
   "id": "0b4e67b8",
   "metadata": {},
   "outputs": [
    {
     "name": "stdout",
     "output_type": "stream",
     "text": [
      "Hello thx\n"
     ]
    }
   ],
   "source": [
    "hello(\"thx\")"
   ]
  },
  {
   "cell_type": "code",
   "execution_count": 5,
   "id": "20d2970b",
   "metadata": {},
   "outputs": [
    {
     "name": "stdout",
     "output_type": "stream",
     "text": [
      "Hi thx\n"
     ]
    }
   ],
   "source": [
    "hello(\"thx\", \"Hi\")"
   ]
  },
  {
   "cell_type": "code",
   "execution_count": 6,
   "id": "4b35f863",
   "metadata": {},
   "outputs": [],
   "source": [
    "# hello predefined oldu."
   ]
  },
  {
   "cell_type": "code",
   "execution_count": 7,
   "id": "6c4471d6",
   "metadata": {},
   "outputs": [],
   "source": [
    "# şimdi burada end predefined değil yani onu kesin girmeliyiz fakat start bize kalmış oldu."
   ]
  },
  {
   "cell_type": "code",
   "execution_count": 8,
   "id": "8d25fc59",
   "metadata": {},
   "outputs": [
    {
     "name": "stdout",
     "output_type": "stream",
     "text": [
      "Hey Çağrı\n"
     ]
    }
   ],
   "source": [
    "hello(\"Çağrı\", \"Hey\")"
   ]
  },
  {
   "cell_type": "code",
   "execution_count": 9,
   "id": "6ad4ced3",
   "metadata": {},
   "outputs": [
    {
     "name": "stdout",
     "output_type": "stream",
     "text": [
      "Hello Çağrı\n"
     ]
    }
   ],
   "source": [
    "hello(\"Çağrı\")"
   ]
  },
  {
   "cell_type": "code",
   "execution_count": 11,
   "id": "7728af27",
   "metadata": {},
   "outputs": [],
   "source": [
    "def power(x, y = 1):\n",
    "    return x ** y"
   ]
  },
  {
   "cell_type": "code",
   "execution_count": 12,
   "id": "029ea6d9",
   "metadata": {},
   "outputs": [
    {
     "data": {
      "text/plain": [
       "3"
      ]
     },
     "execution_count": 12,
     "metadata": {},
     "output_type": "execute_result"
    }
   ],
   "source": [
    "power(3)"
   ]
  },
  {
   "cell_type": "code",
   "execution_count": 13,
   "id": "3f85d6c5",
   "metadata": {},
   "outputs": [
    {
     "data": {
      "text/plain": [
       "9"
      ]
     },
     "execution_count": 13,
     "metadata": {},
     "output_type": "execute_result"
    }
   ],
   "source": [
    "power(3, 2)"
   ]
  },
  {
   "cell_type": "code",
   "execution_count": 14,
   "id": "9bcebab8",
   "metadata": {},
   "outputs": [
    {
     "data": {
      "text/plain": [
       "16"
      ]
     },
     "execution_count": 14,
     "metadata": {},
     "output_type": "execute_result"
    }
   ],
   "source": [
    "power(4,2)"
   ]
  },
  {
   "cell_type": "code",
   "execution_count": 15,
   "id": "60a85ea6",
   "metadata": {},
   "outputs": [],
   "source": [
    "# Aksini belirtmezsek predefined değerleri kullanacak fonksiyon\n",
    "# predefined olarak vereceğimiz değerleri en sona yazmalıyız yoksa hata alırız!!!!!"
   ]
  },
  {
   "cell_type": "code",
   "execution_count": 17,
   "id": "cfb05f70",
   "metadata": {},
   "outputs": [
    {
     "ename": "SyntaxError",
     "evalue": "non-default argument follows default argument (840677199.py, line 1)",
     "output_type": "error",
     "traceback": [
      "\u001b[1;36m  Input \u001b[1;32mIn [17]\u001b[1;36m\u001b[0m\n\u001b[1;33m    def hello(start = \"Hello\", end):# her zaman predefined sonda olmalı çünkü boşluk, yapamayız onun yerine parametreleri fonksiyon içinde değiştirebiliriz.\u001b[0m\n\u001b[1;37m                                  ^\u001b[0m\n\u001b[1;31mSyntaxError\u001b[0m\u001b[1;31m:\u001b[0m non-default argument follows default argument\n"
     ]
    }
   ],
   "source": [
    "def hello(start = \"Hello\", end):# her zaman predefined sonda olmalı çünkü boşluk, yapamayız onun yerine parametreleri fonksiyon içinde değiştirebiliriz.\n",
    "    print(start + \" \" + end)"
   ]
  },
  {
   "cell_type": "code",
   "execution_count": 18,
   "id": "f84ee704",
   "metadata": {},
   "outputs": [],
   "source": [
    "def f(x, y = 1, z = 2): #birden çok predefined de olabilir.\n",
    "    return x + y + z"
   ]
  },
  {
   "cell_type": "code",
   "execution_count": 19,
   "id": "d0744bce",
   "metadata": {},
   "outputs": [
    {
     "data": {
      "text/plain": [
       "5"
      ]
     },
     "execution_count": 19,
     "metadata": {},
     "output_type": "execute_result"
    }
   ],
   "source": [
    "f(2) 2+ 1 +2"
   ]
  },
  {
   "cell_type": "code",
   "execution_count": 20,
   "id": "5cdd1c63",
   "metadata": {},
   "outputs": [
    {
     "data": {
      "text/plain": [
       "7"
      ]
     },
     "execution_count": 20,
     "metadata": {},
     "output_type": "execute_result"
    }
   ],
   "source": [
    "f(2, 3) 2 + 3+ 2"
   ]
  },
  {
   "cell_type": "code",
   "execution_count": 21,
   "id": "7cb98577",
   "metadata": {},
   "outputs": [
    {
     "data": {
      "text/plain": [
       "9"
      ]
     },
     "execution_count": 21,
     "metadata": {},
     "output_type": "execute_result"
    }
   ],
   "source": [
    "f(3, 3, 3) 3+ 3+ 3"
   ]
  },
  {
   "cell_type": "code",
   "execution_count": null,
   "id": "5e151017",
   "metadata": {},
   "outputs": [],
   "source": []
  }
 ],
 "metadata": {
  "kernelspec": {
   "display_name": "Python 3 (ipykernel)",
   "language": "python",
   "name": "python3"
  },
  "language_info": {
   "codemirror_mode": {
    "name": "ipython",
    "version": 3
   },
   "file_extension": ".py",
   "mimetype": "text/x-python",
   "name": "python",
   "nbconvert_exporter": "python",
   "pygments_lexer": "ipython3",
   "version": "3.9.12"
  }
 },
 "nbformat": 4,
 "nbformat_minor": 5
}
