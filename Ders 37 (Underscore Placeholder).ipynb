{
 "cells": [
  {
   "cell_type": "markdown",
   "id": "3fc17be5",
   "metadata": {},
   "source": [
    "### Underscore Placeholders"
   ]
  },
  {
   "cell_type": "code",
   "execution_count": 6,
   "id": "737ff6fd",
   "metadata": {},
   "outputs": [],
   "source": [
    "num1 = 90000000000"
   ]
  },
  {
   "cell_type": "code",
   "execution_count": null,
   "id": "c3b3e2ab",
   "metadata": {},
   "outputs": [],
   "source": [
    "Kaç tane 0 var burada ? 1,2,3,4... bir tanesini atladım mı? Nerede kalmıştım, başa dönüp bir daha sayayım... Pff yok mu bunun daha okunabilir bir yolu?\n",
    "\n",
    "\n",
    "Cevap tabii ki de evet. Sayıları arka planda algılanmasını değiştirmeden, ama bize daha kolay okunabilir yapan bir yöntem var."
   ]
  },
  {
   "cell_type": "code",
   "execution_count": 7,
   "id": "c0fc6ed3",
   "metadata": {},
   "outputs": [],
   "source": [
    "num2 = 90_000_000_000"
   ]
  },
  {
   "cell_type": "code",
   "execution_count": 3,
   "id": "b2b56679",
   "metadata": {},
   "outputs": [
    {
     "ename": "SyntaxError",
     "evalue": "invalid syntax (1412373764.py, line 1)",
     "output_type": "error",
     "traceback": [
      "\u001b[1;36m  Input \u001b[1;32mIn [3]\u001b[1;36m\u001b[0m\n\u001b[1;33m    Sayıların arasına alttan çizgi koymak!\u001b[0m\n\u001b[1;37m              ^\u001b[0m\n\u001b[1;31mSyntaxError\u001b[0m\u001b[1;31m:\u001b[0m invalid syntax\n"
     ]
    }
   ],
   "source": [
    "Sayıların arasına alttan çizgi koymak!\n",
    "\n",
    "\n",
    "Bu bilgisayarın sayıları algılamasını değiştirmiyor, o onları görmezden geliyor, ama bizim için daha okunabilir oluyor."
   ]
  },
  {
   "cell_type": "code",
   "execution_count": 4,
   "id": "be6c390f",
   "metadata": {},
   "outputs": [],
   "source": [
    "#bilgisayar için hiçbir fark yok."
   ]
  },
  {
   "cell_type": "code",
   "execution_count": 8,
   "id": "0574e055",
   "metadata": {},
   "outputs": [
    {
     "data": {
      "text/plain": [
       "90000000000"
      ]
     },
     "execution_count": 8,
     "metadata": {},
     "output_type": "execute_result"
    }
   ],
   "source": [
    "num1"
   ]
  },
  {
   "cell_type": "code",
   "execution_count": 9,
   "id": "4261a21d",
   "metadata": {},
   "outputs": [
    {
     "data": {
      "text/plain": [
       "90000000000"
      ]
     },
     "execution_count": 9,
     "metadata": {},
     "output_type": "execute_result"
    }
   ],
   "source": [
    "num2"
   ]
  },
  {
   "cell_type": "code",
   "execution_count": 10,
   "id": "95101a86",
   "metadata": {},
   "outputs": [
    {
     "data": {
      "text/plain": [
       "int"
      ]
     },
     "execution_count": 10,
     "metadata": {},
     "output_type": "execute_result"
    }
   ],
   "source": [
    "type(num1)"
   ]
  },
  {
   "cell_type": "code",
   "execution_count": 11,
   "id": "10299a0f",
   "metadata": {},
   "outputs": [
    {
     "data": {
      "text/plain": [
       "int"
      ]
     },
     "execution_count": 11,
     "metadata": {},
     "output_type": "execute_result"
    }
   ],
   "source": [
    "type(num2)"
   ]
  },
  {
   "cell_type": "code",
   "execution_count": 12,
   "id": "25b5696c",
   "metadata": {},
   "outputs": [
    {
     "data": {
      "text/plain": [
       "0"
      ]
     },
     "execution_count": 12,
     "metadata": {},
     "output_type": "execute_result"
    }
   ],
   "source": [
    "num1 - num2"
   ]
  },
  {
   "cell_type": "code",
   "execution_count": 13,
   "id": "c4900776",
   "metadata": {},
   "outputs": [],
   "source": [
    "# yani bir şeydeğişmiyor."
   ]
  },
  {
   "cell_type": "code",
   "execution_count": 14,
   "id": "56b58163",
   "metadata": {},
   "outputs": [],
   "source": [
    "# floatlar i.in de olabiliyor."
   ]
  },
  {
   "cell_type": "code",
   "execution_count": 15,
   "id": "ed3ab2b5",
   "metadata": {},
   "outputs": [],
   "source": [
    "num3 = 0.12_23_245"
   ]
  },
  {
   "cell_type": "code",
   "execution_count": 16,
   "id": "245b75a0",
   "metadata": {},
   "outputs": [],
   "source": [
    "num4 = 0.1223245"
   ]
  },
  {
   "cell_type": "code",
   "execution_count": 17,
   "id": "52f860af",
   "metadata": {},
   "outputs": [
    {
     "data": {
      "text/plain": [
       "True"
      ]
     },
     "execution_count": 17,
     "metadata": {},
     "output_type": "execute_result"
    }
   ],
   "source": [
    "num4 == num3"
   ]
  },
  {
   "cell_type": "code",
   "execution_count": 18,
   "id": "786612d2",
   "metadata": {},
   "outputs": [],
   "source": [
    "#bu kadar."
   ]
  },
  {
   "cell_type": "code",
   "execution_count": null,
   "id": "0333de40",
   "metadata": {},
   "outputs": [],
   "source": []
  }
 ],
 "metadata": {
  "kernelspec": {
   "display_name": "Python 3 (ipykernel)",
   "language": "python",
   "name": "python3"
  },
  "language_info": {
   "codemirror_mode": {
    "name": "ipython",
    "version": 3
   },
   "file_extension": ".py",
   "mimetype": "text/x-python",
   "name": "python",
   "nbconvert_exporter": "python",
   "pygments_lexer": "ipython3",
   "version": "3.9.12"
  }
 },
 "nbformat": 4,
 "nbformat_minor": 5
}
