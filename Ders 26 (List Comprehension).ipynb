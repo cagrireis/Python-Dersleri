{
 "cells": [
  {
   "cell_type": "markdown",
   "id": "8fb9c2c9",
   "metadata": {},
   "source": [
    "### List Comprehensions\n",
    "\n",
    "\n",
    "Yine o yeni bir şey öğrenmediğimiz ama yaptığımız şeyleri daha farklı ve kolay yapmayı öğrendiğimiz bir konudayız.\n",
    "\n",
    "\n",
    "Diyelim ki 1'den 10'a kadar olan sayıların karelerinden bir liste oluşturmak istiyorum. Bunu aşağıdaki gibi yapabilirim.\n"
   ]
  },
  {
   "cell_type": "code",
   "execution_count": 2,
   "id": "a6721b26",
   "metadata": {},
   "outputs": [],
   "source": [
    "squares = []\n",
    "\n",
    "for i in range(1, 11):\n",
    "    squares.append(i ** 2)\n",
    "    "
   ]
  },
  {
   "cell_type": "code",
   "execution_count": 3,
   "id": "46a34702",
   "metadata": {},
   "outputs": [
    {
     "data": {
      "text/plain": [
       "[1, 4, 9, 16, 25, 36, 49, 64, 81, 100]"
      ]
     },
     "execution_count": 3,
     "metadata": {},
     "output_type": "execute_result"
    }
   ],
   "source": [
    "squares"
   ]
  },
  {
   "cell_type": "code",
   "execution_count": 4,
   "id": "9691982e",
   "metadata": {},
   "outputs": [],
   "source": [
    "squares2 = [i ** 2 for i in range(1, 11)]"
   ]
  },
  {
   "cell_type": "code",
   "execution_count": 5,
   "id": "2d3de026",
   "metadata": {},
   "outputs": [
    {
     "data": {
      "text/plain": [
       "[1, 4, 9, 16, 25, 36, 49, 64, 81, 100]"
      ]
     },
     "execution_count": 5,
     "metadata": {},
     "output_type": "execute_result"
    }
   ],
   "source": [
    "squares2"
   ]
  },
  {
   "cell_type": "code",
   "execution_count": 6,
   "id": "2878b858",
   "metadata": {},
   "outputs": [
    {
     "data": {
      "text/plain": [
       "True"
      ]
     },
     "execution_count": 6,
     "metadata": {},
     "output_type": "execute_result"
    }
   ],
   "source": [
    "squares2 == squares"
   ]
  },
  {
   "cell_type": "code",
   "execution_count": 7,
   "id": "e4c7818b",
   "metadata": {},
   "outputs": [],
   "source": [
    "# list comprehension mantığını birleştirme."
   ]
  },
  {
   "cell_type": "code",
   "execution_count": 10,
   "id": "7d84a3c3",
   "metadata": {},
   "outputs": [],
   "source": [
    "def cube(x):\n",
    "    return x ** 3"
   ]
  },
  {
   "cell_type": "code",
   "execution_count": 11,
   "id": "b2d9bbdc",
   "metadata": {},
   "outputs": [
    {
     "data": {
      "text/plain": [
       "27"
      ]
     },
     "execution_count": 11,
     "metadata": {},
     "output_type": "execute_result"
    }
   ],
   "source": [
    "cube(3)"
   ]
  },
  {
   "cell_type": "code",
   "execution_count": 13,
   "id": "fa14983f",
   "metadata": {},
   "outputs": [],
   "source": [
    "cube2 = [cube(x) for x in range(1, 11)]"
   ]
  },
  {
   "cell_type": "code",
   "execution_count": 14,
   "id": "26f27f62",
   "metadata": {},
   "outputs": [
    {
     "data": {
      "text/plain": [
       "[1, 8, 27, 64, 125, 216, 343, 512, 729, 1000]"
      ]
     },
     "execution_count": 14,
     "metadata": {},
     "output_type": "execute_result"
    }
   ],
   "source": [
    "cube2"
   ]
  },
  {
   "cell_type": "code",
   "execution_count": 15,
   "id": "c38c2ff9",
   "metadata": {},
   "outputs": [],
   "source": [
    "# list comprehension'da condiyional mantığı"
   ]
  },
  {
   "cell_type": "code",
   "execution_count": 16,
   "id": "ad9df2d4",
   "metadata": {},
   "outputs": [
    {
     "data": {
      "text/plain": [
       "[1, 4, 9, 16, 25, 36, 49, 64, 81, 100]"
      ]
     },
     "execution_count": 16,
     "metadata": {},
     "output_type": "execute_result"
    }
   ],
   "source": [
    "squares"
   ]
  },
  {
   "cell_type": "code",
   "execution_count": 22,
   "id": "faa711f1",
   "metadata": {},
   "outputs": [],
   "source": [
    "tek_squares = []\n",
    "\n",
    "for e in squares:\n",
    "    \n",
    "    if (e % 2 != 0):\n",
    "        \n",
    "        tek_squares.append(e)\n",
    "        \n",
    "    else:\n",
    "        \n",
    "        continue"
   ]
  },
  {
   "cell_type": "code",
   "execution_count": 23,
   "id": "c9774b92",
   "metadata": {},
   "outputs": [
    {
     "data": {
      "text/plain": [
       "[1, 9, 25, 49, 81]"
      ]
     },
     "execution_count": 23,
     "metadata": {},
     "output_type": "execute_result"
    }
   ],
   "source": [
    "tek_squares"
   ]
  },
  {
   "cell_type": "code",
   "execution_count": 20,
   "id": "b749ad2e",
   "metadata": {},
   "outputs": [],
   "source": [
    "odd_squares = [i for i in squares if i % 2 != 0]"
   ]
  },
  {
   "cell_type": "code",
   "execution_count": 21,
   "id": "17b7ee9e",
   "metadata": {},
   "outputs": [
    {
     "data": {
      "text/plain": [
       "[1, 9, 25, 49, 81]"
      ]
     },
     "execution_count": 21,
     "metadata": {},
     "output_type": "execute_result"
    }
   ],
   "source": [
    "odd_squares"
   ]
  },
  {
   "cell_type": "code",
   "execution_count": 24,
   "id": "e9682008",
   "metadata": {},
   "outputs": [],
   "source": [
    "#bunu fonksiyon ile verebilirim."
   ]
  },
  {
   "cell_type": "code",
   "execution_count": 25,
   "id": "8b67ade1",
   "metadata": {},
   "outputs": [],
   "source": [
    "def is_odd(e):\n",
    "    \n",
    "    if (e % 2 != 0):\n",
    "        \n",
    "        return e"
   ]
  },
  {
   "cell_type": "code",
   "execution_count": 26,
   "id": "13305ef2",
   "metadata": {},
   "outputs": [],
   "source": [
    "# şu şekilde de yapılabilir"
   ]
  },
  {
   "cell_type": "code",
   "execution_count": 28,
   "id": "2cd26b49",
   "metadata": {},
   "outputs": [],
   "source": [
    "tek = [i for i in squares if is_odd(i)]"
   ]
  },
  {
   "cell_type": "code",
   "execution_count": 29,
   "id": "2062f9ff",
   "metadata": {},
   "outputs": [
    {
     "data": {
      "text/plain": [
       "[1, 9, 25, 49, 81]"
      ]
     },
     "execution_count": 29,
     "metadata": {},
     "output_type": "execute_result"
    }
   ],
   "source": [
    "tek"
   ]
  },
  {
   "cell_type": "code",
   "execution_count": 30,
   "id": "45b2593d",
   "metadata": {},
   "outputs": [],
   "source": [
    "# şöyle de yazılabilir:\n"
   ]
  },
  {
   "cell_type": "code",
   "execution_count": 31,
   "id": "959883e0",
   "metadata": {},
   "outputs": [],
   "source": [
    "def iss_odd(x):\n",
    "    \n",
    "    if (x % 2 == 0):\n",
    "        \n",
    "        return False\n",
    "    else:\n",
    "        return True"
   ]
  },
  {
   "cell_type": "code",
   "execution_count": 32,
   "id": "f4eb85a4",
   "metadata": {},
   "outputs": [],
   "source": [
    "tekk = [i for i in squares if iss_odd(i)]"
   ]
  },
  {
   "cell_type": "code",
   "execution_count": 33,
   "id": "c4e66798",
   "metadata": {},
   "outputs": [
    {
     "data": {
      "text/plain": [
       "[1, 9, 25, 49, 81]"
      ]
     },
     "execution_count": 33,
     "metadata": {},
     "output_type": "execute_result"
    }
   ],
   "source": [
    "tekk"
   ]
  },
  {
   "cell_type": "code",
   "execution_count": 35,
   "id": "433f4db6",
   "metadata": {},
   "outputs": [],
   "source": [
    "# çeşitli alıştırmalar."
   ]
  },
  {
   "cell_type": "code",
   "execution_count": 36,
   "id": "e076f03c",
   "metadata": {},
   "outputs": [],
   "source": [
    "def empty(x):\n",
    "    \n",
    "    if (x % 2 == 0):\n",
    "        return False\n",
    "    \n",
    "    else:\n",
    "        return False"
   ]
  },
  {
   "cell_type": "code",
   "execution_count": 37,
   "id": "c5619461",
   "metadata": {},
   "outputs": [],
   "source": [
    "boş = [i for i in range(1, 11) if empty(i)]"
   ]
  },
  {
   "cell_type": "code",
   "execution_count": 38,
   "id": "b221f4d0",
   "metadata": {},
   "outputs": [
    {
     "data": {
      "text/plain": [
       "[]"
      ]
     },
     "execution_count": 38,
     "metadata": {},
     "output_type": "execute_result"
    }
   ],
   "source": [
    "boş"
   ]
  },
  {
   "cell_type": "code",
   "execution_count": 39,
   "id": "24be5f56",
   "metadata": {},
   "outputs": [],
   "source": [
    "def is_even(x):\n",
    "    \n",
    "    if (x % 2 == 0):\n",
    "        return True\n",
    "    \n",
    "    else:\n",
    "        return False"
   ]
  },
  {
   "cell_type": "code",
   "execution_count": 40,
   "id": "155b72b6",
   "metadata": {},
   "outputs": [
    {
     "data": {
      "text/plain": [
       "True"
      ]
     },
     "execution_count": 40,
     "metadata": {},
     "output_type": "execute_result"
    }
   ],
   "source": [
    "is_even(8)"
   ]
  },
  {
   "cell_type": "code",
   "execution_count": 43,
   "id": "30b28cc7",
   "metadata": {},
   "outputs": [],
   "source": [
    "çift = [i for i in range(1, 21) if is_even(i)]"
   ]
  },
  {
   "cell_type": "code",
   "execution_count": 44,
   "id": "fa1b44db",
   "metadata": {},
   "outputs": [
    {
     "data": {
      "text/plain": [
       "[2, 4, 6, 8, 10, 12, 14, 16, 18, 20]"
      ]
     },
     "execution_count": 44,
     "metadata": {},
     "output_type": "execute_result"
    }
   ],
   "source": [
    "çift"
   ]
  },
  {
   "cell_type": "code",
   "execution_count": 45,
   "id": "4121333d",
   "metadata": {},
   "outputs": [
    {
     "data": {
      "text/plain": [
       "[1, 4, 9, 16, 25, 36, 49, 64, 81, 100]"
      ]
     },
     "execution_count": 45,
     "metadata": {},
     "output_type": "execute_result"
    }
   ],
   "source": [
    "squares"
   ]
  },
  {
   "cell_type": "code",
   "execution_count": 46,
   "id": "463e0af5",
   "metadata": {},
   "outputs": [],
   "source": [
    "weird_squares = [i if i % 2 == 0 else -1 for i in squares]"
   ]
  },
  {
   "cell_type": "code",
   "execution_count": 47,
   "id": "78c99102",
   "metadata": {},
   "outputs": [
    {
     "data": {
      "text/plain": [
       "[-1, 4, -1, 16, -1, 36, -1, 64, -1, 100]"
      ]
     },
     "execution_count": 47,
     "metadata": {},
     "output_type": "execute_result"
    }
   ],
   "source": [
    "weird_squares"
   ]
  },
  {
   "cell_type": "code",
   "execution_count": 48,
   "id": "d78aadf1",
   "metadata": {},
   "outputs": [],
   "source": [
    "ultra_weird_squares = [i if i % 2 == 0 else -1 for i in squares if is_even(i)]"
   ]
  },
  {
   "cell_type": "code",
   "execution_count": 49,
   "id": "164f8055",
   "metadata": {},
   "outputs": [
    {
     "data": {
      "text/plain": [
       "[4, 16, 36, 64, 100]"
      ]
     },
     "execution_count": 49,
     "metadata": {},
     "output_type": "execute_result"
    }
   ],
   "source": [
    "ultra_weird_squares"
   ]
  },
  {
   "cell_type": "markdown",
   "id": "00049446",
   "metadata": {},
   "source": [
    "### SET COMPREHENSIONS"
   ]
  },
  {
   "cell_type": "code",
   "execution_count": 50,
   "id": "93d759c8",
   "metadata": {},
   "outputs": [],
   "source": [
    "numbers = [1, 2, 3, 4, 5, 6, 7, 1, 2]"
   ]
  },
  {
   "cell_type": "code",
   "execution_count": 51,
   "id": "bfe0f317",
   "metadata": {},
   "outputs": [],
   "source": [
    "set_numbers = {i for i in numbers if i in numbers}"
   ]
  },
  {
   "cell_type": "code",
   "execution_count": 52,
   "id": "c75a7f14",
   "metadata": {},
   "outputs": [
    {
     "data": {
      "text/plain": [
       "{1, 2, 3, 4, 5, 6, 7}"
      ]
     },
     "execution_count": 52,
     "metadata": {},
     "output_type": "execute_result"
    }
   ],
   "source": [
    "set_numbers"
   ]
  },
  {
   "cell_type": "markdown",
   "id": "84f0157d",
   "metadata": {},
   "source": [
    "### DICTIONARY COMPROHENSIONS"
   ]
  },
  {
   "cell_type": "code",
   "execution_count": 55,
   "id": "026d43c7",
   "metadata": {},
   "outputs": [],
   "source": [
    "square_dict = {e:e * e for e in range(1, 11)}"
   ]
  },
  {
   "cell_type": "code",
   "execution_count": 56,
   "id": "cfc1a140",
   "metadata": {},
   "outputs": [
    {
     "data": {
      "text/plain": [
       "{1: 1, 2: 4, 3: 9, 4: 16, 5: 25, 6: 36, 7: 49, 8: 64, 9: 81, 10: 100}"
      ]
     },
     "execution_count": 56,
     "metadata": {},
     "output_type": "execute_result"
    }
   ],
   "source": [
    "square_dict"
   ]
  },
  {
   "cell_type": "markdown",
   "id": "7b6d6600",
   "metadata": {},
   "source": [
    "### NESTED LIST COMPROHENSIONS (İÇ İÇE LİSTELER)"
   ]
  },
  {
   "cell_type": "code",
   "execution_count": 61,
   "id": "d6feee47",
   "metadata": {},
   "outputs": [],
   "source": [
    "m = [[i for i in range(1, 7)] for _ in range(1, 7)] # önce list oluşturur 0'dan 7'ye kadar, sonra bunu 6 defa daha yapacak"
   ]
  },
  {
   "cell_type": "code",
   "execution_count": 62,
   "id": "f00480d4",
   "metadata": {},
   "outputs": [
    {
     "data": {
      "text/plain": [
       "[[1, 2, 3, 4, 5, 6],\n",
       " [1, 2, 3, 4, 5, 6],\n",
       " [1, 2, 3, 4, 5, 6],\n",
       " [1, 2, 3, 4, 5, 6],\n",
       " [1, 2, 3, 4, 5, 6],\n",
       " [1, 2, 3, 4, 5, 6]]"
      ]
     },
     "execution_count": 62,
     "metadata": {},
     "output_type": "execute_result"
    }
   ],
   "source": [
    "m"
   ]
  },
  {
   "cell_type": "code",
   "execution_count": 63,
   "id": "b3186c36",
   "metadata": {},
   "outputs": [],
   "source": [
    "n = [[10, 11, 12], [13, 14], [15, 16, 17, 18]]"
   ]
  },
  {
   "cell_type": "code",
   "execution_count": 65,
   "id": "81c69b1c",
   "metadata": {},
   "outputs": [
    {
     "name": "stdout",
     "output_type": "stream",
     "text": [
      "[10, 11, 12]\n",
      "[13, 14]\n",
      "[15, 16, 17, 18]\n"
     ]
    }
   ],
   "source": [
    "for l in n:\n",
    "    print(l) # aynı manıtk"
   ]
  },
  {
   "cell_type": "code",
   "execution_count": 66,
   "id": "0de57e2f",
   "metadata": {},
   "outputs": [],
   "source": [
    "#bunları flatten yapmak istersem yani düzenli oalrak elemanlarını çıkarmak istersem:"
   ]
  },
  {
   "cell_type": "code",
   "execution_count": 73,
   "id": "aa9dea63",
   "metadata": {},
   "outputs": [
    {
     "name": "stdout",
     "output_type": "stream",
     "text": [
      "[10, 11, 12]\n",
      "10\n",
      "11\n",
      "12\n",
      "[13, 14]\n",
      "13\n",
      "14\n",
      "[15, 16, 17, 18]\n",
      "15\n",
      "16\n",
      "17\n",
      "18\n"
     ]
    }
   ],
   "source": [
    "new_n = []\n",
    "\n",
    "for l in n:\n",
    "    print(l)\n",
    "    for e in l:\n",
    "        new_n.append(e) #iterasyon .ok net görülüyor.\n",
    "        print(e)"
   ]
  },
  {
   "cell_type": "code",
   "execution_count": 74,
   "id": "f766a5f0",
   "metadata": {},
   "outputs": [
    {
     "data": {
      "text/plain": [
       "[10, 11, 12, 13, 14, 15, 16, 17, 18]"
      ]
     },
     "execution_count": 74,
     "metadata": {},
     "output_type": "execute_result"
    }
   ],
   "source": [
    "new_n"
   ]
  },
  {
   "cell_type": "code",
   "execution_count": 75,
   "id": "582338e5",
   "metadata": {},
   "outputs": [],
   "source": [
    "#bu şekilde olur "
   ]
  },
  {
   "cell_type": "code",
   "execution_count": 76,
   "id": "2a60594c",
   "metadata": {},
   "outputs": [],
   "source": [
    "# bunu list comprohension ile yaprsak"
   ]
  },
  {
   "cell_type": "code",
   "execution_count": 95,
   "id": "19783904",
   "metadata": {},
   "outputs": [],
   "source": [
    "flatten = [ e for l in n for e in l if e % 2 == 0] #sıra sıra gidiyor bak."
   ]
  },
  {
   "cell_type": "code",
   "execution_count": 96,
   "id": "3a57259e",
   "metadata": {},
   "outputs": [
    {
     "data": {
      "text/plain": [
       "[10, 12, 14, 16, 18]"
      ]
     },
     "execution_count": 96,
     "metadata": {},
     "output_type": "execute_result"
    }
   ],
   "source": [
    "flatten"
   ]
  },
  {
   "cell_type": "code",
   "execution_count": null,
   "id": "7af14f2d",
   "metadata": {},
   "outputs": [],
   "source": [
    "soru = [e for i in m for e in i]"
   ]
  }
 ],
 "metadata": {
  "kernelspec": {
   "display_name": "Python 3 (ipykernel)",
   "language": "python",
   "name": "python3"
  },
  "language_info": {
   "codemirror_mode": {
    "name": "ipython",
    "version": 3
   },
   "file_extension": ".py",
   "mimetype": "text/x-python",
   "name": "python",
   "nbconvert_exporter": "python",
   "pygments_lexer": "ipython3",
   "version": "3.9.12"
  }
 },
 "nbformat": 4,
 "nbformat_minor": 5
}
