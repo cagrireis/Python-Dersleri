{
 "cells": [
  {
   "cell_type": "code",
   "execution_count": null,
   "id": "caa111ab",
   "metadata": {},
   "outputs": [],
   "source": [
    "Indexing (Elemanlara Erişme)\n",
    "\n",
    "\n",
    "Stringlerin non-scalar veri tiplerine örnek olduğunu konuşmuştuk. Stringler elemanları karakter olan, alt birim olarak karakterler içeren bir veri tipi.\n",
    "\n",
    "\n",
    "Stringler karakterler dizisi olduğu için, bu dizideki spesifik konumdaki elemanlara erişmek isteyebiliriz. Mesela string'in ilk karakteri nedir gibi.\n",
    "\n",
    "\n",
    "Bir yapının alt elemanına erişmek için yapacağımız işleme indexing deniyor. Bunu köşeli parantez [] ile sağlayacağız.\n",
    "\n",
    "\n",
    "isim diye bir değişken oluşturup, string'e eşitleyip, ilk elemanına(karakterine) erişelim."
   ]
  },
  {
   "cell_type": "code",
   "execution_count": 1,
   "id": "4797b491",
   "metadata": {},
   "outputs": [],
   "source": [
    "isim = \"Çağrı\""
   ]
  },
  {
   "cell_type": "code",
   "execution_count": 2,
   "id": "04c4daa1",
   "metadata": {},
   "outputs": [
    {
     "data": {
      "text/plain": [
       "'a'"
      ]
     },
     "execution_count": 2,
     "metadata": {},
     "output_type": "execute_result"
    }
   ],
   "source": [
    "isim[1]"
   ]
  },
  {
   "cell_type": "code",
   "execution_count": 3,
   "id": "5cc69802",
   "metadata": {},
   "outputs": [
    {
     "data": {
      "text/plain": [
       "'Ç'"
      ]
     },
     "execution_count": 3,
     "metadata": {},
     "output_type": "execute_result"
    }
   ],
   "source": [
    "isim[0]"
   ]
  },
  {
   "cell_type": "code",
   "execution_count": 4,
   "id": "2596479c",
   "metadata": {},
   "outputs": [],
   "source": [
    "# index 0'dan başlar."
   ]
  },
  {
   "cell_type": "code",
   "execution_count": 5,
   "id": "5617bd90",
   "metadata": {},
   "outputs": [
    {
     "data": {
      "text/plain": [
       "'Ç'"
      ]
     },
     "execution_count": 5,
     "metadata": {},
     "output_type": "execute_result"
    }
   ],
   "source": [
    "\"Çağrı\"[0]"
   ]
  },
  {
   "cell_type": "code",
   "execution_count": 7,
   "id": "fa6cc80c",
   "metadata": {},
   "outputs": [
    {
     "data": {
      "text/plain": [
       "5"
      ]
     },
     "execution_count": 7,
     "metadata": {},
     "output_type": "execute_result"
    }
   ],
   "source": [
    "len(isim) #son elemanına erişmek için 4 yazmalıyım çünkü index 0 dan başlar. (len(isim) - 1)"
   ]
  },
  {
   "cell_type": "code",
   "execution_count": 9,
   "id": "2c60f995",
   "metadata": {},
   "outputs": [
    {
     "data": {
      "text/plain": [
       "'ı'"
      ]
     },
     "execution_count": 9,
     "metadata": {},
     "output_type": "execute_result"
    }
   ],
   "source": [
    "isim[len(isim) - 1] # görüldüğü gibi."
   ]
  },
  {
   "cell_type": "code",
   "execution_count": 13,
   "id": "150d683e",
   "metadata": {},
   "outputs": [
    {
     "data": {
      "text/plain": [
       "'ı'"
      ]
     },
     "execution_count": 13,
     "metadata": {},
     "output_type": "execute_result"
    }
   ],
   "source": [
    "isim[-1] # - lemek de hatırladığımız gibi -1 son harfidir."
   ]
  },
  {
   "cell_type": "code",
   "execution_count": 14,
   "id": "38e1c6c4",
   "metadata": {},
   "outputs": [
    {
     "data": {
      "text/plain": [
       "'r'"
      ]
     },
     "execution_count": 14,
     "metadata": {},
     "output_type": "execute_result"
    }
   ],
   "source": [
    "isim[-2] "
   ]
  },
  {
   "cell_type": "code",
   "execution_count": 15,
   "id": "a0c75fc5",
   "metadata": {},
   "outputs": [],
   "source": [
    "# karakter değişimini yapamayız. immutable bir ver itipi list gibi değil."
   ]
  },
  {
   "cell_type": "code",
   "execution_count": 16,
   "id": "b8919d30",
   "metadata": {},
   "outputs": [
    {
     "ename": "TypeError",
     "evalue": "'str' object does not support item assignment",
     "output_type": "error",
     "traceback": [
      "\u001b[1;31m---------------------------------------------------------------------------\u001b[0m",
      "\u001b[1;31mTypeError\u001b[0m                                 Traceback (most recent call last)",
      "Input \u001b[1;32mIn [16]\u001b[0m, in \u001b[0;36m<cell line: 1>\u001b[1;34m()\u001b[0m\n\u001b[1;32m----> 1\u001b[0m isim[\u001b[38;5;241m0\u001b[39m] \u001b[38;5;241m=\u001b[39m \u001b[38;5;124m\"\u001b[39m\u001b[38;5;124ma\u001b[39m\u001b[38;5;124m\"\u001b[39m\n",
      "\u001b[1;31mTypeError\u001b[0m: 'str' object does not support item assignment"
     ]
    }
   ],
   "source": [
    "isim[0] = \"a\""
   ]
  },
  {
   "cell_type": "code",
   "execution_count": null,
   "id": "7056e7fd",
   "metadata": {},
   "outputs": [],
   "source": [
    "Slicing (Dilimleme)\n",
    "\n",
    "\n",
    "Indexing ile sonuç olarak sadece bir eleman elde ettik. Ama birkaç tanesini arka arkaya, bir öbek olarak istiyorsam ne yapardım?\n",
    "\n",
    "\n",
    "Diyelim ki ilk elemandan başlayarak 3. elemana kadar olan karakterleri elde etmek istiyorum (0. indexten 3. indexe kadar olanları)\n"
   ]
  },
  {
   "cell_type": "code",
   "execution_count": 17,
   "id": "aec2ac2f",
   "metadata": {},
   "outputs": [
    {
     "data": {
      "text/plain": [
       "'Çağ'"
      ]
     },
     "execution_count": 17,
     "metadata": {},
     "output_type": "execute_result"
    }
   ],
   "source": [
    "# Burada önemli olan nokta ilk belirtilen indexing dahil edilip son olarak yazılanın dahil edilmemesi\n",
    "# 0,1,2 indexlerindekileri döndürdü sonuç olarak\n",
    "\n",
    "isim[0:3]"
   ]
  },
  {
   "cell_type": "code",
   "execution_count": 18,
   "id": "c92ac207",
   "metadata": {},
   "outputs": [],
   "source": [
    "deneme = \"naber\""
   ]
  },
  {
   "cell_type": "code",
   "execution_count": 19,
   "id": "78944df1",
   "metadata": {},
   "outputs": [
    {
     "data": {
      "text/plain": [
       "'na'"
      ]
     },
     "execution_count": 19,
     "metadata": {},
     "output_type": "execute_result"
    }
   ],
   "source": [
    "deneme[0:2]"
   ]
  },
  {
   "cell_type": "code",
   "execution_count": 20,
   "id": "81c01575",
   "metadata": {},
   "outputs": [],
   "source": [
    "# : dan önce veya sonra bir şey yazmaz isek gittiği yere kadar gider."
   ]
  },
  {
   "cell_type": "code",
   "execution_count": 21,
   "id": "fa94b690",
   "metadata": {},
   "outputs": [
    {
     "data": {
      "text/plain": [
       "'Çağ'"
      ]
     },
     "execution_count": 21,
     "metadata": {},
     "output_type": "execute_result"
    }
   ],
   "source": [
    "isim[:3]"
   ]
  },
  {
   "cell_type": "code",
   "execution_count": 22,
   "id": "d45bb28d",
   "metadata": {},
   "outputs": [
    {
     "data": {
      "text/plain": [
       "'ağrı'"
      ]
     },
     "execution_count": 22,
     "metadata": {},
     "output_type": "execute_result"
    }
   ],
   "source": [
    "isim[1:]"
   ]
  },
  {
   "cell_type": "code",
   "execution_count": 23,
   "id": "3848f906",
   "metadata": {},
   "outputs": [
    {
     "data": {
      "text/plain": [
       "'ağ'"
      ]
     },
     "execution_count": 23,
     "metadata": {},
     "output_type": "execute_result"
    }
   ],
   "source": [
    "isim[1:3]"
   ]
  },
  {
   "cell_type": "code",
   "execution_count": 24,
   "id": "c2330d9c",
   "metadata": {},
   "outputs": [
    {
     "data": {
      "text/plain": [
       "'Çağrı'"
      ]
     },
     "execution_count": 24,
     "metadata": {},
     "output_type": "execute_result"
    }
   ],
   "source": [
    "isim[:]"
   ]
  },
  {
   "cell_type": "code",
   "execution_count": 25,
   "id": "c009fc75",
   "metadata": {},
   "outputs": [
    {
     "data": {
      "text/plain": [
       "'Çağrı'"
      ]
     },
     "execution_count": 25,
     "metadata": {},
     "output_type": "execute_result"
    }
   ],
   "source": [
    "isim[0:]"
   ]
  },
  {
   "cell_type": "code",
   "execution_count": 27,
   "id": "eaff52e7",
   "metadata": {},
   "outputs": [
    {
     "data": {
      "text/plain": [
       "'ırğaÇ'"
      ]
     },
     "execution_count": 27,
     "metadata": {},
     "output_type": "execute_result"
    }
   ],
   "source": [
    "isim[::-1]"
   ]
  },
  {
   "cell_type": "code",
   "execution_count": 29,
   "id": "44a0b83e",
   "metadata": {},
   "outputs": [
    {
     "data": {
      "text/plain": [
       "'rğa'"
      ]
     },
     "execution_count": 29,
     "metadata": {},
     "output_type": "execute_result"
    }
   ],
   "source": [
    "isim[3:0:-1]"
   ]
  },
  {
   "cell_type": "code",
   "execution_count": 30,
   "id": "392708a6",
   "metadata": {},
   "outputs": [],
   "source": [
    "# slicing'de 5 harflik isim için de 20 ye kadar git der isem gittiği yer ekdar gider hata vermez."
   ]
  },
  {
   "cell_type": "code",
   "execution_count": 31,
   "id": "93cbc842",
   "metadata": {},
   "outputs": [
    {
     "data": {
      "text/plain": [
       "'Çağrı'"
      ]
     },
     "execution_count": 31,
     "metadata": {},
     "output_type": "execute_result"
    }
   ],
   "source": [
    "isim[0:20]"
   ]
  },
  {
   "cell_type": "code",
   "execution_count": null,
   "id": "c29da072",
   "metadata": {},
   "outputs": [],
   "source": [
    "başlangıç:bitiş olarak slicing yapabileceğimiz gibi, başlangıç:bitiş:adım formunda da slicing yapabiliriz. Burada adım parametresi kaçar kaçar gideceğimizi belirler."
   ]
  },
  {
   "cell_type": "code",
   "execution_count": 34,
   "id": "903bd753",
   "metadata": {},
   "outputs": [
    {
     "data": {
      "text/plain": [
       "'Çğı'"
      ]
     },
     "execution_count": 34,
     "metadata": {},
     "output_type": "execute_result"
    }
   ],
   "source": [
    "isim[0::2]"
   ]
  },
  {
   "cell_type": "code",
   "execution_count": 36,
   "id": "ede33a49",
   "metadata": {},
   "outputs": [
    {
     "ename": "ValueError",
     "evalue": "slice step cannot be zero",
     "output_type": "error",
     "traceback": [
      "\u001b[1;31m---------------------------------------------------------------------------\u001b[0m",
      "\u001b[1;31mValueError\u001b[0m                                Traceback (most recent call last)",
      "Input \u001b[1;32mIn [36]\u001b[0m, in \u001b[0;36m<cell line: 1>\u001b[1;34m()\u001b[0m\n\u001b[1;32m----> 1\u001b[0m \u001b[43misim\u001b[49m\u001b[43m[\u001b[49m\u001b[38;5;241;43m0\u001b[39;49m\u001b[43m:\u001b[49m\u001b[43m:\u001b[49m\u001b[38;5;241;43m0\u001b[39;49m\u001b[43m]\u001b[49m\n",
      "\u001b[1;31mValueError\u001b[0m: slice step cannot be zero"
     ]
    }
   ],
   "source": [
    "isim[0::0] # 0 olamaz!"
   ]
  },
  {
   "cell_type": "code",
   "execution_count": 37,
   "id": "7d1d4661",
   "metadata": {},
   "outputs": [
    {
     "data": {
      "text/plain": [
       "'Çr'"
      ]
     },
     "execution_count": 37,
     "metadata": {},
     "output_type": "execute_result"
    }
   ],
   "source": [
    "isim[::3]"
   ]
  },
  {
   "cell_type": "code",
   "execution_count": 38,
   "id": "e8aed12a",
   "metadata": {},
   "outputs": [
    {
     "data": {
      "text/plain": [
       "'Ç'"
      ]
     },
     "execution_count": 38,
     "metadata": {},
     "output_type": "execute_result"
    }
   ],
   "source": [
    "isim[::5]"
   ]
  },
  {
   "cell_type": "code",
   "execution_count": 40,
   "id": "513c7e98",
   "metadata": {},
   "outputs": [
    {
     "data": {
      "text/plain": [
       "''"
      ]
     },
     "execution_count": 40,
     "metadata": {},
     "output_type": "execute_result"
    }
   ],
   "source": [
    "isim[0:10:-1]"
   ]
  },
  {
   "cell_type": "code",
   "execution_count": 44,
   "id": "9f670e67",
   "metadata": {},
   "outputs": [
    {
     "data": {
      "text/plain": [
       "'ırğa'"
      ]
     },
     "execution_count": 44,
     "metadata": {},
     "output_type": "execute_result"
    }
   ],
   "source": [
    "isim[:0:-1] # 0 ı dahil almıyort çünkü bitiş."
   ]
  },
  {
   "cell_type": "code",
   "execution_count": 45,
   "id": "e710bdeb",
   "metadata": {},
   "outputs": [
    {
     "data": {
      "text/plain": [
       "'ırğaÇ'"
      ]
     },
     "execution_count": 45,
     "metadata": {},
     "output_type": "execute_result"
    }
   ],
   "source": [
    "isim[::-1]"
   ]
  },
  {
   "cell_type": "code",
   "execution_count": 46,
   "id": "57d94317",
   "metadata": {},
   "outputs": [
    {
     "data": {
      "text/plain": [
       "'ığÇ'"
      ]
     },
     "execution_count": 46,
     "metadata": {},
     "output_type": "execute_result"
    }
   ],
   "source": [
    "isim[::-2]"
   ]
  },
  {
   "cell_type": "code",
   "execution_count": null,
   "id": "324e0467",
   "metadata": {},
   "outputs": [],
   "source": []
  }
 ],
 "metadata": {
  "kernelspec": {
   "display_name": "Python 3 (ipykernel)",
   "language": "python",
   "name": "python3"
  },
  "language_info": {
   "codemirror_mode": {
    "name": "ipython",
    "version": 3
   },
   "file_extension": ".py",
   "mimetype": "text/x-python",
   "name": "python",
   "nbconvert_exporter": "python",
   "pygments_lexer": "ipython3",
   "version": "3.9.12"
  }
 },
 "nbformat": 4,
 "nbformat_minor": 5
}
