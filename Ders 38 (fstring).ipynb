{
 "cells": [
  {
   "cell_type": "code",
   "execution_count": null,
   "id": "110d78c3",
   "metadata": {},
   "outputs": [],
   "source": [
    "F-Strings\n",
    "\n",
    "\n",
    "Değişkenlerimizin değerlerini direkt olarak string'lerin içine koymak isteyebiliriz.\n",
    "\n",
    "\n",
    "f-string de yaptığımız tek şey aslında değişkenlerin değerlerini veya hesaplamaların sonucunu stringin içine gömmek.\n",
    "\n",
    "\n",
    "f\"...\" diye göreceğimiz yapının adını String Interpolation diye görebilirsiniz.\n"
   ]
  },
  {
   "cell_type": "code",
   "execution_count": 1,
   "id": "d7d31ea3",
   "metadata": {},
   "outputs": [],
   "source": [
    "# stringlerin içine yapı gömme"
   ]
  },
  {
   "cell_type": "code",
   "execution_count": 2,
   "id": "bf0e1e32",
   "metadata": {},
   "outputs": [],
   "source": [
    "x = 2"
   ]
  },
  {
   "cell_type": "code",
   "execution_count": 3,
   "id": "439c462a",
   "metadata": {},
   "outputs": [],
   "source": [
    "#x 'in değeri 2 yazdırmak zahmetli iş'"
   ]
  },
  {
   "cell_type": "code",
   "execution_count": 5,
   "id": "cd3e8ae2",
   "metadata": {},
   "outputs": [
    {
     "name": "stdout",
     "output_type": "stream",
     "text": [
      "X'in degeri: 2\n"
     ]
    }
   ],
   "source": [
    "print(\"X'in degeri:\"+ \" \" + str(x))"
   ]
  },
  {
   "cell_type": "code",
   "execution_count": 6,
   "id": "e33e036e",
   "metadata": {},
   "outputs": [],
   "source": [
    "#direkt gömelim."
   ]
  },
  {
   "cell_type": "code",
   "execution_count": null,
   "id": "5517379c",
   "metadata": {},
   "outputs": [],
   "source": []
  },
  {
   "cell_type": "code",
   "execution_count": 7,
   "id": "be2e57e9",
   "metadata": {},
   "outputs": [
    {
     "data": {
      "text/plain": [
       "\"x'in değeri 2\""
      ]
     },
     "execution_count": 7,
     "metadata": {},
     "output_type": "execute_result"
    }
   ],
   "source": [
    "f\"x'in değeri {x}\" "
   ]
  },
  {
   "cell_type": "code",
   "execution_count": null,
   "id": "198cd081",
   "metadata": {},
   "outputs": [],
   "source": [
    "İçine değer gömeceğimiz string'i tanımlarken başına f yazarak başlıyoruz f\"....\". Gömmek istediğimiz değeri/değişkeni süslü parantez içine yazıyoruz f\".....{}....\". Birden çok değer de gömmek isteyebiliriz, o zaman kaç tane yapacaksak o kadar süslü parantez koymamız gerekirdi f\".....{}....{}..\"\n",
    "\n",
    "\n",
    "Python'ın yaptığı şey süslü parantezin içini hesaplayıp stringin içine gömmek.\n"
   ]
  },
  {
   "cell_type": "code",
   "execution_count": 9,
   "id": "83371596",
   "metadata": {},
   "outputs": [
    {
     "data": {
      "text/plain": [
       "\"x'in değerinin 2 fazlası 4\""
      ]
     },
     "execution_count": 9,
     "metadata": {},
     "output_type": "execute_result"
    }
   ],
   "source": [
    "f\"x'in değerinin 2 fazlası {x + 2}\""
   ]
  },
  {
   "cell_type": "code",
   "execution_count": 10,
   "id": "b46cae7f",
   "metadata": {},
   "outputs": [],
   "source": [
    "# { içine ne istiyorsam ayzabilirm}"
   ]
  },
  {
   "cell_type": "code",
   "execution_count": 21,
   "id": "397e235e",
   "metadata": {},
   "outputs": [
    {
     "name": "stdout",
     "output_type": "stream",
     "text": [
      "İsim: çağrı\n"
     ]
    }
   ],
   "source": [
    "isim = input(\"İsim: \")"
   ]
  },
  {
   "cell_type": "code",
   "execution_count": 22,
   "id": "1be22cc6",
   "metadata": {},
   "outputs": [
    {
     "data": {
      "text/plain": [
       "'İsimim: çağrı'"
      ]
     },
     "execution_count": 22,
     "metadata": {},
     "output_type": "execute_result"
    }
   ],
   "source": [
    "f\"İsimim: {isim}\""
   ]
  },
  {
   "cell_type": "code",
   "execution_count": 13,
   "id": "1a84ecb7",
   "metadata": {},
   "outputs": [],
   "source": [
    "def kare(x):\n",
    "    return x * x"
   ]
  },
  {
   "cell_type": "code",
   "execution_count": 14,
   "id": "3dd8885b",
   "metadata": {},
   "outputs": [],
   "source": [
    "l = [1, 2, 3, 4]"
   ]
  },
  {
   "cell_type": "code",
   "execution_count": 15,
   "id": "d66585ed",
   "metadata": {},
   "outputs": [
    {
     "data": {
      "text/plain": [
       "'verilen liste: [1, 2, 3, 4]'"
      ]
     },
     "execution_count": 15,
     "metadata": {},
     "output_type": "execute_result"
    }
   ],
   "source": [
    "f\"verilen liste: {l}\""
   ]
  },
  {
   "cell_type": "code",
   "execution_count": 16,
   "id": "43d16354",
   "metadata": {},
   "outputs": [],
   "source": [
    "# {} içine her şey yazılabilir}"
   ]
  },
  {
   "cell_type": "code",
   "execution_count": 18,
   "id": "0552fe64",
   "metadata": {},
   "outputs": [],
   "source": [
    "d = {1:5, 2:6, 3:7, 4:8}"
   ]
  },
  {
   "cell_type": "code",
   "execution_count": 19,
   "id": "e9b14137",
   "metadata": {},
   "outputs": [
    {
     "data": {
      "text/plain": [
       "'verilen dict: {1: 5, 2: 6, 3: 7, 4: 8}'"
      ]
     },
     "execution_count": 19,
     "metadata": {},
     "output_type": "execute_result"
    }
   ],
   "source": [
    "f\"verilen dict: {d}\""
   ]
  },
  {
   "cell_type": "code",
   "execution_count": 20,
   "id": "98e3e01b",
   "metadata": {},
   "outputs": [],
   "source": [
    "# ismin baş harfini büyütme:"
   ]
  },
  {
   "cell_type": "code",
   "execution_count": 24,
   "id": "076ac354",
   "metadata": {},
   "outputs": [
    {
     "data": {
      "text/plain": [
       "'İsmim: Çağrı'"
      ]
     },
     "execution_count": 24,
     "metadata": {},
     "output_type": "execute_result"
    }
   ],
   "source": [
    "f\"İsmim: {isim.capitalize()}\""
   ]
  },
  {
   "cell_type": "code",
   "execution_count": 25,
   "id": "28624f57",
   "metadata": {},
   "outputs": [
    {
     "data": {
      "text/plain": [
       "'2 sayısının karesi 4'"
      ]
     },
     "execution_count": 25,
     "metadata": {},
     "output_type": "execute_result"
    }
   ],
   "source": [
    "f\"{x} sayısının karesi {kare(x)}\""
   ]
  },
  {
   "cell_type": "code",
   "execution_count": null,
   "id": "27c71051",
   "metadata": {},
   "outputs": [],
   "source": []
  }
 ],
 "metadata": {
  "kernelspec": {
   "display_name": "Python 3 (ipykernel)",
   "language": "python",
   "name": "python3"
  },
  "language_info": {
   "codemirror_mode": {
    "name": "ipython",
    "version": 3
   },
   "file_extension": ".py",
   "mimetype": "text/x-python",
   "name": "python",
   "nbconvert_exporter": "python",
   "pygments_lexer": "ipython3",
   "version": "3.9.12"
  }
 },
 "nbformat": 4,
 "nbformat_minor": 5
}
