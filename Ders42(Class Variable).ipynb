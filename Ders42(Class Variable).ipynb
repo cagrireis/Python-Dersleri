{
 "cells": [
  {
   "cell_type": "code",
   "execution_count": 1,
   "id": "3c33b843",
   "metadata": {},
   "outputs": [],
   "source": [
    "class Employee:\n",
    "    def __init__(self, name, last, age, pay):\n",
    "        self.name = name\n",
    "        self.last = last\n",
    "        self.age = age\n",
    "        self.pay = pay "
   ]
  },
  {
   "cell_type": "code",
   "execution_count": 2,
   "id": "f04a94f0",
   "metadata": {},
   "outputs": [],
   "source": [
    "emp_1 = Employee(\"Çağrı\", \"REİS\", 19, 5000)"
   ]
  },
  {
   "cell_type": "code",
   "execution_count": 3,
   "id": "f735365d",
   "metadata": {},
   "outputs": [],
   "source": [
    "emp_2 = Employee(\"Sarah\", \"Anderson\", 22, 5100)"
   ]
  },
  {
   "cell_type": "code",
   "execution_count": 4,
   "id": "af07f0b5",
   "metadata": {},
   "outputs": [],
   "source": [
    "# instance variable: tutulan ve her obje için değişebilen attribue'lar. Isntance'Ye göre değişiklik gösterebilirler.\n",
    "# class variable: Class'dan yaratılan ve her objede paylaşılan varibale'ler. \n",
    "# class variable'ler her obje için aynı olmaldıır.\n",
    "# bütün çalışanlar için % zam yapmak istersem bunu kullanabilirim. birden çok class variable olabilir."
   ]
  },
  {
   "cell_type": "code",
   "execution_count": 16,
   "id": "611eeba0",
   "metadata": {},
   "outputs": [],
   "source": [
    "class Employee:\n",
    "    \n",
    "    raise_percent = 1.05 # Biz burada instance bilgisi vermiyoruz her obje için tanımladım.\n",
    "    \n",
    "    def __init__(self, name, last, age, pay): # burası instance referansı verilip otomatik çağırılıyordu. \n",
    "        self.name = name\n",
    "        self.last = last \n",
    "        self.age = age\n",
    "        self.pay = pay\n",
    "    \n",
    "    def apply_raise(self): # self i çağırıyoruz ki çağırılan her obje için ona özgü fiyatı belirlesin\n",
    "        self.pay = self.pay * raise_percent "
   ]
  },
  {
   "cell_type": "code",
   "execution_count": 17,
   "id": "aeeaafe8",
   "metadata": {},
   "outputs": [],
   "source": [
    "emp_1 = Employee(\"Çağrı\", \"REİS\", 19, 5000)\n",
    "emp_2 = Employee(\"Sarah\", \"Anderson\", 22, 5100)"
   ]
  },
  {
   "cell_type": "code",
   "execution_count": 18,
   "id": "edeba3f2",
   "metadata": {},
   "outputs": [
    {
     "data": {
      "text/plain": [
       "5000"
      ]
     },
     "execution_count": 18,
     "metadata": {},
     "output_type": "execute_result"
    }
   ],
   "source": [
    "emp_1.pay"
   ]
  },
  {
   "cell_type": "code",
   "execution_count": 20,
   "id": "1db4063a",
   "metadata": {},
   "outputs": [
    {
     "ename": "NameError",
     "evalue": "name 'raise_percent' is not defined",
     "output_type": "error",
     "traceback": [
      "\u001b[1;31m---------------------------------------------------------------------------\u001b[0m",
      "\u001b[1;31mNameError\u001b[0m                                 Traceback (most recent call last)",
      "Input \u001b[1;32mIn [20]\u001b[0m, in \u001b[0;36m<cell line: 1>\u001b[1;34m()\u001b[0m\n\u001b[1;32m----> 1\u001b[0m \u001b[43memp_1\u001b[49m\u001b[38;5;241;43m.\u001b[39;49m\u001b[43mapply_raise\u001b[49m\u001b[43m(\u001b[49m\u001b[43m)\u001b[49m\n",
      "Input \u001b[1;32mIn [16]\u001b[0m, in \u001b[0;36mEmployee.apply_raise\u001b[1;34m(self)\u001b[0m\n\u001b[0;32m     11\u001b[0m \u001b[38;5;28;01mdef\u001b[39;00m \u001b[38;5;21mapply_raise\u001b[39m(\u001b[38;5;28mself\u001b[39m): \u001b[38;5;66;03m# self i çağırıyoruz ki çağırılan her obje için ona özgü fiyatı belirlesin\u001b[39;00m\n\u001b[1;32m---> 12\u001b[0m     \u001b[38;5;28mself\u001b[39m\u001b[38;5;241m.\u001b[39mpay \u001b[38;5;241m=\u001b[39m \u001b[38;5;28mself\u001b[39m\u001b[38;5;241m.\u001b[39mpay \u001b[38;5;241m*\u001b[39m \u001b[43mraise_percent\u001b[49m\n",
      "\u001b[1;31mNameError\u001b[0m: name 'raise_percent' is not defined"
     ]
    }
   ],
   "source": [
    "emp_1.apply_raise() #hata aldım çünkü raise_percent'te referans vermedim."
   ]
  },
  {
   "cell_type": "code",
   "execution_count": 21,
   "id": "573f78be",
   "metadata": {},
   "outputs": [
    {
     "data": {
      "text/plain": [
       "1.05"
      ]
     },
     "execution_count": 21,
     "metadata": {},
     "output_type": "execute_result"
    }
   ],
   "source": [
    "emp_1.raise_percent"
   ]
  },
  {
   "cell_type": "code",
   "execution_count": 23,
   "id": "6e8951d2",
   "metadata": {},
   "outputs": [
    {
     "data": {
      "text/plain": [
       "1.05"
      ]
     },
     "execution_count": 23,
     "metadata": {},
     "output_type": "execute_result"
    }
   ],
   "source": [
    "Employee.raise_percent"
   ]
  },
  {
   "cell_type": "code",
   "execution_count": 43,
   "id": "cb4eee96",
   "metadata": {},
   "outputs": [],
   "source": [
    "class Employee:\n",
    "    \n",
    "    raise_percent = 1.05 \n",
    "    \n",
    "    def __init__(self, name, last, age, pay): \n",
    "        self.name = name\n",
    "        self.last = last \n",
    "        self.age = age\n",
    "        self.pay = pay\n",
    "    \n",
    "    def apply_raise(self): \n",
    "        self.pay = self.pay * Employee.raise_percent # burada ona bir referans vermem gerekiyor. Veya self.Raise_percent de denebilir bir şey farketmez."
   ]
  },
  {
   "cell_type": "code",
   "execution_count": 44,
   "id": "c82702d1",
   "metadata": {},
   "outputs": [],
   "source": [
    "emp_1 = Employee(\"Çağrı\", \"REİS\", 19, 5000)\n",
    "emp_2 = Employee(\"Sarah\", \"Anderson\", 22, 5100)"
   ]
  },
  {
   "cell_type": "code",
   "execution_count": 45,
   "id": "ad710f81",
   "metadata": {},
   "outputs": [
    {
     "data": {
      "text/plain": [
       "5000"
      ]
     },
     "execution_count": 45,
     "metadata": {},
     "output_type": "execute_result"
    }
   ],
   "source": [
    "emp_1.pay"
   ]
  },
  {
   "cell_type": "code",
   "execution_count": 46,
   "id": "2f2c4664",
   "metadata": {},
   "outputs": [
    {
     "data": {
      "text/plain": [
       "1.05"
      ]
     },
     "execution_count": 46,
     "metadata": {},
     "output_type": "execute_result"
    }
   ],
   "source": [
    "emp_1.raise_percent"
   ]
  },
  {
   "cell_type": "code",
   "execution_count": 47,
   "id": "16d8fb2d",
   "metadata": {},
   "outputs": [],
   "source": [
    "emp_1.apply_raise()"
   ]
  },
  {
   "cell_type": "code",
   "execution_count": 48,
   "id": "645b3fe6",
   "metadata": {},
   "outputs": [
    {
     "data": {
      "text/plain": [
       "5250.0"
      ]
     },
     "execution_count": 48,
     "metadata": {},
     "output_type": "execute_result"
    }
   ],
   "source": [
    "emp_1.pay"
   ]
  },
  {
   "cell_type": "code",
   "execution_count": 49,
   "id": "f3434b19",
   "metadata": {},
   "outputs": [
    {
     "data": {
      "text/plain": [
       "5100"
      ]
     },
     "execution_count": 49,
     "metadata": {},
     "output_type": "execute_result"
    }
   ],
   "source": [
    "emp_2.pay"
   ]
  },
  {
   "cell_type": "code",
   "execution_count": 50,
   "id": "ea212aab",
   "metadata": {},
   "outputs": [],
   "source": [
    "emp_2.apply_raise()"
   ]
  },
  {
   "cell_type": "code",
   "execution_count": 51,
   "id": "a1e0101e",
   "metadata": {},
   "outputs": [
    {
     "data": {
      "text/plain": [
       "5355.0"
      ]
     },
     "execution_count": 51,
     "metadata": {},
     "output_type": "execute_result"
    }
   ],
   "source": [
    "emp_2.pay"
   ]
  },
  {
   "cell_type": "code",
   "execution_count": 52,
   "id": "813a25fa",
   "metadata": {},
   "outputs": [],
   "source": [
    "# bir objenin attributelerini dönrüme:"
   ]
  },
  {
   "cell_type": "code",
   "execution_count": 54,
   "id": "039e5c16",
   "metadata": {},
   "outputs": [
    {
     "name": "stdout",
     "output_type": "stream",
     "text": [
      "{'name': 'Çağrı', 'last': 'REİS', 'age': 19, 'pay': 5250.0}\n"
     ]
    }
   ],
   "source": [
    "print(emp_1.__dict__) # raise_percent yok çünkü ona özel değil."
   ]
  },
  {
   "cell_type": "code",
   "execution_count": 55,
   "id": "2fd0afd3",
   "metadata": {},
   "outputs": [
    {
     "name": "stdout",
     "output_type": "stream",
     "text": [
      "{'__module__': '__main__', 'raise_percent': 1.05, '__init__': <function Employee.__init__ at 0x0000022A47DD5D30>, 'apply_raise': <function Employee.apply_raise at 0x0000022A47DD5700>, '__dict__': <attribute '__dict__' of 'Employee' objects>, '__weakref__': <attribute '__weakref__' of 'Employee' objects>, '__doc__': None}\n"
     ]
    }
   ],
   "source": [
    "print(Employee.__dict__)"
   ]
  },
  {
   "cell_type": "code",
   "execution_count": 56,
   "id": "53ae37e0",
   "metadata": {},
   "outputs": [],
   "source": [
    "# belli bir instance için attribute ekleme"
   ]
  },
  {
   "cell_type": "code",
   "execution_count": 57,
   "id": "1b67bd1b",
   "metadata": {},
   "outputs": [],
   "source": [
    "emp_1.experience = 10"
   ]
  },
  {
   "cell_type": "code",
   "execution_count": 58,
   "id": "5348bfb5",
   "metadata": {},
   "outputs": [
    {
     "name": "stdout",
     "output_type": "stream",
     "text": [
      "{'name': 'Çağrı', 'last': 'REİS', 'age': 19, 'pay': 5250.0, 'experience': 10}\n"
     ]
    }
   ],
   "source": [
    "print(emp_1.__dict__)"
   ]
  },
  {
   "cell_type": "code",
   "execution_count": 61,
   "id": "ebfbc406",
   "metadata": {},
   "outputs": [
    {
     "name": "stdout",
     "output_type": "stream",
     "text": [
      "{'name': 'Sarah', 'last': 'Anderson', 'age': 22, 'pay': 5355.0, 'experience': 9}\n"
     ]
    }
   ],
   "source": [
    "print(emp_2.__dict__) # güncellememiş"
   ]
  },
  {
   "cell_type": "code",
   "execution_count": 62,
   "id": "9531beb7",
   "metadata": {},
   "outputs": [],
   "source": [
    "emp_2.experience = 9"
   ]
  },
  {
   "cell_type": "code",
   "execution_count": 64,
   "id": "62598deb",
   "metadata": {},
   "outputs": [
    {
     "name": "stdout",
     "output_type": "stream",
     "text": [
      "1.05\n",
      "1.05\n",
      "1.05\n"
     ]
    }
   ],
   "source": [
    "print(emp_1.raise_percent)\n",
    "print(emp_2.raise_percent)\n",
    "print(Employee.raise_percent) #hepsi aynı"
   ]
  },
  {
   "cell_type": "code",
   "execution_count": 65,
   "id": "b0a6cf80",
   "metadata": {},
   "outputs": [],
   "source": [
    "# peki bunu güncellersem"
   ]
  },
  {
   "cell_type": "code",
   "execution_count": 66,
   "id": "9bf2809e",
   "metadata": {},
   "outputs": [],
   "source": [
    "Employee.raise_percent = 1.15"
   ]
  },
  {
   "cell_type": "code",
   "execution_count": 68,
   "id": "d1d4f5d9",
   "metadata": {},
   "outputs": [
    {
     "name": "stdout",
     "output_type": "stream",
     "text": [
      "{'__module__': '__main__', 'raise_percent': 1.15, '__init__': <function Employee.__init__ at 0x0000022A47DD5D30>, 'apply_raise': <function Employee.apply_raise at 0x0000022A47DD5700>, '__dict__': <attribute '__dict__' of 'Employee' objects>, '__weakref__': <attribute '__weakref__' of 'Employee' objects>, '__doc__': None}\n"
     ]
    }
   ],
   "source": [
    "print(Employee.__dict__) #güncellendi"
   ]
  },
  {
   "cell_type": "code",
   "execution_count": 70,
   "id": "6d934080",
   "metadata": {},
   "outputs": [
    {
     "name": "stdout",
     "output_type": "stream",
     "text": [
      "1.15\n",
      "1.15\n",
      "1.15\n"
     ]
    }
   ],
   "source": [
    "print(emp_1.raise_percent)\n",
    "print(emp_2.raise_percent)\n",
    "print(Employee.raise_percent) #yine hepsi güncellendi."
   ]
  },
  {
   "cell_type": "code",
   "execution_count": 71,
   "id": "292c143c",
   "metadata": {},
   "outputs": [],
   "source": [
    "# !!!!! dikkat bunu instance üzerinden güncellemek istersem güncellemiş olmam yaratırım."
   ]
  },
  {
   "cell_type": "code",
   "execution_count": 79,
   "id": "e1e5279b",
   "metadata": {},
   "outputs": [],
   "source": [
    "emp_1.raise_percent = 1.20 # bunu yazdıktan sonra artık emp_1.raise_percent diyince instance içinde bulamayıp class'a gitmeyecek isteğimizin dışında bir olay bu bu olay için."
   ]
  },
  {
   "cell_type": "code",
   "execution_count": 80,
   "id": "f3946f3a",
   "metadata": {},
   "outputs": [
    {
     "name": "stdout",
     "output_type": "stream",
     "text": [
      "{'name': 'Çağrı', 'last': 'REİS', 'age': 19, 'pay': 5250.0, 'experience': 10, 'raise_percent': 1.2}\n",
      "{'name': 'Sarah', 'last': 'Anderson', 'age': 22, 'pay': 5355.0, 'experience': 9}\n"
     ]
    }
   ],
   "source": [
    "print(emp_1.__dict__)\n",
    "print(emp_2.__dict__) # class içerisinde çünkü orijinal olan. yani instance içerisinde yok zatenÜ"
   ]
  },
  {
   "cell_type": "code",
   "execution_count": 83,
   "id": "cb167a91",
   "metadata": {},
   "outputs": [
    {
     "name": "stdout",
     "output_type": "stream",
     "text": [
      "1.2\n",
      "1.15\n",
      "1.15\n"
     ]
    }
   ],
   "source": [
    "print(emp_1.raise_percent) #kendininkine ulaşıyor burada class'a dönmeye yeltenmiyor.\n",
    "print(emp_2.raise_percent)\n",
    "print(Employee.raise_percent)"
   ]
  },
  {
   "cell_type": "markdown",
   "id": "a1feb7a4",
   "metadata": {},
   "source": [
    "# İşe alınan kişileri class variable olarak tutmak"
   ]
  },
  {
   "cell_type": "code",
   "execution_count": 84,
   "id": "5ba228e2",
   "metadata": {},
   "outputs": [],
   "source": [
    "# burada instance oalrak tutamayız çünkü herkese göre değişmez."
   ]
  },
  {
   "cell_type": "code",
   "execution_count": 85,
   "id": "3d17d02f",
   "metadata": {},
   "outputs": [],
   "source": [
    "# şu şekilde yaparız:"
   ]
  },
  {
   "cell_type": "code",
   "execution_count": 96,
   "id": "bb7f8a0c",
   "metadata": {},
   "outputs": [],
   "source": [
    "class Employee:\n",
    "    \n",
    "    raise_percent = 1.05\n",
    "    num = 0\n",
    "    \n",
    "    def __init__(self, name, last, age, pay):\n",
    "        \n",
    "        self.name = name\n",
    "        self.last = last\n",
    "        self.age = age\n",
    "        self.pay = pay\n",
    "        Employee.num = Employee.num + 1\n",
    "        \n",
    "    def apply_raise(self):\n",
    "        self.pay = self.pay * self.raise_percent"
   ]
  },
  {
   "cell_type": "code",
   "execution_count": 97,
   "id": "561e4205",
   "metadata": {},
   "outputs": [],
   "source": [
    "emp_1 = Employee(\"Çağrı\", \"REİS\", 19, 6700)\n",
    "emp_2 = Employee(\"Sarah\", \"Anderson\", 22, 6800)"
   ]
  },
  {
   "cell_type": "code",
   "execution_count": 98,
   "id": "3326fffc",
   "metadata": {},
   "outputs": [
    {
     "data": {
      "text/plain": [
       "2"
      ]
     },
     "execution_count": 98,
     "metadata": {},
     "output_type": "execute_result"
    }
   ],
   "source": [
    "Employee.num # iki kişiye güncellendi."
   ]
  },
  {
   "cell_type": "code",
   "execution_count": 99,
   "id": "be9b4216",
   "metadata": {},
   "outputs": [],
   "source": [
    "emp_1.apply_raise()"
   ]
  },
  {
   "cell_type": "code",
   "execution_count": 100,
   "id": "2f1d25e3",
   "metadata": {},
   "outputs": [
    {
     "name": "stdout",
     "output_type": "stream",
     "text": [
      "{'name': 'Çağrı', 'last': 'REİS', 'age': 19, 'pay': 7035.0}\n"
     ]
    }
   ],
   "source": [
    "print(emp_1.__dict__)"
   ]
  },
  {
   "cell_type": "code",
   "execution_count": 101,
   "id": "93cabf84",
   "metadata": {},
   "outputs": [
    {
     "name": "stdout",
     "output_type": "stream",
     "text": [
      "{'name': 'Sarah', 'last': 'Anderson', 'age': 22, 'pay': 6800}\n"
     ]
    }
   ],
   "source": [
    "print(emp_2.__dict__)"
   ]
  },
  {
   "cell_type": "code",
   "execution_count": 102,
   "id": "ea1b41c8",
   "metadata": {},
   "outputs": [
    {
     "name": "stdout",
     "output_type": "stream",
     "text": [
      "{'__module__': '__main__', 'raise_percent': 1.05, 'num': 2, '__init__': <function Employee.__init__ at 0x0000022A47E2E700>, 'apply_raise': <function Employee.apply_raise at 0x0000022A47E2EC10>, '__dict__': <attribute '__dict__' of 'Employee' objects>, '__weakref__': <attribute '__weakref__' of 'Employee' objects>, '__doc__': None}\n"
     ]
    }
   ],
   "source": [
    "print(Employee.__dict__)"
   ]
  },
  {
   "cell_type": "code",
   "execution_count": null,
   "id": "3cc31203",
   "metadata": {},
   "outputs": [],
   "source": []
  }
 ],
 "metadata": {
  "kernelspec": {
   "display_name": "Python 3 (ipykernel)",
   "language": "python",
   "name": "python3"
  },
  "language_info": {
   "codemirror_mode": {
    "name": "ipython",
    "version": 3
   },
   "file_extension": ".py",
   "mimetype": "text/x-python",
   "name": "python",
   "nbconvert_exporter": "python",
   "pygments_lexer": "ipython3",
   "version": "3.9.12"
  }
 },
 "nbformat": 4,
 "nbformat_minor": 5
}
