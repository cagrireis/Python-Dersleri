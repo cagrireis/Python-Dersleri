{
 "cells": [
  {
   "cell_type": "code",
   "execution_count": null,
   "id": "fc851097",
   "metadata": {},
   "outputs": [],
   "source": [
    "Enumerate:\n",
    "\n",
    "\n",
    "for ile non-scalar yapılar içerisinde dolaşırken ya elemanları ya da indexleri üzerinde dolanmıştık, ama neden ikisi de aynı anda olmasın?\n",
    "\n",
    "\n",
    "Variable Unpacking konusunda bir tuple, liste gibi yapıların değerlerini birden çok değişkene bir seferde eşitlemeyi görmüştük.\n",
    "\n",
    "\n",
    "Bunun aynısını iterasyonda da yapabiliriz."
   ]
  },
  {
   "cell_type": "code",
   "execution_count": 1,
   "id": "6a5ad34a",
   "metadata": {},
   "outputs": [],
   "source": [
    "l = [(1, 2), (10, 20)]"
   ]
  },
  {
   "cell_type": "code",
   "execution_count": 2,
   "id": "4593b050",
   "metadata": {},
   "outputs": [
    {
     "name": "stdout",
     "output_type": "stream",
     "text": [
      "(1, 2)\n",
      "(10, 20)\n"
     ]
    }
   ],
   "source": [
    "for e in l:\n",
    "    print(e)"
   ]
  },
  {
   "cell_type": "code",
   "execution_count": 3,
   "id": "0c20a46a",
   "metadata": {},
   "outputs": [
    {
     "data": {
      "text/plain": [
       "list"
      ]
     },
     "execution_count": 3,
     "metadata": {},
     "output_type": "execute_result"
    }
   ],
   "source": [
    "type(l)"
   ]
  },
  {
   "cell_type": "code",
   "execution_count": 4,
   "id": "82066e4f",
   "metadata": {},
   "outputs": [
    {
     "data": {
      "text/plain": [
       "tuple"
      ]
     },
     "execution_count": 4,
     "metadata": {},
     "output_type": "execute_result"
    }
   ],
   "source": [
    "type(l[0])"
   ]
  },
  {
   "cell_type": "code",
   "execution_count": 5,
   "id": "ea912d62",
   "metadata": {},
   "outputs": [
    {
     "name": "stdout",
     "output_type": "stream",
     "text": [
      "1\n",
      "2\n",
      "******************\n",
      "10\n",
      "20\n",
      "******************\n"
     ]
    }
   ],
   "source": [
    "for e in l:\n",
    "    a, b = e\n",
    "    print(a)\n",
    "    print(b)\n",
    "    print(\"******************\")"
   ]
  },
  {
   "cell_type": "code",
   "execution_count": 6,
   "id": "0e0be503",
   "metadata": {},
   "outputs": [],
   "source": [
    "#aynı şekilde unpackingi en başta da yapabiliriz."
   ]
  },
  {
   "cell_type": "code",
   "execution_count": 8,
   "id": "c5553f96",
   "metadata": {},
   "outputs": [
    {
     "name": "stdout",
     "output_type": "stream",
     "text": [
      "Tuple ilk elemanı: 1\n",
      "Tuple ilk elemanı: 2\n",
      "************\n",
      "Tuple ilk elemanı: 10\n",
      "Tuple ilk elemanı: 20\n",
      "************\n"
     ]
    }
   ],
   "source": [
    "for a, b in l:\n",
    "    print(\"Tuple ilk elemanı:\", a)\n",
    "    print(\"Tuple ilk elemanı:\", b)\n",
    "    print(\"************\")"
   ]
  },
  {
   "cell_type": "markdown",
   "id": "eba618a2",
   "metadata": {},
   "source": [
    "### ENUMERATE"
   ]
  },
  {
   "cell_type": "code",
   "execution_count": 9,
   "id": "24040703",
   "metadata": {},
   "outputs": [],
   "source": [
    "# bize eleman ve index döner"
   ]
  },
  {
   "cell_type": "code",
   "execution_count": 10,
   "id": "121d9adc",
   "metadata": {},
   "outputs": [],
   "source": [
    "adlar = [\"Tyler\", \"Blake\", \"Cory\", \"Cameron\"]"
   ]
  },
  {
   "cell_type": "code",
   "execution_count": 11,
   "id": "4998bc02",
   "metadata": {},
   "outputs": [
    {
     "name": "stdout",
     "output_type": "stream",
     "text": [
      "Tyler\n",
      "Blake\n",
      "Cory\n",
      "Cameron\n"
     ]
    }
   ],
   "source": [
    "for e in adlar:\n",
    "    print(e)"
   ]
  },
  {
   "cell_type": "code",
   "execution_count": 12,
   "id": "055f9e70",
   "metadata": {},
   "outputs": [
    {
     "name": "stdout",
     "output_type": "stream",
     "text": [
      "0 indexindeki eleman: Tyler'dır.\n",
      "1 indexindeki eleman: Blake'dır.\n",
      "2 indexindeki eleman: Cory'dır.\n",
      "3 indexindeki eleman: Cameron'dır.\n"
     ]
    }
   ],
   "source": [
    "for i,e in enumerate(adlar):\n",
    "    print(\"{0} indexindeki eleman: {1}'dır.\".format(i, e))"
   ]
  },
  {
   "cell_type": "code",
   "execution_count": 13,
   "id": "80aa9142",
   "metadata": {},
   "outputs": [],
   "source": [
    "#ancak buradaki mantık index değil bir sayıdan başlatarak onu bir arttırarak değer-sayı eşlemesi yapar."
   ]
  },
  {
   "cell_type": "code",
   "execution_count": 14,
   "id": "8a09b51e",
   "metadata": {},
   "outputs": [],
   "source": [
    "# hangi sayıdan başlayacağını biz seçebiliriz."
   ]
  },
  {
   "cell_type": "code",
   "execution_count": 15,
   "id": "89a2e694",
   "metadata": {},
   "outputs": [],
   "source": [
    "# örnek:"
   ]
  },
  {
   "cell_type": "code",
   "execution_count": 19,
   "id": "4afa8241",
   "metadata": {},
   "outputs": [
    {
     "name": "stdout",
     "output_type": "stream",
     "text": [
      "1. eleman: Tyler'dır.\n",
      "2. eleman: Blake'dır.\n",
      "3. eleman: Cory'dır.\n",
      "4. eleman: Cameron'dır.\n"
     ]
    }
   ],
   "source": [
    "for i,e in enumerate(adlar, start = 1):\n",
    "    print(\"{0}. eleman: {1}'dır.\".format(i, e))"
   ]
  },
  {
   "cell_type": "markdown",
   "id": "1516b655",
   "metadata": {},
   "source": [
    "### ZIP()"
   ]
  },
  {
   "cell_type": "code",
   "execution_count": 20,
   "id": "0a39be9a",
   "metadata": {},
   "outputs": [],
   "source": [
    "# 2 listemiz olduğunu düşünelim sıralı elemanları arasında bunların elemanlarını yapıştırır ve tuple olarak verir onda iterasyon yaparız artık."
   ]
  },
  {
   "cell_type": "code",
   "execution_count": 21,
   "id": "685ee1b7",
   "metadata": {},
   "outputs": [],
   "source": [
    "# tek başına anlamsız ifadeleri birleştirerek anlamlı ifadeler ortaya çıakrır."
   ]
  },
  {
   "cell_type": "code",
   "execution_count": 22,
   "id": "cada8ddc",
   "metadata": {},
   "outputs": [],
   "source": [
    "ogrenciler = [\"Ogrenci_1\", \"Ogrenci_2\", \"Ogrenci_3\"]"
   ]
  },
  {
   "cell_type": "code",
   "execution_count": 24,
   "id": "a1d186dd",
   "metadata": {},
   "outputs": [],
   "source": [
    "notlar = [90, 80, 72]"
   ]
  },
  {
   "cell_type": "code",
   "execution_count": 32,
   "id": "07c022c3",
   "metadata": {},
   "outputs": [
    {
     "name": "stdout",
     "output_type": "stream",
     "text": [
      "Ogrenci_1. Öğrencisinin notu 90'dır.'\n",
      "Ogrenci_2. Öğrencisinin notu 80'dır.'\n",
      "Ogrenci_3. Öğrencisinin notu 72'dır.'\n"
     ]
    }
   ],
   "source": [
    "for i,e in zip(ogrenciler, notlar): # tuple döndürüyor ve biz onu eşitliyoruz.<\n",
    "    print(\"{0}. Öğrencisinin notu {1}'dır.'\".format(i, e))"
   ]
  },
  {
   "cell_type": "code",
   "execution_count": 27,
   "id": "7e52f739",
   "metadata": {},
   "outputs": [],
   "source": [
    "# bu olmasaydı eğer şu işlemi şöyle yapardık."
   ]
  },
  {
   "cell_type": "code",
   "execution_count": 31,
   "id": "0abbe379",
   "metadata": {},
   "outputs": [
    {
     "name": "stdout",
     "output_type": "stream",
     "text": [
      "Ogrenci_1. öğrencinin notu 90'dir.\n",
      "Ogrenci_2. öğrencinin notu 80'dir.\n",
      "Ogrenci_3. öğrencinin notu 72'dir.\n"
     ]
    }
   ],
   "source": [
    "for i in range(0, len(ogrenciler)):\n",
    "    x = ogrenciler[i]\n",
    "    y = notlar[i]\n",
    "    print(\"{0}. öğrencinin notu {1}'dir.\".format(x, y))"
   ]
  },
  {
   "cell_type": "code",
   "execution_count": 34,
   "id": "12d7989f",
   "metadata": {},
   "outputs": [
    {
     "name": "stdout",
     "output_type": "stream",
     "text": [
      "Kardayız. Karımız: 55100.0 TL.\n"
     ]
    }
   ],
   "source": [
    "#kar hesabı:\n",
    "satış = [3500.00, 76300.00, 67200.00]\n",
    "alış = [56700.00, 21900.00, 12100.00]\n",
    "\n",
    "for s, a in zip(satış, alış):\n",
    "    net = s - a\n",
    "    \n",
    "if (net > 0):\n",
    "    print(\"Kardayız. Karımız: {0} TL.\".format(net))\n",
    "elif(net < 0):\n",
    "    print(\"Zarardayız. Zararımız: {0} TL.\".format(net))\n",
    "elif(net == 0):\n",
    "    print(\"Ne karda ne zarardayız 0'a 0'ız.\")\n",
    "else:\n",
    "    print(\"Hata!\")"
   ]
  },
  {
   "cell_type": "code",
   "execution_count": 35,
   "id": "2663782d",
   "metadata": {},
   "outputs": [],
   "source": [
    "# bir de bunu zipsiz yapalım."
   ]
  },
  {
   "cell_type": "code",
   "execution_count": 38,
   "id": "94736b2d",
   "metadata": {},
   "outputs": [
    {
     "name": "stdout",
     "output_type": "stream",
     "text": [
      "-53200.0\n",
      "54400.0\n",
      "55100.0\n",
      "55100.0\n"
     ]
    }
   ],
   "source": [
    "#kar hesabı:\n",
    "satış = [3500.00, 76300.00, 67200.00]\n",
    "alış = [56700.00, 21900.00, 12100.00]\n",
    "\n",
    "for index in range(0, 3):\n",
    "    net = satış[index] - alış[index]\n",
    "    \n",
    "    print(net)\n",
    "    \n",
    "print(net)"
   ]
  },
  {
   "cell_type": "code",
   "execution_count": 39,
   "id": "626bd390",
   "metadata": {},
   "outputs": [],
   "source": [
    "# diyelim ki bir dictionary yapmak istiyoruz ama değerler önceden çeşitli listelere dağılmış buun şöyle yaparız:"
   ]
  },
  {
   "cell_type": "code",
   "execution_count": 43,
   "id": "16b35569",
   "metadata": {},
   "outputs": [],
   "source": [
    "keys = [\"isim\", \"ülke\", \"ulke\", \"is\"]"
   ]
  },
  {
   "cell_type": "code",
   "execution_count": 44,
   "id": "c2650208",
   "metadata": {},
   "outputs": [],
   "source": [
    "values = [\"Denis\", \"Walker\", \"Turkey\", \"data scientist\"]"
   ]
  },
  {
   "cell_type": "code",
   "execution_count": 46,
   "id": "ec300118",
   "metadata": {},
   "outputs": [
    {
     "name": "stdout",
     "output_type": "stream",
     "text": [
      "isim <==> Denis\n",
      "ülke <==> Walker\n",
      "ulke <==> Turkey\n",
      "is <==> data scientist\n"
     ]
    }
   ],
   "source": [
    "for k, v in zip(keys, values):\n",
    "    print(\"{0} <==> {1}\".format(k, v)) #bunu dictionary'e dökeceğiz"
   ]
  },
  {
   "cell_type": "code",
   "execution_count": 50,
   "id": "7cbfc4f3",
   "metadata": {},
   "outputs": [],
   "source": [
    "d = {}\n",
    "for k, v in zip(keys, values):\n",
    "    d[k] = v"
   ]
  },
  {
   "cell_type": "code",
   "execution_count": 51,
   "id": "7a4e5c09",
   "metadata": {},
   "outputs": [
    {
     "data": {
      "text/plain": [
       "{'isim': 'Denis', 'ülke': 'Walker', 'ulke': 'Turkey', 'is': 'data scientist'}"
      ]
     },
     "execution_count": 51,
     "metadata": {},
     "output_type": "execute_result"
    }
   ],
   "source": [
    "d"
   ]
  },
  {
   "cell_type": "code",
   "execution_count": null,
   "id": "b8282e43",
   "metadata": {},
   "outputs": [],
   "source": []
  }
 ],
 "metadata": {
  "kernelspec": {
   "display_name": "Python 3 (ipykernel)",
   "language": "python",
   "name": "python3"
  },
  "language_info": {
   "codemirror_mode": {
    "name": "ipython",
    "version": 3
   },
   "file_extension": ".py",
   "mimetype": "text/x-python",
   "name": "python",
   "nbconvert_exporter": "python",
   "pygments_lexer": "ipython3",
   "version": "3.9.12"
  }
 },
 "nbformat": 4,
 "nbformat_minor": 5
}
